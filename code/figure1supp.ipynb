{
 "cells": [
  {
   "cell_type": "code",
   "execution_count": 8,
   "metadata": {},
   "outputs": [],
   "source": [
    "import yaml\n",
    "import importlib\n",
    "from module_nlp.core import fasttext_space"
   ]
  },
  {
   "attachments": {},
   "cell_type": "markdown",
   "metadata": {},
   "source": [
    "# Figures supp1A-B"
   ]
  },
  {
   "cell_type": "code",
   "execution_count": 4,
   "metadata": {},
   "outputs": [
    {
     "data": {
      "text/html": [
       "<div>\n",
       "<style scoped>\n",
       "    .dataframe tbody tr th:only-of-type {\n",
       "        vertical-align: middle;\n",
       "    }\n",
       "\n",
       "    .dataframe tbody tr th {\n",
       "        vertical-align: top;\n",
       "    }\n",
       "\n",
       "    .dataframe thead th {\n",
       "        text-align: right;\n",
       "    }\n",
       "</style>\n",
       "<table border=\"1\" class=\"dataframe\">\n",
       "  <thead>\n",
       "    <tr style=\"text-align: right;\">\n",
       "      <th></th>\n",
       "      <th>index</th>\n",
       "      <th>Valence</th>\n",
       "      <th>Arousal</th>\n",
       "      <th>z_valence</th>\n",
       "      <th>z_arousal</th>\n",
       "      <th>Condition</th>\n",
       "      <th>fill_color</th>\n",
       "    </tr>\n",
       "  </thead>\n",
       "  <tbody>\n",
       "    <tr>\n",
       "      <th>0</th>\n",
       "      <td>verde</td>\n",
       "      <td>0.068780</td>\n",
       "      <td>-0.069848</td>\n",
       "      <td>1.827934</td>\n",
       "      <td>-1.405185</td>\n",
       "      <td>Color</td>\n",
       "      <td>green</td>\n",
       "    </tr>\n",
       "    <tr>\n",
       "      <th>1</th>\n",
       "      <td>arancione</td>\n",
       "      <td>-0.003469</td>\n",
       "      <td>0.016970</td>\n",
       "      <td>0.211373</td>\n",
       "      <td>0.422498</td>\n",
       "      <td>Color</td>\n",
       "      <td>orange</td>\n",
       "    </tr>\n",
       "    <tr>\n",
       "      <th>2</th>\n",
       "      <td>giallo</td>\n",
       "      <td>0.002803</td>\n",
       "      <td>0.015499</td>\n",
       "      <td>0.351709</td>\n",
       "      <td>0.391523</td>\n",
       "      <td>Color</td>\n",
       "      <td>yellow</td>\n",
       "    </tr>\n",
       "    <tr>\n",
       "      <th>3</th>\n",
       "      <td>blu</td>\n",
       "      <td>-0.063793</td>\n",
       "      <td>-0.066992</td>\n",
       "      <td>-1.138372</td>\n",
       "      <td>-1.345055</td>\n",
       "      <td>Color</td>\n",
       "      <td>blue</td>\n",
       "    </tr>\n",
       "    <tr>\n",
       "      <th>4</th>\n",
       "      <td>viola</td>\n",
       "      <td>-0.020676</td>\n",
       "      <td>0.046249</td>\n",
       "      <td>-0.173646</td>\n",
       "      <td>1.038882</td>\n",
       "      <td>Color</td>\n",
       "      <td>purple</td>\n",
       "    </tr>\n",
       "    <tr>\n",
       "      <th>5</th>\n",
       "      <td>rosso</td>\n",
       "      <td>-0.061139</td>\n",
       "      <td>0.039526</td>\n",
       "      <td>-1.078998</td>\n",
       "      <td>0.897336</td>\n",
       "      <td>Color</td>\n",
       "      <td>red</td>\n",
       "    </tr>\n",
       "    <tr>\n",
       "      <th>6</th>\n",
       "      <td>sorpreso</td>\n",
       "      <td>0.105667</td>\n",
       "      <td>-0.011347</td>\n",
       "      <td>0.336363</td>\n",
       "      <td>0.472831</td>\n",
       "      <td>Emotion</td>\n",
       "      <td>#ffff00</td>\n",
       "    </tr>\n",
       "    <tr>\n",
       "      <th>7</th>\n",
       "      <td>entusiasta</td>\n",
       "      <td>0.169270</td>\n",
       "      <td>0.008931</td>\n",
       "      <td>0.996398</td>\n",
       "      <td>0.647542</td>\n",
       "      <td>Emotion</td>\n",
       "      <td>#ffe400</td>\n",
       "    </tr>\n",
       "    <tr>\n",
       "      <th>8</th>\n",
       "      <td>sereno</td>\n",
       "      <td>0.309068</td>\n",
       "      <td>-0.297990</td>\n",
       "      <td>2.447143</td>\n",
       "      <td>-1.996857</td>\n",
       "      <td>Emotion</td>\n",
       "      <td>#287200</td>\n",
       "    </tr>\n",
       "    <tr>\n",
       "      <th>9</th>\n",
       "      <td>allegro</td>\n",
       "      <td>0.189672</td>\n",
       "      <td>-0.176488</td>\n",
       "      <td>1.208122</td>\n",
       "      <td>-0.950008</td>\n",
       "      <td>Emotion</td>\n",
       "      <td>#50a300</td>\n",
       "    </tr>\n",
       "    <tr>\n",
       "      <th>10</th>\n",
       "      <td>soddisfatto</td>\n",
       "      <td>0.116002</td>\n",
       "      <td>0.000824</td>\n",
       "      <td>0.443613</td>\n",
       "      <td>0.577695</td>\n",
       "      <td>Emotion</td>\n",
       "      <td>#ffff00</td>\n",
       "    </tr>\n",
       "    <tr>\n",
       "      <th>11</th>\n",
       "      <td>calmo</td>\n",
       "      <td>0.213044</td>\n",
       "      <td>-0.413185</td>\n",
       "      <td>1.450666</td>\n",
       "      <td>-2.989369</td>\n",
       "      <td>Emotion</td>\n",
       "      <td>#002729</td>\n",
       "    </tr>\n",
       "    <tr>\n",
       "      <th>12</th>\n",
       "      <td>stanco</td>\n",
       "      <td>0.062265</td>\n",
       "      <td>-0.054961</td>\n",
       "      <td>-0.114036</td>\n",
       "      <td>0.097057</td>\n",
       "      <td>Emotion</td>\n",
       "      <td>#ffff00</td>\n",
       "    </tr>\n",
       "    <tr>\n",
       "      <th>13</th>\n",
       "      <td>annoiato</td>\n",
       "      <td>0.010475</td>\n",
       "      <td>-0.032871</td>\n",
       "      <td>-0.651480</td>\n",
       "      <td>0.287378</td>\n",
       "      <td>Emotion</td>\n",
       "      <td>#ff5e00</td>\n",
       "    </tr>\n",
       "    <tr>\n",
       "      <th>14</th>\n",
       "      <td>depresso</td>\n",
       "      <td>-0.029961</td>\n",
       "      <td>-0.017859</td>\n",
       "      <td>-1.071108</td>\n",
       "      <td>0.416722</td>\n",
       "      <td>Emotion</td>\n",
       "      <td>#ba003a</td>\n",
       "    </tr>\n",
       "    <tr>\n",
       "      <th>15</th>\n",
       "      <td>triste</td>\n",
       "      <td>0.046667</td>\n",
       "      <td>-0.130074</td>\n",
       "      <td>-0.275903</td>\n",
       "      <td>-0.550113</td>\n",
       "      <td>Emotion</td>\n",
       "      <td>#e5bc00</td>\n",
       "    </tr>\n",
       "    <tr>\n",
       "      <th>16</th>\n",
       "      <td>frustrato</td>\n",
       "      <td>-0.019945</td>\n",
       "      <td>0.041778</td>\n",
       "      <td>-0.967169</td>\n",
       "      <td>0.930546</td>\n",
       "      <td>Emotion</td>\n",
       "      <td>#cf004f</td>\n",
       "    </tr>\n",
       "    <tr>\n",
       "      <th>17</th>\n",
       "      <td>spaventato</td>\n",
       "      <td>0.003949</td>\n",
       "      <td>-0.009648</td>\n",
       "      <td>-0.719211</td>\n",
       "      <td>0.487468</td>\n",
       "      <td>Emotion</td>\n",
       "      <td>#d20052</td>\n",
       "    </tr>\n",
       "    <tr>\n",
       "      <th>18</th>\n",
       "      <td>arrabbiato</td>\n",
       "      <td>0.013185</td>\n",
       "      <td>-0.045940</td>\n",
       "      <td>-0.623365</td>\n",
       "      <td>0.174776</td>\n",
       "      <td>Emotion</td>\n",
       "      <td>#ff5e00</td>\n",
       "    </tr>\n",
       "    <tr>\n",
       "      <th>19</th>\n",
       "      <td>stressato</td>\n",
       "      <td>-0.002198</td>\n",
       "      <td>-0.014216</td>\n",
       "      <td>-0.783003</td>\n",
       "      <td>0.448108</td>\n",
       "      <td>Emotion</td>\n",
       "      <td>#ca004b</td>\n",
       "    </tr>\n",
       "    <tr>\n",
       "      <th>20</th>\n",
       "      <td>stupito</td>\n",
       "      <td>0.151246</td>\n",
       "      <td>-0.012494</td>\n",
       "      <td>0.809358</td>\n",
       "      <td>0.462942</td>\n",
       "      <td>Emotion</td>\n",
       "      <td>#ffff00</td>\n",
       "    </tr>\n",
       "    <tr>\n",
       "      <th>21</th>\n",
       "      <td>assonnato</td>\n",
       "      <td>0.024772</td>\n",
       "      <td>-0.064031</td>\n",
       "      <td>-0.503123</td>\n",
       "      <td>0.018909</td>\n",
       "      <td>Emotion</td>\n",
       "      <td>#ffe400</td>\n",
       "    </tr>\n",
       "    <tr>\n",
       "      <th>22</th>\n",
       "      <td>allarmato</td>\n",
       "      <td>0.004499</td>\n",
       "      <td>0.025656</td>\n",
       "      <td>-0.713501</td>\n",
       "      <td>0.791643</td>\n",
       "      <td>Emotion</td>\n",
       "      <td>#eb006b</td>\n",
       "    </tr>\n",
       "    <tr>\n",
       "      <th>23</th>\n",
       "      <td>disgustato</td>\n",
       "      <td>-0.049104</td>\n",
       "      <td>0.011854</td>\n",
       "      <td>-1.269764</td>\n",
       "      <td>0.672729</td>\n",
       "      <td>Emotion</td>\n",
       "      <td>#b60037</td>\n",
       "    </tr>\n",
       "  </tbody>\n",
       "</table>\n",
       "</div>"
      ],
      "text/plain": [
       "          index   Valence   Arousal  z_valence  z_arousal Condition fill_color\n",
       "0         verde  0.068780 -0.069848   1.827934  -1.405185     Color      green\n",
       "1     arancione -0.003469  0.016970   0.211373   0.422498     Color     orange\n",
       "2        giallo  0.002803  0.015499   0.351709   0.391523     Color     yellow\n",
       "3           blu -0.063793 -0.066992  -1.138372  -1.345055     Color       blue\n",
       "4         viola -0.020676  0.046249  -0.173646   1.038882     Color     purple\n",
       "5         rosso -0.061139  0.039526  -1.078998   0.897336     Color        red\n",
       "6      sorpreso  0.105667 -0.011347   0.336363   0.472831   Emotion    #ffff00\n",
       "7    entusiasta  0.169270  0.008931   0.996398   0.647542   Emotion    #ffe400\n",
       "8        sereno  0.309068 -0.297990   2.447143  -1.996857   Emotion    #287200\n",
       "9       allegro  0.189672 -0.176488   1.208122  -0.950008   Emotion    #50a300\n",
       "10  soddisfatto  0.116002  0.000824   0.443613   0.577695   Emotion    #ffff00\n",
       "11        calmo  0.213044 -0.413185   1.450666  -2.989369   Emotion    #002729\n",
       "12       stanco  0.062265 -0.054961  -0.114036   0.097057   Emotion    #ffff00\n",
       "13     annoiato  0.010475 -0.032871  -0.651480   0.287378   Emotion    #ff5e00\n",
       "14     depresso -0.029961 -0.017859  -1.071108   0.416722   Emotion    #ba003a\n",
       "15       triste  0.046667 -0.130074  -0.275903  -0.550113   Emotion    #e5bc00\n",
       "16    frustrato -0.019945  0.041778  -0.967169   0.930546   Emotion    #cf004f\n",
       "17   spaventato  0.003949 -0.009648  -0.719211   0.487468   Emotion    #d20052\n",
       "18   arrabbiato  0.013185 -0.045940  -0.623365   0.174776   Emotion    #ff5e00\n",
       "19    stressato -0.002198 -0.014216  -0.783003   0.448108   Emotion    #ca004b\n",
       "20      stupito  0.151246 -0.012494   0.809358   0.462942   Emotion    #ffff00\n",
       "21    assonnato  0.024772 -0.064031  -0.503123   0.018909   Emotion    #ffe400\n",
       "22    allarmato  0.004499  0.025656  -0.713501   0.791643   Emotion    #eb006b\n",
       "23   disgustato -0.049104  0.011854  -1.269764   0.672729   Emotion    #b60037"
      ]
     },
     "execution_count": 4,
     "metadata": {},
     "output_type": "execute_result"
    }
   ],
   "source": [
    "_ = importlib.reload(fasttext_space)\n",
    "with open(\"./module_nlp/config/config_it.yml\") as f:\n",
    "    config = yaml.safe_load(f)\n",
    "\n",
    "fasttext_space.get_wheels(config['get_wheel'])"
   ]
  },
  {
   "attachments": {},
   "cell_type": "markdown",
   "metadata": {},
   "source": [
    "## Figure supp1A"
   ]
  },
  {
   "cell_type": "code",
   "execution_count": 1,
   "metadata": {},
   "outputs": [
    {
     "name": "stdout",
     "output_type": "stream",
     "text": [
      "\u001b[?25h\u001b[?25h\u001b[?25h\u001b[?25h\u001b[?25h\u001b[?25h\u001b[?25h\u001b[?25h\u001b[?25h\u001b[?25h\u001b[?25h\u001b[?25h\u001b[?25h\u001b[?25h"
     ]
    },
    {
     "data": {
      "image/svg+xml": "<svg xmlns=\"http://www.w3.org/2000/svg\" xmlns:xlink=\"http://www.w3.org/1999/xlink\" class=\"svglite\" width=\"432.00pt\" height=\"432.00pt\" viewBox=\"0 0 432.00 432.00\">\n<defs>\n  <style type=\"text/css\"><![CDATA[\n    .svglite line, .svglite polyline, .svglite polygon, .svglite path, .svglite rect, .svglite circle {\n      fill: none;\n      stroke: #000000;\n      stroke-linecap: round;\n      stroke-linejoin: round;\n      stroke-miterlimit: 10.00;\n    }\n    .svglite text {\n      white-space: pre;\n    }\n  ]]></style>\n</defs>\n<rect width=\"100%\" height=\"100%\" style=\"stroke: none; fill: #FFFFFF;\"/>\n<defs>\n  <clipPath id=\"cpMC4wMHw0MzIuMDB8MC4wMHw0MzIuMDA=\">\n    <rect x=\"0.00\" y=\"0.00\" width=\"432.00\" height=\"432.00\"/>\n  </clipPath>\n</defs>\n<g clip-path=\"url(#cpMC4wMHw0MzIuMDB8MC4wMHw0MzIuMDA=)\">\n<rect x=\"0.000000000000032\" y=\"0.00\" width=\"432.00\" height=\"432.00\" style=\"stroke-width: 1.07; stroke: #FFFFFF; fill: #FFFFFF;\"/>\n</g>\n<defs>\n  <clipPath id=\"cpNjQuOTZ8NDI2LjUyfDUuNDh8MzgxLjA4\">\n    <rect x=\"64.96\" y=\"5.48\" width=\"361.56\" height=\"375.60\"/>\n  </clipPath>\n</defs>\n<g clip-path=\"url(#cpNjQuOTZ8NDI2LjUyfDUuNDh8MzgxLjA4)\">\n<rect x=\"64.96\" y=\"5.48\" width=\"361.56\" height=\"375.60\" style=\"stroke-width: 1.07; stroke: none; fill: #FFFFFF;\"/>\n<polyline points=\"64.96,342.32 426.52,342.32 \" style=\"stroke-width: 0.53; stroke: #FFFFFF; stroke-linecap: butt;\"/>\n<polyline points=\"64.96,272.47 426.52,272.47 \" style=\"stroke-width: 0.53; stroke: #FFFFFF; stroke-linecap: butt;\"/>\n<polyline points=\"64.96,202.62 426.52,202.62 \" style=\"stroke-width: 0.53; stroke: #FFFFFF; stroke-linecap: butt;\"/>\n<polyline points=\"64.96,132.76 426.52,132.76 \" style=\"stroke-width: 0.53; stroke: #FFFFFF; stroke-linecap: butt;\"/>\n<polyline points=\"64.96,62.91 426.52,62.91 \" style=\"stroke-width: 0.53; stroke: #FFFFFF; stroke-linecap: butt;\"/>\n<polyline points=\"152.13,381.08 152.13,5.48 \" style=\"stroke-width: 0.53; stroke: #FFFFFF; stroke-linecap: butt;\"/>\n<polyline points=\"262.94,381.08 262.94,5.48 \" style=\"stroke-width: 0.53; stroke: #FFFFFF; stroke-linecap: butt;\"/>\n<polyline points=\"373.75,381.08 373.75,5.48 \" style=\"stroke-width: 0.53; stroke: #FFFFFF; stroke-linecap: butt;\"/>\n<polyline points=\"64.96,377.25 426.52,377.25 \" style=\"stroke-width: 1.07; stroke: #FFFFFF; stroke-linecap: butt;\"/>\n<polyline points=\"64.96,307.40 426.52,307.40 \" style=\"stroke-width: 1.07; stroke: #FFFFFF; stroke-linecap: butt;\"/>\n<polyline points=\"64.96,237.54 426.52,237.54 \" style=\"stroke-width: 1.07; stroke: #FFFFFF; stroke-linecap: butt;\"/>\n<polyline points=\"64.96,167.69 426.52,167.69 \" style=\"stroke-width: 1.07; stroke: #FFFFFF; stroke-linecap: butt;\"/>\n<polyline points=\"64.96,97.84 426.52,97.84 \" style=\"stroke-width: 1.07; stroke: #FFFFFF; stroke-linecap: butt;\"/>\n<polyline points=\"64.96,27.98 426.52,27.98 \" style=\"stroke-width: 1.07; stroke: #FFFFFF; stroke-linecap: butt;\"/>\n<polyline points=\"96.73,381.08 96.73,5.48 \" style=\"stroke-width: 1.07; stroke: #FFFFFF; stroke-linecap: butt;\"/>\n<polyline points=\"207.54,381.08 207.54,5.48 \" style=\"stroke-width: 1.07; stroke: #FFFFFF; stroke-linecap: butt;\"/>\n<polyline points=\"318.34,381.08 318.34,5.48 \" style=\"stroke-width: 1.07; stroke: #FFFFFF; stroke-linecap: butt;\"/>\n<circle cx=\"410.09\" cy=\"364.01\" r=\"5.19\" style=\"stroke-width: 0.71; stroke: #00FF00; fill: #00FF00;\"/>\n<circle cx=\"230.96\" cy=\"108.67\" r=\"5.19\" style=\"stroke-width: 0.71; stroke: #FF8000; fill: #FF8000;\"/>\n<circle cx=\"246.51\" cy=\"112.99\" r=\"5.19\" style=\"stroke-width: 0.71; stroke: #FFFF00; fill: #FFFF00;\"/>\n<circle cx=\"81.40\" cy=\"355.60\" r=\"5.19\" style=\"stroke-width: 0.71; stroke: #0000FF; fill: #0000FF;\"/>\n<circle cx=\"188.30\" cy=\"22.55\" r=\"5.19\" style=\"stroke-width: 0.71; stroke: #8000FF; fill: #8000FF;\"/>\n<circle cx=\"87.98\" cy=\"42.33\" r=\"5.19\" style=\"stroke-width: 0.71; stroke: #FF0000; fill: #FF0000;\"/>\n</g>\n<g clip-path=\"url(#cpMC4wMHw0MzIuMDB8MC4wMHw0MzIuMDA=)\">\n<polyline points=\"64.96,381.08 64.96,5.48 \" style=\"stroke-width: 2.56; stroke-linecap: butt;\"/>\n<text x=\"58.52\" y=\"383.68\" text-anchor=\"end\" style=\"font-size: 18.00px;fill: #151515; font-family: &quot;Noto Sans&quot;;\" textLength=\"31.21px\" lengthAdjust=\"spacingAndGlyphs\">-1.5</text>\n<text x=\"58.52\" y=\"313.82\" text-anchor=\"end\" style=\"font-size: 18.00px;fill: #151515; font-family: &quot;Noto Sans&quot;;\" textLength=\"31.21px\" lengthAdjust=\"spacingAndGlyphs\">-1.0</text>\n<text x=\"58.52\" y=\"243.97\" text-anchor=\"end\" style=\"font-size: 18.00px;fill: #151515; font-family: &quot;Noto Sans&quot;;\" textLength=\"31.21px\" lengthAdjust=\"spacingAndGlyphs\">-0.5</text>\n<text x=\"58.52\" y=\"174.12\" text-anchor=\"end\" style=\"font-size: 18.00px;fill: #151515; font-family: &quot;Noto Sans&quot;;\" textLength=\"25.42px\" lengthAdjust=\"spacingAndGlyphs\">0.0</text>\n<text x=\"58.52\" y=\"104.26\" text-anchor=\"end\" style=\"font-size: 18.00px;fill: #151515; font-family: &quot;Noto Sans&quot;;\" textLength=\"25.42px\" lengthAdjust=\"spacingAndGlyphs\">0.5</text>\n<text x=\"58.52\" y=\"34.41\" text-anchor=\"end\" style=\"font-size: 18.00px;fill: #151515; font-family: &quot;Noto Sans&quot;;\" textLength=\"25.42px\" lengthAdjust=\"spacingAndGlyphs\">1.0</text>\n<polyline points=\"60.71,377.25 64.96,377.25 \" style=\"stroke-width: 1.07; stroke: #151515; stroke-linecap: butt;\"/>\n<polyline points=\"60.71,307.40 64.96,307.40 \" style=\"stroke-width: 1.07; stroke: #151515; stroke-linecap: butt;\"/>\n<polyline points=\"60.71,237.54 64.96,237.54 \" style=\"stroke-width: 1.07; stroke: #151515; stroke-linecap: butt;\"/>\n<polyline points=\"60.71,167.69 64.96,167.69 \" style=\"stroke-width: 1.07; stroke: #151515; stroke-linecap: butt;\"/>\n<polyline points=\"60.71,97.84 64.96,97.84 \" style=\"stroke-width: 1.07; stroke: #151515; stroke-linecap: butt;\"/>\n<polyline points=\"60.71,27.98 64.96,27.98 \" style=\"stroke-width: 1.07; stroke: #151515; stroke-linecap: butt;\"/>\n<polyline points=\"64.96,381.08 426.52,381.08 \" style=\"stroke-width: 2.56; stroke-linecap: butt;\"/>\n<polyline points=\"96.73,385.33 96.73,381.08 \" style=\"stroke-width: 1.07; stroke: #151515; stroke-linecap: butt;\"/>\n<polyline points=\"207.54,385.33 207.54,381.08 \" style=\"stroke-width: 1.07; stroke: #151515; stroke-linecap: butt;\"/>\n<polyline points=\"318.34,385.33 318.34,381.08 \" style=\"stroke-width: 1.07; stroke: #151515; stroke-linecap: butt;\"/>\n<text x=\"96.73\" y=\"400.37\" text-anchor=\"middle\" style=\"font-size: 18.00px;fill: #151515; font-family: &quot;Noto Sans&quot;;\" textLength=\"16.09px\" lengthAdjust=\"spacingAndGlyphs\">-1</text>\n<text x=\"207.54\" y=\"400.37\" text-anchor=\"middle\" style=\"font-size: 18.00px;fill: #151515; font-family: &quot;Noto Sans&quot;;\" textLength=\"10.30px\" lengthAdjust=\"spacingAndGlyphs\">0</text>\n<text x=\"318.34\" y=\"400.37\" text-anchor=\"middle\" style=\"font-size: 18.00px;fill: #151515; font-family: &quot;Noto Sans&quot;;\" textLength=\"10.30px\" lengthAdjust=\"spacingAndGlyphs\">1</text>\n<text x=\"245.74\" y=\"421.72\" text-anchor=\"middle\" style=\"font-size: 20.00px;fill: #151515; font-family: &quot;Noto Sans&quot;;\" textLength=\"72.91px\" lengthAdjust=\"spacingAndGlyphs\">Valence</text>\n<text transform=\"translate(19.76,193.28) rotate(-90)\" text-anchor=\"middle\" style=\"font-size: 20.00px;fill: #151515; font-family: &quot;Noto Sans&quot;;\" textLength=\"71.47px\" lengthAdjust=\"spacingAndGlyphs\">Arousal</text>\n</g>\n</svg>",
      "text/plain": [
       "<IPython.core.display.SVG object>"
      ]
     },
     "metadata": {},
     "output_type": "display_data"
    }
   ],
   "source": [
    "!./module_nlp/core/plots_it.R \"plot_colors\"\n",
    "\n",
    "# Display svg images\n",
    "from IPython.display import SVG\n",
    "display(SVG(\"../figures/supp1A.svg\"))"
   ]
  },
  {
   "attachments": {},
   "cell_type": "markdown",
   "metadata": {},
   "source": [
    "## Figure supp1B"
   ]
  },
  {
   "cell_type": "code",
   "execution_count": 6,
   "metadata": {},
   "outputs": [
    {
     "name": "stdout",
     "output_type": "stream",
     "text": [
      "\u001b[?25h\u001b[?25h\u001b[?25h\u001b[?25h\u001b[?25h\u001b[?25h\u001b[?25h\u001b[?25h\u001b[?25h\u001b[?25h\u001b[?25h\u001b[?25h\u001b[?25h\u001b[?25h"
     ]
    },
    {
     "data": {
      "image/svg+xml": "<svg xmlns=\"http://www.w3.org/2000/svg\" xmlns:xlink=\"http://www.w3.org/1999/xlink\" class=\"svglite\" width=\"432.00pt\" height=\"432.00pt\" viewBox=\"0 0 432.00 432.00\">\n<defs>\n  <style type=\"text/css\"><![CDATA[\n    .svglite line, .svglite polyline, .svglite polygon, .svglite path, .svglite rect, .svglite circle {\n      fill: none;\n      stroke: #000000;\n      stroke-linecap: round;\n      stroke-linejoin: round;\n      stroke-miterlimit: 10.00;\n    }\n    .svglite text {\n      white-space: pre;\n    }\n  ]]></style>\n</defs>\n<rect width=\"100%\" height=\"100%\" style=\"stroke: none; fill: #FFFFFF;\"/>\n<defs>\n  <clipPath id=\"cpMC4wMHw0MzIuMDB8MC4wMHw0MzIuMDA=\">\n    <rect x=\"0.00\" y=\"0.00\" width=\"432.00\" height=\"432.00\"/>\n  </clipPath>\n</defs>\n<g clip-path=\"url(#cpMC4wMHw0MzIuMDB8MC4wMHw0MzIuMDA=)\">\n<rect x=\"0.000000000000032\" y=\"0.00\" width=\"432.00\" height=\"432.00\" style=\"stroke-width: 1.07; stroke: #FFFFFF; fill: #FFFFFF;\"/>\n</g>\n<defs>\n  <clipPath id=\"cpNDkuODR8NDI2LjUyfDUuNDh8MzgxLjA4\">\n    <rect x=\"49.84\" y=\"5.48\" width=\"376.68\" height=\"375.60\"/>\n  </clipPath>\n</defs>\n<g clip-path=\"url(#cpNDkuODR8NDI2LjUyfDUuNDh8MzgxLjA4)\">\n<rect x=\"49.84\" y=\"5.48\" width=\"376.68\" height=\"375.60\" style=\"stroke-width: 1.07; stroke: none; fill: #FFFFFF;\"/>\n<polyline points=\"49.84,321.38 426.52,321.38 \" style=\"stroke-width: 0.53; stroke: #FFFFFF; stroke-linecap: butt;\"/>\n<polyline points=\"49.84,234.27 426.52,234.27 \" style=\"stroke-width: 0.53; stroke: #FFFFFF; stroke-linecap: butt;\"/>\n<polyline points=\"49.84,147.16 426.52,147.16 \" style=\"stroke-width: 0.53; stroke: #FFFFFF; stroke-linecap: butt;\"/>\n<polyline points=\"49.84,60.06 426.52,60.06 \" style=\"stroke-width: 0.53; stroke: #FFFFFF; stroke-linecap: butt;\"/>\n<polyline points=\"137.88,381.08 137.88,5.48 \" style=\"stroke-width: 0.53; stroke: #FFFFFF; stroke-linecap: butt;\"/>\n<polyline points=\"230.01,381.08 230.01,5.48 \" style=\"stroke-width: 0.53; stroke: #FFFFFF; stroke-linecap: butt;\"/>\n<polyline points=\"322.14,381.08 322.14,5.48 \" style=\"stroke-width: 0.53; stroke: #FFFFFF; stroke-linecap: butt;\"/>\n<polyline points=\"414.27,381.08 414.27,5.48 \" style=\"stroke-width: 0.53; stroke: #FFFFFF; stroke-linecap: butt;\"/>\n<polyline points=\"49.84,364.93 426.52,364.93 \" style=\"stroke-width: 1.07; stroke: #FFFFFF; stroke-linecap: butt;\"/>\n<polyline points=\"49.84,277.82 426.52,277.82 \" style=\"stroke-width: 1.07; stroke: #FFFFFF; stroke-linecap: butt;\"/>\n<polyline points=\"49.84,190.72 426.52,190.72 \" style=\"stroke-width: 1.07; stroke: #FFFFFF; stroke-linecap: butt;\"/>\n<polyline points=\"49.84,103.61 426.52,103.61 \" style=\"stroke-width: 1.07; stroke: #FFFFFF; stroke-linecap: butt;\"/>\n<polyline points=\"49.84,16.50 426.52,16.50 \" style=\"stroke-width: 1.07; stroke: #FFFFFF; stroke-linecap: butt;\"/>\n<polyline points=\"91.82,381.08 91.82,5.48 \" style=\"stroke-width: 1.07; stroke: #FFFFFF; stroke-linecap: butt;\"/>\n<polyline points=\"183.95,381.08 183.95,5.48 \" style=\"stroke-width: 1.07; stroke: #FFFFFF; stroke-linecap: butt;\"/>\n<polyline points=\"276.07,381.08 276.07,5.48 \" style=\"stroke-width: 1.07; stroke: #FFFFFF; stroke-linecap: butt;\"/>\n<polyline points=\"368.20,381.08 368.20,5.48 \" style=\"stroke-width: 1.07; stroke: #FFFFFF; stroke-linecap: butt;\"/>\n<circle cx=\"214.93\" cy=\"62.42\" r=\"5.19\" style=\"stroke-width: 0.71; stroke: #89B4FA; fill: #89B4FA;\"/>\n<circle cx=\"275.74\" cy=\"47.20\" r=\"5.19\" style=\"stroke-width: 0.71; stroke: #89B4FA; fill: #89B4FA;\"/>\n<circle cx=\"409.40\" cy=\"277.55\" r=\"5.19\" style=\"stroke-width: 0.71; stroke: #89B4FA; fill: #89B4FA;\"/>\n<circle cx=\"295.25\" cy=\"186.36\" r=\"5.19\" style=\"stroke-width: 0.71; stroke: #89B4FA; fill: #89B4FA;\"/>\n<circle cx=\"224.82\" cy=\"53.29\" r=\"5.19\" style=\"stroke-width: 0.71; stroke: #89B4FA; fill: #89B4FA;\"/>\n<circle cx=\"317.59\" cy=\"364.01\" r=\"5.19\" style=\"stroke-width: 0.71; stroke: #89B4FA; fill: #89B4FA;\"/>\n<circle cx=\"173.44\" cy=\"95.16\" r=\"5.19\" style=\"stroke-width: 0.71; stroke: #89B4FA; fill: #89B4FA;\"/>\n<circle cx=\"123.93\" cy=\"78.58\" r=\"5.19\" style=\"stroke-width: 0.71; stroke: #89B4FA; fill: #89B4FA;\"/>\n<circle cx=\"85.27\" cy=\"67.31\" r=\"5.19\" style=\"stroke-width: 0.71; stroke: #89B4FA; fill: #89B4FA;\"/>\n<circle cx=\"158.53\" cy=\"151.53\" r=\"5.19\" style=\"stroke-width: 0.71; stroke: #89B4FA; fill: #89B4FA;\"/>\n<circle cx=\"94.84\" cy=\"22.55\" r=\"5.19\" style=\"stroke-width: 0.71; stroke: #89B4FA; fill: #89B4FA;\"/>\n<circle cx=\"117.69\" cy=\"61.15\" r=\"5.19\" style=\"stroke-width: 0.71; stroke: #89B4FA; fill: #89B4FA;\"/>\n<circle cx=\"126.52\" cy=\"88.39\" r=\"5.19\" style=\"stroke-width: 0.71; stroke: #89B4FA; fill: #89B4FA;\"/>\n<circle cx=\"111.81\" cy=\"64.58\" r=\"5.19\" style=\"stroke-width: 0.71; stroke: #89B4FA; fill: #89B4FA;\"/>\n<circle cx=\"258.51\" cy=\"63.28\" r=\"5.19\" style=\"stroke-width: 0.71; stroke: #89B4FA; fill: #89B4FA;\"/>\n<circle cx=\"137.59\" cy=\"101.96\" r=\"5.19\" style=\"stroke-width: 0.71; stroke: #89B4FA; fill: #89B4FA;\"/>\n<circle cx=\"118.21\" cy=\"34.65\" r=\"5.19\" style=\"stroke-width: 0.71; stroke: #89B4FA; fill: #89B4FA;\"/>\n<circle cx=\"66.96\" cy=\"45.01\" r=\"5.19\" style=\"stroke-width: 0.71; stroke: #89B4FA; fill: #89B4FA;\"/>\n<line x1=\"90.79\" y1=\"58.23\" x2=\"85.84\" y2=\"66.36\" style=\"stroke-width: 1.07;\"/>\n<line x1=\"136.22\" y1=\"51.40\" x2=\"118.67\" y2=\"60.63\" style=\"stroke-width: 1.07;\"/>\n<line x1=\"136.58\" y1=\"31.59\" x2=\"119.31\" y2=\"34.47\" style=\"stroke-width: 1.07;\"/>\n<text x=\"205.20\" y=\"77.24\" text-anchor=\"middle\" style=\"font-size: 14.23px; font-family: &quot;Liberation Sans&quot;;\" textLength=\"75.40px\" lengthAdjust=\"spacingAndGlyphs\">SURPRISED</text>\n<text x=\"306.37\" y=\"42.48\" text-anchor=\"middle\" style=\"font-size: 14.23px; font-family: &quot;Liberation Sans&quot;;\" textLength=\"56.23px\" lengthAdjust=\"spacingAndGlyphs\">EXCITED</text>\n<text x=\"379.19\" y=\"282.50\" text-anchor=\"middle\" style=\"font-size: 14.23px; font-family: &quot;Liberation Sans&quot;;\" textLength=\"51.17px\" lengthAdjust=\"spacingAndGlyphs\">SERENE</text>\n<text x=\"285.40\" y=\"201.30\" text-anchor=\"middle\" style=\"font-size: 14.23px; font-family: &quot;Liberation Sans&quot;;\" textLength=\"44.88px\" lengthAdjust=\"spacingAndGlyphs\">HAPPY</text>\n<text x=\"237.13\" y=\"48.49\" text-anchor=\"middle\" style=\"font-size: 14.23px; font-family: &quot;Liberation Sans&quot;;\" textLength=\"67.90px\" lengthAdjust=\"spacingAndGlyphs\">SATISFIED</text>\n<text x=\"327.42\" y=\"359.25\" text-anchor=\"middle\" style=\"font-size: 14.23px; font-family: &quot;Liberation Sans&quot;;\" textLength=\"38.42px\" lengthAdjust=\"spacingAndGlyphs\">CALM</text>\n<text x=\"183.22\" y=\"90.53\" text-anchor=\"middle\" style=\"font-size: 14.23px; font-family: &quot;Liberation Sans&quot;;\" textLength=\"39.85px\" lengthAdjust=\"spacingAndGlyphs\">TIRED</text>\n<text x=\"150.55\" y=\"73.04\" text-anchor=\"middle\" style=\"font-size: 14.23px; font-family: &quot;Liberation Sans&quot;;\" textLength=\"47.48px\" lengthAdjust=\"spacingAndGlyphs\">BORED</text>\n<text x=\"92.21\" y=\"56.43\" text-anchor=\"middle\" style=\"font-size: 14.23px; font-family: &quot;Liberation Sans&quot;;\" textLength=\"77.54px\" lengthAdjust=\"spacingAndGlyphs\">DEPRESSED</text>\n<text x=\"148.73\" y=\"166.40\" text-anchor=\"middle\" style=\"font-size: 14.23px; font-family: &quot;Liberation Sans&quot;;\" textLength=\"27.27px\" lengthAdjust=\"spacingAndGlyphs\">SAD</text>\n<text x=\"142.62\" y=\"19.24\" text-anchor=\"middle\" style=\"font-size: 14.23px; font-family: &quot;Liberation Sans&quot;;\" textLength=\"86.45px\" lengthAdjust=\"spacingAndGlyphs\">FRUSTRATED</text>\n<text x=\"162.82\" y=\"55.69\" text-anchor=\"middle\" style=\"font-size: 14.23px; font-family: &quot;Liberation Sans&quot;;\" textLength=\"49.59px\" lengthAdjust=\"spacingAndGlyphs\">AFRAID</text>\n<text x=\"98.31\" y=\"99.80\" text-anchor=\"middle\" style=\"font-size: 14.23px; font-family: &quot;Liberation Sans&quot;;\" textLength=\"47.14px\" lengthAdjust=\"spacingAndGlyphs\">ANGRY</text>\n<text x=\"86.62\" y=\"82.39\" text-anchor=\"middle\" style=\"font-size: 14.23px; font-family: &quot;Liberation Sans&quot;;\" textLength=\"66.36px\" lengthAdjust=\"spacingAndGlyphs\">STRESSED</text>\n<text x=\"294.07\" y=\"78.16\" text-anchor=\"middle\" style=\"font-size: 14.23px; font-family: &quot;Liberation Sans&quot;;\" textLength=\"88.15px\" lengthAdjust=\"spacingAndGlyphs\">ASTONISHED</text>\n<text x=\"152.90\" y=\"116.94\" text-anchor=\"middle\" style=\"font-size: 14.23px; font-family: &quot;Liberation Sans&quot;;\" textLength=\"47.72px\" lengthAdjust=\"spacingAndGlyphs\">SLEEPY</text>\n<text x=\"171.21\" y=\"36.63\" text-anchor=\"middle\" style=\"font-size: 14.23px; font-family: &quot;Liberation Sans&quot;;\" textLength=\"65.65px\" lengthAdjust=\"spacingAndGlyphs\">ALARMED</text>\n<text x=\"92.32\" y=\"37.46\" text-anchor=\"middle\" style=\"font-size: 14.23px; font-family: &quot;Liberation Sans&quot;;\" textLength=\"77.75px\" lengthAdjust=\"spacingAndGlyphs\">DISGUSTED</text>\n</g>\n<g clip-path=\"url(#cpMC4wMHw0MzIuMDB8MC4wMHw0MzIuMDA=)\">\n<polyline points=\"49.84,381.08 49.84,5.48 \" style=\"stroke-width: 2.56; stroke-linecap: butt;\"/>\n<text x=\"43.40\" y=\"371.36\" text-anchor=\"end\" style=\"font-size: 18.00px;fill: #151515; font-family: &quot;Noto Sans&quot;;\" textLength=\"16.09px\" lengthAdjust=\"spacingAndGlyphs\">-3</text>\n<text x=\"43.40\" y=\"284.25\" text-anchor=\"end\" style=\"font-size: 18.00px;fill: #151515; font-family: &quot;Noto Sans&quot;;\" textLength=\"16.09px\" lengthAdjust=\"spacingAndGlyphs\">-2</text>\n<text x=\"43.40\" y=\"197.14\" text-anchor=\"end\" style=\"font-size: 18.00px;fill: #151515; font-family: &quot;Noto Sans&quot;;\" textLength=\"16.09px\" lengthAdjust=\"spacingAndGlyphs\">-1</text>\n<text x=\"43.40\" y=\"110.04\" text-anchor=\"end\" style=\"font-size: 18.00px;fill: #151515; font-family: &quot;Noto Sans&quot;;\" textLength=\"10.30px\" lengthAdjust=\"spacingAndGlyphs\">0</text>\n<text x=\"43.40\" y=\"22.93\" text-anchor=\"end\" style=\"font-size: 18.00px;fill: #151515; font-family: &quot;Noto Sans&quot;;\" textLength=\"10.30px\" lengthAdjust=\"spacingAndGlyphs\">1</text>\n<polyline points=\"45.59,364.93 49.84,364.93 \" style=\"stroke-width: 1.07; stroke: #151515; stroke-linecap: butt;\"/>\n<polyline points=\"45.59,277.82 49.84,277.82 \" style=\"stroke-width: 1.07; stroke: #151515; stroke-linecap: butt;\"/>\n<polyline points=\"45.59,190.72 49.84,190.72 \" style=\"stroke-width: 1.07; stroke: #151515; stroke-linecap: butt;\"/>\n<polyline points=\"45.59,103.61 49.84,103.61 \" style=\"stroke-width: 1.07; stroke: #151515; stroke-linecap: butt;\"/>\n<polyline points=\"45.59,16.50 49.84,16.50 \" style=\"stroke-width: 1.07; stroke: #151515; stroke-linecap: butt;\"/>\n<polyline points=\"49.84,381.08 426.52,381.08 \" style=\"stroke-width: 2.56; stroke-linecap: butt;\"/>\n<polyline points=\"91.82,385.33 91.82,381.08 \" style=\"stroke-width: 1.07; stroke: #151515; stroke-linecap: butt;\"/>\n<polyline points=\"183.95,385.33 183.95,381.08 \" style=\"stroke-width: 1.07; stroke: #151515; stroke-linecap: butt;\"/>\n<polyline points=\"276.07,385.33 276.07,381.08 \" style=\"stroke-width: 1.07; stroke: #151515; stroke-linecap: butt;\"/>\n<polyline points=\"368.20,385.33 368.20,381.08 \" style=\"stroke-width: 1.07; stroke: #151515; stroke-linecap: butt;\"/>\n<text x=\"91.82\" y=\"400.37\" text-anchor=\"middle\" style=\"font-size: 18.00px;fill: #151515; font-family: &quot;Noto Sans&quot;;\" textLength=\"16.09px\" lengthAdjust=\"spacingAndGlyphs\">-1</text>\n<text x=\"183.95\" y=\"400.37\" text-anchor=\"middle\" style=\"font-size: 18.00px;fill: #151515; font-family: &quot;Noto Sans&quot;;\" textLength=\"10.30px\" lengthAdjust=\"spacingAndGlyphs\">0</text>\n<text x=\"276.07\" y=\"400.37\" text-anchor=\"middle\" style=\"font-size: 18.00px;fill: #151515; font-family: &quot;Noto Sans&quot;;\" textLength=\"10.30px\" lengthAdjust=\"spacingAndGlyphs\">1</text>\n<text x=\"368.20\" y=\"400.37\" text-anchor=\"middle\" style=\"font-size: 18.00px;fill: #151515; font-family: &quot;Noto Sans&quot;;\" textLength=\"10.30px\" lengthAdjust=\"spacingAndGlyphs\">2</text>\n<text x=\"238.18\" y=\"421.72\" text-anchor=\"middle\" style=\"font-size: 20.00px;fill: #151515; font-family: &quot;Noto Sans&quot;;\" textLength=\"72.91px\" lengthAdjust=\"spacingAndGlyphs\">Valence</text>\n<text transform=\"translate(19.76,193.28) rotate(-90)\" text-anchor=\"middle\" style=\"font-size: 20.00px;fill: #151515; font-family: &quot;Noto Sans&quot;;\" textLength=\"71.47px\" lengthAdjust=\"spacingAndGlyphs\">Arousal</text>\n</g>\n</svg>",
      "text/plain": [
       "<IPython.core.display.SVG object>"
      ]
     },
     "metadata": {},
     "output_type": "display_data"
    }
   ],
   "source": [
    "!./module_nlp/core/plots_it.R \"plot_emotions\"\n",
    "\n",
    "# Display svg images\n",
    "from IPython.display import SVG\n",
    "display(SVG(\"../figures/supp1B.svg\"))"
   ]
  },
  {
   "attachments": {},
   "cell_type": "markdown",
   "metadata": {},
   "source": [
    "## Figure supp1C-D"
   ]
  },
  {
   "cell_type": "code",
   "execution_count": 9,
   "metadata": {},
   "outputs": [
    {
     "ename": "",
     "evalue": "",
     "output_type": "error",
     "traceback": [
      "\u001b[1;31mCanceled future for execute_request message before replies were done"
     ]
    },
    {
     "ename": "",
     "evalue": "",
     "output_type": "error",
     "traceback": [
      "\u001b[1;31mThe Kernel crashed while executing code in the the current cell or a previous cell. Please review the code in the cell(s) to identify a possible cause of the failure. Click <a href='https://aka.ms/vscodeJupyterKernelCrash'>here</a> for more info. View Jupyter <a href='command:jupyter.viewOutput'>log</a> for further details."
     ]
    }
   ],
   "source": [
    "_ = importlib.reload(fasttext_space)\n",
    "with open(\"./module_nlp/config/config_it.yml\") as f:\n",
    "    config = yaml.safe_load(f)\n",
    "\n",
    "df = fasttext_space.get_wheels(config['get_control_wheel'])"
   ]
  }
 ],
 "metadata": {
  "kernelspec": {
   "display_name": "Python 3",
   "language": "python",
   "name": "python3"
  },
  "language_info": {
   "codemirror_mode": {
    "name": "ipython",
    "version": 3
   },
   "file_extension": ".py",
   "mimetype": "text/x-python",
   "name": "python",
   "nbconvert_exporter": "python",
   "pygments_lexer": "ipython3",
   "version": "3.10.8"
  },
  "orig_nbformat": 4,
  "vscode": {
   "interpreter": {
    "hash": "916dbcbb3f70747c44a77c7bcd40155683ae19c65e1c03b4aa3499c5328201f1"
   }
  }
 },
 "nbformat": 4,
 "nbformat_minor": 2
}
