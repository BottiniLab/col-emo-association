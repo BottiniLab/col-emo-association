{
 "cells": [
  {
   "cell_type": "code",
   "execution_count": 8,
   "metadata": {},
   "outputs": [],
   "source": [
    "import yaml\n",
    "import importlib\n",
    "from module_nlp.core import fasttext_space"
   ]
  },
  {
   "attachments": {},
   "cell_type": "markdown",
   "metadata": {},
   "source": [
    "# Figures supp1A-B"
   ]
  },
  {
   "cell_type": "code",
   "execution_count": 4,
   "metadata": {},
   "outputs": [
    {
     "data": {
      "text/html": [
       "<div>\n",
       "<style scoped>\n",
       "    .dataframe tbody tr th:only-of-type {\n",
       "        vertical-align: middle;\n",
       "    }\n",
       "\n",
       "    .dataframe tbody tr th {\n",
       "        vertical-align: top;\n",
       "    }\n",
       "\n",
       "    .dataframe thead th {\n",
       "        text-align: right;\n",
       "    }\n",
       "</style>\n",
       "<table border=\"1\" class=\"dataframe\">\n",
       "  <thead>\n",
       "    <tr style=\"text-align: right;\">\n",
       "      <th></th>\n",
       "      <th>index</th>\n",
       "      <th>Valence</th>\n",
       "      <th>Arousal</th>\n",
       "      <th>z_valence</th>\n",
       "      <th>z_arousal</th>\n",
       "      <th>Condition</th>\n",
       "      <th>fill_color</th>\n",
       "    </tr>\n",
       "  </thead>\n",
       "  <tbody>\n",
       "    <tr>\n",
       "      <th>0</th>\n",
       "      <td>verde</td>\n",
       "      <td>0.068780</td>\n",
       "      <td>-0.069848</td>\n",
       "      <td>1.827934</td>\n",
       "      <td>-1.405185</td>\n",
       "      <td>Color</td>\n",
       "      <td>green</td>\n",
       "    </tr>\n",
       "    <tr>\n",
       "      <th>1</th>\n",
       "      <td>arancione</td>\n",
       "      <td>-0.003469</td>\n",
       "      <td>0.016970</td>\n",
       "      <td>0.211373</td>\n",
       "      <td>0.422498</td>\n",
       "      <td>Color</td>\n",
       "      <td>orange</td>\n",
       "    </tr>\n",
       "    <tr>\n",
       "      <th>2</th>\n",
       "      <td>giallo</td>\n",
       "      <td>0.002803</td>\n",
       "      <td>0.015499</td>\n",
       "      <td>0.351709</td>\n",
       "      <td>0.391523</td>\n",
       "      <td>Color</td>\n",
       "      <td>yellow</td>\n",
       "    </tr>\n",
       "    <tr>\n",
       "      <th>3</th>\n",
       "      <td>blu</td>\n",
       "      <td>-0.063793</td>\n",
       "      <td>-0.066992</td>\n",
       "      <td>-1.138372</td>\n",
       "      <td>-1.345055</td>\n",
       "      <td>Color</td>\n",
       "      <td>blue</td>\n",
       "    </tr>\n",
       "    <tr>\n",
       "      <th>4</th>\n",
       "      <td>viola</td>\n",
       "      <td>-0.020676</td>\n",
       "      <td>0.046249</td>\n",
       "      <td>-0.173646</td>\n",
       "      <td>1.038882</td>\n",
       "      <td>Color</td>\n",
       "      <td>purple</td>\n",
       "    </tr>\n",
       "    <tr>\n",
       "      <th>5</th>\n",
       "      <td>rosso</td>\n",
       "      <td>-0.061139</td>\n",
       "      <td>0.039526</td>\n",
       "      <td>-1.078998</td>\n",
       "      <td>0.897336</td>\n",
       "      <td>Color</td>\n",
       "      <td>red</td>\n",
       "    </tr>\n",
       "    <tr>\n",
       "      <th>6</th>\n",
       "      <td>sorpreso</td>\n",
       "      <td>0.105667</td>\n",
       "      <td>-0.011347</td>\n",
       "      <td>0.336363</td>\n",
       "      <td>0.472831</td>\n",
       "      <td>Emotion</td>\n",
       "      <td>#ffff00</td>\n",
       "    </tr>\n",
       "    <tr>\n",
       "      <th>7</th>\n",
       "      <td>entusiasta</td>\n",
       "      <td>0.169270</td>\n",
       "      <td>0.008931</td>\n",
       "      <td>0.996398</td>\n",
       "      <td>0.647542</td>\n",
       "      <td>Emotion</td>\n",
       "      <td>#ffe400</td>\n",
       "    </tr>\n",
       "    <tr>\n",
       "      <th>8</th>\n",
       "      <td>sereno</td>\n",
       "      <td>0.309068</td>\n",
       "      <td>-0.297990</td>\n",
       "      <td>2.447143</td>\n",
       "      <td>-1.996857</td>\n",
       "      <td>Emotion</td>\n",
       "      <td>#287200</td>\n",
       "    </tr>\n",
       "    <tr>\n",
       "      <th>9</th>\n",
       "      <td>allegro</td>\n",
       "      <td>0.189672</td>\n",
       "      <td>-0.176488</td>\n",
       "      <td>1.208122</td>\n",
       "      <td>-0.950008</td>\n",
       "      <td>Emotion</td>\n",
       "      <td>#50a300</td>\n",
       "    </tr>\n",
       "    <tr>\n",
       "      <th>10</th>\n",
       "      <td>soddisfatto</td>\n",
       "      <td>0.116002</td>\n",
       "      <td>0.000824</td>\n",
       "      <td>0.443613</td>\n",
       "      <td>0.577695</td>\n",
       "      <td>Emotion</td>\n",
       "      <td>#ffff00</td>\n",
       "    </tr>\n",
       "    <tr>\n",
       "      <th>11</th>\n",
       "      <td>calmo</td>\n",
       "      <td>0.213044</td>\n",
       "      <td>-0.413185</td>\n",
       "      <td>1.450666</td>\n",
       "      <td>-2.989369</td>\n",
       "      <td>Emotion</td>\n",
       "      <td>#002729</td>\n",
       "    </tr>\n",
       "    <tr>\n",
       "      <th>12</th>\n",
       "      <td>stanco</td>\n",
       "      <td>0.062265</td>\n",
       "      <td>-0.054961</td>\n",
       "      <td>-0.114036</td>\n",
       "      <td>0.097057</td>\n",
       "      <td>Emotion</td>\n",
       "      <td>#ffff00</td>\n",
       "    </tr>\n",
       "    <tr>\n",
       "      <th>13</th>\n",
       "      <td>annoiato</td>\n",
       "      <td>0.010475</td>\n",
       "      <td>-0.032871</td>\n",
       "      <td>-0.651480</td>\n",
       "      <td>0.287378</td>\n",
       "      <td>Emotion</td>\n",
       "      <td>#ff5e00</td>\n",
       "    </tr>\n",
       "    <tr>\n",
       "      <th>14</th>\n",
       "      <td>depresso</td>\n",
       "      <td>-0.029961</td>\n",
       "      <td>-0.017859</td>\n",
       "      <td>-1.071108</td>\n",
       "      <td>0.416722</td>\n",
       "      <td>Emotion</td>\n",
       "      <td>#ba003a</td>\n",
       "    </tr>\n",
       "    <tr>\n",
       "      <th>15</th>\n",
       "      <td>triste</td>\n",
       "      <td>0.046667</td>\n",
       "      <td>-0.130074</td>\n",
       "      <td>-0.275903</td>\n",
       "      <td>-0.550113</td>\n",
       "      <td>Emotion</td>\n",
       "      <td>#e5bc00</td>\n",
       "    </tr>\n",
       "    <tr>\n",
       "      <th>16</th>\n",
       "      <td>frustrato</td>\n",
       "      <td>-0.019945</td>\n",
       "      <td>0.041778</td>\n",
       "      <td>-0.967169</td>\n",
       "      <td>0.930546</td>\n",
       "      <td>Emotion</td>\n",
       "      <td>#cf004f</td>\n",
       "    </tr>\n",
       "    <tr>\n",
       "      <th>17</th>\n",
       "      <td>spaventato</td>\n",
       "      <td>0.003949</td>\n",
       "      <td>-0.009648</td>\n",
       "      <td>-0.719211</td>\n",
       "      <td>0.487468</td>\n",
       "      <td>Emotion</td>\n",
       "      <td>#d20052</td>\n",
       "    </tr>\n",
       "    <tr>\n",
       "      <th>18</th>\n",
       "      <td>arrabbiato</td>\n",
       "      <td>0.013185</td>\n",
       "      <td>-0.045940</td>\n",
       "      <td>-0.623365</td>\n",
       "      <td>0.174776</td>\n",
       "      <td>Emotion</td>\n",
       "      <td>#ff5e00</td>\n",
       "    </tr>\n",
       "    <tr>\n",
       "      <th>19</th>\n",
       "      <td>stressato</td>\n",
       "      <td>-0.002198</td>\n",
       "      <td>-0.014216</td>\n",
       "      <td>-0.783003</td>\n",
       "      <td>0.448108</td>\n",
       "      <td>Emotion</td>\n",
       "      <td>#ca004b</td>\n",
       "    </tr>\n",
       "    <tr>\n",
       "      <th>20</th>\n",
       "      <td>stupito</td>\n",
       "      <td>0.151246</td>\n",
       "      <td>-0.012494</td>\n",
       "      <td>0.809358</td>\n",
       "      <td>0.462942</td>\n",
       "      <td>Emotion</td>\n",
       "      <td>#ffff00</td>\n",
       "    </tr>\n",
       "    <tr>\n",
       "      <th>21</th>\n",
       "      <td>assonnato</td>\n",
       "      <td>0.024772</td>\n",
       "      <td>-0.064031</td>\n",
       "      <td>-0.503123</td>\n",
       "      <td>0.018909</td>\n",
       "      <td>Emotion</td>\n",
       "      <td>#ffe400</td>\n",
       "    </tr>\n",
       "    <tr>\n",
       "      <th>22</th>\n",
       "      <td>allarmato</td>\n",
       "      <td>0.004499</td>\n",
       "      <td>0.025656</td>\n",
       "      <td>-0.713501</td>\n",
       "      <td>0.791643</td>\n",
       "      <td>Emotion</td>\n",
       "      <td>#eb006b</td>\n",
       "    </tr>\n",
       "    <tr>\n",
       "      <th>23</th>\n",
       "      <td>disgustato</td>\n",
       "      <td>-0.049104</td>\n",
       "      <td>0.011854</td>\n",
       "      <td>-1.269764</td>\n",
       "      <td>0.672729</td>\n",
       "      <td>Emotion</td>\n",
       "      <td>#b60037</td>\n",
       "    </tr>\n",
       "  </tbody>\n",
       "</table>\n",
       "</div>"
      ],
      "text/plain": [
       "          index   Valence   Arousal  z_valence  z_arousal Condition fill_color\n",
       "0         verde  0.068780 -0.069848   1.827934  -1.405185     Color      green\n",
       "1     arancione -0.003469  0.016970   0.211373   0.422498     Color     orange\n",
       "2        giallo  0.002803  0.015499   0.351709   0.391523     Color     yellow\n",
       "3           blu -0.063793 -0.066992  -1.138372  -1.345055     Color       blue\n",
       "4         viola -0.020676  0.046249  -0.173646   1.038882     Color     purple\n",
       "5         rosso -0.061139  0.039526  -1.078998   0.897336     Color        red\n",
       "6      sorpreso  0.105667 -0.011347   0.336363   0.472831   Emotion    #ffff00\n",
       "7    entusiasta  0.169270  0.008931   0.996398   0.647542   Emotion    #ffe400\n",
       "8        sereno  0.309068 -0.297990   2.447143  -1.996857   Emotion    #287200\n",
       "9       allegro  0.189672 -0.176488   1.208122  -0.950008   Emotion    #50a300\n",
       "10  soddisfatto  0.116002  0.000824   0.443613   0.577695   Emotion    #ffff00\n",
       "11        calmo  0.213044 -0.413185   1.450666  -2.989369   Emotion    #002729\n",
       "12       stanco  0.062265 -0.054961  -0.114036   0.097057   Emotion    #ffff00\n",
       "13     annoiato  0.010475 -0.032871  -0.651480   0.287378   Emotion    #ff5e00\n",
       "14     depresso -0.029961 -0.017859  -1.071108   0.416722   Emotion    #ba003a\n",
       "15       triste  0.046667 -0.130074  -0.275903  -0.550113   Emotion    #e5bc00\n",
       "16    frustrato -0.019945  0.041778  -0.967169   0.930546   Emotion    #cf004f\n",
       "17   spaventato  0.003949 -0.009648  -0.719211   0.487468   Emotion    #d20052\n",
       "18   arrabbiato  0.013185 -0.045940  -0.623365   0.174776   Emotion    #ff5e00\n",
       "19    stressato -0.002198 -0.014216  -0.783003   0.448108   Emotion    #ca004b\n",
       "20      stupito  0.151246 -0.012494   0.809358   0.462942   Emotion    #ffff00\n",
       "21    assonnato  0.024772 -0.064031  -0.503123   0.018909   Emotion    #ffe400\n",
       "22    allarmato  0.004499  0.025656  -0.713501   0.791643   Emotion    #eb006b\n",
       "23   disgustato -0.049104  0.011854  -1.269764   0.672729   Emotion    #b60037"
      ]
     },
     "execution_count": 4,
     "metadata": {},
     "output_type": "execute_result"
    }
   ],
   "source": [
    "_ = importlib.reload(fasttext_space)\n",
    "with open(\"./module_nlp/config/config_it.yml\") as f:\n",
    "    config = yaml.safe_load(f)\n",
    "\n",
    "fasttext_space.get_wheels(config['get_wheel'])"
   ]
  },
  {
   "attachments": {},
   "cell_type": "markdown",
   "metadata": {},
   "source": [
    "## Figure supp1A"
   ]
  },
  {
   "cell_type": "code",
   "execution_count": 1,
   "metadata": {},
   "outputs": [
    {
     "name": "stdout",
     "output_type": "stream",
     "text": [
      "\u001b[?25h\u001b[?25h\u001b[?25h\u001b[?25h\u001b[?25h\u001b[?25h\u001b[?25h\u001b[?25h\u001b[?25h\u001b[?25h\u001b[?25h\u001b[?25h\u001b[?25h\u001b[?25h"
     ]
    },
    {
     "data": {
      "image/svg+xml": "<svg xmlns=\"http://www.w3.org/2000/svg\" xmlns:xlink=\"http://www.w3.org/1999/xlink\" class=\"svglite\" width=\"432.00pt\" height=\"432.00pt\" viewBox=\"0 0 432.00 432.00\">\n<defs>\n  <style type=\"text/css\"><![CDATA[\n    .svglite line, .svglite polyline, .svglite polygon, .svglite path, .svglite rect, .svglite circle {\n      fill: none;\n      stroke: #000000;\n      stroke-linecap: round;\n      stroke-linejoin: round;\n      stroke-miterlimit: 10.00;\n    }\n    .svglite text {\n      white-space: pre;\n    }\n  ]]></style>\n</defs>\n<rect width=\"100%\" height=\"100%\" style=\"stroke: none; fill: #FFFFFF;\"/>\n<defs>\n  <clipPath id=\"cpMC4wMHw0MzIuMDB8MC4wMHw0MzIuMDA=\">\n    <rect x=\"0.00\" y=\"0.00\" width=\"432.00\" height=\"432.00\"/>\n  </clipPath>\n</defs>\n<g clip-path=\"url(#cpMC4wMHw0MzIuMDB8MC4wMHw0MzIuMDA=)\">\n<rect x=\"0.000000000000032\" y=\"0.00\" width=\"432.00\" height=\"432.00\" style=\"stroke-width: 1.07; stroke: #FFFFFF; fill: #FFFFFF;\"/>\n</g>\n<defs>\n  <clipPath id=\"cpNjQuOTZ8NDI2LjUyfDUuNDh8MzgxLjA4\">\n    <rect x=\"64.96\" y=\"5.48\" width=\"361.56\" height=\"375.60\"/>\n  </clipPath>\n</defs>\n<g clip-path=\"url(#cpNjQuOTZ8NDI2LjUyfDUuNDh8MzgxLjA4)\">\n<rect x=\"64.96\" y=\"5.48\" width=\"361.56\" height=\"375.60\" style=\"stroke-width: 1.07; stroke: none; fill: #FFFFFF;\"/>\n<polyline points=\"64.96,342.32 426.52,342.32 \" style=\"stroke-width: 0.53; stroke: #FFFFFF; stroke-linecap: butt;\"/>\n<polyline points=\"64.96,272.47 426.52,272.47 \" style=\"stroke-width: 0.53; stroke: #FFFFFF; stroke-linecap: butt;\"/>\n<polyline points=\"64.96,202.62 426.52,202.62 \" style=\"stroke-width: 0.53; stroke: #FFFFFF; stroke-linecap: butt;\"/>\n<polyline points=\"64.96,132.76 426.52,132.76 \" style=\"stroke-width: 0.53; stroke: #FFFFFF; stroke-linecap: butt;\"/>\n<polyline points=\"64.96,62.91 426.52,62.91 \" style=\"stroke-width: 0.53; stroke: #FFFFFF; stroke-linecap: butt;\"/>\n<polyline points=\"152.13,381.08 152.13,5.48 \" style=\"stroke-width: 0.53; stroke: #FFFFFF; stroke-linecap: butt;\"/>\n<polyline points=\"262.94,381.08 262.94,5.48 \" style=\"stroke-width: 0.53; stroke: #FFFFFF; stroke-linecap: butt;\"/>\n<polyline points=\"373.75,381.08 373.75,5.48 \" style=\"stroke-width: 0.53; stroke: #FFFFFF; stroke-linecap: butt;\"/>\n<polyline points=\"64.96,377.25 426.52,377.25 \" style=\"stroke-width: 1.07; stroke: #FFFFFF; stroke-linecap: butt;\"/>\n<polyline points=\"64.96,307.40 426.52,307.40 \" style=\"stroke-width: 1.07; stroke: #FFFFFF; stroke-linecap: butt;\"/>\n<polyline points=\"64.96,237.54 426.52,237.54 \" style=\"stroke-width: 1.07; stroke: #FFFFFF; stroke-linecap: butt;\"/>\n<polyline points=\"64.96,167.69 426.52,167.69 \" style=\"stroke-width: 1.07; stroke: #FFFFFF; stroke-linecap: butt;\"/>\n<polyline points=\"64.96,97.84 426.52,97.84 \" style=\"stroke-width: 1.07; stroke: #FFFFFF; stroke-linecap: butt;\"/>\n<polyline points=\"64.96,27.98 426.52,27.98 \" style=\"stroke-width: 1.07; stroke: #FFFFFF; stroke-linecap: butt;\"/>\n<polyline points=\"96.73,381.08 96.73,5.48 \" style=\"stroke-width: 1.07; stroke: #FFFFFF; stroke-linecap: butt;\"/>\n<polyline points=\"207.54,381.08 207.54,5.48 \" style=\"stroke-width: 1.07; stroke: #FFFFFF; stroke-linecap: butt;\"/>\n<polyline points=\"318.34,381.08 318.34,5.48 \" style=\"stroke-width: 1.07; stroke: #FFFFFF; stroke-linecap: butt;\"/>\n<circle cx=\"410.09\" cy=\"364.01\" r=\"5.19\" style=\"stroke-width: 0.71; stroke: #00FF00; fill: #00FF00;\"/>\n<circle cx=\"230.96\" cy=\"108.67\" r=\"5.19\" style=\"stroke-width: 0.71; stroke: #FF8000; fill: #FF8000;\"/>\n<circle cx=\"246.51\" cy=\"112.99\" r=\"5.19\" style=\"stroke-width: 0.71; stroke: #FFFF00; fill: #FFFF00;\"/>\n<circle cx=\"81.40\" cy=\"355.60\" r=\"5.19\" style=\"stroke-width: 0.71; stroke: #0000FF; fill: #0000FF;\"/>\n<circle cx=\"188.30\" cy=\"22.55\" r=\"5.19\" style=\"stroke-width: 0.71; stroke: #8000FF; fill: #8000FF;\"/>\n<circle cx=\"87.98\" cy=\"42.33\" r=\"5.19\" style=\"stroke-width: 0.71; stroke: #FF0000; fill: #FF0000;\"/>\n</g>\n<g clip-path=\"url(#cpMC4wMHw0MzIuMDB8MC4wMHw0MzIuMDA=)\">\n<polyline points=\"64.96,381.08 64.96,5.48 \" style=\"stroke-width: 2.56; stroke-linecap: butt;\"/>\n<text x=\"58.52\" y=\"383.68\" text-anchor=\"end\" style=\"font-size: 18.00px;fill: #151515; font-family: &quot;Noto Sans&quot;;\" textLength=\"31.21px\" lengthAdjust=\"spacingAndGlyphs\">-1.5</text>\n<text x=\"58.52\" y=\"313.82\" text-anchor=\"end\" style=\"font-size: 18.00px;fill: #151515; font-family: &quot;Noto Sans&quot;;\" textLength=\"31.21px\" lengthAdjust=\"spacingAndGlyphs\">-1.0</text>\n<text x=\"58.52\" y=\"243.97\" text-anchor=\"end\" style=\"font-size: 18.00px;fill: #151515; font-family: &quot;Noto Sans&quot;;\" textLength=\"31.21px\" lengthAdjust=\"spacingAndGlyphs\">-0.5</text>\n<text x=\"58.52\" y=\"174.12\" text-anchor=\"end\" style=\"font-size: 18.00px;fill: #151515; font-family: &quot;Noto Sans&quot;;\" textLength=\"25.42px\" lengthAdjust=\"spacingAndGlyphs\">0.0</text>\n<text x=\"58.52\" y=\"104.26\" text-anchor=\"end\" style=\"font-size: 18.00px;fill: #151515; font-family: &quot;Noto Sans&quot;;\" textLength=\"25.42px\" lengthAdjust=\"spacingAndGlyphs\">0.5</text>\n<text x=\"58.52\" y=\"34.41\" text-anchor=\"end\" style=\"font-size: 18.00px;fill: #151515; font-family: &quot;Noto Sans&quot;;\" textLength=\"25.42px\" lengthAdjust=\"spacingAndGlyphs\">1.0</text>\n<polyline points=\"60.71,377.25 64.96,377.25 \" style=\"stroke-width: 1.07; stroke: #151515; stroke-linecap: butt;\"/>\n<polyline points=\"60.71,307.40 64.96,307.40 \" style=\"stroke-width: 1.07; stroke: #151515; stroke-linecap: butt;\"/>\n<polyline points=\"60.71,237.54 64.96,237.54 \" style=\"stroke-width: 1.07; stroke: #151515; stroke-linecap: butt;\"/>\n<polyline points=\"60.71,167.69 64.96,167.69 \" style=\"stroke-width: 1.07; stroke: #151515; stroke-linecap: butt;\"/>\n<polyline points=\"60.71,97.84 64.96,97.84 \" style=\"stroke-width: 1.07; stroke: #151515; stroke-linecap: butt;\"/>\n<polyline points=\"60.71,27.98 64.96,27.98 \" style=\"stroke-width: 1.07; stroke: #151515; stroke-linecap: butt;\"/>\n<polyline points=\"64.96,381.08 426.52,381.08 \" style=\"stroke-width: 2.56; stroke-linecap: butt;\"/>\n<polyline points=\"96.73,385.33 96.73,381.08 \" style=\"stroke-width: 1.07; stroke: #151515; stroke-linecap: butt;\"/>\n<polyline points=\"207.54,385.33 207.54,381.08 \" style=\"stroke-width: 1.07; stroke: #151515; stroke-linecap: butt;\"/>\n<polyline points=\"318.34,385.33 318.34,381.08 \" style=\"stroke-width: 1.07; stroke: #151515; stroke-linecap: butt;\"/>\n<text x=\"96.73\" y=\"400.37\" text-anchor=\"middle\" style=\"font-size: 18.00px;fill: #151515; font-family: &quot;Noto Sans&quot;;\" textLength=\"16.09px\" lengthAdjust=\"spacingAndGlyphs\">-1</text>\n<text x=\"207.54\" y=\"400.37\" text-anchor=\"middle\" style=\"font-size: 18.00px;fill: #151515; font-family: &quot;Noto Sans&quot;;\" textLength=\"10.30px\" lengthAdjust=\"spacingAndGlyphs\">0</text>\n<text x=\"318.34\" y=\"400.37\" text-anchor=\"middle\" style=\"font-size: 18.00px;fill: #151515; font-family: &quot;Noto Sans&quot;;\" textLength=\"10.30px\" lengthAdjust=\"spacingAndGlyphs\">1</text>\n<text x=\"245.74\" y=\"421.72\" text-anchor=\"middle\" style=\"font-size: 20.00px;fill: #151515; font-family: &quot;Noto Sans&quot;;\" textLength=\"72.91px\" lengthAdjust=\"spacingAndGlyphs\">Valence</text>\n<text transform=\"translate(19.76,193.28) rotate(-90)\" text-anchor=\"middle\" style=\"font-size: 20.00px;fill: #151515; font-family: &quot;Noto Sans&quot;;\" textLength=\"71.47px\" lengthAdjust=\"spacingAndGlyphs\">Arousal</text>\n</g>\n</svg>",
      "text/plain": [
       "<IPython.core.display.SVG object>"
      ]
     },
     "metadata": {},
     "output_type": "display_data"
    }
   ],
   "source": [
    "!./module_nlp/core/plots_it.R \"plot_colors\"\n",
    "\n",
    "# Display svg images\n",
    "from IPython.display import SVG\n",
    "display(SVG(\"../figures/supp1A.svg\"))"
   ]
  },
  {
   "attachments": {},
   "cell_type": "markdown",
   "metadata": {},
   "source": [
    "## Figure supp1B"
   ]
  },
  {
   "cell_type": "code",
   "execution_count": 6,
   "metadata": {},
   "outputs": [
    {
     "name": "stdout",
     "output_type": "stream",
     "text": [
      "\u001b[?25h\u001b[?25h\u001b[?25h\u001b[?25h\u001b[?25h\u001b[?25h\u001b[?25h\u001b[?25h\u001b[?25h\u001b[?25h\u001b[?25h\u001b[?25h\u001b[?25h\u001b[?25h"
     ]
    },
    {
     "data": {
      "image/svg+xml": "<svg xmlns=\"http://www.w3.org/2000/svg\" xmlns:xlink=\"http://www.w3.org/1999/xlink\" class=\"svglite\" width=\"432.00pt\" height=\"432.00pt\" viewBox=\"0 0 432.00 432.00\">\n<defs>\n  <style type=\"text/css\"><![CDATA[\n    .svglite line, .svglite polyline, .svglite polygon, .svglite path, .svglite rect, .svglite circle {\n      fill: none;\n      stroke: #000000;\n      stroke-linecap: round;\n      stroke-linejoin: round;\n      stroke-miterlimit: 10.00;\n    }\n    .svglite text {\n      white-space: pre;\n    }\n  ]]></style>\n</defs>\n<rect width=\"100%\" height=\"100%\" style=\"stroke: none; fill: #FFFFFF;\"/>\n<defs>\n  <clipPath id=\"cpMC4wMHw0MzIuMDB8MC4wMHw0MzIuMDA=\">\n    <rect x=\"0.00\" y=\"0.00\" width=\"432.00\" height=\"432.00\"/>\n  </clipPath>\n</defs>\n<g clip-path=\"url(#cpMC4wMHw0MzIuMDB8MC4wMHw0MzIuMDA=)\">\n<rect x=\"0.000000000000032\" y=\"0.00\" width=\"432.00\" height=\"432.00\" style=\"stroke-width: 1.07; stroke: #FFFFFF; fill: #FFFFFF;\"/>\n</g>\n<defs>\n  <clipPath id=\"cpNDkuODR8NDI2LjUyfDUuNDh8MzgxLjA4\">\n    <rect x=\"49.84\" y=\"5.48\" width=\"376.68\" height=\"375.60\"/>\n  </clipPath>\n</defs>\n<g clip-path=\"url(#cpNDkuODR8NDI2LjUyfDUuNDh8MzgxLjA4)\">\n<rect x=\"49.84\" y=\"5.48\" width=\"376.68\" height=\"375.60\" style=\"stroke-width: 1.07; stroke: none; fill: #FFFFFF;\"/>\n<polyline points=\"49.84,321.38 426.52,321.38 \" style=\"stroke-width: 0.53; stroke: #FFFFFF; stroke-linecap: butt;\"/>\n<polyline points=\"49.84,234.27 426.52,234.27 \" style=\"stroke-width: 0.53; stroke: #FFFFFF; stroke-linecap: butt;\"/>\n<polyline points=\"49.84,147.16 426.52,147.16 \" style=\"stroke-width: 0.53; stroke: #FFFFFF; stroke-linecap: butt;\"/>\n<polyline points=\"49.84,60.06 426.52,60.06 \" style=\"stroke-width: 0.53; stroke: #FFFFFF; stroke-linecap: butt;\"/>\n<polyline points=\"137.88,381.08 137.88,5.48 \" style=\"stroke-width: 0.53; stroke: #FFFFFF; stroke-linecap: butt;\"/>\n<polyline points=\"230.01,381.08 230.01,5.48 \" style=\"stroke-width: 0.53; stroke: #FFFFFF; stroke-linecap: butt;\"/>\n<polyline points=\"322.14,381.08 322.14,5.48 \" style=\"stroke-width: 0.53; stroke: #FFFFFF; stroke-linecap: butt;\"/>\n<polyline points=\"414.27,381.08 414.27,5.48 \" style=\"stroke-width: 0.53; stroke: #FFFFFF; stroke-linecap: butt;\"/>\n<polyline points=\"49.84,364.93 426.52,364.93 \" style=\"stroke-width: 1.07; stroke: #FFFFFF; stroke-linecap: butt;\"/>\n<polyline points=\"49.84,277.82 426.52,277.82 \" style=\"stroke-width: 1.07; stroke: #FFFFFF; stroke-linecap: butt;\"/>\n<polyline points=\"49.84,190.72 426.52,190.72 \" style=\"stroke-width: 1.07; stroke: #FFFFFF; stroke-linecap: butt;\"/>\n<polyline points=\"49.84,103.61 426.52,103.61 \" style=\"stroke-width: 1.07; stroke: #FFFFFF; stroke-linecap: butt;\"/>\n<polyline points=\"49.84,16.50 426.52,16.50 \" style=\"stroke-width: 1.07; stroke: #FFFFFF; stroke-linecap: butt;\"/>\n<polyline points=\"91.82,381.08 91.82,5.48 \" style=\"stroke-width: 1.07; stroke: #FFFFFF; stroke-linecap: butt;\"/>\n<polyline points=\"183.95,381.08 183.95,5.48 \" style=\"stroke-width: 1.07; stroke: #FFFFFF; stroke-linecap: butt;\"/>\n<polyline points=\"276.07,381.08 276.07,5.48 \" style=\"stroke-width: 1.07; stroke: #FFFFFF; stroke-linecap: butt;\"/>\n<polyline points=\"368.20,381.08 368.20,5.48 \" style=\"stroke-width: 1.07; stroke: #FFFFFF; stroke-linecap: butt;\"/>\n<circle cx=\"214.93\" cy=\"62.42\" r=\"5.19\" style=\"stroke-width: 0.71; stroke: #89B4FA; fill: #89B4FA;\"/>\n<circle cx=\"275.74\" cy=\"47.20\" r=\"5.19\" style=\"stroke-width: 0.71; stroke: #89B4FA; fill: #89B4FA;\"/>\n<circle cx=\"409.40\" cy=\"277.55\" r=\"5.19\" style=\"stroke-width: 0.71; stroke: #89B4FA; fill: #89B4FA;\"/>\n<circle cx=\"295.25\" cy=\"186.36\" r=\"5.19\" style=\"stroke-width: 0.71; stroke: #89B4FA; fill: #89B4FA;\"/>\n<circle cx=\"224.82\" cy=\"53.29\" r=\"5.19\" style=\"stroke-width: 0.71; stroke: #89B4FA; fill: #89B4FA;\"/>\n<circle cx=\"317.59\" cy=\"364.01\" r=\"5.19\" style=\"stroke-width: 0.71; stroke: #89B4FA; fill: #89B4FA;\"/>\n<circle cx=\"173.44\" cy=\"95.16\" r=\"5.19\" style=\"stroke-width: 0.71; stroke: #89B4FA; fill: #89B4FA;\"/>\n<circle cx=\"123.93\" cy=\"78.58\" r=\"5.19\" style=\"stroke-width: 0.71; stroke: #89B4FA; fill: #89B4FA;\"/>\n<circle cx=\"85.27\" cy=\"67.31\" r=\"5.19\" style=\"stroke-width: 0.71; stroke: #89B4FA; fill: #89B4FA;\"/>\n<circle cx=\"158.53\" cy=\"151.53\" r=\"5.19\" style=\"stroke-width: 0.71; stroke: #89B4FA; fill: #89B4FA;\"/>\n<circle cx=\"94.84\" cy=\"22.55\" r=\"5.19\" style=\"stroke-width: 0.71; stroke: #89B4FA; fill: #89B4FA;\"/>\n<circle cx=\"117.69\" cy=\"61.15\" r=\"5.19\" style=\"stroke-width: 0.71; stroke: #89B4FA; fill: #89B4FA;\"/>\n<circle cx=\"126.52\" cy=\"88.39\" r=\"5.19\" style=\"stroke-width: 0.71; stroke: #89B4FA; fill: #89B4FA;\"/>\n<circle cx=\"111.81\" cy=\"64.58\" r=\"5.19\" style=\"stroke-width: 0.71; stroke: #89B4FA; fill: #89B4FA;\"/>\n<circle cx=\"258.51\" cy=\"63.28\" r=\"5.19\" style=\"stroke-width: 0.71; stroke: #89B4FA; fill: #89B4FA;\"/>\n<circle cx=\"137.59\" cy=\"101.96\" r=\"5.19\" style=\"stroke-width: 0.71; stroke: #89B4FA; fill: #89B4FA;\"/>\n<circle cx=\"118.21\" cy=\"34.65\" r=\"5.19\" style=\"stroke-width: 0.71; stroke: #89B4FA; fill: #89B4FA;\"/>\n<circle cx=\"66.96\" cy=\"45.01\" r=\"5.19\" style=\"stroke-width: 0.71; stroke: #89B4FA; fill: #89B4FA;\"/>\n<line x1=\"90.79\" y1=\"58.23\" x2=\"85.84\" y2=\"66.36\" style=\"stroke-width: 1.07;\"/>\n<line x1=\"136.22\" y1=\"51.40\" x2=\"118.67\" y2=\"60.63\" style=\"stroke-width: 1.07;\"/>\n<line x1=\"136.58\" y1=\"31.59\" x2=\"119.31\" y2=\"34.47\" style=\"stroke-width: 1.07;\"/>\n<text x=\"205.20\" y=\"77.24\" text-anchor=\"middle\" style=\"font-size: 14.23px; font-family: &quot;Liberation Sans&quot;;\" textLength=\"75.40px\" lengthAdjust=\"spacingAndGlyphs\">SURPRISED</text>\n<text x=\"306.37\" y=\"42.48\" text-anchor=\"middle\" style=\"font-size: 14.23px; font-family: &quot;Liberation Sans&quot;;\" textLength=\"56.23px\" lengthAdjust=\"spacingAndGlyphs\">EXCITED</text>\n<text x=\"379.19\" y=\"282.50\" text-anchor=\"middle\" style=\"font-size: 14.23px; font-family: &quot;Liberation Sans&quot;;\" textLength=\"51.17px\" lengthAdjust=\"spacingAndGlyphs\">SERENE</text>\n<text x=\"285.40\" y=\"201.30\" text-anchor=\"middle\" style=\"font-size: 14.23px; font-family: &quot;Liberation Sans&quot;;\" textLength=\"44.88px\" lengthAdjust=\"spacingAndGlyphs\">HAPPY</text>\n<text x=\"237.13\" y=\"48.49\" text-anchor=\"middle\" style=\"font-size: 14.23px; font-family: &quot;Liberation Sans&quot;;\" textLength=\"67.90px\" lengthAdjust=\"spacingAndGlyphs\">SATISFIED</text>\n<text x=\"327.42\" y=\"359.25\" text-anchor=\"middle\" style=\"font-size: 14.23px; font-family: &quot;Liberation Sans&quot;;\" textLength=\"38.42px\" lengthAdjust=\"spacingAndGlyphs\">CALM</text>\n<text x=\"183.22\" y=\"90.53\" text-anchor=\"middle\" style=\"font-size: 14.23px; font-family: &quot;Liberation Sans&quot;;\" textLength=\"39.85px\" lengthAdjust=\"spacingAndGlyphs\">TIRED</text>\n<text x=\"150.55\" y=\"73.04\" text-anchor=\"middle\" style=\"font-size: 14.23px; font-family: &quot;Liberation Sans&quot;;\" textLength=\"47.48px\" lengthAdjust=\"spacingAndGlyphs\">BORED</text>\n<text x=\"92.21\" y=\"56.43\" text-anchor=\"middle\" style=\"font-size: 14.23px; font-family: &quot;Liberation Sans&quot;;\" textLength=\"77.54px\" lengthAdjust=\"spacingAndGlyphs\">DEPRESSED</text>\n<text x=\"148.73\" y=\"166.40\" text-anchor=\"middle\" style=\"font-size: 14.23px; font-family: &quot;Liberation Sans&quot;;\" textLength=\"27.27px\" lengthAdjust=\"spacingAndGlyphs\">SAD</text>\n<text x=\"142.62\" y=\"19.24\" text-anchor=\"middle\" style=\"font-size: 14.23px; font-family: &quot;Liberation Sans&quot;;\" textLength=\"86.45px\" lengthAdjust=\"spacingAndGlyphs\">FRUSTRATED</text>\n<text x=\"162.82\" y=\"55.69\" text-anchor=\"middle\" style=\"font-size: 14.23px; font-family: &quot;Liberation Sans&quot;;\" textLength=\"49.59px\" lengthAdjust=\"spacingAndGlyphs\">AFRAID</text>\n<text x=\"98.31\" y=\"99.80\" text-anchor=\"middle\" style=\"font-size: 14.23px; font-family: &quot;Liberation Sans&quot;;\" textLength=\"47.14px\" lengthAdjust=\"spacingAndGlyphs\">ANGRY</text>\n<text x=\"86.62\" y=\"82.39\" text-anchor=\"middle\" style=\"font-size: 14.23px; font-family: &quot;Liberation Sans&quot;;\" textLength=\"66.36px\" lengthAdjust=\"spacingAndGlyphs\">STRESSED</text>\n<text x=\"294.07\" y=\"78.16\" text-anchor=\"middle\" style=\"font-size: 14.23px; font-family: &quot;Liberation Sans&quot;;\" textLength=\"88.15px\" lengthAdjust=\"spacingAndGlyphs\">ASTONISHED</text>\n<text x=\"152.90\" y=\"116.94\" text-anchor=\"middle\" style=\"font-size: 14.23px; font-family: &quot;Liberation Sans&quot;;\" textLength=\"47.72px\" lengthAdjust=\"spacingAndGlyphs\">SLEEPY</text>\n<text x=\"171.21\" y=\"36.63\" text-anchor=\"middle\" style=\"font-size: 14.23px; font-family: &quot;Liberation Sans&quot;;\" textLength=\"65.65px\" lengthAdjust=\"spacingAndGlyphs\">ALARMED</text>\n<text x=\"92.32\" y=\"37.46\" text-anchor=\"middle\" style=\"font-size: 14.23px; font-family: &quot;Liberation Sans&quot;;\" textLength=\"77.75px\" lengthAdjust=\"spacingAndGlyphs\">DISGUSTED</text>\n</g>\n<g clip-path=\"url(#cpMC4wMHw0MzIuMDB8MC4wMHw0MzIuMDA=)\">\n<polyline points=\"49.84,381.08 49.84,5.48 \" style=\"stroke-width: 2.56; stroke-linecap: butt;\"/>\n<text x=\"43.40\" y=\"371.36\" text-anchor=\"end\" style=\"font-size: 18.00px;fill: #151515; font-family: &quot;Noto Sans&quot;;\" textLength=\"16.09px\" lengthAdjust=\"spacingAndGlyphs\">-3</text>\n<text x=\"43.40\" y=\"284.25\" text-anchor=\"end\" style=\"font-size: 18.00px;fill: #151515; font-family: &quot;Noto Sans&quot;;\" textLength=\"16.09px\" lengthAdjust=\"spacingAndGlyphs\">-2</text>\n<text x=\"43.40\" y=\"197.14\" text-anchor=\"end\" style=\"font-size: 18.00px;fill: #151515; font-family: &quot;Noto Sans&quot;;\" textLength=\"16.09px\" lengthAdjust=\"spacingAndGlyphs\">-1</text>\n<text x=\"43.40\" y=\"110.04\" text-anchor=\"end\" style=\"font-size: 18.00px;fill: #151515; font-family: &quot;Noto Sans&quot;;\" textLength=\"10.30px\" lengthAdjust=\"spacingAndGlyphs\">0</text>\n<text x=\"43.40\" y=\"22.93\" text-anchor=\"end\" style=\"font-size: 18.00px;fill: #151515; font-family: &quot;Noto Sans&quot;;\" textLength=\"10.30px\" lengthAdjust=\"spacingAndGlyphs\">1</text>\n<polyline points=\"45.59,364.93 49.84,364.93 \" style=\"stroke-width: 1.07; stroke: #151515; stroke-linecap: butt;\"/>\n<polyline points=\"45.59,277.82 49.84,277.82 \" style=\"stroke-width: 1.07; stroke: #151515; stroke-linecap: butt;\"/>\n<polyline points=\"45.59,190.72 49.84,190.72 \" style=\"stroke-width: 1.07; stroke: #151515; stroke-linecap: butt;\"/>\n<polyline points=\"45.59,103.61 49.84,103.61 \" style=\"stroke-width: 1.07; stroke: #151515; stroke-linecap: butt;\"/>\n<polyline points=\"45.59,16.50 49.84,16.50 \" style=\"stroke-width: 1.07; stroke: #151515; stroke-linecap: butt;\"/>\n<polyline points=\"49.84,381.08 426.52,381.08 \" style=\"stroke-width: 2.56; stroke-linecap: butt;\"/>\n<polyline points=\"91.82,385.33 91.82,381.08 \" style=\"stroke-width: 1.07; stroke: #151515; stroke-linecap: butt;\"/>\n<polyline points=\"183.95,385.33 183.95,381.08 \" style=\"stroke-width: 1.07; stroke: #151515; stroke-linecap: butt;\"/>\n<polyline points=\"276.07,385.33 276.07,381.08 \" style=\"stroke-width: 1.07; stroke: #151515; stroke-linecap: butt;\"/>\n<polyline points=\"368.20,385.33 368.20,381.08 \" style=\"stroke-width: 1.07; stroke: #151515; stroke-linecap: butt;\"/>\n<text x=\"91.82\" y=\"400.37\" text-anchor=\"middle\" style=\"font-size: 18.00px;fill: #151515; font-family: &quot;Noto Sans&quot;;\" textLength=\"16.09px\" lengthAdjust=\"spacingAndGlyphs\">-1</text>\n<text x=\"183.95\" y=\"400.37\" text-anchor=\"middle\" style=\"font-size: 18.00px;fill: #151515; font-family: &quot;Noto Sans&quot;;\" textLength=\"10.30px\" lengthAdjust=\"spacingAndGlyphs\">0</text>\n<text x=\"276.07\" y=\"400.37\" text-anchor=\"middle\" style=\"font-size: 18.00px;fill: #151515; font-family: &quot;Noto Sans&quot;;\" textLength=\"10.30px\" lengthAdjust=\"spacingAndGlyphs\">1</text>\n<text x=\"368.20\" y=\"400.37\" text-anchor=\"middle\" style=\"font-size: 18.00px;fill: #151515; font-family: &quot;Noto Sans&quot;;\" textLength=\"10.30px\" lengthAdjust=\"spacingAndGlyphs\">2</text>\n<text x=\"238.18\" y=\"421.72\" text-anchor=\"middle\" style=\"font-size: 20.00px;fill: #151515; font-family: &quot;Noto Sans&quot;;\" textLength=\"72.91px\" lengthAdjust=\"spacingAndGlyphs\">Valence</text>\n<text transform=\"translate(19.76,193.28) rotate(-90)\" text-anchor=\"middle\" style=\"font-size: 20.00px;fill: #151515; font-family: &quot;Noto Sans&quot;;\" textLength=\"71.47px\" lengthAdjust=\"spacingAndGlyphs\">Arousal</text>\n</g>\n</svg>",
      "text/plain": [
       "<IPython.core.display.SVG object>"
      ]
     },
     "metadata": {},
     "output_type": "display_data"
    }
   ],
   "source": [
    "!./module_nlp/core/plots_it.R \"plot_emotions\"\n",
    "\n",
    "# Display svg images\n",
    "from IPython.display import SVG\n",
    "display(SVG(\"../figures/supp1B.svg\"))"
   ]
  },
  {
   "attachments": {},
   "cell_type": "markdown",
   "metadata": {},
   "source": [
    "## Figure supp1C-D\n",
    "### Compute coordinates in control geographic space"
   ]
  },
  {
   "cell_type": "code",
   "execution_count": 9,
   "metadata": {},
   "outputs": [],
   "source": [
    "_ = importlib.reload(fasttext_space)\n",
    "with open(\"./module_nlp/config/config_it.yml\") as f:\n",
    "    config = yaml.safe_load(f)\n",
    "\n",
    "df = fasttext_space.get_wheels(config['get_control_wheel'])"
   ]
  },
  {
   "attachments": {},
   "cell_type": "markdown",
   "metadata": {},
   "source": [
    "### Generate RDMs for control conditions"
   ]
  },
  {
   "cell_type": "code",
   "execution_count": 10,
   "metadata": {},
   "outputs": [],
   "source": [
    "_ = importlib.reload(fasttext_space)\n",
    "with open(\"./module_nlp/config/config_it.yml\") as f:\n",
    "    config = yaml.safe_load(f)\n",
    "\n",
    "fasttext_space.control_rdm(config['control_rdm'])"
   ]
  },
  {
   "attachments": {},
   "cell_type": "markdown",
   "metadata": {},
   "source": [
    "### Run correlation analysis for sighted participants"
   ]
  },
  {
   "cell_type": "code",
   "execution_count": null,
   "metadata": {},
   "outputs": [],
   "source": [
    "_ = importlib.reload(fasttext_space)\n",
    "with open(\"./module_nlp/config/config_it.yml\") as f:\n",
    "    config = yaml.safe_load(f)\n",
    "\n",
    "fasttext_space.osgood_rdm(config['rdm_difference'])"
   ]
  },
  {
   "attachments": {},
   "cell_type": "markdown",
   "metadata": {},
   "source": [
    "## Figures supp1E-F"
   ]
  },
  {
   "cell_type": "code",
   "execution_count": 2,
   "metadata": {},
   "outputs": [
    {
     "name": "stdout",
     "output_type": "stream",
     "text": [
      "\u001b[?25h\u001b[?25h\u001b[?25h\u001b[?25h\u001b[?25h\u001b[?25h\u001b[?25h\u001b[?25h\u001b[?25h\u001b[?25h\u001b[?25h\u001b[?25h\u001b[?25h\u001b[?25h\u001b[?25h\u001b[?25h\u001b[?25h\u001b[?25h\u001b[?25h\u001b[?25h\u001b[?25h\u001b[?25h\u001b[?25h\u001b[?25h\u001b[?25h\u001b[?25h\u001b[?25h\u001b[?25h"
     ]
    },
    {
     "data": {
      "image/svg+xml": "<svg xmlns=\"http://www.w3.org/2000/svg\" xmlns:xlink=\"http://www.w3.org/1999/xlink\" class=\"svglite\" width=\"432.00pt\" height=\"432.00pt\" viewBox=\"0 0 432.00 432.00\">\n<defs>\n  <style type=\"text/css\"><![CDATA[\n    .svglite line, .svglite polyline, .svglite polygon, .svglite path, .svglite rect, .svglite circle {\n      fill: none;\n      stroke: #000000;\n      stroke-linecap: round;\n      stroke-linejoin: round;\n      stroke-miterlimit: 10.00;\n    }\n    .svglite text {\n      white-space: pre;\n    }\n  ]]></style>\n</defs>\n<rect width=\"100%\" height=\"100%\" style=\"stroke: none; fill: #FFFFFF;\"/>\n<defs>\n  <clipPath id=\"cpMC4wMHw0MzIuMDB8MC4wMHw0MzIuMDA=\">\n    <rect x=\"0.00\" y=\"0.00\" width=\"432.00\" height=\"432.00\"/>\n  </clipPath>\n</defs>\n<g clip-path=\"url(#cpMC4wMHw0MzIuMDB8MC4wMHw0MzIuMDA=)\">\n<rect x=\"0.00\" y=\"0.000000000000057\" width=\"432.00\" height=\"432.00\" style=\"stroke-width: 1.07; stroke: #FFFFFF; fill: #FFFFFF;\"/>\n</g>\n<defs>\n  <clipPath id=\"cpNzUuMjZ8Mjk0LjkwfDUuNDh8MzM5LjE5\">\n    <rect x=\"75.26\" y=\"5.48\" width=\"219.64\" height=\"333.71\"/>\n  </clipPath>\n</defs>\n<g clip-path=\"url(#cpNzUuMjZ8Mjk0LjkwfDUuNDh8MzM5LjE5)\">\n<rect x=\"75.26\" y=\"5.48\" width=\"219.64\" height=\"333.71\" style=\"stroke-width: 1.07; stroke: none; fill: #FFFFFF;\"/>\n<polyline points=\"75.26,303.33 294.90,303.33 \" style=\"stroke-width: 0.53; stroke: #FFFFFF; stroke-linecap: butt;\"/>\n<polyline points=\"75.26,234.39 294.90,234.39 \" style=\"stroke-width: 0.53; stroke: #FFFFFF; stroke-linecap: butt;\"/>\n<polyline points=\"75.26,165.44 294.90,165.44 \" style=\"stroke-width: 0.53; stroke: #FFFFFF; stroke-linecap: butt;\"/>\n<polyline points=\"75.26,96.49 294.90,96.49 \" style=\"stroke-width: 0.53; stroke: #FFFFFF; stroke-linecap: butt;\"/>\n<polyline points=\"75.26,27.54 294.90,27.54 \" style=\"stroke-width: 0.53; stroke: #FFFFFF; stroke-linecap: butt;\"/>\n<polyline points=\"75.26,337.81 294.90,337.81 \" style=\"stroke-width: 1.07; stroke: #FFFFFF; stroke-linecap: butt;\"/>\n<polyline points=\"75.26,268.86 294.90,268.86 \" style=\"stroke-width: 1.07; stroke: #FFFFFF; stroke-linecap: butt;\"/>\n<polyline points=\"75.26,199.91 294.90,199.91 \" style=\"stroke-width: 1.07; stroke: #FFFFFF; stroke-linecap: butt;\"/>\n<polyline points=\"75.26,130.96 294.90,130.96 \" style=\"stroke-width: 1.07; stroke: #FFFFFF; stroke-linecap: butt;\"/>\n<polyline points=\"75.26,62.02 294.90,62.02 \" style=\"stroke-width: 1.07; stroke: #FFFFFF; stroke-linecap: butt;\"/>\n<polyline points=\"106.64,339.19 106.64,5.48 \" style=\"stroke-width: 1.07; stroke: #FFFFFF; stroke-linecap: butt;\"/>\n<polyline points=\"158.93,339.19 158.93,5.48 \" style=\"stroke-width: 1.07; stroke: #FFFFFF; stroke-linecap: butt;\"/>\n<polyline points=\"211.22,339.19 211.22,5.48 \" style=\"stroke-width: 1.07; stroke: #FFFFFF; stroke-linecap: butt;\"/>\n<polyline points=\"263.52,339.19 263.52,5.48 \" style=\"stroke-width: 1.07; stroke: #FFFFFF; stroke-linecap: butt;\"/>\n<rect x=\"83.10\" y=\"212.72\" width=\"47.07\" height=\"56.14\" style=\"stroke-width: 1.07; stroke: none; stroke-linecap: butt; stroke-linejoin: miter; fill: #89DCEB;\"/>\n<rect x=\"135.40\" y=\"268.86\" width=\"47.07\" height=\"3.94\" style=\"stroke-width: 1.07; stroke: none; stroke-linecap: butt; stroke-linejoin: miter; fill: #74C7EC;\"/>\n<rect x=\"187.69\" y=\"221.58\" width=\"47.07\" height=\"47.28\" style=\"stroke-width: 1.07; stroke: none; stroke-linecap: butt; stroke-linejoin: miter; fill: #89B4FA;\"/>\n<rect x=\"239.99\" y=\"171.35\" width=\"47.07\" height=\"97.51\" style=\"stroke-width: 1.07; stroke: none; stroke-linecap: butt; stroke-linejoin: miter; fill: #B4BEFE;\"/>\n<text x=\"132.78\" y=\"90.36\" text-anchor=\"middle\" style=\"font-size: 11.38px; font-family: &quot;Liberation Sans&quot;;\" textLength=\"42.00px\" lengthAdjust=\"spacingAndGlyphs\">p = 0.56</text>\n<line x1=\"158.93\" y1=\"97.76\" x2=\"158.93\" y2=\"97.76\" style=\"stroke-width: 1.07;\"/>\n<line x1=\"158.93\" y1=\"97.76\" x2=\"106.64\" y2=\"97.76\" style=\"stroke-width: 1.07;\"/>\n<line x1=\"106.64\" y1=\"97.76\" x2=\"106.64\" y2=\"97.76\" style=\"stroke-width: 1.07;\"/>\n<text x=\"158.93\" y=\"71.05\" text-anchor=\"middle\" style=\"font-size: 11.38px; font-family: &quot;Liberation Sans&quot;;\" textLength=\"48.51px\" lengthAdjust=\"spacingAndGlyphs\">p = 0.926</text>\n<line x1=\"211.22\" y1=\"78.46\" x2=\"211.22\" y2=\"78.46\" style=\"stroke-width: 1.07;\"/>\n<line x1=\"211.22\" y1=\"78.46\" x2=\"106.64\" y2=\"78.46\" style=\"stroke-width: 1.07;\"/>\n<line x1=\"106.64\" y1=\"78.46\" x2=\"106.64\" y2=\"78.46\" style=\"stroke-width: 1.07;\"/>\n<text x=\"185.08\" y=\"51.75\" text-anchor=\"middle\" style=\"font-size: 11.38px; font-family: &quot;Liberation Sans&quot;;\" textLength=\"48.51px\" lengthAdjust=\"spacingAndGlyphs\">p = 0.692</text>\n<line x1=\"263.52\" y1=\"59.15\" x2=\"263.52\" y2=\"59.15\" style=\"stroke-width: 1.07;\"/>\n<line x1=\"263.52\" y1=\"59.15\" x2=\"106.64\" y2=\"59.15\" style=\"stroke-width: 1.07;\"/>\n<line x1=\"106.64\" y1=\"59.15\" x2=\"106.64\" y2=\"59.15\" style=\"stroke-width: 1.07;\"/>\n</g>\n<g clip-path=\"url(#cpMC4wMHw0MzIuMDB8MC4wMHw0MzIuMDA=)\">\n<polyline points=\"75.26,339.19 75.26,5.48 \" style=\"stroke-width: 2.56; stroke-linecap: butt;\"/>\n<text x=\"68.81\" y=\"344.23\" text-anchor=\"end\" style=\"font-size: 18.00px;fill: #151515; font-family: &quot;Noto Sans&quot;;\" textLength=\"41.51px\" lengthAdjust=\"spacingAndGlyphs\">-0.25</text>\n<text x=\"68.81\" y=\"275.29\" text-anchor=\"end\" style=\"font-size: 18.00px;fill: #151515; font-family: &quot;Noto Sans&quot;;\" textLength=\"35.71px\" lengthAdjust=\"spacingAndGlyphs\">0.00</text>\n<text x=\"68.81\" y=\"206.34\" text-anchor=\"end\" style=\"font-size: 18.00px;fill: #151515; font-family: &quot;Noto Sans&quot;;\" textLength=\"35.71px\" lengthAdjust=\"spacingAndGlyphs\">0.25</text>\n<text x=\"68.81\" y=\"137.39\" text-anchor=\"end\" style=\"font-size: 18.00px;fill: #151515; font-family: &quot;Noto Sans&quot;;\" textLength=\"35.71px\" lengthAdjust=\"spacingAndGlyphs\">0.50</text>\n<text x=\"68.81\" y=\"68.44\" text-anchor=\"end\" style=\"font-size: 18.00px;fill: #151515; font-family: &quot;Noto Sans&quot;;\" textLength=\"35.71px\" lengthAdjust=\"spacingAndGlyphs\">0.75</text>\n<polyline points=\"71.01,337.81 75.26,337.81 \" style=\"stroke-width: 1.07; stroke: #151515; stroke-linecap: butt;\"/>\n<polyline points=\"71.01,268.86 75.26,268.86 \" style=\"stroke-width: 1.07; stroke: #151515; stroke-linecap: butt;\"/>\n<polyline points=\"71.01,199.91 75.26,199.91 \" style=\"stroke-width: 1.07; stroke: #151515; stroke-linecap: butt;\"/>\n<polyline points=\"71.01,130.96 75.26,130.96 \" style=\"stroke-width: 1.07; stroke: #151515; stroke-linecap: butt;\"/>\n<polyline points=\"71.01,62.02 75.26,62.02 \" style=\"stroke-width: 1.07; stroke: #151515; stroke-linecap: butt;\"/>\n<polyline points=\"75.26,339.19 294.90,339.19 \" style=\"stroke-width: 2.56; stroke-linecap: butt;\"/>\n<polyline points=\"106.64,343.44 106.64,339.19 \" style=\"stroke-width: 1.07; stroke: #151515; stroke-linecap: butt;\"/>\n<polyline points=\"158.93,343.44 158.93,339.19 \" style=\"stroke-width: 1.07; stroke: #151515; stroke-linecap: butt;\"/>\n<polyline points=\"211.22,343.44 211.22,339.19 \" style=\"stroke-width: 1.07; stroke: #151515; stroke-linecap: butt;\"/>\n<polyline points=\"263.52,343.44 263.52,339.19 \" style=\"stroke-width: 1.07; stroke: #151515; stroke-linecap: butt;\"/>\n<text transform=\"translate(111.99,354.91) rotate(-30)\" text-anchor=\"end\" style=\"font-size: 15.00px;fill: #151515; font-family: &quot;Noto Sans&quot;;\" textLength=\"93.33px\" lengthAdjust=\"spacingAndGlyphs\">osgoodspace</text>\n<text transform=\"translate(164.29,354.91) rotate(-30)\" text-anchor=\"end\" style=\"font-size: 15.00px;fill: #151515; font-family: &quot;Noto Sans&quot;;\" textLength=\"53.40px\" lengthAdjust=\"spacingAndGlyphs\">fasttext</text>\n<text transform=\"translate(216.58,354.91) rotate(-30)\" text-anchor=\"end\" style=\"font-size: 15.00px;fill: #151515; font-family: &quot;Noto Sans&quot;;\" textLength=\"71.21px\" lengthAdjust=\"spacingAndGlyphs\">fasttext2d</text>\n<text transform=\"translate(268.88,354.91) rotate(-30)\" text-anchor=\"end\" style=\"font-size: 15.00px;fill: #151515; font-family: &quot;Noto Sans&quot;;\" textLength=\"90.58px\" lengthAdjust=\"spacingAndGlyphs\">controlspace</text>\n<text x=\"185.08\" y=\"421.72\" text-anchor=\"middle\" style=\"font-size: 20.00px;fill: #151515; font-family: &quot;Noto Sans&quot;;\" textLength=\"91.42px\" lengthAdjust=\"spacingAndGlyphs\">Condition</text>\n<text transform=\"translate(19.76,172.33) rotate(-90)\" text-anchor=\"middle\" style=\"font-size: 20.00px;fill: #151515; font-family: &quot;Noto Sans&quot;;\" textLength=\"110.17px\" lengthAdjust=\"spacingAndGlyphs\">Coefficients</text>\n<text x=\"311.33\" y=\"139.39\" style=\"font-size: 15.00px;fill: #151515; font-family: &quot;Noto Sans&quot;;\" textLength=\"109.71px\" lengthAdjust=\"spacingAndGlyphs\">rho-coefficients</text>\n<rect x=\"312.04\" y=\"149.37\" width=\"15.86\" height=\"15.86\" style=\"stroke-width: 1.07; stroke: none; stroke-linecap: butt; stroke-linejoin: miter; fill: #89DCEB;\"/>\n<rect x=\"312.04\" y=\"166.65\" width=\"15.86\" height=\"15.86\" style=\"stroke-width: 1.07; stroke: none; stroke-linecap: butt; stroke-linejoin: miter; fill: #74C7EC;\"/>\n<rect x=\"312.04\" y=\"183.93\" width=\"15.86\" height=\"15.86\" style=\"stroke-width: 1.07; stroke: none; stroke-linecap: butt; stroke-linejoin: miter; fill: #89B4FA;\"/>\n<rect x=\"312.04\" y=\"201.21\" width=\"15.86\" height=\"15.86\" style=\"stroke-width: 1.07; stroke: none; stroke-linecap: butt; stroke-linejoin: miter; fill: #B4BEFE;\"/>\n<text x=\"336.09\" y=\"162.66\" style=\"font-size: 15.00px;fill: #151515; font-family: &quot;Noto Sans&quot;;\" textLength=\"38.35px\" lengthAdjust=\"spacingAndGlyphs\">0.204</text>\n<text x=\"336.09\" y=\"179.94\" style=\"font-size: 15.00px;fill: #151515; font-family: &quot;Noto Sans&quot;;\" textLength=\"43.18px\" lengthAdjust=\"spacingAndGlyphs\">-0.014</text>\n<text x=\"336.09\" y=\"197.22\" style=\"font-size: 15.00px;fill: #151515; font-family: &quot;Noto Sans&quot;;\" textLength=\"38.35px\" lengthAdjust=\"spacingAndGlyphs\">0.171</text>\n<text x=\"336.09\" y=\"214.50\" style=\"font-size: 15.00px;fill: #151515; font-family: &quot;Noto Sans&quot;;\" textLength=\"38.35px\" lengthAdjust=\"spacingAndGlyphs\">0.354</text>\n</g>\n</svg>",
      "text/plain": [
       "<IPython.core.display.SVG object>"
      ]
     },
     "metadata": {},
     "output_type": "display_data"
    },
    {
     "data": {
      "image/svg+xml": "<svg xmlns=\"http://www.w3.org/2000/svg\" xmlns:xlink=\"http://www.w3.org/1999/xlink\" class=\"svglite\" width=\"432.00pt\" height=\"432.00pt\" viewBox=\"0 0 432.00 432.00\">\n<defs>\n  <style type=\"text/css\"><![CDATA[\n    .svglite line, .svglite polyline, .svglite polygon, .svglite path, .svglite rect, .svglite circle {\n      fill: none;\n      stroke: #000000;\n      stroke-linecap: round;\n      stroke-linejoin: round;\n      stroke-miterlimit: 10.00;\n    }\n    .svglite text {\n      white-space: pre;\n    }\n  ]]></style>\n</defs>\n<rect width=\"100%\" height=\"100%\" style=\"stroke: none; fill: #FFFFFF;\"/>\n<defs>\n  <clipPath id=\"cpMC4wMHw0MzIuMDB8MC4wMHw0MzIuMDA=\">\n    <rect x=\"0.00\" y=\"0.00\" width=\"432.00\" height=\"432.00\"/>\n  </clipPath>\n</defs>\n<g clip-path=\"url(#cpMC4wMHw0MzIuMDB8MC4wMHw0MzIuMDA=)\">\n<rect x=\"0.00\" y=\"0.000000000000057\" width=\"432.00\" height=\"432.00\" style=\"stroke-width: 1.07; stroke: #FFFFFF; fill: #FFFFFF;\"/>\n</g>\n<defs>\n  <clipPath id=\"cpNjkuNDZ8Mjk0LjkwfDUuNDh8MzM5LjE5\">\n    <rect x=\"69.46\" y=\"5.48\" width=\"225.43\" height=\"333.71\"/>\n  </clipPath>\n</defs>\n<g clip-path=\"url(#cpNjkuNDZ8Mjk0LjkwfDUuNDh8MzM5LjE5)\">\n<rect x=\"69.46\" y=\"5.48\" width=\"225.43\" height=\"333.71\" style=\"stroke-width: 1.07; stroke: none; fill: #FFFFFF;\"/>\n<polyline points=\"69.46,331.60 294.90,331.60 \" style=\"stroke-width: 0.53; stroke: #FFFFFF; stroke-linecap: butt;\"/>\n<polyline points=\"69.46,255.76 294.90,255.76 \" style=\"stroke-width: 0.53; stroke: #FFFFFF; stroke-linecap: butt;\"/>\n<polyline points=\"69.46,179.92 294.90,179.92 \" style=\"stroke-width: 0.53; stroke: #FFFFFF; stroke-linecap: butt;\"/>\n<polyline points=\"69.46,104.07 294.90,104.07 \" style=\"stroke-width: 0.53; stroke: #FFFFFF; stroke-linecap: butt;\"/>\n<polyline points=\"69.46,28.23 294.90,28.23 \" style=\"stroke-width: 0.53; stroke: #FFFFFF; stroke-linecap: butt;\"/>\n<polyline points=\"69.46,293.68 294.90,293.68 \" style=\"stroke-width: 1.07; stroke: #FFFFFF; stroke-linecap: butt;\"/>\n<polyline points=\"69.46,217.84 294.90,217.84 \" style=\"stroke-width: 1.07; stroke: #FFFFFF; stroke-linecap: butt;\"/>\n<polyline points=\"69.46,142.00 294.90,142.00 \" style=\"stroke-width: 1.07; stroke: #FFFFFF; stroke-linecap: butt;\"/>\n<polyline points=\"69.46,66.15 294.90,66.15 \" style=\"stroke-width: 1.07; stroke: #FFFFFF; stroke-linecap: butt;\"/>\n<polyline points=\"101.67,339.19 101.67,5.48 \" style=\"stroke-width: 1.07; stroke: #FFFFFF; stroke-linecap: butt;\"/>\n<polyline points=\"155.34,339.19 155.34,5.48 \" style=\"stroke-width: 1.07; stroke: #FFFFFF; stroke-linecap: butt;\"/>\n<polyline points=\"209.02,339.19 209.02,5.48 \" style=\"stroke-width: 1.07; stroke: #FFFFFF; stroke-linecap: butt;\"/>\n<polyline points=\"262.69,339.19 262.69,5.48 \" style=\"stroke-width: 1.07; stroke: #FFFFFF; stroke-linecap: butt;\"/>\n<rect x=\"77.51\" y=\"156.45\" width=\"48.31\" height=\"137.23\" style=\"stroke-width: 1.07; stroke: none; stroke-linecap: butt; stroke-linejoin: miter; fill: #89DCEB;\"/>\n<rect x=\"131.19\" y=\"135.70\" width=\"48.31\" height=\"157.98\" style=\"stroke-width: 1.07; stroke: none; stroke-linecap: butt; stroke-linejoin: miter; fill: #74C7EC;\"/>\n<rect x=\"184.86\" y=\"259.82\" width=\"48.31\" height=\"33.86\" style=\"stroke-width: 1.07; stroke: none; stroke-linecap: butt; stroke-linejoin: miter; fill: #89B4FA;\"/>\n<rect x=\"238.54\" y=\"256.60\" width=\"48.31\" height=\"37.08\" style=\"stroke-width: 1.07; stroke: none; stroke-linecap: butt; stroke-linejoin: miter; fill: #B4BEFE;\"/>\n<text x=\"101.67\" y=\"156.48\" text-anchor=\"middle\" style=\"font-size: 17.07px; font-family: &quot;Liberation Sans&quot;;\" textLength=\"37.61px\" lengthAdjust=\"spacingAndGlyphs\">****</text>\n<text x=\"155.34\" y=\"135.73\" text-anchor=\"middle\" style=\"font-size: 17.07px; font-family: &quot;Liberation Sans&quot;;\" textLength=\"37.61px\" lengthAdjust=\"spacingAndGlyphs\">****</text>\n<text x=\"128.50\" y=\"97.75\" text-anchor=\"middle\" style=\"font-size: 11.38px; font-family: &quot;Liberation Sans&quot;;\" textLength=\"48.51px\" lengthAdjust=\"spacingAndGlyphs\">p = 0.553</text>\n<line x1=\"155.34\" y1=\"105.15\" x2=\"155.34\" y2=\"105.15\" style=\"stroke-width: 1.07;\"/>\n<line x1=\"155.34\" y1=\"105.15\" x2=\"101.67\" y2=\"105.15\" style=\"stroke-width: 1.07;\"/>\n<line x1=\"101.67\" y1=\"105.15\" x2=\"101.67\" y2=\"105.15\" style=\"stroke-width: 1.07;\"/>\n<text x=\"155.34\" y=\"76.51\" text-anchor=\"middle\" style=\"font-size: 11.38px; font-family: &quot;Liberation Sans&quot;;\" textLength=\"48.51px\" lengthAdjust=\"spacingAndGlyphs\">p = 0.003</text>\n<line x1=\"209.02\" y1=\"83.91\" x2=\"209.02\" y2=\"83.91\" style=\"stroke-width: 1.07;\"/>\n<line x1=\"209.02\" y1=\"83.91\" x2=\"101.67\" y2=\"83.91\" style=\"stroke-width: 1.07;\"/>\n<line x1=\"101.67\" y1=\"83.91\" x2=\"101.67\" y2=\"83.91\" style=\"stroke-width: 1.07;\"/>\n<text x=\"182.18\" y=\"55.28\" text-anchor=\"middle\" style=\"font-size: 11.38px; font-family: &quot;Liberation Sans&quot;;\" textLength=\"48.51px\" lengthAdjust=\"spacingAndGlyphs\">p = 0.004</text>\n<line x1=\"262.69\" y1=\"62.68\" x2=\"262.69\" y2=\"62.68\" style=\"stroke-width: 1.07;\"/>\n<line x1=\"262.69\" y1=\"62.68\" x2=\"101.67\" y2=\"62.68\" style=\"stroke-width: 1.07;\"/>\n<line x1=\"101.67\" y1=\"62.68\" x2=\"101.67\" y2=\"62.68\" style=\"stroke-width: 1.07;\"/>\n</g>\n<g clip-path=\"url(#cpMC4wMHw0MzIuMDB8MC4wMHw0MzIuMDA=)\">\n<polyline points=\"69.46,339.19 69.46,5.48 \" style=\"stroke-width: 2.56; stroke-linecap: butt;\"/>\n<text x=\"63.02\" y=\"300.11\" text-anchor=\"end\" style=\"font-size: 18.00px;fill: #151515; font-family: &quot;Noto Sans&quot;;\" textLength=\"35.71px\" lengthAdjust=\"spacingAndGlyphs\">0.00</text>\n<text x=\"63.02\" y=\"224.26\" text-anchor=\"end\" style=\"font-size: 18.00px;fill: #151515; font-family: &quot;Noto Sans&quot;;\" textLength=\"35.71px\" lengthAdjust=\"spacingAndGlyphs\">0.25</text>\n<text x=\"63.02\" y=\"148.42\" text-anchor=\"end\" style=\"font-size: 18.00px;fill: #151515; font-family: &quot;Noto Sans&quot;;\" textLength=\"35.71px\" lengthAdjust=\"spacingAndGlyphs\">0.50</text>\n<text x=\"63.02\" y=\"72.58\" text-anchor=\"end\" style=\"font-size: 18.00px;fill: #151515; font-family: &quot;Noto Sans&quot;;\" textLength=\"35.71px\" lengthAdjust=\"spacingAndGlyphs\">0.75</text>\n<polyline points=\"65.21,293.68 69.46,293.68 \" style=\"stroke-width: 1.07; stroke: #151515; stroke-linecap: butt;\"/>\n<polyline points=\"65.21,217.84 69.46,217.84 \" style=\"stroke-width: 1.07; stroke: #151515; stroke-linecap: butt;\"/>\n<polyline points=\"65.21,142.00 69.46,142.00 \" style=\"stroke-width: 1.07; stroke: #151515; stroke-linecap: butt;\"/>\n<polyline points=\"65.21,66.15 69.46,66.15 \" style=\"stroke-width: 1.07; stroke: #151515; stroke-linecap: butt;\"/>\n<polyline points=\"69.46,339.19 294.90,339.19 \" style=\"stroke-width: 2.56; stroke-linecap: butt;\"/>\n<polyline points=\"101.67,343.44 101.67,339.19 \" style=\"stroke-width: 1.07; stroke: #151515; stroke-linecap: butt;\"/>\n<polyline points=\"155.34,343.44 155.34,339.19 \" style=\"stroke-width: 1.07; stroke: #151515; stroke-linecap: butt;\"/>\n<polyline points=\"209.02,343.44 209.02,339.19 \" style=\"stroke-width: 1.07; stroke: #151515; stroke-linecap: butt;\"/>\n<polyline points=\"262.69,343.44 262.69,339.19 \" style=\"stroke-width: 1.07; stroke: #151515; stroke-linecap: butt;\"/>\n<text transform=\"translate(107.02,354.91) rotate(-30)\" text-anchor=\"end\" style=\"font-size: 15.00px;fill: #151515; font-family: &quot;Noto Sans&quot;;\" textLength=\"93.33px\" lengthAdjust=\"spacingAndGlyphs\">osgoodspace</text>\n<text transform=\"translate(160.70,354.91) rotate(-30)\" text-anchor=\"end\" style=\"font-size: 15.00px;fill: #151515; font-family: &quot;Noto Sans&quot;;\" textLength=\"53.40px\" lengthAdjust=\"spacingAndGlyphs\">fasttext</text>\n<text transform=\"translate(214.37,354.91) rotate(-30)\" text-anchor=\"end\" style=\"font-size: 15.00px;fill: #151515; font-family: &quot;Noto Sans&quot;;\" textLength=\"71.21px\" lengthAdjust=\"spacingAndGlyphs\">fasttext2d</text>\n<text transform=\"translate(268.05,354.91) rotate(-30)\" text-anchor=\"end\" style=\"font-size: 15.00px;fill: #151515; font-family: &quot;Noto Sans&quot;;\" textLength=\"90.58px\" lengthAdjust=\"spacingAndGlyphs\">controlspace</text>\n<text x=\"182.18\" y=\"421.72\" text-anchor=\"middle\" style=\"font-size: 20.00px;fill: #151515; font-family: &quot;Noto Sans&quot;;\" textLength=\"91.42px\" lengthAdjust=\"spacingAndGlyphs\">Condition</text>\n<text transform=\"translate(19.76,172.33) rotate(-90)\" text-anchor=\"middle\" style=\"font-size: 20.00px;fill: #151515; font-family: &quot;Noto Sans&quot;;\" textLength=\"110.17px\" lengthAdjust=\"spacingAndGlyphs\">Coefficients</text>\n<text x=\"311.33\" y=\"139.39\" style=\"font-size: 15.00px;fill: #151515; font-family: &quot;Noto Sans&quot;;\" textLength=\"109.71px\" lengthAdjust=\"spacingAndGlyphs\">rho-coefficients</text>\n<rect x=\"312.04\" y=\"149.37\" width=\"15.86\" height=\"15.86\" style=\"stroke-width: 1.07; stroke: none; stroke-linecap: butt; stroke-linejoin: miter; fill: #89DCEB;\"/>\n<rect x=\"312.04\" y=\"166.65\" width=\"15.86\" height=\"15.86\" style=\"stroke-width: 1.07; stroke: none; stroke-linecap: butt; stroke-linejoin: miter; fill: #74C7EC;\"/>\n<rect x=\"312.04\" y=\"183.93\" width=\"15.86\" height=\"15.86\" style=\"stroke-width: 1.07; stroke: none; stroke-linecap: butt; stroke-linejoin: miter; fill: #89B4FA;\"/>\n<rect x=\"312.04\" y=\"201.21\" width=\"15.86\" height=\"15.86\" style=\"stroke-width: 1.07; stroke: none; stroke-linecap: butt; stroke-linejoin: miter; fill: #B4BEFE;\"/>\n<text x=\"336.09\" y=\"162.66\" style=\"font-size: 15.00px;fill: #151515; font-family: &quot;Noto Sans&quot;;\" textLength=\"38.35px\" lengthAdjust=\"spacingAndGlyphs\">0.452</text>\n<text x=\"336.09\" y=\"179.94\" style=\"font-size: 15.00px;fill: #151515; font-family: &quot;Noto Sans&quot;;\" textLength=\"38.35px\" lengthAdjust=\"spacingAndGlyphs\">0.521</text>\n<text x=\"336.09\" y=\"197.22\" style=\"font-size: 15.00px;fill: #151515; font-family: &quot;Noto Sans&quot;;\" textLength=\"38.35px\" lengthAdjust=\"spacingAndGlyphs\">0.112</text>\n<text x=\"336.09\" y=\"214.50\" style=\"font-size: 15.00px;fill: #151515; font-family: &quot;Noto Sans&quot;;\" textLength=\"38.35px\" lengthAdjust=\"spacingAndGlyphs\">0.122</text>\n</g>\n</svg>",
      "text/plain": [
       "<IPython.core.display.SVG object>"
      ]
     },
     "metadata": {},
     "output_type": "display_data"
    }
   ],
   "source": [
    "!./module_nlp/core/plots_it.R \"rdm_osgood_col\"\n",
    "!./module_nlp/core/plots_it.R \"rdm_osgood_em\"\n",
    "\n",
    "# Display svg images\n",
    "from IPython.display import SVG\n",
    "display(SVG(\"../figures/supp1C.svg\"))\n",
    "display(SVG(\"../figures/supp1D.svg\"))"
   ]
  },
  {
   "attachments": {},
   "cell_type": "markdown",
   "metadata": {},
   "source": [
    "## Figure supp1E"
   ]
  },
  {
   "cell_type": "code",
   "execution_count": 4,
   "metadata": {},
   "outputs": [
    {
     "name": "stdout",
     "output_type": "stream",
     "text": [
      "\u001b[?25h\u001b[?25h\u001b[?25h\u001b[?25h\u001b[?25h\u001b[?25h\u001b[?25h\u001b[?25h\u001b[?25h\u001b[?25h\u001b[?25h\u001b[?25h\u001b[?25h\u001b[?25h"
     ]
    },
    {
     "data": {
      "image/svg+xml": "<svg xmlns=\"http://www.w3.org/2000/svg\" xmlns:xlink=\"http://www.w3.org/1999/xlink\" class=\"svglite\" width=\"432.00pt\" height=\"432.00pt\" viewBox=\"0 0 432.00 432.00\">\n<defs>\n  <style type=\"text/css\"><![CDATA[\n    .svglite line, .svglite polyline, .svglite polygon, .svglite path, .svglite rect, .svglite circle {\n      fill: none;\n      stroke: #000000;\n      stroke-linecap: round;\n      stroke-linejoin: round;\n      stroke-miterlimit: 10.00;\n    }\n    .svglite text {\n      white-space: pre;\n    }\n  ]]></style>\n</defs>\n<rect width=\"100%\" height=\"100%\" style=\"stroke: none; fill: #FFFFFF;\"/>\n<defs>\n  <clipPath id=\"cpMC4wMHw0MzIuMDB8MC4wMHw0MzIuMDA=\">\n    <rect x=\"0.00\" y=\"0.00\" width=\"432.00\" height=\"432.00\"/>\n  </clipPath>\n</defs>\n<g clip-path=\"url(#cpMC4wMHw0MzIuMDB8MC4wMHw0MzIuMDA=)\">\n<rect x=\"0.000000000000032\" y=\"0.00\" width=\"432.00\" height=\"432.00\" style=\"stroke-width: 1.07; stroke: #FFFFFF; fill: #FFFFFF;\"/>\n</g>\n<defs>\n  <clipPath id=\"cpNDkuODR8NDI2LjUyfDUuNDh8MzgxLjA4\">\n    <rect x=\"49.84\" y=\"5.48\" width=\"376.68\" height=\"375.60\"/>\n  </clipPath>\n</defs>\n<g clip-path=\"url(#cpNDkuODR8NDI2LjUyfDUuNDh8MzgxLjA4)\">\n<rect x=\"49.84\" y=\"5.48\" width=\"376.68\" height=\"375.60\" style=\"stroke-width: 1.07; stroke: none; fill: #FFFFFF;\"/>\n<polyline points=\"49.84,322.52 426.52,322.52 \" style=\"stroke-width: 0.53; stroke: #FFFFFF; stroke-linecap: butt;\"/>\n<polyline points=\"49.84,237.76 426.52,237.76 \" style=\"stroke-width: 0.53; stroke: #FFFFFF; stroke-linecap: butt;\"/>\n<polyline points=\"49.84,152.99 426.52,152.99 \" style=\"stroke-width: 0.53; stroke: #FFFFFF; stroke-linecap: butt;\"/>\n<polyline points=\"49.84,68.23 426.52,68.23 \" style=\"stroke-width: 0.53; stroke: #FFFFFF; stroke-linecap: butt;\"/>\n<polyline points=\"137.88,381.08 137.88,5.48 \" style=\"stroke-width: 0.53; stroke: #FFFFFF; stroke-linecap: butt;\"/>\n<polyline points=\"230.01,381.08 230.01,5.48 \" style=\"stroke-width: 0.53; stroke: #FFFFFF; stroke-linecap: butt;\"/>\n<polyline points=\"322.14,381.08 322.14,5.48 \" style=\"stroke-width: 0.53; stroke: #FFFFFF; stroke-linecap: butt;\"/>\n<polyline points=\"414.27,381.08 414.27,5.48 \" style=\"stroke-width: 0.53; stroke: #FFFFFF; stroke-linecap: butt;\"/>\n<polyline points=\"49.84,364.91 426.52,364.91 \" style=\"stroke-width: 1.07; stroke: #FFFFFF; stroke-linecap: butt;\"/>\n<polyline points=\"49.84,280.14 426.52,280.14 \" style=\"stroke-width: 1.07; stroke: #FFFFFF; stroke-linecap: butt;\"/>\n<polyline points=\"49.84,195.38 426.52,195.38 \" style=\"stroke-width: 1.07; stroke: #FFFFFF; stroke-linecap: butt;\"/>\n<polyline points=\"49.84,110.61 426.52,110.61 \" style=\"stroke-width: 1.07; stroke: #FFFFFF; stroke-linecap: butt;\"/>\n<polyline points=\"49.84,25.85 426.52,25.85 \" style=\"stroke-width: 1.07; stroke: #FFFFFF; stroke-linecap: butt;\"/>\n<polyline points=\"91.82,381.08 91.82,5.48 \" style=\"stroke-width: 1.07; stroke: #FFFFFF; stroke-linecap: butt;\"/>\n<polyline points=\"183.95,381.08 183.95,5.48 \" style=\"stroke-width: 1.07; stroke: #FFFFFF; stroke-linecap: butt;\"/>\n<polyline points=\"276.07,381.08 276.07,5.48 \" style=\"stroke-width: 1.07; stroke: #FFFFFF; stroke-linecap: butt;\"/>\n<polyline points=\"368.20,381.08 368.20,5.48 \" style=\"stroke-width: 1.07; stroke: #FFFFFF; stroke-linecap: butt;\"/>\n<circle cx=\"352.35\" cy=\"229.72\" r=\"5.19\" style=\"stroke-width: 0.71; stroke: #00FF00; fill: #00FF00;\"/>\n<circle cx=\"203.42\" cy=\"74.80\" r=\"5.19\" style=\"stroke-width: 0.71; stroke: #FFA500; fill: #FFA500;\"/>\n<circle cx=\"216.35\" cy=\"77.43\" r=\"5.19\" style=\"stroke-width: 0.71; stroke: #FFFF00; fill: #FFFF00;\"/>\n<circle cx=\"79.07\" cy=\"224.63\" r=\"5.19\" style=\"stroke-width: 0.71; stroke: #0000FF; fill: #0000FF;\"/>\n<circle cx=\"167.95\" cy=\"22.55\" r=\"5.19\" style=\"stroke-width: 0.71; stroke: #A020F0; fill: #A020F0;\"/>\n<circle cx=\"84.54\" cy=\"34.55\" r=\"5.19\" style=\"stroke-width: 0.71; stroke: #FF0000; fill: #FF0000;\"/>\n<circle cx=\"214.93\" cy=\"70.53\" r=\"5.19\" style=\"stroke-width: 0.71; stroke: #FFFF00; fill: #FFFF00;\"/>\n<circle cx=\"275.74\" cy=\"55.72\" r=\"5.19\" style=\"stroke-width: 0.71; stroke: #FFE400; fill: #FFE400;\"/>\n<circle cx=\"409.40\" cy=\"279.88\" r=\"5.19\" style=\"stroke-width: 0.71; stroke: #287200; fill: #287200;\"/>\n<circle cx=\"295.25\" cy=\"191.14\" r=\"5.19\" style=\"stroke-width: 0.71; stroke: #50A300; fill: #50A300;\"/>\n<circle cx=\"224.82\" cy=\"61.64\" r=\"5.19\" style=\"stroke-width: 0.71; stroke: #FFFF00; fill: #FFFF00;\"/>\n<circle cx=\"317.59\" cy=\"364.01\" r=\"5.19\" style=\"stroke-width: 0.71; stroke: #002729; fill: #002729;\"/>\n<circle cx=\"173.44\" cy=\"102.39\" r=\"5.19\" style=\"stroke-width: 0.71; stroke: #FFFF00; fill: #FFFF00;\"/>\n<circle cx=\"123.93\" cy=\"86.25\" r=\"5.19\" style=\"stroke-width: 0.71; stroke: #FF5E00; fill: #FF5E00;\"/>\n<circle cx=\"85.27\" cy=\"75.29\" r=\"5.19\" style=\"stroke-width: 0.71; stroke: #BA003A; fill: #BA003A;\"/>\n<circle cx=\"158.53\" cy=\"157.24\" r=\"5.19\" style=\"stroke-width: 0.71; stroke: #E5BC00; fill: #E5BC00;\"/>\n<circle cx=\"94.84\" cy=\"31.74\" r=\"5.19\" style=\"stroke-width: 0.71; stroke: #CF004F; fill: #CF004F;\"/>\n<circle cx=\"117.69\" cy=\"69.29\" r=\"5.19\" style=\"stroke-width: 0.71; stroke: #D20052; fill: #D20052;\"/>\n<circle cx=\"126.52\" cy=\"95.80\" r=\"5.19\" style=\"stroke-width: 0.71; stroke: #FF5E00; fill: #FF5E00;\"/>\n<circle cx=\"111.81\" cy=\"72.63\" r=\"5.19\" style=\"stroke-width: 0.71; stroke: #CA004B; fill: #CA004B;\"/>\n<circle cx=\"258.51\" cy=\"71.37\" r=\"5.19\" style=\"stroke-width: 0.71; stroke: #FFFF00; fill: #FFFF00;\"/>\n<circle cx=\"137.59\" cy=\"109.01\" r=\"5.19\" style=\"stroke-width: 0.71; stroke: #FFE400; fill: #FFE400;\"/>\n<circle cx=\"118.21\" cy=\"43.51\" r=\"5.19\" style=\"stroke-width: 0.71; stroke: #EB006B; fill: #EB006B;\"/>\n<circle cx=\"66.96\" cy=\"53.59\" r=\"5.19\" style=\"stroke-width: 0.71; stroke: #B60037; fill: #B60037;\"/>\n<text x=\"352.35\" y=\"230.08\" text-anchor=\"middle\" style=\"font-size: 0.00px; font-family: &quot;Liberation Sans&quot;;\" textLength=\"3.22px\" lengthAdjust=\"spacingAndGlyphs\">GREEN</text>\n<text x=\"203.42\" y=\"75.16\" text-anchor=\"middle\" style=\"font-size: 0.00px; font-family: &quot;Liberation Sans&quot;;\" textLength=\"4.08px\" lengthAdjust=\"spacingAndGlyphs\">ORANGE</text>\n<text x=\"216.35\" y=\"77.78\" text-anchor=\"middle\" style=\"font-size: 0.00px; font-family: &quot;Liberation Sans&quot;;\" textLength=\"3.88px\" lengthAdjust=\"spacingAndGlyphs\">YELLOW</text>\n<text x=\"79.07\" y=\"224.98\" text-anchor=\"middle\" style=\"font-size: 0.00px; font-family: &quot;Liberation Sans&quot;;\" textLength=\"2.46px\" lengthAdjust=\"spacingAndGlyphs\">BLUE</text>\n<text x=\"167.95\" y=\"22.91\" text-anchor=\"middle\" style=\"font-size: 0.00px; font-family: &quot;Liberation Sans&quot;;\" textLength=\"3.64px\" lengthAdjust=\"spacingAndGlyphs\">PURPLE</text>\n<text x=\"84.54\" y=\"34.91\" text-anchor=\"middle\" style=\"font-size: 0.00px; font-family: &quot;Liberation Sans&quot;;\" textLength=\"1.90px\" lengthAdjust=\"spacingAndGlyphs\">RED</text>\n<text x=\"214.93\" y=\"70.89\" text-anchor=\"middle\" style=\"font-size: 0.00px; font-family: &quot;Liberation Sans&quot;;\" textLength=\"5.29px\" lengthAdjust=\"spacingAndGlyphs\">SURPRISED</text>\n<text x=\"275.74\" y=\"56.08\" text-anchor=\"middle\" style=\"font-size: 0.00px; font-family: &quot;Liberation Sans&quot;;\" textLength=\"3.95px\" lengthAdjust=\"spacingAndGlyphs\">EXCITED</text>\n<text x=\"409.40\" y=\"280.23\" text-anchor=\"middle\" style=\"font-size: 0.00px; font-family: &quot;Liberation Sans&quot;;\" textLength=\"3.59px\" lengthAdjust=\"spacingAndGlyphs\">SERENE</text>\n<text x=\"295.25\" y=\"191.50\" text-anchor=\"middle\" style=\"font-size: 0.00px; font-family: &quot;Liberation Sans&quot;;\" textLength=\"3.16px\" lengthAdjust=\"spacingAndGlyphs\">HAPPY</text>\n<text x=\"224.82\" y=\"62.00\" text-anchor=\"middle\" style=\"font-size: 0.00px; font-family: &quot;Liberation Sans&quot;;\" textLength=\"4.77px\" lengthAdjust=\"spacingAndGlyphs\">SATISFIED</text>\n<text x=\"317.59\" y=\"364.36\" text-anchor=\"middle\" style=\"font-size: 0.00px; font-family: &quot;Liberation Sans&quot;;\" textLength=\"2.71px\" lengthAdjust=\"spacingAndGlyphs\">CALM</text>\n<text x=\"173.44\" y=\"102.74\" text-anchor=\"middle\" style=\"font-size: 0.00px; font-family: &quot;Liberation Sans&quot;;\" textLength=\"2.79px\" lengthAdjust=\"spacingAndGlyphs\">TIRED</text>\n<text x=\"123.93\" y=\"86.61\" text-anchor=\"middle\" style=\"font-size: 0.00px; font-family: &quot;Liberation Sans&quot;;\" textLength=\"3.33px\" lengthAdjust=\"spacingAndGlyphs\">BORED</text>\n<text x=\"85.27\" y=\"75.65\" text-anchor=\"middle\" style=\"font-size: 0.00px; font-family: &quot;Liberation Sans&quot;;\" textLength=\"5.44px\" lengthAdjust=\"spacingAndGlyphs\">DEPRESSED</text>\n<text x=\"158.53\" y=\"157.60\" text-anchor=\"middle\" style=\"font-size: 0.00px; font-family: &quot;Liberation Sans&quot;;\" textLength=\"1.92px\" lengthAdjust=\"spacingAndGlyphs\">SAD</text>\n<text x=\"94.84\" y=\"32.09\" text-anchor=\"middle\" style=\"font-size: 0.00px; font-family: &quot;Liberation Sans&quot;;\" textLength=\"6.07px\" lengthAdjust=\"spacingAndGlyphs\">FRUSTRATED</text>\n<text x=\"117.69\" y=\"69.65\" text-anchor=\"middle\" style=\"font-size: 0.00px; font-family: &quot;Liberation Sans&quot;;\" textLength=\"3.48px\" lengthAdjust=\"spacingAndGlyphs\">AFRAID</text>\n<text x=\"126.52\" y=\"96.15\" text-anchor=\"middle\" style=\"font-size: 0.00px; font-family: &quot;Liberation Sans&quot;;\" textLength=\"3.32px\" lengthAdjust=\"spacingAndGlyphs\">ANGRY</text>\n<text x=\"111.81\" y=\"72.99\" text-anchor=\"middle\" style=\"font-size: 0.00px; font-family: &quot;Liberation Sans&quot;;\" textLength=\"4.65px\" lengthAdjust=\"spacingAndGlyphs\">STRESSED</text>\n<text x=\"258.51\" y=\"71.73\" text-anchor=\"middle\" style=\"font-size: 0.00px; font-family: &quot;Liberation Sans&quot;;\" textLength=\"6.19px\" lengthAdjust=\"spacingAndGlyphs\">ASTONISHED</text>\n<text x=\"137.59\" y=\"109.37\" text-anchor=\"middle\" style=\"font-size: 0.00px; font-family: &quot;Liberation Sans&quot;;\" textLength=\"3.36px\" lengthAdjust=\"spacingAndGlyphs\">SLEEPY</text>\n<text x=\"118.21\" y=\"43.87\" text-anchor=\"middle\" style=\"font-size: 0.00px; font-family: &quot;Liberation Sans&quot;;\" textLength=\"4.62px\" lengthAdjust=\"spacingAndGlyphs\">ALARMED</text>\n<text x=\"66.96\" y=\"53.95\" text-anchor=\"middle\" style=\"font-size: 0.00px; font-family: &quot;Liberation Sans&quot;;\" textLength=\"5.46px\" lengthAdjust=\"spacingAndGlyphs\">DISGUSTED</text>\n<line x1=\"210.81\" y1=\"87.89\" x2=\"203.96\" y2=\"75.76\" style=\"stroke-width: 1.07;\"/>\n<line x1=\"246.82\" y1=\"97.84\" x2=\"217.27\" y2=\"78.04\" style=\"stroke-width: 1.07;\"/>\n<line x1=\"225.26\" y1=\"58.48\" x2=\"215.66\" y2=\"69.69\" style=\"stroke-width: 1.07;\"/>\n<line x1=\"241.74\" y1=\"41.04\" x2=\"225.52\" y2=\"60.79\" style=\"stroke-width: 1.07;\"/>\n<line x1=\"143.25\" y1=\"62.97\" x2=\"118.76\" y2=\"69.03\" style=\"stroke-width: 1.07;\"/>\n<line x1=\"145.76\" y1=\"32.89\" x2=\"119.25\" y2=\"43.11\" style=\"stroke-width: 1.07;\"/>\n<text x=\"362.19\" y=\"225.05\" text-anchor=\"middle\" style=\"font-size: 14.23px; font-family: &quot;Liberation Sans&quot;;\" textLength=\"45.81px\" lengthAdjust=\"spacingAndGlyphs\">GREEN</text>\n<text x=\"212.36\" y=\"99.85\" text-anchor=\"middle\" style=\"font-size: 14.23px; font-family: &quot;Liberation Sans&quot;;\" textLength=\"58.10px\" lengthAdjust=\"spacingAndGlyphs\">ORANGE</text>\n<text x=\"276.21\" y=\"103.56\" text-anchor=\"middle\" style=\"font-size: 14.23px; font-family: &quot;Liberation Sans&quot;;\" textLength=\"55.19px\" lengthAdjust=\"spacingAndGlyphs\">YELLOW</text>\n<text x=\"70.97\" y=\"239.51\" text-anchor=\"middle\" style=\"font-size: 14.23px; font-family: &quot;Liberation Sans&quot;;\" textLength=\"35.00px\" lengthAdjust=\"spacingAndGlyphs\">BLUE</text>\n<text x=\"198.54\" y=\"19.24\" text-anchor=\"middle\" style=\"font-size: 14.23px; font-family: &quot;Liberation Sans&quot;;\" textLength=\"51.80px\" lengthAdjust=\"spacingAndGlyphs\">PURPLE</text>\n<text x=\"67.01\" y=\"48.86\" text-anchor=\"middle\" style=\"font-size: 14.23px; font-family: &quot;Liberation Sans&quot;;\" textLength=\"27.13px\" lengthAdjust=\"spacingAndGlyphs\">RED</text>\n<text x=\"234.80\" y=\"56.68\" text-anchor=\"middle\" style=\"font-size: 14.23px; font-family: &quot;Liberation Sans&quot;;\" textLength=\"75.40px\" lengthAdjust=\"spacingAndGlyphs\">SURPRISED</text>\n<text x=\"308.53\" y=\"56.85\" text-anchor=\"middle\" style=\"font-size: 14.23px; font-family: &quot;Liberation Sans&quot;;\" textLength=\"56.23px\" lengthAdjust=\"spacingAndGlyphs\">EXCITED</text>\n<text x=\"379.19\" y=\"284.53\" text-anchor=\"middle\" style=\"font-size: 14.23px; font-family: &quot;Liberation Sans&quot;;\" textLength=\"51.17px\" lengthAdjust=\"spacingAndGlyphs\">SERENE</text>\n<text x=\"285.37\" y=\"206.04\" text-anchor=\"middle\" style=\"font-size: 14.23px; font-family: &quot;Liberation Sans&quot;;\" textLength=\"44.88px\" lengthAdjust=\"spacingAndGlyphs\">HAPPY</text>\n<text x=\"254.34\" y=\"39.24\" text-anchor=\"middle\" style=\"font-size: 14.23px; font-family: &quot;Liberation Sans&quot;;\" textLength=\"67.90px\" lengthAdjust=\"spacingAndGlyphs\">SATISFIED</text>\n<text x=\"293.70\" y=\"377.48\" text-anchor=\"middle\" style=\"font-size: 14.23px; font-family: &quot;Liberation Sans&quot;;\" textLength=\"38.42px\" lengthAdjust=\"spacingAndGlyphs\">CALM</text>\n<text x=\"187.69\" y=\"117.23\" text-anchor=\"middle\" style=\"font-size: 14.23px; font-family: &quot;Liberation Sans&quot;;\" textLength=\"39.85px\" lengthAdjust=\"spacingAndGlyphs\">TIRED</text>\n<text x=\"152.38\" y=\"85.22\" text-anchor=\"middle\" style=\"font-size: 14.23px; font-family: &quot;Liberation Sans&quot;;\" textLength=\"47.48px\" lengthAdjust=\"spacingAndGlyphs\">BORED</text>\n<text x=\"92.21\" y=\"67.97\" text-anchor=\"middle\" style=\"font-size: 14.23px; font-family: &quot;Liberation Sans&quot;;\" textLength=\"77.54px\" lengthAdjust=\"spacingAndGlyphs\">DEPRESSED</text>\n<text x=\"148.65\" y=\"172.19\" text-anchor=\"middle\" style=\"font-size: 14.23px; font-family: &quot;Liberation Sans&quot;;\" textLength=\"27.27px\" lengthAdjust=\"spacingAndGlyphs\">SAD</text>\n<text x=\"97.15\" y=\"26.80\" text-anchor=\"middle\" style=\"font-size: 14.23px; font-family: &quot;Liberation Sans&quot;;\" textLength=\"86.45px\" lengthAdjust=\"spacingAndGlyphs\">FRUSTRATED</text>\n<text x=\"169.85\" y=\"67.85\" text-anchor=\"middle\" style=\"font-size: 14.23px; font-family: &quot;Liberation Sans&quot;;\" textLength=\"49.59px\" lengthAdjust=\"spacingAndGlyphs\">AFRAID</text>\n<text x=\"98.29\" y=\"107.59\" text-anchor=\"middle\" style=\"font-size: 14.23px; font-family: &quot;Liberation Sans&quot;;\" textLength=\"47.14px\" lengthAdjust=\"spacingAndGlyphs\">ANGRY</text>\n<text x=\"86.62\" y=\"90.25\" text-anchor=\"middle\" style=\"font-size: 14.23px; font-family: &quot;Liberation Sans&quot;;\" textLength=\"66.36px\" lengthAdjust=\"spacingAndGlyphs\">STRESSED</text>\n<text x=\"294.86\" y=\"86.21\" text-anchor=\"middle\" style=\"font-size: 14.23px; font-family: &quot;Liberation Sans&quot;;\" textLength=\"88.15px\" lengthAdjust=\"spacingAndGlyphs\">ASTONISHED</text>\n<text x=\"136.73\" y=\"124.96\" text-anchor=\"middle\" style=\"font-size: 14.23px; font-family: &quot;Liberation Sans&quot;;\" textLength=\"47.72px\" lengthAdjust=\"spacingAndGlyphs\">SLEEPY</text>\n<text x=\"180.38\" y=\"37.54\" text-anchor=\"middle\" style=\"font-size: 14.23px; font-family: &quot;Liberation Sans&quot;;\" textLength=\"65.65px\" lengthAdjust=\"spacingAndGlyphs\">ALARMED</text>\n<text x=\"101.46\" y=\"50.53\" text-anchor=\"middle\" style=\"font-size: 14.23px; font-family: &quot;Liberation Sans&quot;;\" textLength=\"77.75px\" lengthAdjust=\"spacingAndGlyphs\">DISGUSTED</text>\n</g>\n<g clip-path=\"url(#cpMC4wMHw0MzIuMDB8MC4wMHw0MzIuMDA=)\">\n<polyline points=\"49.84,381.08 49.84,5.48 \" style=\"stroke-width: 2.56; stroke-linecap: butt;\"/>\n<text x=\"43.40\" y=\"371.33\" text-anchor=\"end\" style=\"font-size: 18.00px;fill: #151515; font-family: &quot;Noto Sans&quot;;\" textLength=\"16.09px\" lengthAdjust=\"spacingAndGlyphs\">-3</text>\n<text x=\"43.40\" y=\"286.57\" text-anchor=\"end\" style=\"font-size: 18.00px;fill: #151515; font-family: &quot;Noto Sans&quot;;\" textLength=\"16.09px\" lengthAdjust=\"spacingAndGlyphs\">-2</text>\n<text x=\"43.40\" y=\"201.80\" text-anchor=\"end\" style=\"font-size: 18.00px;fill: #151515; font-family: &quot;Noto Sans&quot;;\" textLength=\"16.09px\" lengthAdjust=\"spacingAndGlyphs\">-1</text>\n<text x=\"43.40\" y=\"117.04\" text-anchor=\"end\" style=\"font-size: 18.00px;fill: #151515; font-family: &quot;Noto Sans&quot;;\" textLength=\"10.30px\" lengthAdjust=\"spacingAndGlyphs\">0</text>\n<text x=\"43.40\" y=\"32.27\" text-anchor=\"end\" style=\"font-size: 18.00px;fill: #151515; font-family: &quot;Noto Sans&quot;;\" textLength=\"10.30px\" lengthAdjust=\"spacingAndGlyphs\">1</text>\n<polyline points=\"45.59,364.91 49.84,364.91 \" style=\"stroke-width: 1.07; stroke: #151515; stroke-linecap: butt;\"/>\n<polyline points=\"45.59,280.14 49.84,280.14 \" style=\"stroke-width: 1.07; stroke: #151515; stroke-linecap: butt;\"/>\n<polyline points=\"45.59,195.38 49.84,195.38 \" style=\"stroke-width: 1.07; stroke: #151515; stroke-linecap: butt;\"/>\n<polyline points=\"45.59,110.61 49.84,110.61 \" style=\"stroke-width: 1.07; stroke: #151515; stroke-linecap: butt;\"/>\n<polyline points=\"45.59,25.85 49.84,25.85 \" style=\"stroke-width: 1.07; stroke: #151515; stroke-linecap: butt;\"/>\n<polyline points=\"49.84,381.08 426.52,381.08 \" style=\"stroke-width: 2.56; stroke-linecap: butt;\"/>\n<polyline points=\"91.82,385.33 91.82,381.08 \" style=\"stroke-width: 1.07; stroke: #151515; stroke-linecap: butt;\"/>\n<polyline points=\"183.95,385.33 183.95,381.08 \" style=\"stroke-width: 1.07; stroke: #151515; stroke-linecap: butt;\"/>\n<polyline points=\"276.07,385.33 276.07,381.08 \" style=\"stroke-width: 1.07; stroke: #151515; stroke-linecap: butt;\"/>\n<polyline points=\"368.20,385.33 368.20,381.08 \" style=\"stroke-width: 1.07; stroke: #151515; stroke-linecap: butt;\"/>\n<text x=\"91.82\" y=\"400.37\" text-anchor=\"middle\" style=\"font-size: 18.00px;fill: #151515; font-family: &quot;Noto Sans&quot;;\" textLength=\"16.09px\" lengthAdjust=\"spacingAndGlyphs\">-1</text>\n<text x=\"183.95\" y=\"400.37\" text-anchor=\"middle\" style=\"font-size: 18.00px;fill: #151515; font-family: &quot;Noto Sans&quot;;\" textLength=\"10.30px\" lengthAdjust=\"spacingAndGlyphs\">0</text>\n<text x=\"276.07\" y=\"400.37\" text-anchor=\"middle\" style=\"font-size: 18.00px;fill: #151515; font-family: &quot;Noto Sans&quot;;\" textLength=\"10.30px\" lengthAdjust=\"spacingAndGlyphs\">1</text>\n<text x=\"368.20\" y=\"400.37\" text-anchor=\"middle\" style=\"font-size: 18.00px;fill: #151515; font-family: &quot;Noto Sans&quot;;\" textLength=\"10.30px\" lengthAdjust=\"spacingAndGlyphs\">2</text>\n<text x=\"238.18\" y=\"421.72\" text-anchor=\"middle\" style=\"font-size: 20.00px;fill: #151515; font-family: &quot;Noto Sans&quot;;\" textLength=\"72.91px\" lengthAdjust=\"spacingAndGlyphs\">Valence</text>\n<text transform=\"translate(19.76,193.28) rotate(-90)\" text-anchor=\"middle\" style=\"font-size: 20.00px;fill: #151515; font-family: &quot;Noto Sans&quot;;\" textLength=\"71.47px\" lengthAdjust=\"spacingAndGlyphs\">Arousal</text>\n</g>\n</svg>",
      "text/plain": [
       "<IPython.core.display.SVG object>"
      ]
     },
     "metadata": {},
     "output_type": "display_data"
    }
   ],
   "source": [
    "!./module_nlp/core/plots_it.R \"plot_both\"\n",
    "\n",
    "# Display svg images\n",
    "from IPython.display import SVG\n",
    "display(SVG(\"../figures/supp1E.svg\"))"
   ]
  },
  {
   "attachments": {},
   "cell_type": "markdown",
   "metadata": {},
   "source": [
    "## Figure supp1F"
   ]
  }
 ],
 "metadata": {
  "kernelspec": {
   "display_name": "Python 3",
   "language": "python",
   "name": "python3"
  },
  "language_info": {
   "codemirror_mode": {
    "name": "ipython",
    "version": 3
   },
   "file_extension": ".py",
   "mimetype": "text/x-python",
   "name": "python",
   "nbconvert_exporter": "python",
   "pygments_lexer": "ipython3",
   "version": "3.10.8"
  },
  "orig_nbformat": 4,
  "vscode": {
   "interpreter": {
    "hash": "916dbcbb3f70747c44a77c7bcd40155683ae19c65e1c03b4aa3499c5328201f1"
   }
  }
 },
 "nbformat": 4,
 "nbformat_minor": 2
}
