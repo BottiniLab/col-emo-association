{
 "cells": [
  {
   "cell_type": "code",
   "execution_count": null,
   "metadata": {},
   "outputs": [],
   "source": [
    "import yaml\n",
    "import importlib\n",
    "from module_nlp.core import fasttext_space"
   ]
  },
  {
   "cell_type": "code",
   "execution_count": null,
   "metadata": {},
   "outputs": [],
   "source": [
    "_ = importlib.reload(fasttext_space)\n",
    "with open(\"./module_nlp/config/config_sighted.yml\") as f:\n",
    "    config = yaml.safe_load(f)\n",
    "\n",
    "_ = fasttext_space.get_wheels(config['get_wheel'])"
   ]
  },
  {
   "attachments": {},
   "cell_type": "markdown",
   "metadata": {},
   "source": [
    "# Figure supp3A"
   ]
  },
  {
   "cell_type": "code",
   "execution_count": null,
   "metadata": {},
   "outputs": [],
   "source": [
    "!./module_nlp/core/plots_it.R \"plot_colors\"\n",
    "\n",
    "# Display svg images\n",
    "from IPython.display import SVG\n",
    "display(SVG(\"../figures/supp3A.svg\"))"
   ]
  },
  {
   "attachments": {},
   "cell_type": "markdown",
   "metadata": {},
   "source": [
    "# Figure supp3B"
   ]
  },
  {
   "cell_type": "code",
   "execution_count": null,
   "metadata": {},
   "outputs": [],
   "source": [
    "!./module_nlp/core/plots_it.R \"plot_emotions\"\n",
    "\n",
    "# Display svg images\n",
    "from IPython.display import SVG\n",
    "display(SVG(\"../figures/supp3B.svg\"))"
   ]
  },
  {
   "attachments": {},
   "cell_type": "markdown",
   "metadata": {},
   "source": [
    "# Figure supp3C"
   ]
  },
  {
   "cell_type": "code",
   "execution_count": null,
   "metadata": {},
   "outputs": [],
   "source": [
    "!./module_nlp/core/plots_it.R \"plot_both\"\n",
    "\n",
    "# Display svg images\n",
    "from IPython.display import SVG\n",
    "display(SVG(\"../figures/supp3C.svg\"))"
   ]
  }
 ],
 "metadata": {
  "kernelspec": {
   "display_name": "coloremotion",
   "language": "python",
   "name": "python3"
  },
  "language_info": {
   "name": "python",
   "version": "3.10.6"
  },
  "orig_nbformat": 4,
  "vscode": {
   "interpreter": {
    "hash": "3af54f79856f61ed7fd2d4fe9df5bfee1b8fa4f69deb09ca961dfc1364d82da3"
   }
  }
 },
 "nbformat": 4,
 "nbformat_minor": 2
}
