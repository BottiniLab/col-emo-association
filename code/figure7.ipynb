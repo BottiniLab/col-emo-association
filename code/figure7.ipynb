{
 "cells": [
  {
   "cell_type": "code",
   "execution_count": null,
   "metadata": {},
   "outputs": [],
   "source": [
    "import yaml\n",
    "import importlib\n",
    "from module_nlp.core import fasttext_en"
   ]
  },
  {
   "cell_type": "code",
   "execution_count": null,
   "metadata": {},
   "outputs": [],
   "source": [
    "_ = importlib.reload(fasttext_en)\n",
    "with open(\"./module_nlp/config/config_en.yml\") as f:\n",
    "    config = yaml.safe_load(f)\n",
    "\n",
    "fasttext_en.get_wheels(config['get_wheel'])"
   ]
  },
  {
   "cell_type": "code",
   "execution_count": 45,
   "metadata": {},
   "outputs": [
    {
     "name": "stdout",
     "output_type": "stream",
     "text": [
      "\u001b[?25h\u001b[?25h\u001b[?25h\u001b[?25h\u001b[?25h\u001b[?25h\u001b[?25h\u001b[?25hWarning messages:\n",
      "1: In dir.create(file.path(dirname(save_to))) :\n",
      "  '../figures' already exists\n",
      "2: In dir.create(file.path(dirname(save_to))) :\n",
      "  '../figures' already exists\n",
      "3: In dir.create(file.path(dirname(save_to))) :\n",
      "  '../figures' already exists\n",
      "\u001b[?25h\u001b[?25h"
     ]
    }
   ],
   "source": [
    "!./module_nlp/core/plots.R \"plot_osgood\""
   ]
  }
 ],
 "metadata": {
  "language_info": {
   "name": "python"
  },
  "orig_nbformat": 4
 },
 "nbformat": 4,
 "nbformat_minor": 2
}
