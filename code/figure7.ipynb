{
 "cells": [
  {
   "cell_type": "code",
   "execution_count": 21,
   "metadata": {},
   "outputs": [],
   "source": [
    "import yaml\n",
    "import importlib\n",
    "from code.module_nlp.core import fasttext_space"
   ]
  },
  {
   "attachments": {},
   "cell_type": "markdown",
   "metadata": {},
   "source": [
    "## Figure 7A-B"
   ]
  },
  {
   "cell_type": "code",
   "execution_count": 22,
   "metadata": {},
   "outputs": [
    {
     "data": {
      "text/html": [
       "<div>\n",
       "<style scoped>\n",
       "    .dataframe tbody tr th:only-of-type {\n",
       "        vertical-align: middle;\n",
       "    }\n",
       "\n",
       "    .dataframe tbody tr th {\n",
       "        vertical-align: top;\n",
       "    }\n",
       "\n",
       "    .dataframe thead th {\n",
       "        text-align: right;\n",
       "    }\n",
       "</style>\n",
       "<table border=\"1\" class=\"dataframe\">\n",
       "  <thead>\n",
       "    <tr style=\"text-align: right;\">\n",
       "      <th></th>\n",
       "      <th>index</th>\n",
       "      <th>Valence</th>\n",
       "      <th>Arousal</th>\n",
       "      <th>z_valence</th>\n",
       "      <th>z_arousal</th>\n",
       "      <th>Condition</th>\n",
       "      <th>fill_color</th>\n",
       "    </tr>\n",
       "  </thead>\n",
       "  <tbody>\n",
       "    <tr>\n",
       "      <th>0</th>\n",
       "      <td>green</td>\n",
       "      <td>0.130466</td>\n",
       "      <td>-0.198897</td>\n",
       "      <td>1.925514</td>\n",
       "      <td>-0.266796</td>\n",
       "      <td>Color</td>\n",
       "      <td>green</td>\n",
       "    </tr>\n",
       "    <tr>\n",
       "      <th>1</th>\n",
       "      <td>orange</td>\n",
       "      <td>-0.012250</td>\n",
       "      <td>-0.125187</td>\n",
       "      <td>0.019127</td>\n",
       "      <td>1.629841</td>\n",
       "      <td>Color</td>\n",
       "      <td>orange</td>\n",
       "    </tr>\n",
       "    <tr>\n",
       "      <th>2</th>\n",
       "      <td>yellow</td>\n",
       "      <td>-0.108748</td>\n",
       "      <td>-0.169561</td>\n",
       "      <td>-1.269896</td>\n",
       "      <td>0.488060</td>\n",
       "      <td>Color</td>\n",
       "      <td>yellow</td>\n",
       "    </tr>\n",
       "    <tr>\n",
       "      <th>3</th>\n",
       "      <td>blue</td>\n",
       "      <td>0.013443</td>\n",
       "      <td>-0.232467</td>\n",
       "      <td>0.362333</td>\n",
       "      <td>-1.130579</td>\n",
       "      <td>Color</td>\n",
       "      <td>blue</td>\n",
       "    </tr>\n",
       "    <tr>\n",
       "      <th>4</th>\n",
       "      <td>purple</td>\n",
       "      <td>-0.057884</td>\n",
       "      <td>-0.236147</td>\n",
       "      <td>-0.590461</td>\n",
       "      <td>-1.225262</td>\n",
       "      <td>Color</td>\n",
       "      <td>purple</td>\n",
       "    </tr>\n",
       "    <tr>\n",
       "      <th>5</th>\n",
       "      <td>red</td>\n",
       "      <td>-0.047116</td>\n",
       "      <td>-0.168913</td>\n",
       "      <td>-0.446615</td>\n",
       "      <td>0.504736</td>\n",
       "      <td>Color</td>\n",
       "      <td>red</td>\n",
       "    </tr>\n",
       "    <tr>\n",
       "      <th>6</th>\n",
       "      <td>surprised</td>\n",
       "      <td>0.079850</td>\n",
       "      <td>-0.057010</td>\n",
       "      <td>0.549109</td>\n",
       "      <td>0.509195</td>\n",
       "      <td>Emotion</td>\n",
       "      <td>#e64200</td>\n",
       "    </tr>\n",
       "    <tr>\n",
       "      <th>7</th>\n",
       "      <td>excited</td>\n",
       "      <td>0.260361</td>\n",
       "      <td>0.262331</td>\n",
       "      <td>1.175263</td>\n",
       "      <td>1.758007</td>\n",
       "      <td>Emotion</td>\n",
       "      <td>#ab4600</td>\n",
       "    </tr>\n",
       "    <tr>\n",
       "      <th>8</th>\n",
       "      <td>serene</td>\n",
       "      <td>0.365344</td>\n",
       "      <td>-0.362202</td>\n",
       "      <td>1.539430</td>\n",
       "      <td>-0.684284</td>\n",
       "      <td>Emotion</td>\n",
       "      <td>#007065</td>\n",
       "    </tr>\n",
       "    <tr>\n",
       "      <th>9</th>\n",
       "      <td>happy</td>\n",
       "      <td>0.235380</td>\n",
       "      <td>-0.273418</td>\n",
       "      <td>1.088610</td>\n",
       "      <td>-0.337086</td>\n",
       "      <td>Emotion</td>\n",
       "      <td>#004c76</td>\n",
       "    </tr>\n",
       "    <tr>\n",
       "      <th>10</th>\n",
       "      <td>satisfied</td>\n",
       "      <td>0.325288</td>\n",
       "      <td>0.103773</td>\n",
       "      <td>1.400481</td>\n",
       "      <td>1.137951</td>\n",
       "      <td>Emotion</td>\n",
       "      <td>#566200</td>\n",
       "    </tr>\n",
       "    <tr>\n",
       "      <th>11</th>\n",
       "      <td>calm</td>\n",
       "      <td>0.339305</td>\n",
       "      <td>0.027426</td>\n",
       "      <td>1.449105</td>\n",
       "      <td>0.839392</td>\n",
       "      <td>Emotion</td>\n",
       "      <td>#4e6700</td>\n",
       "    </tr>\n",
       "    <tr>\n",
       "      <th>12</th>\n",
       "      <td>tired</td>\n",
       "      <td>-0.395070</td>\n",
       "      <td>-0.607826</td>\n",
       "      <td>-1.098294</td>\n",
       "      <td>-1.644819</td>\n",
       "      <td>Emotion</td>\n",
       "      <td>#6100b3</td>\n",
       "    </tr>\n",
       "    <tr>\n",
       "      <th>13</th>\n",
       "      <td>bored</td>\n",
       "      <td>-0.305101</td>\n",
       "      <td>-0.617588</td>\n",
       "      <td>-0.786210</td>\n",
       "      <td>-1.682992</td>\n",
       "      <td>Emotion</td>\n",
       "      <td>#7f00e3</td>\n",
       "    </tr>\n",
       "    <tr>\n",
       "      <th>14</th>\n",
       "      <td>depressed</td>\n",
       "      <td>-0.362943</td>\n",
       "      <td>-0.266055</td>\n",
       "      <td>-0.986849</td>\n",
       "      <td>-0.308292</td>\n",
       "      <td>Emotion</td>\n",
       "      <td>#ff7f00</td>\n",
       "    </tr>\n",
       "    <tr>\n",
       "      <th>15</th>\n",
       "      <td>sad</td>\n",
       "      <td>-0.308589</td>\n",
       "      <td>-0.609106</td>\n",
       "      <td>-0.798308</td>\n",
       "      <td>-1.649824</td>\n",
       "      <td>Emotion</td>\n",
       "      <td>#7f00e3</td>\n",
       "    </tr>\n",
       "    <tr>\n",
       "      <th>16</th>\n",
       "      <td>frustrated</td>\n",
       "      <td>-0.290496</td>\n",
       "      <td>-0.194468</td>\n",
       "      <td>-0.735546</td>\n",
       "      <td>-0.028345</td>\n",
       "      <td>Emotion</td>\n",
       "      <td>#ff7f00</td>\n",
       "    </tr>\n",
       "    <tr>\n",
       "      <th>17</th>\n",
       "      <td>afraid</td>\n",
       "      <td>-0.187615</td>\n",
       "      <td>-0.110502</td>\n",
       "      <td>-0.378675</td>\n",
       "      <td>0.300009</td>\n",
       "      <td>Emotion</td>\n",
       "      <td>#ff7f00</td>\n",
       "    </tr>\n",
       "    <tr>\n",
       "      <th>18</th>\n",
       "      <td>angry</td>\n",
       "      <td>-0.387073</td>\n",
       "      <td>-0.092438</td>\n",
       "      <td>-1.070551</td>\n",
       "      <td>0.370650</td>\n",
       "      <td>Emotion</td>\n",
       "      <td>#ff7f00</td>\n",
       "    </tr>\n",
       "    <tr>\n",
       "      <th>19</th>\n",
       "      <td>stressed</td>\n",
       "      <td>0.121305</td>\n",
       "      <td>0.068570</td>\n",
       "      <td>0.692908</td>\n",
       "      <td>1.000288</td>\n",
       "      <td>Emotion</td>\n",
       "      <td>#e65900</td>\n",
       "    </tr>\n",
       "    <tr>\n",
       "      <th>20</th>\n",
       "      <td>astonished</td>\n",
       "      <td>0.043149</td>\n",
       "      <td>-0.047343</td>\n",
       "      <td>0.421799</td>\n",
       "      <td>0.547001</td>\n",
       "      <td>Emotion</td>\n",
       "      <td>#ed4700</td>\n",
       "    </tr>\n",
       "    <tr>\n",
       "      <th>21</th>\n",
       "      <td>sleepy</td>\n",
       "      <td>-0.241932</td>\n",
       "      <td>-0.409701</td>\n",
       "      <td>-0.567088</td>\n",
       "      <td>-0.870034</td>\n",
       "      <td>Emotion</td>\n",
       "      <td>#7f00ff</td>\n",
       "    </tr>\n",
       "    <tr>\n",
       "      <th>22</th>\n",
       "      <td>alarmed</td>\n",
       "      <td>-0.186076</td>\n",
       "      <td>0.101944</td>\n",
       "      <td>-0.373335</td>\n",
       "      <td>1.130801</td>\n",
       "      <td>Emotion</td>\n",
       "      <td>#ff7f00</td>\n",
       "    </tr>\n",
       "    <tr>\n",
       "      <th>23</th>\n",
       "      <td>disgusted</td>\n",
       "      <td>-0.517175</td>\n",
       "      <td>-0.286340</td>\n",
       "      <td>-1.521849</td>\n",
       "      <td>-0.387618</td>\n",
       "      <td>Emotion</td>\n",
       "      <td>#b27f33</td>\n",
       "    </tr>\n",
       "  </tbody>\n",
       "</table>\n",
       "</div>"
      ],
      "text/plain": [
       "         index   Valence   Arousal  z_valence  z_arousal Condition fill_color\n",
       "0        green  0.130466 -0.198897   1.925514  -0.266796     Color      green\n",
       "1       orange -0.012250 -0.125187   0.019127   1.629841     Color     orange\n",
       "2       yellow -0.108748 -0.169561  -1.269896   0.488060     Color     yellow\n",
       "3         blue  0.013443 -0.232467   0.362333  -1.130579     Color       blue\n",
       "4       purple -0.057884 -0.236147  -0.590461  -1.225262     Color     purple\n",
       "5          red -0.047116 -0.168913  -0.446615   0.504736     Color        red\n",
       "6    surprised  0.079850 -0.057010   0.549109   0.509195   Emotion    #e64200\n",
       "7      excited  0.260361  0.262331   1.175263   1.758007   Emotion    #ab4600\n",
       "8       serene  0.365344 -0.362202   1.539430  -0.684284   Emotion    #007065\n",
       "9        happy  0.235380 -0.273418   1.088610  -0.337086   Emotion    #004c76\n",
       "10   satisfied  0.325288  0.103773   1.400481   1.137951   Emotion    #566200\n",
       "11        calm  0.339305  0.027426   1.449105   0.839392   Emotion    #4e6700\n",
       "12       tired -0.395070 -0.607826  -1.098294  -1.644819   Emotion    #6100b3\n",
       "13       bored -0.305101 -0.617588  -0.786210  -1.682992   Emotion    #7f00e3\n",
       "14   depressed -0.362943 -0.266055  -0.986849  -0.308292   Emotion    #ff7f00\n",
       "15         sad -0.308589 -0.609106  -0.798308  -1.649824   Emotion    #7f00e3\n",
       "16  frustrated -0.290496 -0.194468  -0.735546  -0.028345   Emotion    #ff7f00\n",
       "17      afraid -0.187615 -0.110502  -0.378675   0.300009   Emotion    #ff7f00\n",
       "18       angry -0.387073 -0.092438  -1.070551   0.370650   Emotion    #ff7f00\n",
       "19    stressed  0.121305  0.068570   0.692908   1.000288   Emotion    #e65900\n",
       "20  astonished  0.043149 -0.047343   0.421799   0.547001   Emotion    #ed4700\n",
       "21      sleepy -0.241932 -0.409701  -0.567088  -0.870034   Emotion    #7f00ff\n",
       "22     alarmed -0.186076  0.101944  -0.373335   1.130801   Emotion    #ff7f00\n",
       "23   disgusted -0.517175 -0.286340  -1.521849  -0.387618   Emotion    #b27f33"
      ]
     },
     "execution_count": 22,
     "metadata": {},
     "output_type": "execute_result"
    }
   ],
   "source": [
    "_ = importlib.reload(fasttext_space)\n",
    "with open(\"./module_nlp/config/config_en.yml\") as f:\n",
    "    config = yaml.safe_load(f)\n",
    "\n",
    "fasttext_space.get_wheels(config['get_wheel'])"
   ]
  },
  {
   "attachments": {},
   "cell_type": "markdown",
   "metadata": {},
   "source": [
    "## Figure 7A"
   ]
  },
  {
   "cell_type": "code",
   "execution_count": 9,
   "metadata": {},
   "outputs": [
    {
     "name": "stdout",
     "output_type": "stream",
     "text": [
      "\u001b[?25h\u001b[?25h\u001b[?25h\u001b[?25h\u001b[?25h\u001b[?25h\u001b[?25h\u001b[?25h\u001b[?25h\u001b[?25h\u001b[?25h\u001b[?25h\u001b[?25h\u001b[?25h"
     ]
    },
    {
     "data": {
      "image/svg+xml": "<svg xmlns=\"http://www.w3.org/2000/svg\" xmlns:xlink=\"http://www.w3.org/1999/xlink\" class=\"svglite\" width=\"432.00pt\" height=\"432.00pt\" viewBox=\"0 0 432.00 432.00\">\n<defs>\n  <style type=\"text/css\"><![CDATA[\n    .svglite line, .svglite polyline, .svglite polygon, .svglite path, .svglite rect, .svglite circle {\n      fill: none;\n      stroke: #000000;\n      stroke-linecap: round;\n      stroke-linejoin: round;\n      stroke-miterlimit: 10.00;\n    }\n    .svglite text {\n      white-space: pre;\n    }\n  ]]></style>\n</defs>\n<rect width=\"100%\" height=\"100%\" style=\"stroke: none; fill: #FFFFFF;\"/>\n<defs>\n  <clipPath id=\"cpMC4wMHw0MzIuMDB8MC4wMHw0MzIuMDA=\">\n    <rect x=\"0.00\" y=\"0.00\" width=\"432.00\" height=\"432.00\"/>\n  </clipPath>\n</defs>\n<g clip-path=\"url(#cpMC4wMHw0MzIuMDB8MC4wMHw0MzIuMDA=)\">\n<rect x=\"0.000000000000032\" y=\"0.00\" width=\"432.00\" height=\"432.00\" style=\"stroke-width: 1.07; stroke: #FFFFFF; fill: #FFFFFF;\"/>\n</g>\n<defs>\n  <clipPath id=\"cpNDkuODR8NDI2LjUyfDUuNDh8MzgxLjA4\">\n    <rect x=\"49.84\" y=\"5.48\" width=\"376.68\" height=\"375.60\"/>\n  </clipPath>\n</defs>\n<g clip-path=\"url(#cpNDkuODR8NDI2LjUyfDUuNDh8MzgxLjA4)\">\n<rect x=\"49.84\" y=\"5.48\" width=\"376.68\" height=\"375.60\" style=\"stroke-width: 1.07; stroke: none; fill: #FFFFFF;\"/>\n<polyline points=\"49.84,277.27 426.52,277.27 \" style=\"stroke-width: 0.53; stroke: #FFFFFF; stroke-linecap: butt;\"/>\n<polyline points=\"49.84,157.67 426.52,157.67 \" style=\"stroke-width: 0.53; stroke: #FFFFFF; stroke-linecap: butt;\"/>\n<polyline points=\"49.84,38.08 426.52,38.08 \" style=\"stroke-width: 0.53; stroke: #FFFFFF; stroke-linecap: butt;\"/>\n<polyline points=\"149.47,381.08 149.47,5.48 \" style=\"stroke-width: 0.53; stroke: #FFFFFF; stroke-linecap: butt;\"/>\n<polyline points=\"256.63,381.08 256.63,5.48 \" style=\"stroke-width: 0.53; stroke: #FFFFFF; stroke-linecap: butt;\"/>\n<polyline points=\"363.80,381.08 363.80,5.48 \" style=\"stroke-width: 0.53; stroke: #FFFFFF; stroke-linecap: butt;\"/>\n<polyline points=\"49.84,337.07 426.52,337.07 \" style=\"stroke-width: 1.07; stroke: #FFFFFF; stroke-linecap: butt;\"/>\n<polyline points=\"49.84,217.47 426.52,217.47 \" style=\"stroke-width: 1.07; stroke: #FFFFFF; stroke-linecap: butt;\"/>\n<polyline points=\"49.84,97.88 426.52,97.88 \" style=\"stroke-width: 1.07; stroke: #FFFFFF; stroke-linecap: butt;\"/>\n<polyline points=\"95.89,381.08 95.89,5.48 \" style=\"stroke-width: 1.07; stroke: #FFFFFF; stroke-linecap: butt;\"/>\n<polyline points=\"203.05,381.08 203.05,5.48 \" style=\"stroke-width: 1.07; stroke: #FFFFFF; stroke-linecap: butt;\"/>\n<polyline points=\"310.22,381.08 310.22,5.48 \" style=\"stroke-width: 1.07; stroke: #FFFFFF; stroke-linecap: butt;\"/>\n<polyline points=\"417.38,381.08 417.38,5.48 \" style=\"stroke-width: 1.07; stroke: #FFFFFF; stroke-linecap: butt;\"/>\n<circle cx=\"409.40\" cy=\"249.38\" r=\"5.19\" style=\"stroke-width: 0.71; stroke: #00FF00; fill: #00FF00;\"/>\n<circle cx=\"205.10\" cy=\"22.55\" r=\"5.19\" style=\"stroke-width: 0.71; stroke: #FF8000; fill: #FF8000;\"/>\n<circle cx=\"66.96\" cy=\"159.10\" r=\"5.19\" style=\"stroke-width: 0.71; stroke: #FFFF00; fill: #FFFF00;\"/>\n<circle cx=\"241.88\" cy=\"352.68\" r=\"5.19\" style=\"stroke-width: 0.71; stroke: #0000FF; fill: #0000FF;\"/>\n<circle cx=\"139.78\" cy=\"364.01\" r=\"5.19\" style=\"stroke-width: 0.71; stroke: #8000FF; fill: #8000FF;\"/>\n<circle cx=\"155.19\" cy=\"157.11\" r=\"5.19\" style=\"stroke-width: 0.71; stroke: #FF0000; fill: #FF0000;\"/>\n</g>\n<g clip-path=\"url(#cpMC4wMHw0MzIuMDB8MC4wMHw0MzIuMDA=)\">\n<polyline points=\"49.84,381.08 49.84,5.48 \" style=\"stroke-width: 2.56; stroke-linecap: butt;\"/>\n<text x=\"43.40\" y=\"343.49\" text-anchor=\"end\" style=\"font-size: 18.00px;fill: #151515; font-family: &quot;Noto Sans&quot;;\" textLength=\"16.09px\" lengthAdjust=\"spacingAndGlyphs\">-1</text>\n<text x=\"43.40\" y=\"223.90\" text-anchor=\"end\" style=\"font-size: 18.00px;fill: #151515; font-family: &quot;Noto Sans&quot;;\" textLength=\"10.30px\" lengthAdjust=\"spacingAndGlyphs\">0</text>\n<text x=\"43.40\" y=\"104.30\" text-anchor=\"end\" style=\"font-size: 18.00px;fill: #151515; font-family: &quot;Noto Sans&quot;;\" textLength=\"10.30px\" lengthAdjust=\"spacingAndGlyphs\">1</text>\n<polyline points=\"45.59,337.07 49.84,337.07 \" style=\"stroke-width: 1.07; stroke: #151515; stroke-linecap: butt;\"/>\n<polyline points=\"45.59,217.47 49.84,217.47 \" style=\"stroke-width: 1.07; stroke: #151515; stroke-linecap: butt;\"/>\n<polyline points=\"45.59,97.88 49.84,97.88 \" style=\"stroke-width: 1.07; stroke: #151515; stroke-linecap: butt;\"/>\n<polyline points=\"49.84,381.08 426.52,381.08 \" style=\"stroke-width: 2.56; stroke-linecap: butt;\"/>\n<polyline points=\"95.89,385.33 95.89,381.08 \" style=\"stroke-width: 1.07; stroke: #151515; stroke-linecap: butt;\"/>\n<polyline points=\"203.05,385.33 203.05,381.08 \" style=\"stroke-width: 1.07; stroke: #151515; stroke-linecap: butt;\"/>\n<polyline points=\"310.22,385.33 310.22,381.08 \" style=\"stroke-width: 1.07; stroke: #151515; stroke-linecap: butt;\"/>\n<polyline points=\"417.38,385.33 417.38,381.08 \" style=\"stroke-width: 1.07; stroke: #151515; stroke-linecap: butt;\"/>\n<text x=\"95.89\" y=\"400.37\" text-anchor=\"middle\" style=\"font-size: 18.00px;fill: #151515; font-family: &quot;Noto Sans&quot;;\" textLength=\"16.09px\" lengthAdjust=\"spacingAndGlyphs\">-1</text>\n<text x=\"203.05\" y=\"400.37\" text-anchor=\"middle\" style=\"font-size: 18.00px;fill: #151515; font-family: &quot;Noto Sans&quot;;\" textLength=\"10.30px\" lengthAdjust=\"spacingAndGlyphs\">0</text>\n<text x=\"310.22\" y=\"400.37\" text-anchor=\"middle\" style=\"font-size: 18.00px;fill: #151515; font-family: &quot;Noto Sans&quot;;\" textLength=\"10.30px\" lengthAdjust=\"spacingAndGlyphs\">1</text>\n<text x=\"417.38\" y=\"400.37\" text-anchor=\"middle\" style=\"font-size: 18.00px;fill: #151515; font-family: &quot;Noto Sans&quot;;\" textLength=\"10.30px\" lengthAdjust=\"spacingAndGlyphs\">2</text>\n<text x=\"238.18\" y=\"421.72\" text-anchor=\"middle\" style=\"font-size: 20.00px;fill: #151515; font-family: &quot;Noto Sans&quot;;\" textLength=\"72.91px\" lengthAdjust=\"spacingAndGlyphs\">Valence</text>\n<text transform=\"translate(19.76,193.28) rotate(-90)\" text-anchor=\"middle\" style=\"font-size: 20.00px;fill: #151515; font-family: &quot;Noto Sans&quot;;\" textLength=\"71.47px\" lengthAdjust=\"spacingAndGlyphs\">Arousal</text>\n</g>\n</svg>",
      "text/plain": [
       "<IPython.core.display.SVG object>"
      ]
     },
     "metadata": {},
     "output_type": "display_data"
    }
   ],
   "source": [
    "!./module_nlp/core/plots.R \"plot_colors\"\n",
    "\n",
    "# Display svg images\n",
    "from IPython.display import SVG\n",
    "display(SVG(\"../figures/7A.svg\"))\n",
    "# display(SVG(\"../figures/7B.svg\"))"
   ]
  },
  {
   "attachments": {},
   "cell_type": "markdown",
   "metadata": {},
   "source": [
    "## Figure 7B"
   ]
  },
  {
   "cell_type": "code",
   "execution_count": 7,
   "metadata": {},
   "outputs": [
    {
     "name": "stdout",
     "output_type": "stream",
     "text": [
      "\u001b[?25h\u001b[?25h\u001b[?25h\u001b[?25h\u001b[?25h\u001b[?25h\u001b[?25h\u001b[?25h\u001b[?25h\u001b[?25h\u001b[?25h\u001b[?25h\u001b[?25h\u001b[?25h"
     ]
    },
    {
     "data": {
      "image/svg+xml": "<svg xmlns=\"http://www.w3.org/2000/svg\" xmlns:xlink=\"http://www.w3.org/1999/xlink\" class=\"svglite\" width=\"432.00pt\" height=\"432.00pt\" viewBox=\"0 0 432.00 432.00\">\n<defs>\n  <style type=\"text/css\"><![CDATA[\n    .svglite line, .svglite polyline, .svglite polygon, .svglite path, .svglite rect, .svglite circle {\n      fill: none;\n      stroke: #000000;\n      stroke-linecap: round;\n      stroke-linejoin: round;\n      stroke-miterlimit: 10.00;\n    }\n    .svglite text {\n      white-space: pre;\n    }\n  ]]></style>\n</defs>\n<rect width=\"100%\" height=\"100%\" style=\"stroke: none; fill: #FFFFFF;\"/>\n<defs>\n  <clipPath id=\"cpMC4wMHw0MzIuMDB8MC4wMHw0MzIuMDA=\">\n    <rect x=\"0.00\" y=\"0.00\" width=\"432.00\" height=\"432.00\"/>\n  </clipPath>\n</defs>\n<g clip-path=\"url(#cpMC4wMHw0MzIuMDB8MC4wMHw0MzIuMDA=)\">\n<rect x=\"0.000000000000032\" y=\"0.00\" width=\"432.00\" height=\"432.00\" style=\"stroke-width: 1.07; stroke: #FFFFFF; fill: #FFFFFF;\"/>\n</g>\n<defs>\n  <clipPath id=\"cpNDkuODR8NDI2LjUyfDUuNDh8MzgxLjA4\">\n    <rect x=\"49.84\" y=\"5.48\" width=\"376.68\" height=\"375.60\"/>\n  </clipPath>\n</defs>\n<g clip-path=\"url(#cpNDkuODR8NDI2LjUyfDUuNDh8MzgxLjA4)\">\n<rect x=\"49.84\" y=\"5.48\" width=\"376.68\" height=\"375.60\" style=\"stroke-width: 1.07; stroke: none; fill: #FFFFFF;\"/>\n<polyline points=\"49.84,345.85 426.52,345.85 \" style=\"stroke-width: 0.53; stroke: #FFFFFF; stroke-linecap: butt;\"/>\n<polyline points=\"49.84,246.62 426.52,246.62 \" style=\"stroke-width: 0.53; stroke: #FFFFFF; stroke-linecap: butt;\"/>\n<polyline points=\"49.84,147.39 426.52,147.39 \" style=\"stroke-width: 0.53; stroke: #FFFFFF; stroke-linecap: butt;\"/>\n<polyline points=\"49.84,48.15 426.52,48.15 \" style=\"stroke-width: 0.53; stroke: #FFFFFF; stroke-linecap: butt;\"/>\n<polyline points=\"69.41,381.08 69.41,5.48 \" style=\"stroke-width: 0.53; stroke: #FFFFFF; stroke-linecap: butt;\"/>\n<polyline points=\"181.27,381.08 181.27,5.48 \" style=\"stroke-width: 0.53; stroke: #FFFFFF; stroke-linecap: butt;\"/>\n<polyline points=\"293.13,381.08 293.13,5.48 \" style=\"stroke-width: 0.53; stroke: #FFFFFF; stroke-linecap: butt;\"/>\n<polyline points=\"404.99,381.08 404.99,5.48 \" style=\"stroke-width: 0.53; stroke: #FFFFFF; stroke-linecap: butt;\"/>\n<polyline points=\"49.84,296.23 426.52,296.23 \" style=\"stroke-width: 1.07; stroke: #FFFFFF; stroke-linecap: butt;\"/>\n<polyline points=\"49.84,197.00 426.52,197.00 \" style=\"stroke-width: 1.07; stroke: #FFFFFF; stroke-linecap: butt;\"/>\n<polyline points=\"49.84,97.77 426.52,97.77 \" style=\"stroke-width: 1.07; stroke: #FFFFFF; stroke-linecap: butt;\"/>\n<polyline points=\"125.34,381.08 125.34,5.48 \" style=\"stroke-width: 1.07; stroke: #FFFFFF; stroke-linecap: butt;\"/>\n<polyline points=\"237.20,381.08 237.20,5.48 \" style=\"stroke-width: 1.07; stroke: #FFFFFF; stroke-linecap: butt;\"/>\n<polyline points=\"349.06,381.08 349.06,5.48 \" style=\"stroke-width: 1.07; stroke: #FFFFFF; stroke-linecap: butt;\"/>\n<circle cx=\"298.62\" cy=\"146.47\" r=\"5.19\" style=\"stroke-width: 0.71; stroke: #89B4FA; fill: #89B4FA;\"/>\n<circle cx=\"368.66\" cy=\"22.55\" r=\"5.19\" style=\"stroke-width: 0.71; stroke: #89B4FA; fill: #89B4FA;\"/>\n<circle cx=\"409.40\" cy=\"264.90\" r=\"5.19\" style=\"stroke-width: 0.71; stroke: #89B4FA; fill: #89B4FA;\"/>\n<circle cx=\"358.97\" cy=\"230.45\" r=\"5.19\" style=\"stroke-width: 0.71; stroke: #89B4FA; fill: #89B4FA;\"/>\n<circle cx=\"393.86\" cy=\"84.08\" r=\"5.19\" style=\"stroke-width: 0.71; stroke: #89B4FA; fill: #89B4FA;\"/>\n<circle cx=\"399.30\" cy=\"113.71\" r=\"5.19\" style=\"stroke-width: 0.71; stroke: #89B4FA; fill: #89B4FA;\"/>\n<circle cx=\"114.34\" cy=\"360.22\" r=\"5.19\" style=\"stroke-width: 0.71; stroke: #89B4FA; fill: #89B4FA;\"/>\n<circle cx=\"149.25\" cy=\"364.01\" r=\"5.19\" style=\"stroke-width: 0.71; stroke: #89B4FA; fill: #89B4FA;\"/>\n<circle cx=\"126.81\" cy=\"227.59\" r=\"5.19\" style=\"stroke-width: 0.71; stroke: #89B4FA; fill: #89B4FA;\"/>\n<circle cx=\"147.90\" cy=\"360.71\" r=\"5.19\" style=\"stroke-width: 0.71; stroke: #89B4FA; fill: #89B4FA;\"/>\n<circle cx=\"154.92\" cy=\"199.81\" r=\"5.19\" style=\"stroke-width: 0.71; stroke: #89B4FA; fill: #89B4FA;\"/>\n<circle cx=\"194.84\" cy=\"167.23\" r=\"5.19\" style=\"stroke-width: 0.71; stroke: #89B4FA; fill: #89B4FA;\"/>\n<circle cx=\"117.45\" cy=\"160.22\" r=\"5.19\" style=\"stroke-width: 0.71; stroke: #89B4FA; fill: #89B4FA;\"/>\n<circle cx=\"314.71\" cy=\"97.74\" r=\"5.19\" style=\"stroke-width: 0.71; stroke: #89B4FA; fill: #89B4FA;\"/>\n<circle cx=\"284.38\" cy=\"142.72\" r=\"5.19\" style=\"stroke-width: 0.71; stroke: #89B4FA; fill: #89B4FA;\"/>\n<circle cx=\"173.76\" cy=\"283.33\" r=\"5.19\" style=\"stroke-width: 0.71; stroke: #89B4FA; fill: #89B4FA;\"/>\n<circle cx=\"195.44\" cy=\"84.79\" r=\"5.19\" style=\"stroke-width: 0.71; stroke: #89B4FA; fill: #89B4FA;\"/>\n<circle cx=\"66.96\" cy=\"235.46\" r=\"5.19\" style=\"stroke-width: 0.71; stroke: #89B4FA; fill: #89B4FA;\"/>\n<text x=\"308.49\" y=\"161.37\" text-anchor=\"middle\" style=\"font-size: 14.23px; font-family: &quot;Liberation Sans&quot;;\" textLength=\"75.40px\" lengthAdjust=\"spacingAndGlyphs\">SURPRISED</text>\n<text x=\"394.80\" y=\"19.24\" text-anchor=\"middle\" style=\"font-size: 14.23px; font-family: &quot;Liberation Sans&quot;;\" textLength=\"56.23px\" lengthAdjust=\"spacingAndGlyphs\">EXCITED</text>\n<text x=\"379.12\" y=\"271.91\" text-anchor=\"middle\" style=\"font-size: 14.23px; font-family: &quot;Liberation Sans&quot;;\" textLength=\"51.17px\" lengthAdjust=\"spacingAndGlyphs\">SERENE</text>\n<text x=\"349.13\" y=\"245.33\" text-anchor=\"middle\" style=\"font-size: 14.23px; font-family: &quot;Liberation Sans&quot;;\" textLength=\"44.88px\" lengthAdjust=\"spacingAndGlyphs\">HAPPY</text>\n<text x=\"384.07\" y=\"79.40\" text-anchor=\"middle\" style=\"font-size: 14.23px; font-family: &quot;Liberation Sans&quot;;\" textLength=\"67.90px\" lengthAdjust=\"spacingAndGlyphs\">SATISFIED</text>\n<text x=\"389.43\" y=\"128.57\" text-anchor=\"middle\" style=\"font-size: 14.23px; font-family: &quot;Liberation Sans&quot;;\" textLength=\"38.42px\" lengthAdjust=\"spacingAndGlyphs\">CALM</text>\n<text x=\"104.53\" y=\"375.06\" text-anchor=\"middle\" style=\"font-size: 14.23px; font-family: &quot;Liberation Sans&quot;;\" textLength=\"39.85px\" lengthAdjust=\"spacingAndGlyphs\">TIRED</text>\n<text x=\"177.68\" y=\"377.48\" text-anchor=\"middle\" style=\"font-size: 14.23px; font-family: &quot;Liberation Sans&quot;;\" textLength=\"47.48px\" lengthAdjust=\"spacingAndGlyphs\">BORED</text>\n<text x=\"136.66\" y=\"222.85\" text-anchor=\"middle\" style=\"font-size: 14.23px; font-family: &quot;Liberation Sans&quot;;\" textLength=\"77.54px\" lengthAdjust=\"spacingAndGlyphs\">DEPRESSED</text>\n<text x=\"138.09\" y=\"356.03\" text-anchor=\"middle\" style=\"font-size: 14.23px; font-family: &quot;Liberation Sans&quot;;\" textLength=\"27.27px\" lengthAdjust=\"spacingAndGlyphs\">SAD</text>\n<text x=\"164.75\" y=\"195.13\" text-anchor=\"middle\" style=\"font-size: 14.23px; font-family: &quot;Liberation Sans&quot;;\" textLength=\"86.45px\" lengthAdjust=\"spacingAndGlyphs\">FRUSTRATED</text>\n<text x=\"204.66\" y=\"162.46\" text-anchor=\"middle\" style=\"font-size: 14.23px; font-family: &quot;Liberation Sans&quot;;\" textLength=\"49.59px\" lengthAdjust=\"spacingAndGlyphs\">AFRAID</text>\n<text x=\"127.21\" y=\"155.53\" text-anchor=\"middle\" style=\"font-size: 14.23px; font-family: &quot;Liberation Sans&quot;;\" textLength=\"47.14px\" lengthAdjust=\"spacingAndGlyphs\">ANGRY</text>\n<text x=\"304.86\" y=\"112.69\" text-anchor=\"middle\" style=\"font-size: 14.23px; font-family: &quot;Liberation Sans&quot;;\" textLength=\"66.36px\" lengthAdjust=\"spacingAndGlyphs\">STRESSED</text>\n<text x=\"274.52\" y=\"137.98\" text-anchor=\"middle\" style=\"font-size: 14.23px; font-family: &quot;Liberation Sans&quot;;\" textLength=\"88.15px\" lengthAdjust=\"spacingAndGlyphs\">ASTONISHED</text>\n<text x=\"163.88\" y=\"298.27\" text-anchor=\"middle\" style=\"font-size: 14.23px; font-family: &quot;Liberation Sans&quot;;\" textLength=\"47.72px\" lengthAdjust=\"spacingAndGlyphs\">SLEEPY</text>\n<text x=\"185.66\" y=\"99.66\" text-anchor=\"middle\" style=\"font-size: 14.23px; font-family: &quot;Liberation Sans&quot;;\" textLength=\"65.65px\" lengthAdjust=\"spacingAndGlyphs\">ALARMED</text>\n<text x=\"92.32\" y=\"250.32\" text-anchor=\"middle\" style=\"font-size: 14.23px; font-family: &quot;Liberation Sans&quot;;\" textLength=\"77.75px\" lengthAdjust=\"spacingAndGlyphs\">DISGUSTED</text>\n</g>\n<g clip-path=\"url(#cpMC4wMHw0MzIuMDB8MC4wMHw0MzIuMDA=)\">\n<polyline points=\"49.84,381.08 49.84,5.48 \" style=\"stroke-width: 2.56; stroke-linecap: butt;\"/>\n<text x=\"43.40\" y=\"302.66\" text-anchor=\"end\" style=\"font-size: 18.00px;fill: #151515; font-family: &quot;Noto Sans&quot;;\" textLength=\"16.09px\" lengthAdjust=\"spacingAndGlyphs\">-1</text>\n<text x=\"43.40\" y=\"203.43\" text-anchor=\"end\" style=\"font-size: 18.00px;fill: #151515; font-family: &quot;Noto Sans&quot;;\" textLength=\"10.30px\" lengthAdjust=\"spacingAndGlyphs\">0</text>\n<text x=\"43.40\" y=\"104.20\" text-anchor=\"end\" style=\"font-size: 18.00px;fill: #151515; font-family: &quot;Noto Sans&quot;;\" textLength=\"10.30px\" lengthAdjust=\"spacingAndGlyphs\">1</text>\n<polyline points=\"45.59,296.23 49.84,296.23 \" style=\"stroke-width: 1.07; stroke: #151515; stroke-linecap: butt;\"/>\n<polyline points=\"45.59,197.00 49.84,197.00 \" style=\"stroke-width: 1.07; stroke: #151515; stroke-linecap: butt;\"/>\n<polyline points=\"45.59,97.77 49.84,97.77 \" style=\"stroke-width: 1.07; stroke: #151515; stroke-linecap: butt;\"/>\n<polyline points=\"49.84,381.08 426.52,381.08 \" style=\"stroke-width: 2.56; stroke-linecap: butt;\"/>\n<polyline points=\"125.34,385.33 125.34,381.08 \" style=\"stroke-width: 1.07; stroke: #151515; stroke-linecap: butt;\"/>\n<polyline points=\"237.20,385.33 237.20,381.08 \" style=\"stroke-width: 1.07; stroke: #151515; stroke-linecap: butt;\"/>\n<polyline points=\"349.06,385.33 349.06,381.08 \" style=\"stroke-width: 1.07; stroke: #151515; stroke-linecap: butt;\"/>\n<text x=\"125.34\" y=\"400.37\" text-anchor=\"middle\" style=\"font-size: 18.00px;fill: #151515; font-family: &quot;Noto Sans&quot;;\" textLength=\"16.09px\" lengthAdjust=\"spacingAndGlyphs\">-1</text>\n<text x=\"237.20\" y=\"400.37\" text-anchor=\"middle\" style=\"font-size: 18.00px;fill: #151515; font-family: &quot;Noto Sans&quot;;\" textLength=\"10.30px\" lengthAdjust=\"spacingAndGlyphs\">0</text>\n<text x=\"349.06\" y=\"400.37\" text-anchor=\"middle\" style=\"font-size: 18.00px;fill: #151515; font-family: &quot;Noto Sans&quot;;\" textLength=\"10.30px\" lengthAdjust=\"spacingAndGlyphs\">1</text>\n<text x=\"238.18\" y=\"421.72\" text-anchor=\"middle\" style=\"font-size: 20.00px;fill: #151515; font-family: &quot;Noto Sans&quot;;\" textLength=\"72.91px\" lengthAdjust=\"spacingAndGlyphs\">Valence</text>\n<text transform=\"translate(19.76,193.28) rotate(-90)\" text-anchor=\"middle\" style=\"font-size: 20.00px;fill: #151515; font-family: &quot;Noto Sans&quot;;\" textLength=\"71.47px\" lengthAdjust=\"spacingAndGlyphs\">Arousal</text>\n</g>\n</svg>",
      "text/plain": [
       "<IPython.core.display.SVG object>"
      ]
     },
     "metadata": {},
     "output_type": "display_data"
    }
   ],
   "source": [
    "!./module_nlp/core/plots.R \"plot_emotions\"\n",
    "\n",
    "# Display svg images\n",
    "from IPython.display import SVG\n",
    "display(SVG(\"../figures/7B.svg\"))"
   ]
  },
  {
   "attachments": {},
   "cell_type": "markdown",
   "metadata": {},
   "source": [
    "## Figure 7C-D\n",
    "### Compute coordinates in control geographic space"
   ]
  },
  {
   "cell_type": "code",
   "execution_count": 2,
   "metadata": {},
   "outputs": [],
   "source": [
    "_ = importlib.reload(fasttext_space)\n",
    "with open(\"./module_nlp/config/config_en.yml\") as f:\n",
    "    config = yaml.safe_load(f)\n",
    "\n",
    "df = fasttext_space.get_wheels(config['get_control_wheel'])"
   ]
  },
  {
   "attachments": {},
   "cell_type": "markdown",
   "metadata": {},
   "source": [
    "### Generate RDMs for the control conditions"
   ]
  },
  {
   "cell_type": "code",
   "execution_count": 3,
   "metadata": {},
   "outputs": [],
   "source": [
    "_ = importlib.reload(fasttext_space)\n",
    "with open(\"./module_nlp/config/config_en.yml\") as f:\n",
    "    config = yaml.safe_load(f)\n",
    "\n",
    "fasttext_space.control_rdm(config['control_rdm'])"
   ]
  },
  {
   "attachments": {},
   "cell_type": "markdown",
   "metadata": {},
   "source": [
    "### Run correlation analysis"
   ]
  },
  {
   "cell_type": "code",
   "execution_count": null,
   "metadata": {},
   "outputs": [],
   "source": [
    "_ = importlib.reload(fasttext_space)\n",
    "with open(\"./module_nlp/config/config_en.yml\") as f:\n",
    "    config = yaml.safe_load(f)\n",
    "\n",
    "fasttext_space.osgood_rdm(config['rdm_difference'])"
   ]
  },
  {
   "cell_type": "code",
   "execution_count": 23,
   "metadata": {},
   "outputs": [
    {
     "name": "stdout",
     "output_type": "stream",
     "text": [
      "\u001b[?25h\u001b[?25h\u001b[?25h\u001b[?25h\u001b[?25h\u001b[?25h\u001b[?25h\u001b[?25h\u001b[?25h\u001b[?25h\u001b[?25h\u001b[?25h\u001b[?25h\u001b[?25h\u001b[?25h\u001b[?25h\u001b[?25h\u001b[?25h\u001b[?25h\u001b[?25h\u001b[?25h\u001b[?25h\u001b[?25h\u001b[?25h\u001b[?25h\u001b[?25h"
     ]
    },
    {
     "data": {
      "image/svg+xml": "<svg xmlns=\"http://www.w3.org/2000/svg\" xmlns:xlink=\"http://www.w3.org/1999/xlink\" class=\"svglite\" width=\"432.00pt\" height=\"432.00pt\" viewBox=\"0 0 432.00 432.00\">\n<defs>\n  <style type=\"text/css\"><![CDATA[\n    .svglite line, .svglite polyline, .svglite polygon, .svglite path, .svglite rect, .svglite circle {\n      fill: none;\n      stroke: #000000;\n      stroke-linecap: round;\n      stroke-linejoin: round;\n      stroke-miterlimit: 10.00;\n    }\n    .svglite text {\n      white-space: pre;\n    }\n  ]]></style>\n</defs>\n<rect width=\"100%\" height=\"100%\" style=\"stroke: none; fill: #FFFFFF;\"/>\n<defs>\n  <clipPath id=\"cpMC4wMHw0MzIuMDB8MC4wMHw0MzIuMDA=\">\n    <rect x=\"0.00\" y=\"0.00\" width=\"432.00\" height=\"432.00\"/>\n  </clipPath>\n</defs>\n<g clip-path=\"url(#cpMC4wMHw0MzIuMDB8MC4wMHw0MzIuMDA=)\">\n<rect x=\"0.000000000000032\" y=\"0.000000000000057\" width=\"432.00\" height=\"432.00\" style=\"stroke-width: 1.07; stroke: #FFFFFF; fill: #FFFFFF;\"/>\n</g>\n<defs>\n  <clipPath id=\"cpNzQuNjN8MzAyLjkwfDUuNDh8MzQxLjQ4\">\n    <rect x=\"74.63\" y=\"5.48\" width=\"228.27\" height=\"336.00\"/>\n  </clipPath>\n</defs>\n<g clip-path=\"url(#cpNzQuNjN8MzAyLjkwfDUuNDh8MzQxLjQ4)\">\n<rect x=\"74.63\" y=\"5.48\" width=\"228.27\" height=\"336.00\" style=\"stroke-width: 1.07; stroke: none; fill: #FFFFFF;\"/>\n<polyline points=\"74.63,305.38 302.90,305.38 \" style=\"stroke-width: 0.53; stroke: #FFFFFF; stroke-linecap: butt;\"/>\n<polyline points=\"74.63,235.96 302.90,235.96 \" style=\"stroke-width: 0.53; stroke: #FFFFFF; stroke-linecap: butt;\"/>\n<polyline points=\"74.63,166.54 302.90,166.54 \" style=\"stroke-width: 0.53; stroke: #FFFFFF; stroke-linecap: butt;\"/>\n<polyline points=\"74.63,97.12 302.90,97.12 \" style=\"stroke-width: 0.53; stroke: #FFFFFF; stroke-linecap: butt;\"/>\n<polyline points=\"74.63,27.69 302.90,27.69 \" style=\"stroke-width: 0.53; stroke: #FFFFFF; stroke-linecap: butt;\"/>\n<polyline points=\"74.63,340.09 302.90,340.09 \" style=\"stroke-width: 1.07; stroke: #FFFFFF; stroke-linecap: butt;\"/>\n<polyline points=\"74.63,270.67 302.90,270.67 \" style=\"stroke-width: 1.07; stroke: #FFFFFF; stroke-linecap: butt;\"/>\n<polyline points=\"74.63,201.25 302.90,201.25 \" style=\"stroke-width: 1.07; stroke: #FFFFFF; stroke-linecap: butt;\"/>\n<polyline points=\"74.63,131.83 302.90,131.83 \" style=\"stroke-width: 1.07; stroke: #FFFFFF; stroke-linecap: butt;\"/>\n<polyline points=\"74.63,62.41 302.90,62.41 \" style=\"stroke-width: 1.07; stroke: #FFFFFF; stroke-linecap: butt;\"/>\n<polyline points=\"107.24,341.48 107.24,5.48 \" style=\"stroke-width: 1.07; stroke: #FFFFFF; stroke-linecap: butt;\"/>\n<polyline points=\"161.59,341.48 161.59,5.48 \" style=\"stroke-width: 1.07; stroke: #FFFFFF; stroke-linecap: butt;\"/>\n<polyline points=\"215.94,341.48 215.94,5.48 \" style=\"stroke-width: 1.07; stroke: #FFFFFF; stroke-linecap: butt;\"/>\n<polyline points=\"270.29,341.48 270.29,5.48 \" style=\"stroke-width: 1.07; stroke: #FFFFFF; stroke-linecap: butt;\"/>\n<rect x=\"82.78\" y=\"188.36\" width=\"48.92\" height=\"82.31\" style=\"stroke-width: 1.07; stroke: none; stroke-linecap: butt; stroke-linejoin: miter; fill: #89DCEB;\"/>\n<rect x=\"137.13\" y=\"262.74\" width=\"48.92\" height=\"7.93\" style=\"stroke-width: 1.07; stroke: none; stroke-linecap: butt; stroke-linejoin: miter; fill: #74C7EC;\"/>\n<rect x=\"191.48\" y=\"270.67\" width=\"48.92\" height=\"44.63\" style=\"stroke-width: 1.07; stroke: none; stroke-linecap: butt; stroke-linejoin: miter; fill: #89B4FA;\"/>\n<rect x=\"245.83\" y=\"175.46\" width=\"48.92\" height=\"95.21\" style=\"stroke-width: 1.07; stroke: none; stroke-linecap: butt; stroke-linejoin: miter; fill: #B4BEFE;\"/>\n<text x=\"134.42\" y=\"89.09\" text-anchor=\"middle\" style=\"font-size: 11.38px; font-family: &quot;Liberation Sans&quot;;\" textLength=\"48.51px\" lengthAdjust=\"spacingAndGlyphs\">p = 0.484</text>\n<line x1=\"161.59\" y1=\"96.51\" x2=\"161.59\" y2=\"96.51\" style=\"stroke-width: 1.07;\"/>\n<line x1=\"161.59\" y1=\"96.51\" x2=\"107.24\" y2=\"96.51\" style=\"stroke-width: 1.07;\"/>\n<line x1=\"107.24\" y1=\"96.51\" x2=\"107.24\" y2=\"96.51\" style=\"stroke-width: 1.07;\"/>\n<text x=\"161.59\" y=\"69.65\" text-anchor=\"middle\" style=\"font-size: 11.38px; font-family: &quot;Liberation Sans&quot;;\" textLength=\"48.51px\" lengthAdjust=\"spacingAndGlyphs\">p = 0.225</text>\n<line x1=\"215.94\" y1=\"77.07\" x2=\"215.94\" y2=\"77.07\" style=\"stroke-width: 1.07;\"/>\n<line x1=\"215.94\" y1=\"77.07\" x2=\"107.24\" y2=\"77.07\" style=\"stroke-width: 1.07;\"/>\n<line x1=\"107.24\" y1=\"77.07\" x2=\"107.24\" y2=\"77.07\" style=\"stroke-width: 1.07;\"/>\n<text x=\"188.77\" y=\"50.21\" text-anchor=\"middle\" style=\"font-size: 11.38px; font-family: &quot;Liberation Sans&quot;;\" textLength=\"48.51px\" lengthAdjust=\"spacingAndGlyphs\">p = 0.896</text>\n<line x1=\"270.29\" y1=\"57.64\" x2=\"270.29\" y2=\"57.64\" style=\"stroke-width: 1.07;\"/>\n<line x1=\"270.29\" y1=\"57.64\" x2=\"107.24\" y2=\"57.64\" style=\"stroke-width: 1.07;\"/>\n<line x1=\"107.24\" y1=\"57.64\" x2=\"107.24\" y2=\"57.64\" style=\"stroke-width: 1.07;\"/>\n</g>\n<g clip-path=\"url(#cpMC4wMHw0MzIuMDB8MC4wMHw0MzIuMDA=)\">\n<polyline points=\"74.63,341.48 74.63,5.48 \" style=\"stroke-width: 2.56; stroke-linecap: butt;\"/>\n<text x=\"68.19\" y=\"346.66\" text-anchor=\"end\" style=\"font-size: 18.00px;fill: #151515; font-family: &quot;Nimbus Sans&quot;;\" textLength=\"41.03px\" lengthAdjust=\"spacingAndGlyphs\">-0.25</text>\n<text x=\"68.19\" y=\"277.23\" text-anchor=\"end\" style=\"font-size: 18.00px;fill: #151515; font-family: &quot;Nimbus Sans&quot;;\" textLength=\"35.03px\" lengthAdjust=\"spacingAndGlyphs\">0.00</text>\n<text x=\"68.19\" y=\"207.81\" text-anchor=\"end\" style=\"font-size: 18.00px;fill: #151515; font-family: &quot;Nimbus Sans&quot;;\" textLength=\"35.03px\" lengthAdjust=\"spacingAndGlyphs\">0.25</text>\n<text x=\"68.19\" y=\"138.39\" text-anchor=\"end\" style=\"font-size: 18.00px;fill: #151515; font-family: &quot;Nimbus Sans&quot;;\" textLength=\"35.03px\" lengthAdjust=\"spacingAndGlyphs\">0.50</text>\n<text x=\"68.19\" y=\"68.97\" text-anchor=\"end\" style=\"font-size: 18.00px;fill: #151515; font-family: &quot;Nimbus Sans&quot;;\" textLength=\"35.03px\" lengthAdjust=\"spacingAndGlyphs\">0.75</text>\n<polyline points=\"70.38,340.09 74.63,340.09 \" style=\"stroke-width: 1.07; stroke: #151515; stroke-linecap: butt;\"/>\n<polyline points=\"70.38,270.67 74.63,270.67 \" style=\"stroke-width: 1.07; stroke: #151515; stroke-linecap: butt;\"/>\n<polyline points=\"70.38,201.25 74.63,201.25 \" style=\"stroke-width: 1.07; stroke: #151515; stroke-linecap: butt;\"/>\n<polyline points=\"70.38,131.83 74.63,131.83 \" style=\"stroke-width: 1.07; stroke: #151515; stroke-linecap: butt;\"/>\n<polyline points=\"70.38,62.41 74.63,62.41 \" style=\"stroke-width: 1.07; stroke: #151515; stroke-linecap: butt;\"/>\n<polyline points=\"74.63,341.48 302.90,341.48 \" style=\"stroke-width: 2.56; stroke-linecap: butt;\"/>\n<polyline points=\"107.24,345.73 107.24,341.48 \" style=\"stroke-width: 1.07; stroke: #151515; stroke-linecap: butt;\"/>\n<polyline points=\"161.59,345.73 161.59,341.48 \" style=\"stroke-width: 1.07; stroke: #151515; stroke-linecap: butt;\"/>\n<polyline points=\"215.94,345.73 215.94,341.48 \" style=\"stroke-width: 1.07; stroke: #151515; stroke-linecap: butt;\"/>\n<polyline points=\"270.29,345.73 270.29,341.48 \" style=\"stroke-width: 1.07; stroke: #151515; stroke-linecap: butt;\"/>\n<text transform=\"translate(112.71,357.40) rotate(-30)\" text-anchor=\"end\" style=\"font-size: 15.00px;fill: #151515; font-family: &quot;Nimbus Sans&quot;;\" textLength=\"89.21px\" lengthAdjust=\"spacingAndGlyphs\">osgoodspace</text>\n<text transform=\"translate(167.06,357.40) rotate(-30)\" text-anchor=\"end\" style=\"font-size: 15.00px;fill: #151515; font-family: &quot;Nimbus Sans&quot;;\" textLength=\"48.36px\" lengthAdjust=\"spacingAndGlyphs\">fasttext</text>\n<text transform=\"translate(221.41,357.40) rotate(-30)\" text-anchor=\"end\" style=\"font-size: 15.00px;fill: #151515; font-family: &quot;Nimbus Sans&quot;;\" textLength=\"65.03px\" lengthAdjust=\"spacingAndGlyphs\">fasttext2d</text>\n<text transform=\"translate(275.76,357.40) rotate(-30)\" text-anchor=\"end\" style=\"font-size: 15.00px;fill: #151515; font-family: &quot;Nimbus Sans&quot;;\" textLength=\"85.03px\" lengthAdjust=\"spacingAndGlyphs\">controlspace</text>\n<text x=\"188.77\" y=\"422.16\" text-anchor=\"middle\" style=\"font-size: 20.00px;fill: #151515; font-family: &quot;Nimbus Sans&quot;;\" textLength=\"84.47px\" lengthAdjust=\"spacingAndGlyphs\">Condition</text>\n<text transform=\"translate(20.06,173.48) rotate(-90)\" text-anchor=\"middle\" style=\"font-size: 20.00px;fill: #151515; font-family: &quot;Nimbus Sans&quot;;\" textLength=\"104.47px\" lengthAdjust=\"spacingAndGlyphs\">Coefficients</text>\n<text x=\"319.34\" y=\"140.65\" style=\"font-size: 15.00px;fill: #151515; font-family: &quot;Nimbus Sans&quot;;\" textLength=\"101.70px\" lengthAdjust=\"spacingAndGlyphs\">rho-coefficients</text>\n<rect x=\"320.05\" y=\"150.47\" width=\"15.86\" height=\"15.86\" style=\"stroke-width: 1.07; stroke: none; stroke-linecap: butt; stroke-linejoin: miter; fill: #89DCEB;\"/>\n<rect x=\"320.05\" y=\"167.75\" width=\"15.86\" height=\"15.86\" style=\"stroke-width: 1.07; stroke: none; stroke-linecap: butt; stroke-linejoin: miter; fill: #74C7EC;\"/>\n<rect x=\"320.05\" y=\"185.03\" width=\"15.86\" height=\"15.86\" style=\"stroke-width: 1.07; stroke: none; stroke-linecap: butt; stroke-linejoin: miter; fill: #89B4FA;\"/>\n<rect x=\"320.05\" y=\"202.31\" width=\"15.86\" height=\"15.86\" style=\"stroke-width: 1.07; stroke: none; stroke-linecap: butt; stroke-linejoin: miter; fill: #B4BEFE;\"/>\n<text x=\"344.09\" y=\"163.87\" style=\"font-size: 15.00px;fill: #151515; font-family: &quot;Nimbus Sans&quot;;\" textLength=\"37.52px\" lengthAdjust=\"spacingAndGlyphs\">0.296</text>\n<text x=\"344.09\" y=\"181.15\" style=\"font-size: 15.00px;fill: #151515; font-family: &quot;Nimbus Sans&quot;;\" textLength=\"37.52px\" lengthAdjust=\"spacingAndGlyphs\">0.029</text>\n<text x=\"344.09\" y=\"198.43\" style=\"font-size: 15.00px;fill: #151515; font-family: &quot;Nimbus Sans&quot;;\" textLength=\"42.52px\" lengthAdjust=\"spacingAndGlyphs\">-0.161</text>\n<text x=\"344.09\" y=\"215.71\" style=\"font-size: 15.00px;fill: #151515; font-family: &quot;Nimbus Sans&quot;;\" textLength=\"37.52px\" lengthAdjust=\"spacingAndGlyphs\">0.343</text>\n</g>\n</svg>",
      "text/plain": [
       "<IPython.core.display.SVG object>"
      ]
     },
     "metadata": {},
     "output_type": "display_data"
    },
    {
     "data": {
      "image/svg+xml": "<svg xmlns=\"http://www.w3.org/2000/svg\" xmlns:xlink=\"http://www.w3.org/1999/xlink\" class=\"svglite\" width=\"432.00pt\" height=\"432.00pt\" viewBox=\"0 0 432.00 432.00\">\n<defs>\n  <style type=\"text/css\"><![CDATA[\n    .svglite line, .svglite polyline, .svglite polygon, .svglite path, .svglite rect, .svglite circle {\n      fill: none;\n      stroke: #000000;\n      stroke-linecap: round;\n      stroke-linejoin: round;\n      stroke-miterlimit: 10.00;\n    }\n    .svglite text {\n      white-space: pre;\n    }\n  ]]></style>\n</defs>\n<rect width=\"100%\" height=\"100%\" style=\"stroke: none; fill: #FFFFFF;\"/>\n<defs>\n  <clipPath id=\"cpMC4wMHw0MzIuMDB8MC4wMHw0MzIuMDA=\">\n    <rect x=\"0.00\" y=\"0.00\" width=\"432.00\" height=\"432.00\"/>\n  </clipPath>\n</defs>\n<g clip-path=\"url(#cpMC4wMHw0MzIuMDB8MC4wMHw0MzIuMDA=)\">\n<rect x=\"0.000000000000032\" y=\"0.000000000000057\" width=\"432.00\" height=\"432.00\" style=\"stroke-width: 1.07; stroke: #FFFFFF; fill: #FFFFFF;\"/>\n</g>\n<defs>\n  <clipPath id=\"cpNjguNjN8MzAyLjkwfDUuNDh8MzQxLjQ4\">\n    <rect x=\"68.63\" y=\"5.48\" width=\"234.27\" height=\"336.00\"/>\n  </clipPath>\n</defs>\n<g clip-path=\"url(#cpNjguNjN8MzAyLjkwfDUuNDh8MzQxLjQ4)\">\n<rect x=\"68.63\" y=\"5.48\" width=\"234.27\" height=\"336.00\" style=\"stroke-width: 1.07; stroke: none; fill: #FFFFFF;\"/>\n<polyline points=\"68.63,333.84 302.90,333.84 \" style=\"stroke-width: 0.53; stroke: #FFFFFF; stroke-linecap: butt;\"/>\n<polyline points=\"68.63,257.48 302.90,257.48 \" style=\"stroke-width: 0.53; stroke: #FFFFFF; stroke-linecap: butt;\"/>\n<polyline points=\"68.63,181.12 302.90,181.12 \" style=\"stroke-width: 0.53; stroke: #FFFFFF; stroke-linecap: butt;\"/>\n<polyline points=\"68.63,104.75 302.90,104.75 \" style=\"stroke-width: 0.53; stroke: #FFFFFF; stroke-linecap: butt;\"/>\n<polyline points=\"68.63,28.39 302.90,28.39 \" style=\"stroke-width: 0.53; stroke: #FFFFFF; stroke-linecap: butt;\"/>\n<polyline points=\"68.63,295.66 302.90,295.66 \" style=\"stroke-width: 1.07; stroke: #FFFFFF; stroke-linecap: butt;\"/>\n<polyline points=\"68.63,219.30 302.90,219.30 \" style=\"stroke-width: 1.07; stroke: #FFFFFF; stroke-linecap: butt;\"/>\n<polyline points=\"68.63,142.93 302.90,142.93 \" style=\"stroke-width: 1.07; stroke: #FFFFFF; stroke-linecap: butt;\"/>\n<polyline points=\"68.63,66.57 302.90,66.57 \" style=\"stroke-width: 1.07; stroke: #FFFFFF; stroke-linecap: butt;\"/>\n<polyline points=\"102.10,341.48 102.10,5.48 \" style=\"stroke-width: 1.07; stroke: #FFFFFF; stroke-linecap: butt;\"/>\n<polyline points=\"157.88,341.48 157.88,5.48 \" style=\"stroke-width: 1.07; stroke: #FFFFFF; stroke-linecap: butt;\"/>\n<polyline points=\"213.66,341.48 213.66,5.48 \" style=\"stroke-width: 1.07; stroke: #FFFFFF; stroke-linecap: butt;\"/>\n<polyline points=\"269.44,341.48 269.44,5.48 \" style=\"stroke-width: 1.07; stroke: #FFFFFF; stroke-linecap: butt;\"/>\n<rect x=\"77.00\" y=\"147.80\" width=\"50.20\" height=\"147.86\" style=\"stroke-width: 1.07; stroke: none; stroke-linecap: butt; stroke-linejoin: miter; fill: #89DCEB;\"/>\n<rect x=\"132.78\" y=\"148.28\" width=\"50.20\" height=\"147.38\" style=\"stroke-width: 1.07; stroke: none; stroke-linecap: butt; stroke-linejoin: miter; fill: #74C7EC;\"/>\n<rect x=\"188.56\" y=\"295.66\" width=\"50.20\" height=\"20.67\" style=\"stroke-width: 1.07; stroke: none; stroke-linecap: butt; stroke-linejoin: miter; fill: #89B4FA;\"/>\n<rect x=\"244.34\" y=\"285.36\" width=\"50.20\" height=\"10.30\" style=\"stroke-width: 1.07; stroke: none; stroke-linecap: butt; stroke-linejoin: miter; fill: #B4BEFE;\"/>\n<text x=\"102.10\" y=\"147.79\" text-anchor=\"middle\" style=\"font-size: 17.07px; font-family: &quot;Liberation Sans&quot;;\" textLength=\"37.61px\" lengthAdjust=\"spacingAndGlyphs\">****</text>\n<text x=\"157.88\" y=\"148.27\" text-anchor=\"middle\" style=\"font-size: 17.07px; font-family: &quot;Liberation Sans&quot;;\" textLength=\"37.61px\" lengthAdjust=\"spacingAndGlyphs\">****</text>\n<text x=\"129.99\" y=\"95.93\" text-anchor=\"middle\" style=\"font-size: 11.38px; font-family: &quot;Liberation Sans&quot;;\" textLength=\"48.51px\" lengthAdjust=\"spacingAndGlyphs\">p = 0.994</text>\n<line x1=\"157.88\" y1=\"103.35\" x2=\"157.88\" y2=\"103.35\" style=\"stroke-width: 1.07;\"/>\n<line x1=\"157.88\" y1=\"103.35\" x2=\"102.10\" y2=\"103.35\" style=\"stroke-width: 1.07;\"/>\n<line x1=\"102.10\" y1=\"103.35\" x2=\"102.10\" y2=\"103.35\" style=\"stroke-width: 1.07;\"/>\n<text x=\"157.88\" y=\"74.55\" text-anchor=\"middle\" style=\"font-size: 11.38px; font-family: &quot;Liberation Sans&quot;;\" textLength=\"48.51px\" lengthAdjust=\"spacingAndGlyphs\">p &lt; 0.001</text>\n<line x1=\"213.66\" y1=\"81.97\" x2=\"213.66\" y2=\"81.97\" style=\"stroke-width: 1.07;\"/>\n<line x1=\"213.66\" y1=\"81.97\" x2=\"102.10\" y2=\"81.97\" style=\"stroke-width: 1.07;\"/>\n<line x1=\"102.10\" y1=\"81.97\" x2=\"102.10\" y2=\"81.97\" style=\"stroke-width: 1.07;\"/>\n<text x=\"185.77\" y=\"53.16\" text-anchor=\"middle\" style=\"font-size: 11.38px; font-family: &quot;Liberation Sans&quot;;\" textLength=\"48.51px\" lengthAdjust=\"spacingAndGlyphs\">p &lt; 0.001</text>\n<line x1=\"269.44\" y1=\"60.59\" x2=\"269.44\" y2=\"60.59\" style=\"stroke-width: 1.07;\"/>\n<line x1=\"269.44\" y1=\"60.59\" x2=\"102.10\" y2=\"60.59\" style=\"stroke-width: 1.07;\"/>\n<line x1=\"102.10\" y1=\"60.59\" x2=\"102.10\" y2=\"60.59\" style=\"stroke-width: 1.07;\"/>\n</g>\n<g clip-path=\"url(#cpMC4wMHw0MzIuMDB8MC4wMHw0MzIuMDA=)\">\n<polyline points=\"68.63,341.48 68.63,5.48 \" style=\"stroke-width: 2.56; stroke-linecap: butt;\"/>\n<text x=\"62.19\" y=\"302.23\" text-anchor=\"end\" style=\"font-size: 18.00px;fill: #151515; font-family: &quot;Nimbus Sans&quot;;\" textLength=\"35.03px\" lengthAdjust=\"spacingAndGlyphs\">0.00</text>\n<text x=\"62.19\" y=\"225.86\" text-anchor=\"end\" style=\"font-size: 18.00px;fill: #151515; font-family: &quot;Nimbus Sans&quot;;\" textLength=\"35.03px\" lengthAdjust=\"spacingAndGlyphs\">0.25</text>\n<text x=\"62.19\" y=\"149.50\" text-anchor=\"end\" style=\"font-size: 18.00px;fill: #151515; font-family: &quot;Nimbus Sans&quot;;\" textLength=\"35.03px\" lengthAdjust=\"spacingAndGlyphs\">0.50</text>\n<text x=\"62.19\" y=\"73.13\" text-anchor=\"end\" style=\"font-size: 18.00px;fill: #151515; font-family: &quot;Nimbus Sans&quot;;\" textLength=\"35.03px\" lengthAdjust=\"spacingAndGlyphs\">0.75</text>\n<polyline points=\"64.38,295.66 68.63,295.66 \" style=\"stroke-width: 1.07; stroke: #151515; stroke-linecap: butt;\"/>\n<polyline points=\"64.38,219.30 68.63,219.30 \" style=\"stroke-width: 1.07; stroke: #151515; stroke-linecap: butt;\"/>\n<polyline points=\"64.38,142.93 68.63,142.93 \" style=\"stroke-width: 1.07; stroke: #151515; stroke-linecap: butt;\"/>\n<polyline points=\"64.38,66.57 68.63,66.57 \" style=\"stroke-width: 1.07; stroke: #151515; stroke-linecap: butt;\"/>\n<polyline points=\"68.63,341.48 302.90,341.48 \" style=\"stroke-width: 2.56; stroke-linecap: butt;\"/>\n<polyline points=\"102.10,345.73 102.10,341.48 \" style=\"stroke-width: 1.07; stroke: #151515; stroke-linecap: butt;\"/>\n<polyline points=\"157.88,345.73 157.88,341.48 \" style=\"stroke-width: 1.07; stroke: #151515; stroke-linecap: butt;\"/>\n<polyline points=\"213.66,345.73 213.66,341.48 \" style=\"stroke-width: 1.07; stroke: #151515; stroke-linecap: butt;\"/>\n<polyline points=\"269.44,345.73 269.44,341.48 \" style=\"stroke-width: 1.07; stroke: #151515; stroke-linecap: butt;\"/>\n<text transform=\"translate(107.57,357.40) rotate(-30)\" text-anchor=\"end\" style=\"font-size: 15.00px;fill: #151515; font-family: &quot;Nimbus Sans&quot;;\" textLength=\"89.21px\" lengthAdjust=\"spacingAndGlyphs\">osgoodspace</text>\n<text transform=\"translate(163.35,357.40) rotate(-30)\" text-anchor=\"end\" style=\"font-size: 15.00px;fill: #151515; font-family: &quot;Nimbus Sans&quot;;\" textLength=\"48.36px\" lengthAdjust=\"spacingAndGlyphs\">fasttext</text>\n<text transform=\"translate(219.13,357.40) rotate(-30)\" text-anchor=\"end\" style=\"font-size: 15.00px;fill: #151515; font-family: &quot;Nimbus Sans&quot;;\" textLength=\"65.03px\" lengthAdjust=\"spacingAndGlyphs\">fasttext2d</text>\n<text transform=\"translate(274.90,357.40) rotate(-30)\" text-anchor=\"end\" style=\"font-size: 15.00px;fill: #151515; font-family: &quot;Nimbus Sans&quot;;\" textLength=\"85.03px\" lengthAdjust=\"spacingAndGlyphs\">controlspace</text>\n<text x=\"185.77\" y=\"422.16\" text-anchor=\"middle\" style=\"font-size: 20.00px;fill: #151515; font-family: &quot;Nimbus Sans&quot;;\" textLength=\"84.47px\" lengthAdjust=\"spacingAndGlyphs\">Condition</text>\n<text transform=\"translate(20.06,173.48) rotate(-90)\" text-anchor=\"middle\" style=\"font-size: 20.00px;fill: #151515; font-family: &quot;Nimbus Sans&quot;;\" textLength=\"104.47px\" lengthAdjust=\"spacingAndGlyphs\">Coefficients</text>\n<text x=\"319.34\" y=\"140.65\" style=\"font-size: 15.00px;fill: #151515; font-family: &quot;Nimbus Sans&quot;;\" textLength=\"101.70px\" lengthAdjust=\"spacingAndGlyphs\">rho-coefficients</text>\n<rect x=\"320.05\" y=\"150.47\" width=\"15.86\" height=\"15.86\" style=\"stroke-width: 1.07; stroke: none; stroke-linecap: butt; stroke-linejoin: miter; fill: #89DCEB;\"/>\n<rect x=\"320.05\" y=\"167.75\" width=\"15.86\" height=\"15.86\" style=\"stroke-width: 1.07; stroke: none; stroke-linecap: butt; stroke-linejoin: miter; fill: #74C7EC;\"/>\n<rect x=\"320.05\" y=\"185.03\" width=\"15.86\" height=\"15.86\" style=\"stroke-width: 1.07; stroke: none; stroke-linecap: butt; stroke-linejoin: miter; fill: #89B4FA;\"/>\n<rect x=\"320.05\" y=\"202.31\" width=\"15.86\" height=\"15.86\" style=\"stroke-width: 1.07; stroke: none; stroke-linecap: butt; stroke-linejoin: miter; fill: #B4BEFE;\"/>\n<text x=\"344.09\" y=\"163.87\" style=\"font-size: 15.00px;fill: #151515; font-family: &quot;Nimbus Sans&quot;;\" textLength=\"37.52px\" lengthAdjust=\"spacingAndGlyphs\">0.484</text>\n<text x=\"344.09\" y=\"181.15\" style=\"font-size: 15.00px;fill: #151515; font-family: &quot;Nimbus Sans&quot;;\" textLength=\"37.52px\" lengthAdjust=\"spacingAndGlyphs\">0.482</text>\n<text x=\"344.09\" y=\"198.43\" style=\"font-size: 15.00px;fill: #151515; font-family: &quot;Nimbus Sans&quot;;\" textLength=\"42.52px\" lengthAdjust=\"spacingAndGlyphs\">-0.068</text>\n<text x=\"344.09\" y=\"215.71\" style=\"font-size: 15.00px;fill: #151515; font-family: &quot;Nimbus Sans&quot;;\" textLength=\"37.52px\" lengthAdjust=\"spacingAndGlyphs\">0.034</text>\n</g>\n</svg>",
      "text/plain": [
       "<IPython.core.display.SVG object>"
      ]
     },
     "metadata": {},
     "output_type": "display_data"
    }
   ],
   "source": [
    "!./module_nlp/core/plots.R \"rdm_osgood_col\"\n",
    "!./module_nlp/core/plots.R \"rdm_osgood_em\"\n",
    "\n",
    "# Display svg images\n",
    "from IPython.display import SVG\n",
    "display(SVG(\"../figures/7C.svg\"))\n",
    "display(SVG(\"../figures/7D.svg\"))"
   ]
  },
  {
   "attachments": {},
   "cell_type": "markdown",
   "metadata": {},
   "source": [
    "# Figure 7E"
   ]
  },
  {
   "cell_type": "code",
   "execution_count": 24,
   "metadata": {},
   "outputs": [
    {
     "name": "stdout",
     "output_type": "stream",
     "text": [
      "\u001b[?25h\u001b[?25h\u001b[?25h\u001b[?25h\u001b[?25h\u001b[?25h\u001b[?25h\u001b[?25h\u001b[?25h\u001b[?25h\u001b[?25h\u001b[?25h\u001b[?25h"
     ]
    },
    {
     "data": {
      "image/svg+xml": "<svg xmlns=\"http://www.w3.org/2000/svg\" xmlns:xlink=\"http://www.w3.org/1999/xlink\" class=\"svglite\" width=\"432.00pt\" height=\"432.00pt\" viewBox=\"0 0 432.00 432.00\">\n<defs>\n  <style type=\"text/css\"><![CDATA[\n    .svglite line, .svglite polyline, .svglite polygon, .svglite path, .svglite rect, .svglite circle {\n      fill: none;\n      stroke: #000000;\n      stroke-linecap: round;\n      stroke-linejoin: round;\n      stroke-miterlimit: 10.00;\n    }\n    .svglite text {\n      white-space: pre;\n    }\n  ]]></style>\n</defs>\n<rect width=\"100%\" height=\"100%\" style=\"stroke: none; fill: #FFFFFF;\"/>\n<defs>\n  <clipPath id=\"cpMC4wMHw0MzIuMDB8MC4wMHw0MzIuMDA=\">\n    <rect x=\"0.00\" y=\"0.00\" width=\"432.00\" height=\"432.00\"/>\n  </clipPath>\n</defs>\n<g clip-path=\"url(#cpMC4wMHw0MzIuMDB8MC4wMHw0MzIuMDA=)\">\n<rect x=\"0.000000000000032\" y=\"0.00\" width=\"432.00\" height=\"432.00\" style=\"stroke-width: 1.07; stroke: #FFFFFF; fill: #FFFFFF;\"/>\n</g>\n<defs>\n  <clipPath id=\"cpNDkuNjF8NDI2LjUyfDUuNDh8MzgxLjM0\">\n    <rect x=\"49.61\" y=\"5.48\" width=\"376.91\" height=\"375.86\"/>\n  </clipPath>\n</defs>\n<g clip-path=\"url(#cpNDkuNjF8NDI2LjUyfDUuNDh8MzgxLjM0)\">\n<rect x=\"49.61\" y=\"5.48\" width=\"376.91\" height=\"375.86\" style=\"stroke-width: 1.07; stroke: none; fill: #FFFFFF;\"/>\n<polyline points=\"49.61,346.09 426.52,346.09 \" style=\"stroke-width: 0.53; stroke: #FFFFFF; stroke-linecap: butt;\"/>\n<polyline points=\"49.61,246.79 426.52,246.79 \" style=\"stroke-width: 0.53; stroke: #FFFFFF; stroke-linecap: butt;\"/>\n<polyline points=\"49.61,147.49 426.52,147.49 \" style=\"stroke-width: 0.53; stroke: #FFFFFF; stroke-linecap: butt;\"/>\n<polyline points=\"49.61,48.18 426.52,48.18 \" style=\"stroke-width: 0.53; stroke: #FFFFFF; stroke-linecap: butt;\"/>\n<polyline points=\"68.92,381.34 68.92,5.48 \" style=\"stroke-width: 0.53; stroke: #FFFFFF; stroke-linecap: butt;\"/>\n<polyline points=\"168.31,381.34 168.31,5.48 \" style=\"stroke-width: 0.53; stroke: #FFFFFF; stroke-linecap: butt;\"/>\n<polyline points=\"267.70,381.34 267.70,5.48 \" style=\"stroke-width: 0.53; stroke: #FFFFFF; stroke-linecap: butt;\"/>\n<polyline points=\"367.10,381.34 367.10,5.48 \" style=\"stroke-width: 0.53; stroke: #FFFFFF; stroke-linecap: butt;\"/>\n<polyline points=\"49.61,296.44 426.52,296.44 \" style=\"stroke-width: 1.07; stroke: #FFFFFF; stroke-linecap: butt;\"/>\n<polyline points=\"49.61,197.14 426.52,197.14 \" style=\"stroke-width: 1.07; stroke: #FFFFFF; stroke-linecap: butt;\"/>\n<polyline points=\"49.61,97.84 426.52,97.84 \" style=\"stroke-width: 1.07; stroke: #FFFFFF; stroke-linecap: butt;\"/>\n<polyline points=\"118.61,381.34 118.61,5.48 \" style=\"stroke-width: 1.07; stroke: #FFFFFF; stroke-linecap: butt;\"/>\n<polyline points=\"218.01,381.34 218.01,5.48 \" style=\"stroke-width: 1.07; stroke: #FFFFFF; stroke-linecap: butt;\"/>\n<polyline points=\"317.40,381.34 317.40,5.48 \" style=\"stroke-width: 1.07; stroke: #FFFFFF; stroke-linecap: butt;\"/>\n<polyline points=\"416.79,381.34 416.79,5.48 \" style=\"stroke-width: 1.07; stroke: #FFFFFF; stroke-linecap: butt;\"/>\n<circle cx=\"409.39\" cy=\"223.63\" r=\"5.19\" style=\"stroke-width: 0.71; stroke: #00FF00; fill: #00FF00;\"/>\n<circle cx=\"219.91\" cy=\"35.29\" r=\"5.19\" style=\"stroke-width: 0.71; stroke: #FFA500; fill: #FFA500;\"/>\n<circle cx=\"91.79\" cy=\"148.67\" r=\"5.19\" style=\"stroke-width: 0.71; stroke: #FFFF00; fill: #FFFF00;\"/>\n<circle cx=\"254.02\" cy=\"309.40\" r=\"5.19\" style=\"stroke-width: 0.71; stroke: #0000FF; fill: #0000FF;\"/>\n<circle cx=\"159.32\" cy=\"318.81\" r=\"5.19\" style=\"stroke-width: 0.71; stroke: #A020F0; fill: #A020F0;\"/>\n<circle cx=\"173.61\" cy=\"147.02\" r=\"5.19\" style=\"stroke-width: 0.71; stroke: #FF0000; fill: #FF0000;\"/>\n<circle cx=\"272.58\" cy=\"146.57\" r=\"5.19\" style=\"stroke-width: 0.71; stroke: #E64200; fill: #E64200;\"/>\n<circle cx=\"334.82\" cy=\"22.56\" r=\"5.19\" style=\"stroke-width: 0.71; stroke: #AB4600; fill: #AB4600;\"/>\n<circle cx=\"371.01\" cy=\"265.09\" r=\"5.19\" style=\"stroke-width: 0.71; stroke: #007065; fill: #007065;\"/>\n<circle cx=\"326.21\" cy=\"230.61\" r=\"5.19\" style=\"stroke-width: 0.71; stroke: #004C76; fill: #004C76;\"/>\n<circle cx=\"357.20\" cy=\"84.14\" r=\"5.19\" style=\"stroke-width: 0.71; stroke: #566200; fill: #566200;\"/>\n<circle cx=\"362.04\" cy=\"113.78\" r=\"5.19\" style=\"stroke-width: 0.71; stroke: #4E6700; fill: #4E6700;\"/>\n<circle cx=\"108.84\" cy=\"360.47\" r=\"5.19\" style=\"stroke-width: 0.71; stroke: #6100B3; fill: #6100B3;\"/>\n<circle cx=\"139.86\" cy=\"364.26\" r=\"5.19\" style=\"stroke-width: 0.71; stroke: #7F00E3; fill: #7F00E3;\"/>\n<circle cx=\"119.92\" cy=\"227.75\" r=\"5.19\" style=\"stroke-width: 0.71; stroke: #FF7F00; fill: #FF7F00;\"/>\n<circle cx=\"138.66\" cy=\"360.97\" r=\"5.19\" style=\"stroke-width: 0.71; stroke: #7F00E3; fill: #7F00E3;\"/>\n<circle cx=\"144.90\" cy=\"199.95\" r=\"5.19\" style=\"stroke-width: 0.71; stroke: #FF7F00; fill: #FF7F00;\"/>\n<circle cx=\"180.37\" cy=\"167.35\" r=\"5.19\" style=\"stroke-width: 0.71; stroke: #FF7F00; fill: #FF7F00;\"/>\n<circle cx=\"111.60\" cy=\"160.33\" r=\"5.19\" style=\"stroke-width: 0.71; stroke: #FF7F00; fill: #FF7F00;\"/>\n<circle cx=\"286.88\" cy=\"97.81\" r=\"5.19\" style=\"stroke-width: 0.71; stroke: #E65900; fill: #E65900;\"/>\n<circle cx=\"259.93\" cy=\"142.82\" r=\"5.19\" style=\"stroke-width: 0.71; stroke: #ED4700; fill: #ED4700;\"/>\n<circle cx=\"161.64\" cy=\"283.53\" r=\"5.19\" style=\"stroke-width: 0.71; stroke: #7F00FF; fill: #7F00FF;\"/>\n<circle cx=\"180.90\" cy=\"84.85\" r=\"5.19\" style=\"stroke-width: 0.71; stroke: #FF7F00; fill: #FF7F00;\"/>\n<circle cx=\"66.74\" cy=\"235.63\" r=\"5.19\" style=\"stroke-width: 0.71; stroke: #B27F33; fill: #B27F33;\"/>\n<text x=\"409.39\" y=\"223.99\" text-anchor=\"middle\" style=\"font-size: 0.00px; font-family: &quot;Liberation Sans&quot;;\" textLength=\"3.22px\" lengthAdjust=\"spacingAndGlyphs\">GREEN</text>\n<text x=\"219.91\" y=\"35.65\" text-anchor=\"middle\" style=\"font-size: 0.00px; font-family: &quot;Liberation Sans&quot;;\" textLength=\"4.08px\" lengthAdjust=\"spacingAndGlyphs\">ORANGE</text>\n<text x=\"91.79\" y=\"149.03\" text-anchor=\"middle\" style=\"font-size: 0.00px; font-family: &quot;Liberation Sans&quot;;\" textLength=\"3.88px\" lengthAdjust=\"spacingAndGlyphs\">YELLOW</text>\n<text x=\"254.02\" y=\"309.76\" text-anchor=\"middle\" style=\"font-size: 0.00px; font-family: &quot;Liberation Sans&quot;;\" textLength=\"2.46px\" lengthAdjust=\"spacingAndGlyphs\">BLUE</text>\n<text x=\"159.32\" y=\"319.16\" text-anchor=\"middle\" style=\"font-size: 0.00px; font-family: &quot;Liberation Sans&quot;;\" textLength=\"3.64px\" lengthAdjust=\"spacingAndGlyphs\">PURPLE</text>\n<text x=\"173.61\" y=\"147.37\" text-anchor=\"middle\" style=\"font-size: 0.00px; font-family: &quot;Liberation Sans&quot;;\" textLength=\"1.90px\" lengthAdjust=\"spacingAndGlyphs\">RED</text>\n<text x=\"272.58\" y=\"146.93\" text-anchor=\"middle\" style=\"font-size: 0.00px; font-family: &quot;Liberation Sans&quot;;\" textLength=\"5.29px\" lengthAdjust=\"spacingAndGlyphs\">SURPRISED</text>\n<text x=\"334.82\" y=\"22.92\" text-anchor=\"middle\" style=\"font-size: 0.00px; font-family: &quot;Liberation Sans&quot;;\" textLength=\"3.95px\" lengthAdjust=\"spacingAndGlyphs\">EXCITED</text>\n<text x=\"371.01\" y=\"265.44\" text-anchor=\"middle\" style=\"font-size: 0.00px; font-family: &quot;Liberation Sans&quot;;\" textLength=\"3.59px\" lengthAdjust=\"spacingAndGlyphs\">SERENE</text>\n<text x=\"326.21\" y=\"230.97\" text-anchor=\"middle\" style=\"font-size: 0.00px; font-family: &quot;Liberation Sans&quot;;\" textLength=\"3.16px\" lengthAdjust=\"spacingAndGlyphs\">HAPPY</text>\n<text x=\"357.20\" y=\"84.49\" text-anchor=\"middle\" style=\"font-size: 0.00px; font-family: &quot;Liberation Sans&quot;;\" textLength=\"4.77px\" lengthAdjust=\"spacingAndGlyphs\">SATISFIED</text>\n<text x=\"362.04\" y=\"114.14\" text-anchor=\"middle\" style=\"font-size: 0.00px; font-family: &quot;Liberation Sans&quot;;\" textLength=\"2.71px\" lengthAdjust=\"spacingAndGlyphs\">CALM</text>\n<text x=\"108.84\" y=\"360.83\" text-anchor=\"middle\" style=\"font-size: 0.00px; font-family: &quot;Liberation Sans&quot;;\" textLength=\"2.79px\" lengthAdjust=\"spacingAndGlyphs\">TIRED</text>\n<text x=\"139.86\" y=\"364.62\" text-anchor=\"middle\" style=\"font-size: 0.00px; font-family: &quot;Liberation Sans&quot;;\" textLength=\"3.33px\" lengthAdjust=\"spacingAndGlyphs\">BORED</text>\n<text x=\"119.92\" y=\"228.11\" text-anchor=\"middle\" style=\"font-size: 0.00px; font-family: &quot;Liberation Sans&quot;;\" textLength=\"5.44px\" lengthAdjust=\"spacingAndGlyphs\">DEPRESSED</text>\n<text x=\"138.66\" y=\"361.32\" text-anchor=\"middle\" style=\"font-size: 0.00px; font-family: &quot;Liberation Sans&quot;;\" textLength=\"1.92px\" lengthAdjust=\"spacingAndGlyphs\">SAD</text>\n<text x=\"144.90\" y=\"200.31\" text-anchor=\"middle\" style=\"font-size: 0.00px; font-family: &quot;Liberation Sans&quot;;\" textLength=\"6.07px\" lengthAdjust=\"spacingAndGlyphs\">FRUSTRATED</text>\n<text x=\"180.37\" y=\"167.70\" text-anchor=\"middle\" style=\"font-size: 0.00px; font-family: &quot;Liberation Sans&quot;;\" textLength=\"3.48px\" lengthAdjust=\"spacingAndGlyphs\">AFRAID</text>\n<text x=\"111.60\" y=\"160.69\" text-anchor=\"middle\" style=\"font-size: 0.00px; font-family: &quot;Liberation Sans&quot;;\" textLength=\"3.32px\" lengthAdjust=\"spacingAndGlyphs\">ANGRY</text>\n<text x=\"286.88\" y=\"98.16\" text-anchor=\"middle\" style=\"font-size: 0.00px; font-family: &quot;Liberation Sans&quot;;\" textLength=\"4.65px\" lengthAdjust=\"spacingAndGlyphs\">STRESSED</text>\n<text x=\"259.93\" y=\"143.17\" text-anchor=\"middle\" style=\"font-size: 0.00px; font-family: &quot;Liberation Sans&quot;;\" textLength=\"6.19px\" lengthAdjust=\"spacingAndGlyphs\">ASTONISHED</text>\n<text x=\"161.64\" y=\"283.89\" text-anchor=\"middle\" style=\"font-size: 0.00px; font-family: &quot;Liberation Sans&quot;;\" textLength=\"3.36px\" lengthAdjust=\"spacingAndGlyphs\">SLEEPY</text>\n<text x=\"180.90\" y=\"85.20\" text-anchor=\"middle\" style=\"font-size: 0.00px; font-family: &quot;Liberation Sans&quot;;\" textLength=\"4.62px\" lengthAdjust=\"spacingAndGlyphs\">ALARMED</text>\n<text x=\"66.74\" y=\"235.98\" text-anchor=\"middle\" style=\"font-size: 0.00px; font-family: &quot;Liberation Sans&quot;;\" textLength=\"5.46px\" lengthAdjust=\"spacingAndGlyphs\">DISGUSTED</text>\n<text x=\"383.87\" y=\"218.93\" text-anchor=\"middle\" style=\"font-size: 14.23px; font-family: &quot;Liberation Sans&quot;;\" textLength=\"45.81px\" lengthAdjust=\"spacingAndGlyphs\">GREEN</text>\n<text x=\"210.08\" y=\"50.12\" text-anchor=\"middle\" style=\"font-size: 14.23px; font-family: &quot;Liberation Sans&quot;;\" textLength=\"58.10px\" lengthAdjust=\"spacingAndGlyphs\">ORANGE</text>\n<text x=\"81.91\" y=\"143.89\" text-anchor=\"middle\" style=\"font-size: 14.23px; font-family: &quot;Liberation Sans&quot;;\" textLength=\"55.19px\" lengthAdjust=\"spacingAndGlyphs\">YELLOW</text>\n<text x=\"244.14\" y=\"324.34\" text-anchor=\"middle\" style=\"font-size: 14.23px; font-family: &quot;Liberation Sans&quot;;\" textLength=\"35.00px\" lengthAdjust=\"spacingAndGlyphs\">BLUE</text>\n<text x=\"169.11\" y=\"314.11\" text-anchor=\"middle\" style=\"font-size: 14.23px; font-family: &quot;Liberation Sans&quot;;\" textLength=\"51.80px\" lengthAdjust=\"spacingAndGlyphs\">PURPLE</text>\n<text x=\"163.83\" y=\"161.90\" text-anchor=\"middle\" style=\"font-size: 14.23px; font-family: &quot;Liberation Sans&quot;;\" textLength=\"27.13px\" lengthAdjust=\"spacingAndGlyphs\">RED</text>\n<text x=\"282.45\" y=\"161.52\" text-anchor=\"middle\" style=\"font-size: 14.23px; font-family: &quot;Liberation Sans&quot;;\" textLength=\"75.40px\" lengthAdjust=\"spacingAndGlyphs\">SURPRISED</text>\n<text x=\"324.97\" y=\"37.48\" text-anchor=\"middle\" style=\"font-size: 14.23px; font-family: &quot;Liberation Sans&quot;;\" textLength=\"56.23px\" lengthAdjust=\"spacingAndGlyphs\">EXCITED</text>\n<text x=\"380.89\" y=\"260.32\" text-anchor=\"middle\" style=\"font-size: 14.23px; font-family: &quot;Liberation Sans&quot;;\" textLength=\"51.17px\" lengthAdjust=\"spacingAndGlyphs\">SERENE</text>\n<text x=\"316.37\" y=\"245.55\" text-anchor=\"middle\" style=\"font-size: 14.23px; font-family: &quot;Liberation Sans&quot;;\" textLength=\"44.88px\" lengthAdjust=\"spacingAndGlyphs\">HAPPY</text>\n<text x=\"367.01\" y=\"79.38\" text-anchor=\"middle\" style=\"font-size: 14.23px; font-family: &quot;Liberation Sans&quot;;\" textLength=\"67.90px\" lengthAdjust=\"spacingAndGlyphs\">SATISFIED</text>\n<text x=\"371.89\" y=\"109.01\" text-anchor=\"middle\" style=\"font-size: 14.23px; font-family: &quot;Liberation Sans&quot;;\" textLength=\"38.42px\" lengthAdjust=\"spacingAndGlyphs\">CALM</text>\n<text x=\"98.99\" y=\"375.40\" text-anchor=\"middle\" style=\"font-size: 14.23px; font-family: &quot;Liberation Sans&quot;;\" textLength=\"39.85px\" lengthAdjust=\"spacingAndGlyphs\">TIRED</text>\n<text x=\"168.23\" y=\"377.73\" text-anchor=\"middle\" style=\"font-size: 14.23px; font-family: &quot;Liberation Sans&quot;;\" textLength=\"47.48px\" lengthAdjust=\"spacingAndGlyphs\">BORED</text>\n<text x=\"129.68\" y=\"223.09\" text-anchor=\"middle\" style=\"font-size: 14.23px; font-family: &quot;Liberation Sans&quot;;\" textLength=\"77.54px\" lengthAdjust=\"spacingAndGlyphs\">DEPRESSED</text>\n<text x=\"128.81\" y=\"356.27\" text-anchor=\"middle\" style=\"font-size: 14.23px; font-family: &quot;Liberation Sans&quot;;\" textLength=\"27.27px\" lengthAdjust=\"spacingAndGlyphs\">SAD</text>\n<text x=\"192.57\" y=\"205.56\" text-anchor=\"middle\" style=\"font-size: 14.23px; font-family: &quot;Liberation Sans&quot;;\" textLength=\"86.45px\" lengthAdjust=\"spacingAndGlyphs\">FRUSTRATED</text>\n<text x=\"174.88\" y=\"182.31\" text-anchor=\"middle\" style=\"font-size: 14.23px; font-family: &quot;Liberation Sans&quot;;\" textLength=\"49.59px\" lengthAdjust=\"spacingAndGlyphs\">AFRAID</text>\n<text x=\"119.46\" y=\"175.26\" text-anchor=\"middle\" style=\"font-size: 14.23px; font-family: &quot;Liberation Sans&quot;;\" textLength=\"47.14px\" lengthAdjust=\"spacingAndGlyphs\">ANGRY</text>\n<text x=\"277.03\" y=\"112.75\" text-anchor=\"middle\" style=\"font-size: 14.23px; font-family: &quot;Liberation Sans&quot;;\" textLength=\"66.36px\" lengthAdjust=\"spacingAndGlyphs\">STRESSED</text>\n<text x=\"250.05\" y=\"138.03\" text-anchor=\"middle\" style=\"font-size: 14.23px; font-family: &quot;Liberation Sans&quot;;\" textLength=\"88.15px\" lengthAdjust=\"spacingAndGlyphs\">ASTONISHED</text>\n<text x=\"171.38\" y=\"278.84\" text-anchor=\"middle\" style=\"font-size: 14.23px; font-family: &quot;Liberation Sans&quot;;\" textLength=\"47.72px\" lengthAdjust=\"spacingAndGlyphs\">SLEEPY</text>\n<text x=\"171.07\" y=\"99.71\" text-anchor=\"middle\" style=\"font-size: 14.23px; font-family: &quot;Liberation Sans&quot;;\" textLength=\"65.65px\" lengthAdjust=\"spacingAndGlyphs\">ALARMED</text>\n<text x=\"92.09\" y=\"250.47\" text-anchor=\"middle\" style=\"font-size: 14.23px; font-family: &quot;Liberation Sans&quot;;\" textLength=\"77.75px\" lengthAdjust=\"spacingAndGlyphs\">DISGUSTED</text>\n</g>\n<g clip-path=\"url(#cpMC4wMHw0MzIuMDB8MC4wMHw0MzIuMDA=)\">\n<polyline points=\"49.61,381.34 49.61,5.48 \" style=\"stroke-width: 2.56; stroke-linecap: butt;\"/>\n<text x=\"43.17\" y=\"303.00\" text-anchor=\"end\" style=\"font-size: 18.00px;fill: #151515; font-family: &quot;Nimbus Sans&quot;;\" textLength=\"16.01px\" lengthAdjust=\"spacingAndGlyphs\">-1</text>\n<text x=\"43.17\" y=\"203.70\" text-anchor=\"end\" style=\"font-size: 18.00px;fill: #151515; font-family: &quot;Nimbus Sans&quot;;\" textLength=\"10.01px\" lengthAdjust=\"spacingAndGlyphs\">0</text>\n<text x=\"43.17\" y=\"104.40\" text-anchor=\"end\" style=\"font-size: 18.00px;fill: #151515; font-family: &quot;Nimbus Sans&quot;;\" textLength=\"10.01px\" lengthAdjust=\"spacingAndGlyphs\">1</text>\n<polyline points=\"45.36,296.44 49.61,296.44 \" style=\"stroke-width: 1.07; stroke: #151515; stroke-linecap: butt;\"/>\n<polyline points=\"45.36,197.14 49.61,197.14 \" style=\"stroke-width: 1.07; stroke: #151515; stroke-linecap: butt;\"/>\n<polyline points=\"45.36,97.84 49.61,97.84 \" style=\"stroke-width: 1.07; stroke: #151515; stroke-linecap: butt;\"/>\n<polyline points=\"49.61,381.34 426.52,381.34 \" style=\"stroke-width: 2.56; stroke-linecap: butt;\"/>\n<polyline points=\"118.61,385.60 118.61,381.34 \" style=\"stroke-width: 1.07; stroke: #151515; stroke-linecap: butt;\"/>\n<polyline points=\"218.01,385.60 218.01,381.34 \" style=\"stroke-width: 1.07; stroke: #151515; stroke-linecap: butt;\"/>\n<polyline points=\"317.40,385.60 317.40,381.34 \" style=\"stroke-width: 1.07; stroke: #151515; stroke-linecap: butt;\"/>\n<polyline points=\"416.79,385.60 416.79,381.34 \" style=\"stroke-width: 1.07; stroke: #151515; stroke-linecap: butt;\"/>\n<text x=\"118.61\" y=\"400.91\" text-anchor=\"middle\" style=\"font-size: 18.00px;fill: #151515; font-family: &quot;Nimbus Sans&quot;;\" textLength=\"16.01px\" lengthAdjust=\"spacingAndGlyphs\">-1</text>\n<text x=\"218.01\" y=\"400.91\" text-anchor=\"middle\" style=\"font-size: 18.00px;fill: #151515; font-family: &quot;Nimbus Sans&quot;;\" textLength=\"10.01px\" lengthAdjust=\"spacingAndGlyphs\">0</text>\n<text x=\"317.40\" y=\"400.91\" text-anchor=\"middle\" style=\"font-size: 18.00px;fill: #151515; font-family: &quot;Nimbus Sans&quot;;\" textLength=\"10.01px\" lengthAdjust=\"spacingAndGlyphs\">1</text>\n<text x=\"416.79\" y=\"400.91\" text-anchor=\"middle\" style=\"font-size: 18.00px;fill: #151515; font-family: &quot;Nimbus Sans&quot;;\" textLength=\"10.01px\" lengthAdjust=\"spacingAndGlyphs\">2</text>\n<text x=\"238.07\" y=\"422.16\" text-anchor=\"middle\" style=\"font-size: 20.00px;fill: #151515; font-family: &quot;Nimbus Sans&quot;;\" textLength=\"72.25px\" lengthAdjust=\"spacingAndGlyphs\">Valence</text>\n<text transform=\"translate(20.06,193.41) rotate(-90)\" text-anchor=\"middle\" style=\"font-size: 20.00px;fill: #151515; font-family: &quot;Nimbus Sans&quot;;\" textLength=\"67.80px\" lengthAdjust=\"spacingAndGlyphs\">Arousal</text>\n</g>\n</svg>",
      "text/plain": [
       "<IPython.core.display.SVG object>"
      ]
     },
     "metadata": {},
     "output_type": "display_data"
    }
   ],
   "source": [
    "!./module_nlp/core/plots.R \"plot_both\"\n",
    "\n",
    "# Display svg images\n",
    "from IPython.display import SVG\n",
    "display(SVG(\"../figures/7E.svg\"))"
   ]
  },
  {
   "attachments": {},
   "cell_type": "markdown",
   "metadata": {},
   "source": [
    "# Figure 7F"
   ]
  },
  {
   "cell_type": "code",
   "execution_count": 25,
   "metadata": {},
   "outputs": [
    {
     "name": "stdout",
     "output_type": "stream",
     "text": [
      "\u001b[?25h\u001b[?25h\u001b[?25h\u001b[?25h\u001b[?25h\u001b[?25h\u001b[?25h\u001b[?25h\u001b[?25h\u001b[?25h\u001b[?25h\u001b[?25h\u001b[?25h"
     ]
    },
    {
     "data": {
      "image/svg+xml": "<svg xmlns=\"http://www.w3.org/2000/svg\" xmlns:xlink=\"http://www.w3.org/1999/xlink\" class=\"svglite\" width=\"432.00pt\" height=\"432.00pt\" viewBox=\"0 0 432.00 432.00\">\n<defs>\n  <style type=\"text/css\"><![CDATA[\n    .svglite line, .svglite polyline, .svglite polygon, .svglite path, .svglite rect, .svglite circle {\n      fill: none;\n      stroke: #000000;\n      stroke-linecap: round;\n      stroke-linejoin: round;\n      stroke-miterlimit: 10.00;\n    }\n    .svglite text {\n      white-space: pre;\n    }\n  ]]></style>\n</defs>\n<rect width=\"100%\" height=\"100%\" style=\"stroke: none; fill: #FFFFFF;\"/>\n<defs>\n  <clipPath id=\"cpMC4wMHw0MzIuMDB8MC4wMHw0MzIuMDA=\">\n    <rect x=\"0.00\" y=\"0.00\" width=\"432.00\" height=\"432.00\"/>\n  </clipPath>\n</defs>\n<g clip-path=\"url(#cpMC4wMHw0MzIuMDB8MC4wMHw0MzIuMDA=)\">\n<rect x=\"0.000000000000032\" y=\"0.000000000000057\" width=\"432.00\" height=\"432.00\" style=\"stroke-width: 1.07; stroke: #FFFFFF; fill: #FFFFFF;\"/>\n</g>\n<defs>\n  <clipPath id=\"cpNjguNjN8MzAyLjkwfDUuNDh8MzQxLjQ4\">\n    <rect x=\"68.63\" y=\"5.48\" width=\"234.27\" height=\"336.00\"/>\n  </clipPath>\n</defs>\n<g clip-path=\"url(#cpNjguNjN8MzAyLjkwfDUuNDh8MzQxLjQ4)\">\n<rect x=\"68.63\" y=\"5.48\" width=\"234.27\" height=\"336.00\" style=\"stroke-width: 1.07; stroke: none; fill: #FFFFFF;\"/>\n<polyline points=\"68.63,333.84 302.90,333.84 \" style=\"stroke-width: 0.53; stroke: #FFFFFF; stroke-linecap: butt;\"/>\n<polyline points=\"68.63,257.48 302.90,257.48 \" style=\"stroke-width: 0.53; stroke: #FFFFFF; stroke-linecap: butt;\"/>\n<polyline points=\"68.63,181.12 302.90,181.12 \" style=\"stroke-width: 0.53; stroke: #FFFFFF; stroke-linecap: butt;\"/>\n<polyline points=\"68.63,104.75 302.90,104.75 \" style=\"stroke-width: 0.53; stroke: #FFFFFF; stroke-linecap: butt;\"/>\n<polyline points=\"68.63,28.39 302.90,28.39 \" style=\"stroke-width: 0.53; stroke: #FFFFFF; stroke-linecap: butt;\"/>\n<polyline points=\"68.63,295.66 302.90,295.66 \" style=\"stroke-width: 1.07; stroke: #FFFFFF; stroke-linecap: butt;\"/>\n<polyline points=\"68.63,219.30 302.90,219.30 \" style=\"stroke-width: 1.07; stroke: #FFFFFF; stroke-linecap: butt;\"/>\n<polyline points=\"68.63,142.93 302.90,142.93 \" style=\"stroke-width: 1.07; stroke: #FFFFFF; stroke-linecap: butt;\"/>\n<polyline points=\"68.63,66.57 302.90,66.57 \" style=\"stroke-width: 1.07; stroke: #FFFFFF; stroke-linecap: butt;\"/>\n<polyline points=\"102.10,341.48 102.10,5.48 \" style=\"stroke-width: 1.07; stroke: #FFFFFF; stroke-linecap: butt;\"/>\n<polyline points=\"157.88,341.48 157.88,5.48 \" style=\"stroke-width: 1.07; stroke: #FFFFFF; stroke-linecap: butt;\"/>\n<polyline points=\"213.66,341.48 213.66,5.48 \" style=\"stroke-width: 1.07; stroke: #FFFFFF; stroke-linecap: butt;\"/>\n<polyline points=\"269.44,341.48 269.44,5.48 \" style=\"stroke-width: 1.07; stroke: #FFFFFF; stroke-linecap: butt;\"/>\n<rect x=\"77.00\" y=\"214.85\" width=\"50.20\" height=\"80.81\" style=\"stroke-width: 1.07; stroke: none; stroke-linecap: butt; stroke-linejoin: miter; fill: #89DCEB;\"/>\n<rect x=\"132.78\" y=\"295.66\" width=\"50.20\" height=\"13.00\" style=\"stroke-width: 1.07; stroke: none; stroke-linecap: butt; stroke-linejoin: miter; fill: #74C7EC;\"/>\n<rect x=\"188.56\" y=\"295.66\" width=\"50.20\" height=\"14.56\" style=\"stroke-width: 1.07; stroke: none; stroke-linecap: butt; stroke-linejoin: miter; fill: #89B4FA;\"/>\n<rect x=\"244.34\" y=\"295.66\" width=\"50.20\" height=\"8.63\" style=\"stroke-width: 1.07; stroke: none; stroke-linecap: butt; stroke-linejoin: miter; fill: #B4BEFE;\"/>\n<text x=\"102.10\" y=\"214.84\" text-anchor=\"middle\" style=\"font-size: 17.07px; font-family: &quot;Liberation Sans&quot;;\" textLength=\"18.81px\" lengthAdjust=\"spacingAndGlyphs\">**</text>\n<text x=\"129.99\" y=\"99.59\" text-anchor=\"middle\" style=\"font-size: 11.38px; font-family: &quot;Liberation Sans&quot;;\" textLength=\"48.51px\" lengthAdjust=\"spacingAndGlyphs\">p = 0.025</text>\n<line x1=\"157.88\" y1=\"107.01\" x2=\"157.88\" y2=\"107.01\" style=\"stroke-width: 1.07;\"/>\n<line x1=\"157.88\" y1=\"107.01\" x2=\"102.10\" y2=\"107.01\" style=\"stroke-width: 1.07;\"/>\n<line x1=\"102.10\" y1=\"107.01\" x2=\"102.10\" y2=\"107.01\" style=\"stroke-width: 1.07;\"/>\n<text x=\"157.88\" y=\"78.20\" text-anchor=\"middle\" style=\"font-size: 11.38px; font-family: &quot;Liberation Sans&quot;;\" textLength=\"48.51px\" lengthAdjust=\"spacingAndGlyphs\">p = 0.023</text>\n<line x1=\"213.66\" y1=\"85.63\" x2=\"213.66\" y2=\"85.63\" style=\"stroke-width: 1.07;\"/>\n<line x1=\"213.66\" y1=\"85.63\" x2=\"102.10\" y2=\"85.63\" style=\"stroke-width: 1.07;\"/>\n<line x1=\"102.10\" y1=\"85.63\" x2=\"102.10\" y2=\"85.63\" style=\"stroke-width: 1.07;\"/>\n<text x=\"185.77\" y=\"56.82\" text-anchor=\"middle\" style=\"font-size: 11.38px; font-family: &quot;Liberation Sans&quot;;\" textLength=\"48.51px\" lengthAdjust=\"spacingAndGlyphs\">p = 0.032</text>\n<line x1=\"269.44\" y1=\"64.25\" x2=\"269.44\" y2=\"64.25\" style=\"stroke-width: 1.07;\"/>\n<line x1=\"269.44\" y1=\"64.25\" x2=\"102.10\" y2=\"64.25\" style=\"stroke-width: 1.07;\"/>\n<line x1=\"102.10\" y1=\"64.25\" x2=\"102.10\" y2=\"64.25\" style=\"stroke-width: 1.07;\"/>\n</g>\n<g clip-path=\"url(#cpMC4wMHw0MzIuMDB8MC4wMHw0MzIuMDA=)\">\n<polyline points=\"68.63,341.48 68.63,5.48 \" style=\"stroke-width: 2.56; stroke-linecap: butt;\"/>\n<text x=\"62.19\" y=\"302.23\" text-anchor=\"end\" style=\"font-size: 18.00px;fill: #151515; font-family: &quot;Nimbus Sans&quot;;\" textLength=\"35.03px\" lengthAdjust=\"spacingAndGlyphs\">0.00</text>\n<text x=\"62.19\" y=\"225.86\" text-anchor=\"end\" style=\"font-size: 18.00px;fill: #151515; font-family: &quot;Nimbus Sans&quot;;\" textLength=\"35.03px\" lengthAdjust=\"spacingAndGlyphs\">0.25</text>\n<text x=\"62.19\" y=\"149.50\" text-anchor=\"end\" style=\"font-size: 18.00px;fill: #151515; font-family: &quot;Nimbus Sans&quot;;\" textLength=\"35.03px\" lengthAdjust=\"spacingAndGlyphs\">0.50</text>\n<text x=\"62.19\" y=\"73.13\" text-anchor=\"end\" style=\"font-size: 18.00px;fill: #151515; font-family: &quot;Nimbus Sans&quot;;\" textLength=\"35.03px\" lengthAdjust=\"spacingAndGlyphs\">0.75</text>\n<polyline points=\"64.38,295.66 68.63,295.66 \" style=\"stroke-width: 1.07; stroke: #151515; stroke-linecap: butt;\"/>\n<polyline points=\"64.38,219.30 68.63,219.30 \" style=\"stroke-width: 1.07; stroke: #151515; stroke-linecap: butt;\"/>\n<polyline points=\"64.38,142.93 68.63,142.93 \" style=\"stroke-width: 1.07; stroke: #151515; stroke-linecap: butt;\"/>\n<polyline points=\"64.38,66.57 68.63,66.57 \" style=\"stroke-width: 1.07; stroke: #151515; stroke-linecap: butt;\"/>\n<polyline points=\"68.63,341.48 302.90,341.48 \" style=\"stroke-width: 2.56; stroke-linecap: butt;\"/>\n<polyline points=\"102.10,345.73 102.10,341.48 \" style=\"stroke-width: 1.07; stroke: #151515; stroke-linecap: butt;\"/>\n<polyline points=\"157.88,345.73 157.88,341.48 \" style=\"stroke-width: 1.07; stroke: #151515; stroke-linecap: butt;\"/>\n<polyline points=\"213.66,345.73 213.66,341.48 \" style=\"stroke-width: 1.07; stroke: #151515; stroke-linecap: butt;\"/>\n<polyline points=\"269.44,345.73 269.44,341.48 \" style=\"stroke-width: 1.07; stroke: #151515; stroke-linecap: butt;\"/>\n<text transform=\"translate(107.57,357.40) rotate(-30)\" text-anchor=\"end\" style=\"font-size: 15.00px;fill: #151515; font-family: &quot;Nimbus Sans&quot;;\" textLength=\"89.21px\" lengthAdjust=\"spacingAndGlyphs\">osgoodspace</text>\n<text transform=\"translate(163.35,357.40) rotate(-30)\" text-anchor=\"end\" style=\"font-size: 15.00px;fill: #151515; font-family: &quot;Nimbus Sans&quot;;\" textLength=\"48.36px\" lengthAdjust=\"spacingAndGlyphs\">fasttext</text>\n<text transform=\"translate(219.13,357.40) rotate(-30)\" text-anchor=\"end\" style=\"font-size: 15.00px;fill: #151515; font-family: &quot;Nimbus Sans&quot;;\" textLength=\"65.03px\" lengthAdjust=\"spacingAndGlyphs\">fasttext2d</text>\n<text transform=\"translate(274.90,357.40) rotate(-30)\" text-anchor=\"end\" style=\"font-size: 15.00px;fill: #151515; font-family: &quot;Nimbus Sans&quot;;\" textLength=\"85.03px\" lengthAdjust=\"spacingAndGlyphs\">controlspace</text>\n<text x=\"185.77\" y=\"422.16\" text-anchor=\"middle\" style=\"font-size: 20.00px;fill: #151515; font-family: &quot;Nimbus Sans&quot;;\" textLength=\"84.47px\" lengthAdjust=\"spacingAndGlyphs\">Condition</text>\n<text transform=\"translate(20.06,173.48) rotate(-90)\" text-anchor=\"middle\" style=\"font-size: 20.00px;fill: #151515; font-family: &quot;Nimbus Sans&quot;;\" textLength=\"104.47px\" lengthAdjust=\"spacingAndGlyphs\">Coefficients</text>\n<text x=\"319.34\" y=\"140.65\" style=\"font-size: 15.00px;fill: #151515; font-family: &quot;Nimbus Sans&quot;;\" textLength=\"101.70px\" lengthAdjust=\"spacingAndGlyphs\">rho-coefficients</text>\n<rect x=\"320.05\" y=\"150.47\" width=\"15.86\" height=\"15.86\" style=\"stroke-width: 1.07; stroke: none; stroke-linecap: butt; stroke-linejoin: miter; fill: #89DCEB;\"/>\n<rect x=\"320.05\" y=\"167.75\" width=\"15.86\" height=\"15.86\" style=\"stroke-width: 1.07; stroke: none; stroke-linecap: butt; stroke-linejoin: miter; fill: #74C7EC;\"/>\n<rect x=\"320.05\" y=\"185.03\" width=\"15.86\" height=\"15.86\" style=\"stroke-width: 1.07; stroke: none; stroke-linecap: butt; stroke-linejoin: miter; fill: #89B4FA;\"/>\n<rect x=\"320.05\" y=\"202.31\" width=\"15.86\" height=\"15.86\" style=\"stroke-width: 1.07; stroke: none; stroke-linecap: butt; stroke-linejoin: miter; fill: #B4BEFE;\"/>\n<text x=\"344.09\" y=\"163.87\" style=\"font-size: 15.00px;fill: #151515; font-family: &quot;Nimbus Sans&quot;;\" textLength=\"37.52px\" lengthAdjust=\"spacingAndGlyphs\">0.265</text>\n<text x=\"344.09\" y=\"181.15\" style=\"font-size: 15.00px;fill: #151515; font-family: &quot;Nimbus Sans&quot;;\" textLength=\"42.52px\" lengthAdjust=\"spacingAndGlyphs\">-0.043</text>\n<text x=\"344.09\" y=\"198.43\" style=\"font-size: 15.00px;fill: #151515; font-family: &quot;Nimbus Sans&quot;;\" textLength=\"42.52px\" lengthAdjust=\"spacingAndGlyphs\">-0.048</text>\n<text x=\"344.09\" y=\"215.71\" style=\"font-size: 15.00px;fill: #151515; font-family: &quot;Nimbus Sans&quot;;\" textLength=\"42.52px\" lengthAdjust=\"spacingAndGlyphs\">-0.028</text>\n</g>\n</svg>",
      "text/plain": [
       "<IPython.core.display.SVG object>"
      ]
     },
     "metadata": {},
     "output_type": "display_data"
    }
   ],
   "source": [
    "!./module_nlp/core/plots.R \"rdm_osgood_both\"\n",
    "\n",
    "# Display svg images\n",
    "from IPython.display import SVG\n",
    "display(SVG(\"../figures/7F.svg\"))"
   ]
  }
 ],
 "metadata": {
  "kernelspec": {
   "display_name": "Python 3",
   "language": "python",
   "name": "python3"
  },
  "language_info": {
   "codemirror_mode": {
    "name": "ipython",
    "version": 3
   },
   "file_extension": ".py",
   "mimetype": "text/x-python",
   "name": "python",
   "nbconvert_exporter": "python",
   "pygments_lexer": "ipython3",
   "version": "3.10.8"
  },
  "orig_nbformat": 4,
  "vscode": {
   "interpreter": {
    "hash": "916dbcbb3f70747c44a77c7bcd40155683ae19c65e1c03b4aa3499c5328201f1"
   }
  }
 },
 "nbformat": 4,
 "nbformat_minor": 2
}
