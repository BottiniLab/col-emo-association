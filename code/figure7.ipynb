{
 "cells": [
  {
   "cell_type": "code",
   "execution_count": 21,
   "metadata": {},
   "outputs": [],
   "source": [
    "import yaml\n",
    "import importlib\n",
    "from code.module_nlp.core import fasttext_space"
   ]
  },
  {
   "attachments": {},
   "cell_type": "markdown",
   "metadata": {},
   "source": [
    "## Figure 7A-B"
   ]
  },
  {
   "cell_type": "code",
   "execution_count": 22,
   "metadata": {},
   "outputs": [
    {
     "data": {
      "text/html": [
       "<div>\n",
       "<style scoped>\n",
       "    .dataframe tbody tr th:only-of-type {\n",
       "        vertical-align: middle;\n",
       "    }\n",
       "\n",
       "    .dataframe tbody tr th {\n",
       "        vertical-align: top;\n",
       "    }\n",
       "\n",
       "    .dataframe thead th {\n",
       "        text-align: right;\n",
       "    }\n",
       "</style>\n",
       "<table border=\"1\" class=\"dataframe\">\n",
       "  <thead>\n",
       "    <tr style=\"text-align: right;\">\n",
       "      <th></th>\n",
       "      <th>index</th>\n",
       "      <th>Valence</th>\n",
       "      <th>Arousal</th>\n",
       "      <th>z_valence</th>\n",
       "      <th>z_arousal</th>\n",
       "      <th>Condition</th>\n",
       "      <th>fill_color</th>\n",
       "    </tr>\n",
       "  </thead>\n",
       "  <tbody>\n",
       "    <tr>\n",
       "      <th>0</th>\n",
       "      <td>green</td>\n",
       "      <td>0.130466</td>\n",
       "      <td>-0.198897</td>\n",
       "      <td>1.925514</td>\n",
       "      <td>-0.266796</td>\n",
       "      <td>Color</td>\n",
       "      <td>green</td>\n",
       "    </tr>\n",
       "    <tr>\n",
       "      <th>1</th>\n",
       "      <td>orange</td>\n",
       "      <td>-0.012250</td>\n",
       "      <td>-0.125187</td>\n",
       "      <td>0.019127</td>\n",
       "      <td>1.629841</td>\n",
       "      <td>Color</td>\n",
       "      <td>orange</td>\n",
       "    </tr>\n",
       "    <tr>\n",
       "      <th>2</th>\n",
       "      <td>yellow</td>\n",
       "      <td>-0.108748</td>\n",
       "      <td>-0.169561</td>\n",
       "      <td>-1.269896</td>\n",
       "      <td>0.488060</td>\n",
       "      <td>Color</td>\n",
       "      <td>yellow</td>\n",
       "    </tr>\n",
       "    <tr>\n",
       "      <th>3</th>\n",
       "      <td>blue</td>\n",
       "      <td>0.013443</td>\n",
       "      <td>-0.232467</td>\n",
       "      <td>0.362333</td>\n",
       "      <td>-1.130579</td>\n",
       "      <td>Color</td>\n",
       "      <td>blue</td>\n",
       "    </tr>\n",
       "    <tr>\n",
       "      <th>4</th>\n",
       "      <td>purple</td>\n",
       "      <td>-0.057884</td>\n",
       "      <td>-0.236147</td>\n",
       "      <td>-0.590461</td>\n",
       "      <td>-1.225262</td>\n",
       "      <td>Color</td>\n",
       "      <td>purple</td>\n",
       "    </tr>\n",
       "    <tr>\n",
       "      <th>5</th>\n",
       "      <td>red</td>\n",
       "      <td>-0.047116</td>\n",
       "      <td>-0.168913</td>\n",
       "      <td>-0.446615</td>\n",
       "      <td>0.504736</td>\n",
       "      <td>Color</td>\n",
       "      <td>red</td>\n",
       "    </tr>\n",
       "    <tr>\n",
       "      <th>6</th>\n",
       "      <td>surprised</td>\n",
       "      <td>0.079850</td>\n",
       "      <td>-0.057010</td>\n",
       "      <td>0.549109</td>\n",
       "      <td>0.509195</td>\n",
       "      <td>Emotion</td>\n",
       "      <td>#e64200</td>\n",
       "    </tr>\n",
       "    <tr>\n",
       "      <th>7</th>\n",
       "      <td>excited</td>\n",
       "      <td>0.260361</td>\n",
       "      <td>0.262331</td>\n",
       "      <td>1.175263</td>\n",
       "      <td>1.758007</td>\n",
       "      <td>Emotion</td>\n",
       "      <td>#ab4600</td>\n",
       "    </tr>\n",
       "    <tr>\n",
       "      <th>8</th>\n",
       "      <td>serene</td>\n",
       "      <td>0.365344</td>\n",
       "      <td>-0.362202</td>\n",
       "      <td>1.539430</td>\n",
       "      <td>-0.684284</td>\n",
       "      <td>Emotion</td>\n",
       "      <td>#007065</td>\n",
       "    </tr>\n",
       "    <tr>\n",
       "      <th>9</th>\n",
       "      <td>happy</td>\n",
       "      <td>0.235380</td>\n",
       "      <td>-0.273418</td>\n",
       "      <td>1.088610</td>\n",
       "      <td>-0.337086</td>\n",
       "      <td>Emotion</td>\n",
       "      <td>#004c76</td>\n",
       "    </tr>\n",
       "    <tr>\n",
       "      <th>10</th>\n",
       "      <td>satisfied</td>\n",
       "      <td>0.325288</td>\n",
       "      <td>0.103773</td>\n",
       "      <td>1.400481</td>\n",
       "      <td>1.137951</td>\n",
       "      <td>Emotion</td>\n",
       "      <td>#566200</td>\n",
       "    </tr>\n",
       "    <tr>\n",
       "      <th>11</th>\n",
       "      <td>calm</td>\n",
       "      <td>0.339305</td>\n",
       "      <td>0.027426</td>\n",
       "      <td>1.449105</td>\n",
       "      <td>0.839392</td>\n",
       "      <td>Emotion</td>\n",
       "      <td>#4e6700</td>\n",
       "    </tr>\n",
       "    <tr>\n",
       "      <th>12</th>\n",
       "      <td>tired</td>\n",
       "      <td>-0.395070</td>\n",
       "      <td>-0.607826</td>\n",
       "      <td>-1.098294</td>\n",
       "      <td>-1.644819</td>\n",
       "      <td>Emotion</td>\n",
       "      <td>#6100b3</td>\n",
       "    </tr>\n",
       "    <tr>\n",
       "      <th>13</th>\n",
       "      <td>bored</td>\n",
       "      <td>-0.305101</td>\n",
       "      <td>-0.617588</td>\n",
       "      <td>-0.786210</td>\n",
       "      <td>-1.682992</td>\n",
       "      <td>Emotion</td>\n",
       "      <td>#7f00e3</td>\n",
       "    </tr>\n",
       "    <tr>\n",
       "      <th>14</th>\n",
       "      <td>depressed</td>\n",
       "      <td>-0.362943</td>\n",
       "      <td>-0.266055</td>\n",
       "      <td>-0.986849</td>\n",
       "      <td>-0.308292</td>\n",
       "      <td>Emotion</td>\n",
       "      <td>#ff7f00</td>\n",
       "    </tr>\n",
       "    <tr>\n",
       "      <th>15</th>\n",
       "      <td>sad</td>\n",
       "      <td>-0.308589</td>\n",
       "      <td>-0.609106</td>\n",
       "      <td>-0.798308</td>\n",
       "      <td>-1.649824</td>\n",
       "      <td>Emotion</td>\n",
       "      <td>#7f00e3</td>\n",
       "    </tr>\n",
       "    <tr>\n",
       "      <th>16</th>\n",
       "      <td>frustrated</td>\n",
       "      <td>-0.290496</td>\n",
       "      <td>-0.194468</td>\n",
       "      <td>-0.735546</td>\n",
       "      <td>-0.028345</td>\n",
       "      <td>Emotion</td>\n",
       "      <td>#ff7f00</td>\n",
       "    </tr>\n",
       "    <tr>\n",
       "      <th>17</th>\n",
       "      <td>afraid</td>\n",
       "      <td>-0.187615</td>\n",
       "      <td>-0.110502</td>\n",
       "      <td>-0.378675</td>\n",
       "      <td>0.300009</td>\n",
       "      <td>Emotion</td>\n",
       "      <td>#ff7f00</td>\n",
       "    </tr>\n",
       "    <tr>\n",
       "      <th>18</th>\n",
       "      <td>angry</td>\n",
       "      <td>-0.387073</td>\n",
       "      <td>-0.092438</td>\n",
       "      <td>-1.070551</td>\n",
       "      <td>0.370650</td>\n",
       "      <td>Emotion</td>\n",
       "      <td>#ff7f00</td>\n",
       "    </tr>\n",
       "    <tr>\n",
       "      <th>19</th>\n",
       "      <td>stressed</td>\n",
       "      <td>0.121305</td>\n",
       "      <td>0.068570</td>\n",
       "      <td>0.692908</td>\n",
       "      <td>1.000288</td>\n",
       "      <td>Emotion</td>\n",
       "      <td>#e65900</td>\n",
       "    </tr>\n",
       "    <tr>\n",
       "      <th>20</th>\n",
       "      <td>astonished</td>\n",
       "      <td>0.043149</td>\n",
       "      <td>-0.047343</td>\n",
       "      <td>0.421799</td>\n",
       "      <td>0.547001</td>\n",
       "      <td>Emotion</td>\n",
       "      <td>#ed4700</td>\n",
       "    </tr>\n",
       "    <tr>\n",
       "      <th>21</th>\n",
       "      <td>sleepy</td>\n",
       "      <td>-0.241932</td>\n",
       "      <td>-0.409701</td>\n",
       "      <td>-0.567088</td>\n",
       "      <td>-0.870034</td>\n",
       "      <td>Emotion</td>\n",
       "      <td>#7f00ff</td>\n",
       "    </tr>\n",
       "    <tr>\n",
       "      <th>22</th>\n",
       "      <td>alarmed</td>\n",
       "      <td>-0.186076</td>\n",
       "      <td>0.101944</td>\n",
       "      <td>-0.373335</td>\n",
       "      <td>1.130801</td>\n",
       "      <td>Emotion</td>\n",
       "      <td>#ff7f00</td>\n",
       "    </tr>\n",
       "    <tr>\n",
       "      <th>23</th>\n",
       "      <td>disgusted</td>\n",
       "      <td>-0.517175</td>\n",
       "      <td>-0.286340</td>\n",
       "      <td>-1.521849</td>\n",
       "      <td>-0.387618</td>\n",
       "      <td>Emotion</td>\n",
       "      <td>#b27f33</td>\n",
       "    </tr>\n",
       "  </tbody>\n",
       "</table>\n",
       "</div>"
      ],
      "text/plain": [
       "         index   Valence   Arousal  z_valence  z_arousal Condition fill_color\n",
       "0        green  0.130466 -0.198897   1.925514  -0.266796     Color      green\n",
       "1       orange -0.012250 -0.125187   0.019127   1.629841     Color     orange\n",
       "2       yellow -0.108748 -0.169561  -1.269896   0.488060     Color     yellow\n",
       "3         blue  0.013443 -0.232467   0.362333  -1.130579     Color       blue\n",
       "4       purple -0.057884 -0.236147  -0.590461  -1.225262     Color     purple\n",
       "5          red -0.047116 -0.168913  -0.446615   0.504736     Color        red\n",
       "6    surprised  0.079850 -0.057010   0.549109   0.509195   Emotion    #e64200\n",
       "7      excited  0.260361  0.262331   1.175263   1.758007   Emotion    #ab4600\n",
       "8       serene  0.365344 -0.362202   1.539430  -0.684284   Emotion    #007065\n",
       "9        happy  0.235380 -0.273418   1.088610  -0.337086   Emotion    #004c76\n",
       "10   satisfied  0.325288  0.103773   1.400481   1.137951   Emotion    #566200\n",
       "11        calm  0.339305  0.027426   1.449105   0.839392   Emotion    #4e6700\n",
       "12       tired -0.395070 -0.607826  -1.098294  -1.644819   Emotion    #6100b3\n",
       "13       bored -0.305101 -0.617588  -0.786210  -1.682992   Emotion    #7f00e3\n",
       "14   depressed -0.362943 -0.266055  -0.986849  -0.308292   Emotion    #ff7f00\n",
       "15         sad -0.308589 -0.609106  -0.798308  -1.649824   Emotion    #7f00e3\n",
       "16  frustrated -0.290496 -0.194468  -0.735546  -0.028345   Emotion    #ff7f00\n",
       "17      afraid -0.187615 -0.110502  -0.378675   0.300009   Emotion    #ff7f00\n",
       "18       angry -0.387073 -0.092438  -1.070551   0.370650   Emotion    #ff7f00\n",
       "19    stressed  0.121305  0.068570   0.692908   1.000288   Emotion    #e65900\n",
       "20  astonished  0.043149 -0.047343   0.421799   0.547001   Emotion    #ed4700\n",
       "21      sleepy -0.241932 -0.409701  -0.567088  -0.870034   Emotion    #7f00ff\n",
       "22     alarmed -0.186076  0.101944  -0.373335   1.130801   Emotion    #ff7f00\n",
       "23   disgusted -0.517175 -0.286340  -1.521849  -0.387618   Emotion    #b27f33"
      ]
     },
     "execution_count": 22,
     "metadata": {},
     "output_type": "execute_result"
    }
   ],
   "source": [
    "_ = importlib.reload(fasttext_space)\n",
    "with open(\"./module_nlp/config/config_en.yml\") as f:\n",
    "    config = yaml.safe_load(f)\n",
    "\n",
    "fasttext_space.get_wheels(config['get_wheel'])"
   ]
  },
  {
   "cell_type": "code",
   "execution_count": 7,
   "metadata": {},
   "outputs": [
    {
     "name": "stdout",
     "output_type": "stream",
     "text": [
      "\u001b[?25h\u001b[?25h\u001b[?25h\u001b[?25h\u001b[?25h\u001b[?25h\u001b[?25h\u001b[?25h\u001b[?25h\u001b[?25h\u001b[?25h\u001b[?25h\u001b[?25h"
     ]
    },
    {
     "data": {
      "image/svg+xml": "<svg xmlns=\"http://www.w3.org/2000/svg\" xmlns:xlink=\"http://www.w3.org/1999/xlink\" class=\"svglite\" width=\"432.00pt\" height=\"432.00pt\" viewBox=\"0 0 432.00 432.00\">\n<defs>\n  <style type=\"text/css\"><![CDATA[\n    .svglite line, .svglite polyline, .svglite polygon, .svglite path, .svglite rect, .svglite circle {\n      fill: none;\n      stroke: #000000;\n      stroke-linecap: round;\n      stroke-linejoin: round;\n      stroke-miterlimit: 10.00;\n    }\n    .svglite text {\n      white-space: pre;\n    }\n  ]]></style>\n</defs>\n<rect width=\"100%\" height=\"100%\" style=\"stroke: none; fill: #FFFFFF;\"/>\n<defs>\n  <clipPath id=\"cpMC4wMHw0MzIuMDB8MC4wMHw0MzIuMDA=\">\n    <rect x=\"0.00\" y=\"0.00\" width=\"432.00\" height=\"432.00\"/>\n  </clipPath>\n</defs>\n<g clip-path=\"url(#cpMC4wMHw0MzIuMDB8MC4wMHw0MzIuMDA=)\">\n<rect x=\"0.000000000000032\" y=\"0.00\" width=\"432.00\" height=\"432.00\" style=\"stroke-width: 1.07; stroke: #FFFFFF; fill: #FFFFFF;\"/>\n</g>\n<defs>\n  <clipPath id=\"cpNDkuODR8NDI2LjUyfDUuNDh8MzgxLjA4\">\n    <rect x=\"49.84\" y=\"5.48\" width=\"376.68\" height=\"375.60\"/>\n  </clipPath>\n</defs>\n<g clip-path=\"url(#cpNDkuODR8NDI2LjUyfDUuNDh8MzgxLjA4)\">\n<rect x=\"49.84\" y=\"5.48\" width=\"376.68\" height=\"375.60\" style=\"stroke-width: 1.07; stroke: none; fill: #FFFFFF;\"/>\n<polyline points=\"49.84,277.27 426.52,277.27 \" style=\"stroke-width: 0.53; stroke: #FFFFFF; stroke-linecap: butt;\"/>\n<polyline points=\"49.84,157.67 426.52,157.67 \" style=\"stroke-width: 0.53; stroke: #FFFFFF; stroke-linecap: butt;\"/>\n<polyline points=\"49.84,38.08 426.52,38.08 \" style=\"stroke-width: 0.53; stroke: #FFFFFF; stroke-linecap: butt;\"/>\n<polyline points=\"149.47,381.08 149.47,5.48 \" style=\"stroke-width: 0.53; stroke: #FFFFFF; stroke-linecap: butt;\"/>\n<polyline points=\"256.63,381.08 256.63,5.48 \" style=\"stroke-width: 0.53; stroke: #FFFFFF; stroke-linecap: butt;\"/>\n<polyline points=\"363.80,381.08 363.80,5.48 \" style=\"stroke-width: 0.53; stroke: #FFFFFF; stroke-linecap: butt;\"/>\n<polyline points=\"49.84,337.07 426.52,337.07 \" style=\"stroke-width: 1.07; stroke: #FFFFFF; stroke-linecap: butt;\"/>\n<polyline points=\"49.84,217.47 426.52,217.47 \" style=\"stroke-width: 1.07; stroke: #FFFFFF; stroke-linecap: butt;\"/>\n<polyline points=\"49.84,97.88 426.52,97.88 \" style=\"stroke-width: 1.07; stroke: #FFFFFF; stroke-linecap: butt;\"/>\n<polyline points=\"95.89,381.08 95.89,5.48 \" style=\"stroke-width: 1.07; stroke: #FFFFFF; stroke-linecap: butt;\"/>\n<polyline points=\"203.05,381.08 203.05,5.48 \" style=\"stroke-width: 1.07; stroke: #FFFFFF; stroke-linecap: butt;\"/>\n<polyline points=\"310.22,381.08 310.22,5.48 \" style=\"stroke-width: 1.07; stroke: #FFFFFF; stroke-linecap: butt;\"/>\n<polyline points=\"417.38,381.08 417.38,5.48 \" style=\"stroke-width: 1.07; stroke: #FFFFFF; stroke-linecap: butt;\"/>\n<circle cx=\"409.40\" cy=\"249.38\" r=\"5.19\" style=\"stroke-width: 0.71; stroke: #CBA6F7; fill: #CBA6F7;\"/>\n<circle cx=\"205.10\" cy=\"22.55\" r=\"5.19\" style=\"stroke-width: 0.71; stroke: #CBA6F7; fill: #CBA6F7;\"/>\n<circle cx=\"66.96\" cy=\"159.10\" r=\"5.19\" style=\"stroke-width: 0.71; stroke: #CBA6F7; fill: #CBA6F7;\"/>\n<circle cx=\"241.88\" cy=\"352.68\" r=\"5.19\" style=\"stroke-width: 0.71; stroke: #CBA6F7; fill: #CBA6F7;\"/>\n<circle cx=\"139.78\" cy=\"364.01\" r=\"5.19\" style=\"stroke-width: 0.71; stroke: #CBA6F7; fill: #CBA6F7;\"/>\n<circle cx=\"155.19\" cy=\"157.11\" r=\"5.19\" style=\"stroke-width: 0.71; stroke: #CBA6F7; fill: #CBA6F7;\"/>\n<text x=\"381.97\" y=\"254.46\" text-anchor=\"middle\" style=\"font-size: 14.23px; font-family: &quot;Liberation Sans&quot;;\" textLength=\"45.81px\" lengthAdjust=\"spacingAndGlyphs\">GREEN</text>\n<text x=\"195.28\" y=\"37.41\" text-anchor=\"middle\" style=\"font-size: 14.23px; font-family: &quot;Liberation Sans&quot;;\" textLength=\"58.10px\" lengthAdjust=\"spacingAndGlyphs\">ORANGE</text>\n<text x=\"99.02\" y=\"164.18\" text-anchor=\"middle\" style=\"font-size: 14.23px; font-family: &quot;Liberation Sans&quot;;\" textLength=\"55.19px\" lengthAdjust=\"spacingAndGlyphs\">YELLOW</text>\n<text x=\"232.11\" y=\"367.49\" text-anchor=\"middle\" style=\"font-size: 14.23px; font-family: &quot;Liberation Sans&quot;;\" textLength=\"35.00px\" lengthAdjust=\"spacingAndGlyphs\">BLUE</text>\n<text x=\"149.56\" y=\"359.33\" text-anchor=\"middle\" style=\"font-size: 14.23px; font-family: &quot;Liberation Sans&quot;;\" textLength=\"51.80px\" lengthAdjust=\"spacingAndGlyphs\">PURPLE</text>\n<text x=\"165.00\" y=\"152.44\" text-anchor=\"middle\" style=\"font-size: 14.23px; font-family: &quot;Liberation Sans&quot;;\" textLength=\"27.13px\" lengthAdjust=\"spacingAndGlyphs\">RED</text>\n</g>\n<g clip-path=\"url(#cpMC4wMHw0MzIuMDB8MC4wMHw0MzIuMDA=)\">\n<polyline points=\"49.84,381.08 49.84,5.48 \" style=\"stroke-width: 2.56; stroke-linecap: butt;\"/>\n<text x=\"43.40\" y=\"343.49\" text-anchor=\"end\" style=\"font-size: 18.00px;fill: #151515; font-family: &quot;Noto Sans&quot;;\" textLength=\"16.09px\" lengthAdjust=\"spacingAndGlyphs\">-1</text>\n<text x=\"43.40\" y=\"223.90\" text-anchor=\"end\" style=\"font-size: 18.00px;fill: #151515; font-family: &quot;Noto Sans&quot;;\" textLength=\"10.30px\" lengthAdjust=\"spacingAndGlyphs\">0</text>\n<text x=\"43.40\" y=\"104.30\" text-anchor=\"end\" style=\"font-size: 18.00px;fill: #151515; font-family: &quot;Noto Sans&quot;;\" textLength=\"10.30px\" lengthAdjust=\"spacingAndGlyphs\">1</text>\n<polyline points=\"45.59,337.07 49.84,337.07 \" style=\"stroke-width: 1.07; stroke: #151515; stroke-linecap: butt;\"/>\n<polyline points=\"45.59,217.47 49.84,217.47 \" style=\"stroke-width: 1.07; stroke: #151515; stroke-linecap: butt;\"/>\n<polyline points=\"45.59,97.88 49.84,97.88 \" style=\"stroke-width: 1.07; stroke: #151515; stroke-linecap: butt;\"/>\n<polyline points=\"49.84,381.08 426.52,381.08 \" style=\"stroke-width: 2.56; stroke-linecap: butt;\"/>\n<polyline points=\"95.89,385.33 95.89,381.08 \" style=\"stroke-width: 1.07; stroke: #151515; stroke-linecap: butt;\"/>\n<polyline points=\"203.05,385.33 203.05,381.08 \" style=\"stroke-width: 1.07; stroke: #151515; stroke-linecap: butt;\"/>\n<polyline points=\"310.22,385.33 310.22,381.08 \" style=\"stroke-width: 1.07; stroke: #151515; stroke-linecap: butt;\"/>\n<polyline points=\"417.38,385.33 417.38,381.08 \" style=\"stroke-width: 1.07; stroke: #151515; stroke-linecap: butt;\"/>\n<text x=\"95.89\" y=\"400.37\" text-anchor=\"middle\" style=\"font-size: 18.00px;fill: #151515; font-family: &quot;Noto Sans&quot;;\" textLength=\"16.09px\" lengthAdjust=\"spacingAndGlyphs\">-1</text>\n<text x=\"203.05\" y=\"400.37\" text-anchor=\"middle\" style=\"font-size: 18.00px;fill: #151515; font-family: &quot;Noto Sans&quot;;\" textLength=\"10.30px\" lengthAdjust=\"spacingAndGlyphs\">0</text>\n<text x=\"310.22\" y=\"400.37\" text-anchor=\"middle\" style=\"font-size: 18.00px;fill: #151515; font-family: &quot;Noto Sans&quot;;\" textLength=\"10.30px\" lengthAdjust=\"spacingAndGlyphs\">1</text>\n<text x=\"417.38\" y=\"400.37\" text-anchor=\"middle\" style=\"font-size: 18.00px;fill: #151515; font-family: &quot;Noto Sans&quot;;\" textLength=\"10.30px\" lengthAdjust=\"spacingAndGlyphs\">2</text>\n<text x=\"238.18\" y=\"421.72\" text-anchor=\"middle\" style=\"font-size: 20.00px;fill: #151515; font-family: &quot;Noto Sans&quot;;\" textLength=\"72.91px\" lengthAdjust=\"spacingAndGlyphs\">Valence</text>\n<text transform=\"translate(19.76,193.28) rotate(-90)\" text-anchor=\"middle\" style=\"font-size: 20.00px;fill: #151515; font-family: &quot;Noto Sans&quot;;\" textLength=\"71.47px\" lengthAdjust=\"spacingAndGlyphs\">Arousal</text>\n</g>\n</svg>",
      "text/plain": [
       "<IPython.core.display.SVG object>"
      ]
     },
     "metadata": {},
     "output_type": "display_data"
    },
    {
     "data": {
      "image/svg+xml": "<svg xmlns=\"http://www.w3.org/2000/svg\" xmlns:xlink=\"http://www.w3.org/1999/xlink\" class=\"svglite\" width=\"432.00pt\" height=\"432.00pt\" viewBox=\"0 0 432.00 432.00\">\n<defs>\n  <style type=\"text/css\"><![CDATA[\n    .svglite line, .svglite polyline, .svglite polygon, .svglite path, .svglite rect, .svglite circle {\n      fill: none;\n      stroke: #000000;\n      stroke-linecap: round;\n      stroke-linejoin: round;\n      stroke-miterlimit: 10.00;\n    }\n    .svglite text {\n      white-space: pre;\n    }\n  ]]></style>\n</defs>\n<rect width=\"100%\" height=\"100%\" style=\"stroke: none; fill: #FFFFFF;\"/>\n<defs>\n  <clipPath id=\"cpMC4wMHw0MzIuMDB8MC4wMHw0MzIuMDA=\">\n    <rect x=\"0.00\" y=\"0.00\" width=\"432.00\" height=\"432.00\"/>\n  </clipPath>\n</defs>\n<g clip-path=\"url(#cpMC4wMHw0MzIuMDB8MC4wMHw0MzIuMDA=)\">\n<rect x=\"0.000000000000032\" y=\"0.00\" width=\"432.00\" height=\"432.00\" style=\"stroke-width: 1.07; stroke: #FFFFFF; fill: #FFFFFF;\"/>\n</g>\n<defs>\n  <clipPath id=\"cpNDkuODR8NDI2LjUyfDUuNDh8MzgxLjA4\">\n    <rect x=\"49.84\" y=\"5.48\" width=\"376.68\" height=\"375.60\"/>\n  </clipPath>\n</defs>\n<g clip-path=\"url(#cpNDkuODR8NDI2LjUyfDUuNDh8MzgxLjA4)\">\n<rect x=\"49.84\" y=\"5.48\" width=\"376.68\" height=\"375.60\" style=\"stroke-width: 1.07; stroke: none; fill: #FFFFFF;\"/>\n<polyline points=\"49.84,345.85 426.52,345.85 \" style=\"stroke-width: 0.53; stroke: #FFFFFF; stroke-linecap: butt;\"/>\n<polyline points=\"49.84,246.62 426.52,246.62 \" style=\"stroke-width: 0.53; stroke: #FFFFFF; stroke-linecap: butt;\"/>\n<polyline points=\"49.84,147.39 426.52,147.39 \" style=\"stroke-width: 0.53; stroke: #FFFFFF; stroke-linecap: butt;\"/>\n<polyline points=\"49.84,48.15 426.52,48.15 \" style=\"stroke-width: 0.53; stroke: #FFFFFF; stroke-linecap: butt;\"/>\n<polyline points=\"69.41,381.08 69.41,5.48 \" style=\"stroke-width: 0.53; stroke: #FFFFFF; stroke-linecap: butt;\"/>\n<polyline points=\"181.27,381.08 181.27,5.48 \" style=\"stroke-width: 0.53; stroke: #FFFFFF; stroke-linecap: butt;\"/>\n<polyline points=\"293.13,381.08 293.13,5.48 \" style=\"stroke-width: 0.53; stroke: #FFFFFF; stroke-linecap: butt;\"/>\n<polyline points=\"404.99,381.08 404.99,5.48 \" style=\"stroke-width: 0.53; stroke: #FFFFFF; stroke-linecap: butt;\"/>\n<polyline points=\"49.84,296.23 426.52,296.23 \" style=\"stroke-width: 1.07; stroke: #FFFFFF; stroke-linecap: butt;\"/>\n<polyline points=\"49.84,197.00 426.52,197.00 \" style=\"stroke-width: 1.07; stroke: #FFFFFF; stroke-linecap: butt;\"/>\n<polyline points=\"49.84,97.77 426.52,97.77 \" style=\"stroke-width: 1.07; stroke: #FFFFFF; stroke-linecap: butt;\"/>\n<polyline points=\"125.34,381.08 125.34,5.48 \" style=\"stroke-width: 1.07; stroke: #FFFFFF; stroke-linecap: butt;\"/>\n<polyline points=\"237.20,381.08 237.20,5.48 \" style=\"stroke-width: 1.07; stroke: #FFFFFF; stroke-linecap: butt;\"/>\n<polyline points=\"349.06,381.08 349.06,5.48 \" style=\"stroke-width: 1.07; stroke: #FFFFFF; stroke-linecap: butt;\"/>\n<circle cx=\"298.62\" cy=\"146.47\" r=\"5.19\" style=\"stroke-width: 0.71; stroke: #CBA6F7; fill: #CBA6F7;\"/>\n<circle cx=\"368.66\" cy=\"22.55\" r=\"5.19\" style=\"stroke-width: 0.71; stroke: #CBA6F7; fill: #CBA6F7;\"/>\n<circle cx=\"409.40\" cy=\"264.90\" r=\"5.19\" style=\"stroke-width: 0.71; stroke: #CBA6F7; fill: #CBA6F7;\"/>\n<circle cx=\"358.97\" cy=\"230.45\" r=\"5.19\" style=\"stroke-width: 0.71; stroke: #CBA6F7; fill: #CBA6F7;\"/>\n<circle cx=\"393.86\" cy=\"84.08\" r=\"5.19\" style=\"stroke-width: 0.71; stroke: #CBA6F7; fill: #CBA6F7;\"/>\n<circle cx=\"399.30\" cy=\"113.71\" r=\"5.19\" style=\"stroke-width: 0.71; stroke: #CBA6F7; fill: #CBA6F7;\"/>\n<circle cx=\"114.34\" cy=\"360.22\" r=\"5.19\" style=\"stroke-width: 0.71; stroke: #CBA6F7; fill: #CBA6F7;\"/>\n<circle cx=\"149.25\" cy=\"364.01\" r=\"5.19\" style=\"stroke-width: 0.71; stroke: #CBA6F7; fill: #CBA6F7;\"/>\n<circle cx=\"126.81\" cy=\"227.59\" r=\"5.19\" style=\"stroke-width: 0.71; stroke: #CBA6F7; fill: #CBA6F7;\"/>\n<circle cx=\"147.90\" cy=\"360.71\" r=\"5.19\" style=\"stroke-width: 0.71; stroke: #CBA6F7; fill: #CBA6F7;\"/>\n<circle cx=\"154.92\" cy=\"199.81\" r=\"5.19\" style=\"stroke-width: 0.71; stroke: #CBA6F7; fill: #CBA6F7;\"/>\n<circle cx=\"194.84\" cy=\"167.23\" r=\"5.19\" style=\"stroke-width: 0.71; stroke: #CBA6F7; fill: #CBA6F7;\"/>\n<circle cx=\"117.45\" cy=\"160.22\" r=\"5.19\" style=\"stroke-width: 0.71; stroke: #CBA6F7; fill: #CBA6F7;\"/>\n<circle cx=\"314.71\" cy=\"97.74\" r=\"5.19\" style=\"stroke-width: 0.71; stroke: #CBA6F7; fill: #CBA6F7;\"/>\n<circle cx=\"284.38\" cy=\"142.72\" r=\"5.19\" style=\"stroke-width: 0.71; stroke: #CBA6F7; fill: #CBA6F7;\"/>\n<circle cx=\"173.76\" cy=\"283.33\" r=\"5.19\" style=\"stroke-width: 0.71; stroke: #CBA6F7; fill: #CBA6F7;\"/>\n<circle cx=\"195.44\" cy=\"84.79\" r=\"5.19\" style=\"stroke-width: 0.71; stroke: #CBA6F7; fill: #CBA6F7;\"/>\n<circle cx=\"66.96\" cy=\"235.46\" r=\"5.19\" style=\"stroke-width: 0.71; stroke: #CBA6F7; fill: #CBA6F7;\"/>\n<text x=\"308.43\" y=\"161.38\" text-anchor=\"middle\" style=\"font-size: 14.23px; font-family: &quot;Liberation Sans&quot;;\" textLength=\"75.40px\" lengthAdjust=\"spacingAndGlyphs\">SURPRISED</text>\n<text x=\"394.80\" y=\"19.24\" text-anchor=\"middle\" style=\"font-size: 14.23px; font-family: &quot;Liberation Sans&quot;;\" textLength=\"56.23px\" lengthAdjust=\"spacingAndGlyphs\">EXCITED</text>\n<text x=\"379.20\" y=\"270.43\" text-anchor=\"middle\" style=\"font-size: 14.23px; font-family: &quot;Liberation Sans&quot;;\" textLength=\"51.17px\" lengthAdjust=\"spacingAndGlyphs\">SERENE</text>\n<text x=\"349.20\" y=\"245.30\" text-anchor=\"middle\" style=\"font-size: 14.23px; font-family: &quot;Liberation Sans&quot;;\" textLength=\"44.88px\" lengthAdjust=\"spacingAndGlyphs\">HAPPY</text>\n<text x=\"384.06\" y=\"79.37\" text-anchor=\"middle\" style=\"font-size: 14.23px; font-family: &quot;Liberation Sans&quot;;\" textLength=\"67.90px\" lengthAdjust=\"spacingAndGlyphs\">SATISFIED</text>\n<text x=\"389.43\" y=\"128.57\" text-anchor=\"middle\" style=\"font-size: 14.23px; font-family: &quot;Liberation Sans&quot;;\" textLength=\"38.42px\" lengthAdjust=\"spacingAndGlyphs\">CALM</text>\n<text x=\"104.53\" y=\"375.05\" text-anchor=\"middle\" style=\"font-size: 14.23px; font-family: &quot;Liberation Sans&quot;;\" textLength=\"39.85px\" lengthAdjust=\"spacingAndGlyphs\">TIRED</text>\n<text x=\"177.68\" y=\"377.48\" text-anchor=\"middle\" style=\"font-size: 14.23px; font-family: &quot;Liberation Sans&quot;;\" textLength=\"47.48px\" lengthAdjust=\"spacingAndGlyphs\">BORED</text>\n<text x=\"136.65\" y=\"222.84\" text-anchor=\"middle\" style=\"font-size: 14.23px; font-family: &quot;Liberation Sans&quot;;\" textLength=\"77.54px\" lengthAdjust=\"spacingAndGlyphs\">DEPRESSED</text>\n<text x=\"138.05\" y=\"355.99\" text-anchor=\"middle\" style=\"font-size: 14.23px; font-family: &quot;Liberation Sans&quot;;\" textLength=\"27.27px\" lengthAdjust=\"spacingAndGlyphs\">SAD</text>\n<text x=\"153.91\" y=\"205.57\" text-anchor=\"middle\" style=\"font-size: 14.23px; font-family: &quot;Liberation Sans&quot;;\" textLength=\"86.45px\" lengthAdjust=\"spacingAndGlyphs\">FRUSTRATED</text>\n<text x=\"204.67\" y=\"162.50\" text-anchor=\"middle\" style=\"font-size: 14.23px; font-family: &quot;Liberation Sans&quot;;\" textLength=\"49.59px\" lengthAdjust=\"spacingAndGlyphs\">AFRAID</text>\n<text x=\"127.25\" y=\"155.52\" text-anchor=\"middle\" style=\"font-size: 14.23px; font-family: &quot;Liberation Sans&quot;;\" textLength=\"47.14px\" lengthAdjust=\"spacingAndGlyphs\">ANGRY</text>\n<text x=\"304.92\" y=\"112.64\" text-anchor=\"middle\" style=\"font-size: 14.23px; font-family: &quot;Liberation Sans&quot;;\" textLength=\"66.36px\" lengthAdjust=\"spacingAndGlyphs\">STRESSED</text>\n<text x=\"274.59\" y=\"138.00\" text-anchor=\"middle\" style=\"font-size: 14.23px; font-family: &quot;Liberation Sans&quot;;\" textLength=\"88.15px\" lengthAdjust=\"spacingAndGlyphs\">ASTONISHED</text>\n<text x=\"163.93\" y=\"298.23\" text-anchor=\"middle\" style=\"font-size: 14.23px; font-family: &quot;Liberation Sans&quot;;\" textLength=\"47.72px\" lengthAdjust=\"spacingAndGlyphs\">SLEEPY</text>\n<text x=\"205.21\" y=\"80.08\" text-anchor=\"middle\" style=\"font-size: 14.23px; font-family: &quot;Liberation Sans&quot;;\" textLength=\"65.65px\" lengthAdjust=\"spacingAndGlyphs\">ALARMED</text>\n<text x=\"92.32\" y=\"250.31\" text-anchor=\"middle\" style=\"font-size: 14.23px; font-family: &quot;Liberation Sans&quot;;\" textLength=\"77.75px\" lengthAdjust=\"spacingAndGlyphs\">DISGUSTED</text>\n</g>\n<g clip-path=\"url(#cpMC4wMHw0MzIuMDB8MC4wMHw0MzIuMDA=)\">\n<polyline points=\"49.84,381.08 49.84,5.48 \" style=\"stroke-width: 2.56; stroke-linecap: butt;\"/>\n<text x=\"43.40\" y=\"302.66\" text-anchor=\"end\" style=\"font-size: 18.00px;fill: #151515; font-family: &quot;Noto Sans&quot;;\" textLength=\"16.09px\" lengthAdjust=\"spacingAndGlyphs\">-1</text>\n<text x=\"43.40\" y=\"203.43\" text-anchor=\"end\" style=\"font-size: 18.00px;fill: #151515; font-family: &quot;Noto Sans&quot;;\" textLength=\"10.30px\" lengthAdjust=\"spacingAndGlyphs\">0</text>\n<text x=\"43.40\" y=\"104.20\" text-anchor=\"end\" style=\"font-size: 18.00px;fill: #151515; font-family: &quot;Noto Sans&quot;;\" textLength=\"10.30px\" lengthAdjust=\"spacingAndGlyphs\">1</text>\n<polyline points=\"45.59,296.23 49.84,296.23 \" style=\"stroke-width: 1.07; stroke: #151515; stroke-linecap: butt;\"/>\n<polyline points=\"45.59,197.00 49.84,197.00 \" style=\"stroke-width: 1.07; stroke: #151515; stroke-linecap: butt;\"/>\n<polyline points=\"45.59,97.77 49.84,97.77 \" style=\"stroke-width: 1.07; stroke: #151515; stroke-linecap: butt;\"/>\n<polyline points=\"49.84,381.08 426.52,381.08 \" style=\"stroke-width: 2.56; stroke-linecap: butt;\"/>\n<polyline points=\"125.34,385.33 125.34,381.08 \" style=\"stroke-width: 1.07; stroke: #151515; stroke-linecap: butt;\"/>\n<polyline points=\"237.20,385.33 237.20,381.08 \" style=\"stroke-width: 1.07; stroke: #151515; stroke-linecap: butt;\"/>\n<polyline points=\"349.06,385.33 349.06,381.08 \" style=\"stroke-width: 1.07; stroke: #151515; stroke-linecap: butt;\"/>\n<text x=\"125.34\" y=\"400.37\" text-anchor=\"middle\" style=\"font-size: 18.00px;fill: #151515; font-family: &quot;Noto Sans&quot;;\" textLength=\"16.09px\" lengthAdjust=\"spacingAndGlyphs\">-1</text>\n<text x=\"237.20\" y=\"400.37\" text-anchor=\"middle\" style=\"font-size: 18.00px;fill: #151515; font-family: &quot;Noto Sans&quot;;\" textLength=\"10.30px\" lengthAdjust=\"spacingAndGlyphs\">0</text>\n<text x=\"349.06\" y=\"400.37\" text-anchor=\"middle\" style=\"font-size: 18.00px;fill: #151515; font-family: &quot;Noto Sans&quot;;\" textLength=\"10.30px\" lengthAdjust=\"spacingAndGlyphs\">1</text>\n<text x=\"238.18\" y=\"421.72\" text-anchor=\"middle\" style=\"font-size: 20.00px;fill: #151515; font-family: &quot;Noto Sans&quot;;\" textLength=\"72.91px\" lengthAdjust=\"spacingAndGlyphs\">Valence</text>\n<text transform=\"translate(19.76,193.28) rotate(-90)\" text-anchor=\"middle\" style=\"font-size: 20.00px;fill: #151515; font-family: &quot;Noto Sans&quot;;\" textLength=\"71.47px\" lengthAdjust=\"spacingAndGlyphs\">Arousal</text>\n</g>\n</svg>",
      "text/plain": [
       "<IPython.core.display.SVG object>"
      ]
     },
     "metadata": {},
     "output_type": "display_data"
    }
   ],
   "source": [
    "!./module_nlp/core/plots.R \"plot_osgood\"\n",
    "\n",
    "# Display svg images\n",
    "from IPython.display import SVG\n",
    "display(SVG(\"../figures/7A.svg\"))\n",
    "display(SVG(\"../figures/7B.svg\"))"
   ]
  },
  {
   "attachments": {},
   "cell_type": "markdown",
   "metadata": {},
   "source": [
    "## Figure 7C-D\n",
    "### Compute coordinates in control geographic space"
   ]
  },
  {
   "cell_type": "code",
   "execution_count": 2,
   "metadata": {},
   "outputs": [],
   "source": [
    "_ = importlib.reload(fasttext_space)\n",
    "with open(\"./module_nlp/config/config_en.yml\") as f:\n",
    "    config = yaml.safe_load(f)\n",
    "\n",
    "df = fasttext_space.get_wheels(config['get_control_wheel'])"
   ]
  },
  {
   "attachments": {},
   "cell_type": "markdown",
   "metadata": {},
   "source": [
    "### Generate RDMs for the control conditions"
   ]
  },
  {
   "cell_type": "code",
   "execution_count": 3,
   "metadata": {},
   "outputs": [],
   "source": [
    "_ = importlib.reload(fasttext_space)\n",
    "with open(\"./module_nlp/config/config_en.yml\") as f:\n",
    "    config = yaml.safe_load(f)\n",
    "\n",
    "fasttext_space.control_rdm(config['control_rdm'])"
   ]
  },
  {
   "attachments": {},
   "cell_type": "markdown",
   "metadata": {},
   "source": [
    "### Run correlation analysis"
   ]
  },
  {
   "cell_type": "code",
   "execution_count": null,
   "metadata": {},
   "outputs": [],
   "source": [
    "_ = importlib.reload(fasttext_space)\n",
    "with open(\"./module_nlp/config/config_en.yml\") as f:\n",
    "    config = yaml.safe_load(f)\n",
    "\n",
    "fasttext_space.osgood_rdm(config['rdm_difference'])"
   ]
  },
  {
   "cell_type": "code",
   "execution_count": 8,
   "metadata": {},
   "outputs": [
    {
     "name": "stdout",
     "output_type": "stream",
     "text": [
      "\u001b[?25h\u001b[?25h\u001b[?25h\u001b[?25h\u001b[?25h\u001b[?25h\u001b[?25h\u001b[?25h\u001b[?25h\u001b[?25h\u001b[?25h\u001b[?25h\u001b[?25h\u001b[?25h\u001b[?25h\u001b[?25h\u001b[?25h\u001b[?25h\u001b[?25h\u001b[?25h\u001b[?25h\u001b[?25h\u001b[?25h\u001b[?25h\u001b[?25h\u001b[?25h"
     ]
    },
    {
     "data": {
      "image/svg+xml": "<svg xmlns=\"http://www.w3.org/2000/svg\" xmlns:xlink=\"http://www.w3.org/1999/xlink\" class=\"svglite\" width=\"432.00pt\" height=\"432.00pt\" viewBox=\"0 0 432.00 432.00\">\n<defs>\n  <style type=\"text/css\"><![CDATA[\n    .svglite line, .svglite polyline, .svglite polygon, .svglite path, .svglite rect, .svglite circle {\n      fill: none;\n      stroke: #000000;\n      stroke-linecap: round;\n      stroke-linejoin: round;\n      stroke-miterlimit: 10.00;\n    }\n    .svglite text {\n      white-space: pre;\n    }\n  ]]></style>\n</defs>\n<rect width=\"100%\" height=\"100%\" style=\"stroke: none; fill: #FFFFFF;\"/>\n<defs>\n  <clipPath id=\"cpMC4wMHw0MzIuMDB8MC4wMHw0MzIuMDA=\">\n    <rect x=\"0.00\" y=\"0.00\" width=\"432.00\" height=\"432.00\"/>\n  </clipPath>\n</defs>\n<g clip-path=\"url(#cpMC4wMHw0MzIuMDB8MC4wMHw0MzIuMDA=)\">\n<rect x=\"0.00\" y=\"0.000000000000057\" width=\"432.00\" height=\"432.00\" style=\"stroke-width: 1.07; stroke: #FFFFFF; fill: #FFFFFF;\"/>\n</g>\n<defs>\n  <clipPath id=\"cpNzUuMjZ8Mjk0LjkwfDUuNDh8MzM5LjE5\">\n    <rect x=\"75.26\" y=\"5.48\" width=\"219.64\" height=\"333.71\"/>\n  </clipPath>\n</defs>\n<g clip-path=\"url(#cpNzUuMjZ8Mjk0LjkwfDUuNDh8MzM5LjE5)\">\n<rect x=\"75.26\" y=\"5.48\" width=\"219.64\" height=\"333.71\" style=\"stroke-width: 1.07; stroke: none; fill: #FFFFFF;\"/>\n<polyline points=\"75.26,303.33 294.90,303.33 \" style=\"stroke-width: 0.53; stroke: #FFFFFF; stroke-linecap: butt;\"/>\n<polyline points=\"75.26,234.39 294.90,234.39 \" style=\"stroke-width: 0.53; stroke: #FFFFFF; stroke-linecap: butt;\"/>\n<polyline points=\"75.26,165.44 294.90,165.44 \" style=\"stroke-width: 0.53; stroke: #FFFFFF; stroke-linecap: butt;\"/>\n<polyline points=\"75.26,96.49 294.90,96.49 \" style=\"stroke-width: 0.53; stroke: #FFFFFF; stroke-linecap: butt;\"/>\n<polyline points=\"75.26,27.54 294.90,27.54 \" style=\"stroke-width: 0.53; stroke: #FFFFFF; stroke-linecap: butt;\"/>\n<polyline points=\"75.26,337.81 294.90,337.81 \" style=\"stroke-width: 1.07; stroke: #FFFFFF; stroke-linecap: butt;\"/>\n<polyline points=\"75.26,268.86 294.90,268.86 \" style=\"stroke-width: 1.07; stroke: #FFFFFF; stroke-linecap: butt;\"/>\n<polyline points=\"75.26,199.91 294.90,199.91 \" style=\"stroke-width: 1.07; stroke: #FFFFFF; stroke-linecap: butt;\"/>\n<polyline points=\"75.26,130.96 294.90,130.96 \" style=\"stroke-width: 1.07; stroke: #FFFFFF; stroke-linecap: butt;\"/>\n<polyline points=\"75.26,62.02 294.90,62.02 \" style=\"stroke-width: 1.07; stroke: #FFFFFF; stroke-linecap: butt;\"/>\n<polyline points=\"106.64,339.19 106.64,5.48 \" style=\"stroke-width: 1.07; stroke: #FFFFFF; stroke-linecap: butt;\"/>\n<polyline points=\"158.93,339.19 158.93,5.48 \" style=\"stroke-width: 1.07; stroke: #FFFFFF; stroke-linecap: butt;\"/>\n<polyline points=\"211.22,339.19 211.22,5.48 \" style=\"stroke-width: 1.07; stroke: #FFFFFF; stroke-linecap: butt;\"/>\n<polyline points=\"263.52,339.19 263.52,5.48 \" style=\"stroke-width: 1.07; stroke: #FFFFFF; stroke-linecap: butt;\"/>\n<rect x=\"83.10\" y=\"187.11\" width=\"47.07\" height=\"81.75\" style=\"stroke-width: 1.07; stroke: none; stroke-linecap: butt; stroke-linejoin: miter; fill: #CBA6F7;\"/>\n<rect x=\"135.40\" y=\"260.98\" width=\"47.07\" height=\"7.88\" style=\"stroke-width: 1.07; stroke: none; stroke-linecap: butt; stroke-linejoin: miter; fill: #E6A0C4;\"/>\n<rect x=\"187.69\" y=\"268.86\" width=\"47.07\" height=\"44.32\" style=\"stroke-width: 1.07; stroke: none; stroke-linecap: butt; stroke-linejoin: miter; fill: #C6CDF7;\"/>\n<rect x=\"239.99\" y=\"174.30\" width=\"47.07\" height=\"94.56\" style=\"stroke-width: 1.07; stroke: none; stroke-linecap: butt; stroke-linejoin: miter; fill: #D8A499;\"/>\n<text x=\"132.78\" y=\"88.49\" text-anchor=\"middle\" style=\"font-size: 11.38px; font-family: &quot;Liberation Sans&quot;;\" textLength=\"48.51px\" lengthAdjust=\"spacingAndGlyphs\">p = 0.484</text>\n<line x1=\"158.93\" y1=\"95.89\" x2=\"158.93\" y2=\"95.89\" style=\"stroke-width: 1.07;\"/>\n<line x1=\"158.93\" y1=\"95.89\" x2=\"106.64\" y2=\"95.89\" style=\"stroke-width: 1.07;\"/>\n<line x1=\"106.64\" y1=\"95.89\" x2=\"106.64\" y2=\"95.89\" style=\"stroke-width: 1.07;\"/>\n<text x=\"158.93\" y=\"69.18\" text-anchor=\"middle\" style=\"font-size: 11.38px; font-family: &quot;Liberation Sans&quot;;\" textLength=\"48.51px\" lengthAdjust=\"spacingAndGlyphs\">p = 0.225</text>\n<line x1=\"211.22\" y1=\"76.58\" x2=\"211.22\" y2=\"76.58\" style=\"stroke-width: 1.07;\"/>\n<line x1=\"211.22\" y1=\"76.58\" x2=\"106.64\" y2=\"76.58\" style=\"stroke-width: 1.07;\"/>\n<line x1=\"106.64\" y1=\"76.58\" x2=\"106.64\" y2=\"76.58\" style=\"stroke-width: 1.07;\"/>\n<text x=\"185.08\" y=\"49.88\" text-anchor=\"middle\" style=\"font-size: 11.38px; font-family: &quot;Liberation Sans&quot;;\" textLength=\"48.51px\" lengthAdjust=\"spacingAndGlyphs\">p = 0.896</text>\n<line x1=\"263.52\" y1=\"57.28\" x2=\"263.52\" y2=\"57.28\" style=\"stroke-width: 1.07;\"/>\n<line x1=\"263.52\" y1=\"57.28\" x2=\"106.64\" y2=\"57.28\" style=\"stroke-width: 1.07;\"/>\n<line x1=\"106.64\" y1=\"57.28\" x2=\"106.64\" y2=\"57.28\" style=\"stroke-width: 1.07;\"/>\n</g>\n<g clip-path=\"url(#cpMC4wMHw0MzIuMDB8MC4wMHw0MzIuMDA=)\">\n<polyline points=\"75.26,339.19 75.26,5.48 \" style=\"stroke-width: 2.56; stroke-linecap: butt;\"/>\n<text x=\"68.81\" y=\"344.23\" text-anchor=\"end\" style=\"font-size: 18.00px;fill: #151515; font-family: &quot;Noto Sans&quot;;\" textLength=\"41.51px\" lengthAdjust=\"spacingAndGlyphs\">-0.25</text>\n<text x=\"68.81\" y=\"275.29\" text-anchor=\"end\" style=\"font-size: 18.00px;fill: #151515; font-family: &quot;Noto Sans&quot;;\" textLength=\"35.71px\" lengthAdjust=\"spacingAndGlyphs\">0.00</text>\n<text x=\"68.81\" y=\"206.34\" text-anchor=\"end\" style=\"font-size: 18.00px;fill: #151515; font-family: &quot;Noto Sans&quot;;\" textLength=\"35.71px\" lengthAdjust=\"spacingAndGlyphs\">0.25</text>\n<text x=\"68.81\" y=\"137.39\" text-anchor=\"end\" style=\"font-size: 18.00px;fill: #151515; font-family: &quot;Noto Sans&quot;;\" textLength=\"35.71px\" lengthAdjust=\"spacingAndGlyphs\">0.50</text>\n<text x=\"68.81\" y=\"68.44\" text-anchor=\"end\" style=\"font-size: 18.00px;fill: #151515; font-family: &quot;Noto Sans&quot;;\" textLength=\"35.71px\" lengthAdjust=\"spacingAndGlyphs\">0.75</text>\n<polyline points=\"71.01,337.81 75.26,337.81 \" style=\"stroke-width: 1.07; stroke: #151515; stroke-linecap: butt;\"/>\n<polyline points=\"71.01,268.86 75.26,268.86 \" style=\"stroke-width: 1.07; stroke: #151515; stroke-linecap: butt;\"/>\n<polyline points=\"71.01,199.91 75.26,199.91 \" style=\"stroke-width: 1.07; stroke: #151515; stroke-linecap: butt;\"/>\n<polyline points=\"71.01,130.96 75.26,130.96 \" style=\"stroke-width: 1.07; stroke: #151515; stroke-linecap: butt;\"/>\n<polyline points=\"71.01,62.02 75.26,62.02 \" style=\"stroke-width: 1.07; stroke: #151515; stroke-linecap: butt;\"/>\n<polyline points=\"75.26,339.19 294.90,339.19 \" style=\"stroke-width: 2.56; stroke-linecap: butt;\"/>\n<polyline points=\"106.64,343.44 106.64,339.19 \" style=\"stroke-width: 1.07; stroke: #151515; stroke-linecap: butt;\"/>\n<polyline points=\"158.93,343.44 158.93,339.19 \" style=\"stroke-width: 1.07; stroke: #151515; stroke-linecap: butt;\"/>\n<polyline points=\"211.22,343.44 211.22,339.19 \" style=\"stroke-width: 1.07; stroke: #151515; stroke-linecap: butt;\"/>\n<polyline points=\"263.52,343.44 263.52,339.19 \" style=\"stroke-width: 1.07; stroke: #151515; stroke-linecap: butt;\"/>\n<text transform=\"translate(111.99,354.91) rotate(-30)\" text-anchor=\"end\" style=\"font-size: 15.00px;fill: #151515; font-family: &quot;Noto Sans&quot;;\" textLength=\"93.33px\" lengthAdjust=\"spacingAndGlyphs\">osgoodspace</text>\n<text transform=\"translate(164.29,354.91) rotate(-30)\" text-anchor=\"end\" style=\"font-size: 15.00px;fill: #151515; font-family: &quot;Noto Sans&quot;;\" textLength=\"53.40px\" lengthAdjust=\"spacingAndGlyphs\">fasttext</text>\n<text transform=\"translate(216.58,354.91) rotate(-30)\" text-anchor=\"end\" style=\"font-size: 15.00px;fill: #151515; font-family: &quot;Noto Sans&quot;;\" textLength=\"71.21px\" lengthAdjust=\"spacingAndGlyphs\">fasttext2d</text>\n<text transform=\"translate(268.88,354.91) rotate(-30)\" text-anchor=\"end\" style=\"font-size: 15.00px;fill: #151515; font-family: &quot;Noto Sans&quot;;\" textLength=\"90.58px\" lengthAdjust=\"spacingAndGlyphs\">controlspace</text>\n<text x=\"185.08\" y=\"421.72\" text-anchor=\"middle\" style=\"font-size: 20.00px;fill: #151515; font-family: &quot;Noto Sans&quot;;\" textLength=\"91.42px\" lengthAdjust=\"spacingAndGlyphs\">Condition</text>\n<text transform=\"translate(19.76,172.33) rotate(-90)\" text-anchor=\"middle\" style=\"font-size: 20.00px;fill: #151515; font-family: &quot;Noto Sans&quot;;\" textLength=\"110.17px\" lengthAdjust=\"spacingAndGlyphs\">Coefficients</text>\n<text x=\"311.33\" y=\"139.39\" style=\"font-size: 15.00px;fill: #151515; font-family: &quot;Noto Sans&quot;;\" textLength=\"109.71px\" lengthAdjust=\"spacingAndGlyphs\">rho-coefficients</text>\n<rect x=\"312.04\" y=\"149.37\" width=\"15.86\" height=\"15.86\" style=\"stroke-width: 1.07; stroke: none; stroke-linecap: butt; stroke-linejoin: miter; fill: #CBA6F7;\"/>\n<rect x=\"312.04\" y=\"166.65\" width=\"15.86\" height=\"15.86\" style=\"stroke-width: 1.07; stroke: none; stroke-linecap: butt; stroke-linejoin: miter; fill: #E6A0C4;\"/>\n<rect x=\"312.04\" y=\"183.93\" width=\"15.86\" height=\"15.86\" style=\"stroke-width: 1.07; stroke: none; stroke-linecap: butt; stroke-linejoin: miter; fill: #C6CDF7;\"/>\n<rect x=\"312.04\" y=\"201.21\" width=\"15.86\" height=\"15.86\" style=\"stroke-width: 1.07; stroke: none; stroke-linecap: butt; stroke-linejoin: miter; fill: #D8A499;\"/>\n<text x=\"336.09\" y=\"162.66\" style=\"font-size: 15.00px;fill: #151515; font-family: &quot;Noto Sans&quot;;\" textLength=\"38.35px\" lengthAdjust=\"spacingAndGlyphs\">0.296</text>\n<text x=\"336.09\" y=\"179.94\" style=\"font-size: 15.00px;fill: #151515; font-family: &quot;Noto Sans&quot;;\" textLength=\"38.35px\" lengthAdjust=\"spacingAndGlyphs\">0.029</text>\n<text x=\"336.09\" y=\"197.22\" style=\"font-size: 15.00px;fill: #151515; font-family: &quot;Noto Sans&quot;;\" textLength=\"43.18px\" lengthAdjust=\"spacingAndGlyphs\">-0.161</text>\n<text x=\"336.09\" y=\"214.50\" style=\"font-size: 15.00px;fill: #151515; font-family: &quot;Noto Sans&quot;;\" textLength=\"38.35px\" lengthAdjust=\"spacingAndGlyphs\">0.343</text>\n</g>\n</svg>",
      "text/plain": [
       "<IPython.core.display.SVG object>"
      ]
     },
     "metadata": {},
     "output_type": "display_data"
    },
    {
     "data": {
      "image/svg+xml": "<svg xmlns=\"http://www.w3.org/2000/svg\" xmlns:xlink=\"http://www.w3.org/1999/xlink\" class=\"svglite\" width=\"432.00pt\" height=\"432.00pt\" viewBox=\"0 0 432.00 432.00\">\n<defs>\n  <style type=\"text/css\"><![CDATA[\n    .svglite line, .svglite polyline, .svglite polygon, .svglite path, .svglite rect, .svglite circle {\n      fill: none;\n      stroke: #000000;\n      stroke-linecap: round;\n      stroke-linejoin: round;\n      stroke-miterlimit: 10.00;\n    }\n    .svglite text {\n      white-space: pre;\n    }\n  ]]></style>\n</defs>\n<rect width=\"100%\" height=\"100%\" style=\"stroke: none; fill: #FFFFFF;\"/>\n<defs>\n  <clipPath id=\"cpMC4wMHw0MzIuMDB8MC4wMHw0MzIuMDA=\">\n    <rect x=\"0.00\" y=\"0.00\" width=\"432.00\" height=\"432.00\"/>\n  </clipPath>\n</defs>\n<g clip-path=\"url(#cpMC4wMHw0MzIuMDB8MC4wMHw0MzIuMDA=)\">\n<rect x=\"0.00\" y=\"0.000000000000057\" width=\"432.00\" height=\"432.00\" style=\"stroke-width: 1.07; stroke: #FFFFFF; fill: #FFFFFF;\"/>\n</g>\n<defs>\n  <clipPath id=\"cpNjkuNDZ8Mjk0LjkwfDUuNDh8MzM5LjE5\">\n    <rect x=\"69.46\" y=\"5.48\" width=\"225.43\" height=\"333.71\"/>\n  </clipPath>\n</defs>\n<g clip-path=\"url(#cpNjkuNDZ8Mjk0LjkwfDUuNDh8MzM5LjE5)\">\n<rect x=\"69.46\" y=\"5.48\" width=\"225.43\" height=\"333.71\" style=\"stroke-width: 1.07; stroke: none; fill: #FFFFFF;\"/>\n<polyline points=\"69.46,331.60 294.90,331.60 \" style=\"stroke-width: 0.53; stroke: #FFFFFF; stroke-linecap: butt;\"/>\n<polyline points=\"69.46,255.76 294.90,255.76 \" style=\"stroke-width: 0.53; stroke: #FFFFFF; stroke-linecap: butt;\"/>\n<polyline points=\"69.46,179.92 294.90,179.92 \" style=\"stroke-width: 0.53; stroke: #FFFFFF; stroke-linecap: butt;\"/>\n<polyline points=\"69.46,104.07 294.90,104.07 \" style=\"stroke-width: 0.53; stroke: #FFFFFF; stroke-linecap: butt;\"/>\n<polyline points=\"69.46,28.23 294.90,28.23 \" style=\"stroke-width: 0.53; stroke: #FFFFFF; stroke-linecap: butt;\"/>\n<polyline points=\"69.46,293.68 294.90,293.68 \" style=\"stroke-width: 1.07; stroke: #FFFFFF; stroke-linecap: butt;\"/>\n<polyline points=\"69.46,217.84 294.90,217.84 \" style=\"stroke-width: 1.07; stroke: #FFFFFF; stroke-linecap: butt;\"/>\n<polyline points=\"69.46,142.00 294.90,142.00 \" style=\"stroke-width: 1.07; stroke: #FFFFFF; stroke-linecap: butt;\"/>\n<polyline points=\"69.46,66.15 294.90,66.15 \" style=\"stroke-width: 1.07; stroke: #FFFFFF; stroke-linecap: butt;\"/>\n<polyline points=\"101.67,339.19 101.67,5.48 \" style=\"stroke-width: 1.07; stroke: #FFFFFF; stroke-linecap: butt;\"/>\n<polyline points=\"155.34,339.19 155.34,5.48 \" style=\"stroke-width: 1.07; stroke: #FFFFFF; stroke-linecap: butt;\"/>\n<polyline points=\"209.02,339.19 209.02,5.48 \" style=\"stroke-width: 1.07; stroke: #FFFFFF; stroke-linecap: butt;\"/>\n<polyline points=\"262.69,339.19 262.69,5.48 \" style=\"stroke-width: 1.07; stroke: #FFFFFF; stroke-linecap: butt;\"/>\n<rect x=\"77.51\" y=\"146.83\" width=\"48.31\" height=\"146.85\" style=\"stroke-width: 1.07; stroke: none; stroke-linecap: butt; stroke-linejoin: miter; fill: #CBA6F7;\"/>\n<rect x=\"131.19\" y=\"147.31\" width=\"48.31\" height=\"146.37\" style=\"stroke-width: 1.07; stroke: none; stroke-linecap: butt; stroke-linejoin: miter; fill: #E6A0C4;\"/>\n<rect x=\"184.86\" y=\"293.68\" width=\"48.31\" height=\"20.52\" style=\"stroke-width: 1.07; stroke: none; stroke-linecap: butt; stroke-linejoin: miter; fill: #C6CDF7;\"/>\n<rect x=\"238.54\" y=\"283.45\" width=\"48.31\" height=\"10.23\" style=\"stroke-width: 1.07; stroke: none; stroke-linecap: butt; stroke-linejoin: miter; fill: #D8A499;\"/>\n<text x=\"101.67\" y=\"146.86\" text-anchor=\"middle\" style=\"font-size: 17.07px; font-family: &quot;Liberation Sans&quot;;\" textLength=\"37.61px\" lengthAdjust=\"spacingAndGlyphs\">****</text>\n<text x=\"155.34\" y=\"147.33\" text-anchor=\"middle\" style=\"font-size: 17.07px; font-family: &quot;Liberation Sans&quot;;\" textLength=\"37.61px\" lengthAdjust=\"spacingAndGlyphs\">****</text>\n<text x=\"128.50\" y=\"95.28\" text-anchor=\"middle\" style=\"font-size: 11.38px; font-family: &quot;Liberation Sans&quot;;\" textLength=\"48.51px\" lengthAdjust=\"spacingAndGlyphs\">p = 0.994</text>\n<line x1=\"155.34\" y1=\"102.68\" x2=\"155.34\" y2=\"102.68\" style=\"stroke-width: 1.07;\"/>\n<line x1=\"155.34\" y1=\"102.68\" x2=\"101.67\" y2=\"102.68\" style=\"stroke-width: 1.07;\"/>\n<line x1=\"101.67\" y1=\"102.68\" x2=\"101.67\" y2=\"102.68\" style=\"stroke-width: 1.07;\"/>\n<text x=\"155.34\" y=\"74.05\" text-anchor=\"middle\" style=\"font-size: 11.38px; font-family: &quot;Liberation Sans&quot;;\" textLength=\"48.51px\" lengthAdjust=\"spacingAndGlyphs\">p &lt; 0.001</text>\n<line x1=\"209.02\" y1=\"81.45\" x2=\"209.02\" y2=\"81.45\" style=\"stroke-width: 1.07;\"/>\n<line x1=\"209.02\" y1=\"81.45\" x2=\"101.67\" y2=\"81.45\" style=\"stroke-width: 1.07;\"/>\n<line x1=\"101.67\" y1=\"81.45\" x2=\"101.67\" y2=\"81.45\" style=\"stroke-width: 1.07;\"/>\n<text x=\"182.18\" y=\"52.81\" text-anchor=\"middle\" style=\"font-size: 11.38px; font-family: &quot;Liberation Sans&quot;;\" textLength=\"48.51px\" lengthAdjust=\"spacingAndGlyphs\">p &lt; 0.001</text>\n<line x1=\"262.69\" y1=\"60.21\" x2=\"262.69\" y2=\"60.21\" style=\"stroke-width: 1.07;\"/>\n<line x1=\"262.69\" y1=\"60.21\" x2=\"101.67\" y2=\"60.21\" style=\"stroke-width: 1.07;\"/>\n<line x1=\"101.67\" y1=\"60.21\" x2=\"101.67\" y2=\"60.21\" style=\"stroke-width: 1.07;\"/>\n</g>\n<g clip-path=\"url(#cpMC4wMHw0MzIuMDB8MC4wMHw0MzIuMDA=)\">\n<polyline points=\"69.46,339.19 69.46,5.48 \" style=\"stroke-width: 2.56; stroke-linecap: butt;\"/>\n<text x=\"63.02\" y=\"300.11\" text-anchor=\"end\" style=\"font-size: 18.00px;fill: #151515; font-family: &quot;Noto Sans&quot;;\" textLength=\"35.71px\" lengthAdjust=\"spacingAndGlyphs\">0.00</text>\n<text x=\"63.02\" y=\"224.26\" text-anchor=\"end\" style=\"font-size: 18.00px;fill: #151515; font-family: &quot;Noto Sans&quot;;\" textLength=\"35.71px\" lengthAdjust=\"spacingAndGlyphs\">0.25</text>\n<text x=\"63.02\" y=\"148.42\" text-anchor=\"end\" style=\"font-size: 18.00px;fill: #151515; font-family: &quot;Noto Sans&quot;;\" textLength=\"35.71px\" lengthAdjust=\"spacingAndGlyphs\">0.50</text>\n<text x=\"63.02\" y=\"72.58\" text-anchor=\"end\" style=\"font-size: 18.00px;fill: #151515; font-family: &quot;Noto Sans&quot;;\" textLength=\"35.71px\" lengthAdjust=\"spacingAndGlyphs\">0.75</text>\n<polyline points=\"65.21,293.68 69.46,293.68 \" style=\"stroke-width: 1.07; stroke: #151515; stroke-linecap: butt;\"/>\n<polyline points=\"65.21,217.84 69.46,217.84 \" style=\"stroke-width: 1.07; stroke: #151515; stroke-linecap: butt;\"/>\n<polyline points=\"65.21,142.00 69.46,142.00 \" style=\"stroke-width: 1.07; stroke: #151515; stroke-linecap: butt;\"/>\n<polyline points=\"65.21,66.15 69.46,66.15 \" style=\"stroke-width: 1.07; stroke: #151515; stroke-linecap: butt;\"/>\n<polyline points=\"69.46,339.19 294.90,339.19 \" style=\"stroke-width: 2.56; stroke-linecap: butt;\"/>\n<polyline points=\"101.67,343.44 101.67,339.19 \" style=\"stroke-width: 1.07; stroke: #151515; stroke-linecap: butt;\"/>\n<polyline points=\"155.34,343.44 155.34,339.19 \" style=\"stroke-width: 1.07; stroke: #151515; stroke-linecap: butt;\"/>\n<polyline points=\"209.02,343.44 209.02,339.19 \" style=\"stroke-width: 1.07; stroke: #151515; stroke-linecap: butt;\"/>\n<polyline points=\"262.69,343.44 262.69,339.19 \" style=\"stroke-width: 1.07; stroke: #151515; stroke-linecap: butt;\"/>\n<text transform=\"translate(107.02,354.91) rotate(-30)\" text-anchor=\"end\" style=\"font-size: 15.00px;fill: #151515; font-family: &quot;Noto Sans&quot;;\" textLength=\"93.33px\" lengthAdjust=\"spacingAndGlyphs\">osgoodspace</text>\n<text transform=\"translate(160.70,354.91) rotate(-30)\" text-anchor=\"end\" style=\"font-size: 15.00px;fill: #151515; font-family: &quot;Noto Sans&quot;;\" textLength=\"53.40px\" lengthAdjust=\"spacingAndGlyphs\">fasttext</text>\n<text transform=\"translate(214.37,354.91) rotate(-30)\" text-anchor=\"end\" style=\"font-size: 15.00px;fill: #151515; font-family: &quot;Noto Sans&quot;;\" textLength=\"71.21px\" lengthAdjust=\"spacingAndGlyphs\">fasttext2d</text>\n<text transform=\"translate(268.05,354.91) rotate(-30)\" text-anchor=\"end\" style=\"font-size: 15.00px;fill: #151515; font-family: &quot;Noto Sans&quot;;\" textLength=\"90.58px\" lengthAdjust=\"spacingAndGlyphs\">controlspace</text>\n<text x=\"182.18\" y=\"421.72\" text-anchor=\"middle\" style=\"font-size: 20.00px;fill: #151515; font-family: &quot;Noto Sans&quot;;\" textLength=\"91.42px\" lengthAdjust=\"spacingAndGlyphs\">Condition</text>\n<text transform=\"translate(19.76,172.33) rotate(-90)\" text-anchor=\"middle\" style=\"font-size: 20.00px;fill: #151515; font-family: &quot;Noto Sans&quot;;\" textLength=\"110.17px\" lengthAdjust=\"spacingAndGlyphs\">Coefficients</text>\n<text x=\"311.33\" y=\"139.39\" style=\"font-size: 15.00px;fill: #151515; font-family: &quot;Noto Sans&quot;;\" textLength=\"109.71px\" lengthAdjust=\"spacingAndGlyphs\">rho-coefficients</text>\n<rect x=\"312.04\" y=\"149.37\" width=\"15.86\" height=\"15.86\" style=\"stroke-width: 1.07; stroke: none; stroke-linecap: butt; stroke-linejoin: miter; fill: #CBA6F7;\"/>\n<rect x=\"312.04\" y=\"166.65\" width=\"15.86\" height=\"15.86\" style=\"stroke-width: 1.07; stroke: none; stroke-linecap: butt; stroke-linejoin: miter; fill: #E6A0C4;\"/>\n<rect x=\"312.04\" y=\"183.93\" width=\"15.86\" height=\"15.86\" style=\"stroke-width: 1.07; stroke: none; stroke-linecap: butt; stroke-linejoin: miter; fill: #C6CDF7;\"/>\n<rect x=\"312.04\" y=\"201.21\" width=\"15.86\" height=\"15.86\" style=\"stroke-width: 1.07; stroke: none; stroke-linecap: butt; stroke-linejoin: miter; fill: #D8A499;\"/>\n<text x=\"336.09\" y=\"162.66\" style=\"font-size: 15.00px;fill: #151515; font-family: &quot;Noto Sans&quot;;\" textLength=\"38.35px\" lengthAdjust=\"spacingAndGlyphs\">0.484</text>\n<text x=\"336.09\" y=\"179.94\" style=\"font-size: 15.00px;fill: #151515; font-family: &quot;Noto Sans&quot;;\" textLength=\"38.35px\" lengthAdjust=\"spacingAndGlyphs\">0.482</text>\n<text x=\"336.09\" y=\"197.22\" style=\"font-size: 15.00px;fill: #151515; font-family: &quot;Noto Sans&quot;;\" textLength=\"43.18px\" lengthAdjust=\"spacingAndGlyphs\">-0.068</text>\n<text x=\"336.09\" y=\"214.50\" style=\"font-size: 15.00px;fill: #151515; font-family: &quot;Noto Sans&quot;;\" textLength=\"38.35px\" lengthAdjust=\"spacingAndGlyphs\">0.034</text>\n</g>\n</svg>",
      "text/plain": [
       "<IPython.core.display.SVG object>"
      ]
     },
     "metadata": {},
     "output_type": "display_data"
    }
   ],
   "source": [
    "!./module_nlp/core/plots.R \"rdm_osgood_col\"\n",
    "!./module_nlp/core/plots.R \"rdm_osgood_em\"\n",
    "\n",
    "# Display svg images\n",
    "from IPython.display import SVG\n",
    "display(SVG(\"../figures/7C.svg\"))\n",
    "display(SVG(\"../figures/7D.svg\"))"
   ]
  },
  {
   "attachments": {},
   "cell_type": "markdown",
   "metadata": {},
   "source": [
    "# Figure 7E"
   ]
  },
  {
   "cell_type": "code",
   "execution_count": 9,
   "metadata": {},
   "outputs": [
    {
     "name": "stdout",
     "output_type": "stream",
     "text": [
      "\u001b[?25h\u001b[?25h\u001b[?25h\u001b[?25h\u001b[?25h\u001b[?25h\u001b[?25h\u001b[?25h\u001b[?25h\u001b[?25h\u001b[?25h\u001b[?25h\u001b[?25h"
     ]
    },
    {
     "data": {
      "image/svg+xml": "<svg xmlns=\"http://www.w3.org/2000/svg\" xmlns:xlink=\"http://www.w3.org/1999/xlink\" class=\"svglite\" width=\"432.00pt\" height=\"432.00pt\" viewBox=\"0 0 432.00 432.00\">\n<defs>\n  <style type=\"text/css\"><![CDATA[\n    .svglite line, .svglite polyline, .svglite polygon, .svglite path, .svglite rect, .svglite circle {\n      fill: none;\n      stroke: #000000;\n      stroke-linecap: round;\n      stroke-linejoin: round;\n      stroke-miterlimit: 10.00;\n    }\n    .svglite text {\n      white-space: pre;\n    }\n  ]]></style>\n</defs>\n<rect width=\"100%\" height=\"100%\" style=\"stroke: none; fill: #FFFFFF;\"/>\n<defs>\n  <clipPath id=\"cpMC4wMHw0MzIuMDB8MC4wMHw0MzIuMDA=\">\n    <rect x=\"0.00\" y=\"0.00\" width=\"432.00\" height=\"432.00\"/>\n  </clipPath>\n</defs>\n<g clip-path=\"url(#cpMC4wMHw0MzIuMDB8MC4wMHw0MzIuMDA=)\">\n<rect x=\"0.000000000000032\" y=\"0.00\" width=\"432.00\" height=\"432.00\" style=\"stroke-width: 1.07; stroke: #FFFFFF; fill: #FFFFFF;\"/>\n</g>\n<defs>\n  <clipPath id=\"cpNDkuODR8NDI2LjUyfDUuNDh8MzgxLjA4\">\n    <rect x=\"49.84\" y=\"5.48\" width=\"376.68\" height=\"375.60\"/>\n  </clipPath>\n</defs>\n<g clip-path=\"url(#cpNDkuODR8NDI2LjUyfDUuNDh8MzgxLjA4)\">\n<rect x=\"49.84\" y=\"5.48\" width=\"376.68\" height=\"375.60\" style=\"stroke-width: 1.07; stroke: none; fill: #FFFFFF;\"/>\n<polyline points=\"49.84,345.85 426.52,345.85 \" style=\"stroke-width: 0.53; stroke: #FFFFFF; stroke-linecap: butt;\"/>\n<polyline points=\"49.84,246.62 426.52,246.62 \" style=\"stroke-width: 0.53; stroke: #FFFFFF; stroke-linecap: butt;\"/>\n<polyline points=\"49.84,147.39 426.52,147.39 \" style=\"stroke-width: 0.53; stroke: #FFFFFF; stroke-linecap: butt;\"/>\n<polyline points=\"49.84,48.15 426.52,48.15 \" style=\"stroke-width: 0.53; stroke: #FFFFFF; stroke-linecap: butt;\"/>\n<polyline points=\"69.13,381.08 69.13,5.48 \" style=\"stroke-width: 0.53; stroke: #FFFFFF; stroke-linecap: butt;\"/>\n<polyline points=\"168.47,381.08 168.47,5.48 \" style=\"stroke-width: 0.53; stroke: #FFFFFF; stroke-linecap: butt;\"/>\n<polyline points=\"267.80,381.08 267.80,5.48 \" style=\"stroke-width: 0.53; stroke: #FFFFFF; stroke-linecap: butt;\"/>\n<polyline points=\"367.13,381.08 367.13,5.48 \" style=\"stroke-width: 0.53; stroke: #FFFFFF; stroke-linecap: butt;\"/>\n<polyline points=\"49.84,296.23 426.52,296.23 \" style=\"stroke-width: 1.07; stroke: #FFFFFF; stroke-linecap: butt;\"/>\n<polyline points=\"49.84,197.00 426.52,197.00 \" style=\"stroke-width: 1.07; stroke: #FFFFFF; stroke-linecap: butt;\"/>\n<polyline points=\"49.84,97.77 426.52,97.77 \" style=\"stroke-width: 1.07; stroke: #FFFFFF; stroke-linecap: butt;\"/>\n<polyline points=\"118.80,381.08 118.80,5.48 \" style=\"stroke-width: 1.07; stroke: #FFFFFF; stroke-linecap: butt;\"/>\n<polyline points=\"218.13,381.08 218.13,5.48 \" style=\"stroke-width: 1.07; stroke: #FFFFFF; stroke-linecap: butt;\"/>\n<polyline points=\"317.47,381.08 317.47,5.48 \" style=\"stroke-width: 1.07; stroke: #FFFFFF; stroke-linecap: butt;\"/>\n<polyline points=\"416.80,381.08 416.80,5.48 \" style=\"stroke-width: 1.07; stroke: #FFFFFF; stroke-linecap: butt;\"/>\n<circle cx=\"409.40\" cy=\"223.47\" r=\"5.19\" style=\"stroke-width: 0.71; stroke: #00FF00; fill: #00FF00;\"/>\n<circle cx=\"220.03\" cy=\"35.27\" r=\"5.19\" style=\"stroke-width: 0.71; stroke: #FFA500; fill: #FFA500;\"/>\n<circle cx=\"91.99\" cy=\"148.57\" r=\"5.19\" style=\"stroke-width: 0.71; stroke: #FFFF00; fill: #FFFF00;\"/>\n<circle cx=\"254.12\" cy=\"309.19\" r=\"5.19\" style=\"stroke-width: 0.71; stroke: #0000FF; fill: #0000FF;\"/>\n<circle cx=\"159.48\" cy=\"318.58\" r=\"5.19\" style=\"stroke-width: 0.71; stroke: #A020F0; fill: #A020F0;\"/>\n<circle cx=\"173.77\" cy=\"146.92\" r=\"5.19\" style=\"stroke-width: 0.71; stroke: #FF0000; fill: #FF0000;\"/>\n<circle cx=\"272.68\" cy=\"146.47\" r=\"5.19\" style=\"stroke-width: 0.71; stroke: #E64200; fill: #E64200;\"/>\n<circle cx=\"334.87\" cy=\"22.55\" r=\"5.19\" style=\"stroke-width: 0.71; stroke: #AB4600; fill: #AB4600;\"/>\n<circle cx=\"371.05\" cy=\"264.90\" r=\"5.19\" style=\"stroke-width: 0.71; stroke: #007065; fill: #007065;\"/>\n<circle cx=\"326.27\" cy=\"230.45\" r=\"5.19\" style=\"stroke-width: 0.71; stroke: #004C76; fill: #004C76;\"/>\n<circle cx=\"357.25\" cy=\"84.08\" r=\"5.19\" style=\"stroke-width: 0.71; stroke: #566200; fill: #566200;\"/>\n<circle cx=\"362.08\" cy=\"113.71\" r=\"5.19\" style=\"stroke-width: 0.71; stroke: #4E6700; fill: #4E6700;\"/>\n<circle cx=\"109.04\" cy=\"360.22\" r=\"5.19\" style=\"stroke-width: 0.71; stroke: #6100B3; fill: #6100B3;\"/>\n<circle cx=\"140.04\" cy=\"364.01\" r=\"5.19\" style=\"stroke-width: 0.71; stroke: #7F00E3; fill: #7F00E3;\"/>\n<circle cx=\"120.11\" cy=\"227.59\" r=\"5.19\" style=\"stroke-width: 0.71; stroke: #FF7F00; fill: #FF7F00;\"/>\n<circle cx=\"138.83\" cy=\"360.71\" r=\"5.19\" style=\"stroke-width: 0.71; stroke: #7F00E3; fill: #7F00E3;\"/>\n<circle cx=\"145.07\" cy=\"199.81\" r=\"5.19\" style=\"stroke-width: 0.71; stroke: #FF7F00; fill: #FF7F00;\"/>\n<circle cx=\"180.52\" cy=\"167.23\" r=\"5.19\" style=\"stroke-width: 0.71; stroke: #FF7F00; fill: #FF7F00;\"/>\n<circle cx=\"111.79\" cy=\"160.22\" r=\"5.19\" style=\"stroke-width: 0.71; stroke: #FF7F00; fill: #FF7F00;\"/>\n<circle cx=\"286.96\" cy=\"97.74\" r=\"5.19\" style=\"stroke-width: 0.71; stroke: #E65900; fill: #E65900;\"/>\n<circle cx=\"260.03\" cy=\"142.72\" r=\"5.19\" style=\"stroke-width: 0.71; stroke: #ED4700; fill: #ED4700;\"/>\n<circle cx=\"161.80\" cy=\"283.33\" r=\"5.19\" style=\"stroke-width: 0.71; stroke: #7F00FF; fill: #7F00FF;\"/>\n<circle cx=\"181.05\" cy=\"84.79\" r=\"5.19\" style=\"stroke-width: 0.71; stroke: #FF7F00; fill: #FF7F00;\"/>\n<circle cx=\"66.96\" cy=\"235.46\" r=\"5.19\" style=\"stroke-width: 0.71; stroke: #B27F33; fill: #B27F33;\"/>\n<text x=\"409.40\" y=\"223.83\" text-anchor=\"middle\" style=\"font-size: 0.00px; font-family: &quot;Liberation Sans&quot;;\" textLength=\"3.22px\" lengthAdjust=\"spacingAndGlyphs\">GREEN</text>\n<text x=\"220.03\" y=\"35.63\" text-anchor=\"middle\" style=\"font-size: 0.00px; font-family: &quot;Liberation Sans&quot;;\" textLength=\"4.08px\" lengthAdjust=\"spacingAndGlyphs\">ORANGE</text>\n<text x=\"91.99\" y=\"148.93\" text-anchor=\"middle\" style=\"font-size: 0.00px; font-family: &quot;Liberation Sans&quot;;\" textLength=\"3.88px\" lengthAdjust=\"spacingAndGlyphs\">YELLOW</text>\n<text x=\"254.12\" y=\"309.55\" text-anchor=\"middle\" style=\"font-size: 0.00px; font-family: &quot;Liberation Sans&quot;;\" textLength=\"2.46px\" lengthAdjust=\"spacingAndGlyphs\">BLUE</text>\n<text x=\"159.48\" y=\"318.94\" text-anchor=\"middle\" style=\"font-size: 0.00px; font-family: &quot;Liberation Sans&quot;;\" textLength=\"3.64px\" lengthAdjust=\"spacingAndGlyphs\">PURPLE</text>\n<text x=\"173.77\" y=\"147.27\" text-anchor=\"middle\" style=\"font-size: 0.00px; font-family: &quot;Liberation Sans&quot;;\" textLength=\"1.90px\" lengthAdjust=\"spacingAndGlyphs\">RED</text>\n<text x=\"272.68\" y=\"146.83\" text-anchor=\"middle\" style=\"font-size: 0.00px; font-family: &quot;Liberation Sans&quot;;\" textLength=\"5.29px\" lengthAdjust=\"spacingAndGlyphs\">SURPRISED</text>\n<text x=\"334.87\" y=\"22.91\" text-anchor=\"middle\" style=\"font-size: 0.00px; font-family: &quot;Liberation Sans&quot;;\" textLength=\"3.95px\" lengthAdjust=\"spacingAndGlyphs\">EXCITED</text>\n<text x=\"371.05\" y=\"265.26\" text-anchor=\"middle\" style=\"font-size: 0.00px; font-family: &quot;Liberation Sans&quot;;\" textLength=\"3.59px\" lengthAdjust=\"spacingAndGlyphs\">SERENE</text>\n<text x=\"326.27\" y=\"230.81\" text-anchor=\"middle\" style=\"font-size: 0.00px; font-family: &quot;Liberation Sans&quot;;\" textLength=\"3.16px\" lengthAdjust=\"spacingAndGlyphs\">HAPPY</text>\n<text x=\"357.25\" y=\"84.44\" text-anchor=\"middle\" style=\"font-size: 0.00px; font-family: &quot;Liberation Sans&quot;;\" textLength=\"4.77px\" lengthAdjust=\"spacingAndGlyphs\">SATISFIED</text>\n<text x=\"362.08\" y=\"114.06\" text-anchor=\"middle\" style=\"font-size: 0.00px; font-family: &quot;Liberation Sans&quot;;\" textLength=\"2.71px\" lengthAdjust=\"spacingAndGlyphs\">CALM</text>\n<text x=\"109.04\" y=\"360.57\" text-anchor=\"middle\" style=\"font-size: 0.00px; font-family: &quot;Liberation Sans&quot;;\" textLength=\"2.79px\" lengthAdjust=\"spacingAndGlyphs\">TIRED</text>\n<text x=\"140.04\" y=\"364.36\" text-anchor=\"middle\" style=\"font-size: 0.00px; font-family: &quot;Liberation Sans&quot;;\" textLength=\"3.33px\" lengthAdjust=\"spacingAndGlyphs\">BORED</text>\n<text x=\"120.11\" y=\"227.95\" text-anchor=\"middle\" style=\"font-size: 0.00px; font-family: &quot;Liberation Sans&quot;;\" textLength=\"5.44px\" lengthAdjust=\"spacingAndGlyphs\">DEPRESSED</text>\n<text x=\"138.83\" y=\"361.07\" text-anchor=\"middle\" style=\"font-size: 0.00px; font-family: &quot;Liberation Sans&quot;;\" textLength=\"1.92px\" lengthAdjust=\"spacingAndGlyphs\">SAD</text>\n<text x=\"145.07\" y=\"200.17\" text-anchor=\"middle\" style=\"font-size: 0.00px; font-family: &quot;Liberation Sans&quot;;\" textLength=\"6.07px\" lengthAdjust=\"spacingAndGlyphs\">FRUSTRATED</text>\n<text x=\"180.52\" y=\"167.59\" text-anchor=\"middle\" style=\"font-size: 0.00px; font-family: &quot;Liberation Sans&quot;;\" textLength=\"3.48px\" lengthAdjust=\"spacingAndGlyphs\">AFRAID</text>\n<text x=\"111.79\" y=\"160.58\" text-anchor=\"middle\" style=\"font-size: 0.00px; font-family: &quot;Liberation Sans&quot;;\" textLength=\"3.32px\" lengthAdjust=\"spacingAndGlyphs\">ANGRY</text>\n<text x=\"286.96\" y=\"98.10\" text-anchor=\"middle\" style=\"font-size: 0.00px; font-family: &quot;Liberation Sans&quot;;\" textLength=\"4.65px\" lengthAdjust=\"spacingAndGlyphs\">STRESSED</text>\n<text x=\"260.03\" y=\"143.08\" text-anchor=\"middle\" style=\"font-size: 0.00px; font-family: &quot;Liberation Sans&quot;;\" textLength=\"6.19px\" lengthAdjust=\"spacingAndGlyphs\">ASTONISHED</text>\n<text x=\"161.80\" y=\"283.69\" text-anchor=\"middle\" style=\"font-size: 0.00px; font-family: &quot;Liberation Sans&quot;;\" textLength=\"3.36px\" lengthAdjust=\"spacingAndGlyphs\">SLEEPY</text>\n<text x=\"181.05\" y=\"85.15\" text-anchor=\"middle\" style=\"font-size: 0.00px; font-family: &quot;Liberation Sans&quot;;\" textLength=\"4.62px\" lengthAdjust=\"spacingAndGlyphs\">ALARMED</text>\n<text x=\"66.96\" y=\"235.82\" text-anchor=\"middle\" style=\"font-size: 0.00px; font-family: &quot;Liberation Sans&quot;;\" textLength=\"5.46px\" lengthAdjust=\"spacingAndGlyphs\">DISGUSTED</text>\n<text x=\"399.52\" y=\"238.43\" text-anchor=\"middle\" style=\"font-size: 14.23px; font-family: &quot;Liberation Sans&quot;;\" textLength=\"45.81px\" lengthAdjust=\"spacingAndGlyphs\">GREEN</text>\n<text x=\"229.83\" y=\"30.52\" text-anchor=\"middle\" style=\"font-size: 14.23px; font-family: &quot;Liberation Sans&quot;;\" textLength=\"58.10px\" lengthAdjust=\"spacingAndGlyphs\">ORANGE</text>\n<text x=\"82.11\" y=\"143.78\" text-anchor=\"middle\" style=\"font-size: 14.23px; font-family: &quot;Liberation Sans&quot;;\" textLength=\"55.19px\" lengthAdjust=\"spacingAndGlyphs\">YELLOW</text>\n<text x=\"244.32\" y=\"324.03\" text-anchor=\"middle\" style=\"font-size: 14.23px; font-family: &quot;Liberation Sans&quot;;\" textLength=\"35.00px\" lengthAdjust=\"spacingAndGlyphs\">BLUE</text>\n<text x=\"169.34\" y=\"313.86\" text-anchor=\"middle\" style=\"font-size: 14.23px; font-family: &quot;Liberation Sans&quot;;\" textLength=\"51.80px\" lengthAdjust=\"spacingAndGlyphs\">PURPLE</text>\n<text x=\"164.01\" y=\"142.24\" text-anchor=\"middle\" style=\"font-size: 14.23px; font-family: &quot;Liberation Sans&quot;;\" textLength=\"27.13px\" lengthAdjust=\"spacingAndGlyphs\">RED</text>\n<text x=\"282.55\" y=\"161.39\" text-anchor=\"middle\" style=\"font-size: 14.23px; font-family: &quot;Liberation Sans&quot;;\" textLength=\"75.40px\" lengthAdjust=\"spacingAndGlyphs\">SURPRISED</text>\n<text x=\"367.64\" y=\"19.24\" text-anchor=\"middle\" style=\"font-size: 14.23px; font-family: &quot;Liberation Sans&quot;;\" textLength=\"56.23px\" lengthAdjust=\"spacingAndGlyphs\">EXCITED</text>\n<text x=\"361.25\" y=\"279.78\" text-anchor=\"middle\" style=\"font-size: 14.23px; font-family: &quot;Liberation Sans&quot;;\" textLength=\"51.17px\" lengthAdjust=\"spacingAndGlyphs\">SERENE</text>\n<text x=\"336.14\" y=\"225.72\" text-anchor=\"middle\" style=\"font-size: 14.23px; font-family: &quot;Liberation Sans&quot;;\" textLength=\"44.88px\" lengthAdjust=\"spacingAndGlyphs\">HAPPY</text>\n<text x=\"366.96\" y=\"79.41\" text-anchor=\"middle\" style=\"font-size: 14.23px; font-family: &quot;Liberation Sans&quot;;\" textLength=\"67.90px\" lengthAdjust=\"spacingAndGlyphs\">SATISFIED</text>\n<text x=\"352.18\" y=\"128.62\" text-anchor=\"middle\" style=\"font-size: 14.23px; font-family: &quot;Liberation Sans&quot;;\" textLength=\"38.42px\" lengthAdjust=\"spacingAndGlyphs\">CALM</text>\n<text x=\"99.24\" y=\"375.08\" text-anchor=\"middle\" style=\"font-size: 14.23px; font-family: &quot;Liberation Sans&quot;;\" textLength=\"39.85px\" lengthAdjust=\"spacingAndGlyphs\">TIRED</text>\n<text x=\"168.44\" y=\"377.48\" text-anchor=\"middle\" style=\"font-size: 14.23px; font-family: &quot;Liberation Sans&quot;;\" textLength=\"47.48px\" lengthAdjust=\"spacingAndGlyphs\">BORED</text>\n<text x=\"130.00\" y=\"222.81\" text-anchor=\"middle\" style=\"font-size: 14.23px; font-family: &quot;Liberation Sans&quot;;\" textLength=\"77.54px\" lengthAdjust=\"spacingAndGlyphs\">DEPRESSED</text>\n<text x=\"129.02\" y=\"356.04\" text-anchor=\"middle\" style=\"font-size: 14.23px; font-family: &quot;Liberation Sans&quot;;\" textLength=\"27.27px\" lengthAdjust=\"spacingAndGlyphs\">SAD</text>\n<text x=\"192.90\" y=\"205.39\" text-anchor=\"middle\" style=\"font-size: 14.23px; font-family: &quot;Liberation Sans&quot;;\" textLength=\"86.45px\" lengthAdjust=\"spacingAndGlyphs\">FRUSTRATED</text>\n<text x=\"190.27\" y=\"162.53\" text-anchor=\"middle\" style=\"font-size: 14.23px; font-family: &quot;Liberation Sans&quot;;\" textLength=\"49.59px\" lengthAdjust=\"spacingAndGlyphs\">AFRAID</text>\n<text x=\"121.66\" y=\"175.18\" text-anchor=\"middle\" style=\"font-size: 14.23px; font-family: &quot;Liberation Sans&quot;;\" textLength=\"47.14px\" lengthAdjust=\"spacingAndGlyphs\">ANGRY</text>\n<text x=\"277.09\" y=\"112.69\" text-anchor=\"middle\" style=\"font-size: 14.23px; font-family: &quot;Liberation Sans&quot;;\" textLength=\"66.36px\" lengthAdjust=\"spacingAndGlyphs\">STRESSED</text>\n<text x=\"250.16\" y=\"137.93\" text-anchor=\"middle\" style=\"font-size: 14.23px; font-family: &quot;Liberation Sans&quot;;\" textLength=\"88.15px\" lengthAdjust=\"spacingAndGlyphs\">ASTONISHED</text>\n<text x=\"133.27\" y=\"296.42\" text-anchor=\"middle\" style=\"font-size: 14.23px; font-family: &quot;Liberation Sans&quot;;\" textLength=\"47.72px\" lengthAdjust=\"spacingAndGlyphs\">SLEEPY</text>\n<text x=\"190.84\" y=\"80.05\" text-anchor=\"middle\" style=\"font-size: 14.23px; font-family: &quot;Liberation Sans&quot;;\" textLength=\"65.65px\" lengthAdjust=\"spacingAndGlyphs\">ALARMED</text>\n<text x=\"92.33\" y=\"250.32\" text-anchor=\"middle\" style=\"font-size: 14.23px; font-family: &quot;Liberation Sans&quot;;\" textLength=\"77.75px\" lengthAdjust=\"spacingAndGlyphs\">DISGUSTED</text>\n</g>\n<g clip-path=\"url(#cpMC4wMHw0MzIuMDB8MC4wMHw0MzIuMDA=)\">\n<polyline points=\"49.84,381.08 49.84,5.48 \" style=\"stroke-width: 2.56; stroke-linecap: butt;\"/>\n<text x=\"43.40\" y=\"302.66\" text-anchor=\"end\" style=\"font-size: 18.00px;fill: #151515; font-family: &quot;Noto Sans&quot;;\" textLength=\"16.09px\" lengthAdjust=\"spacingAndGlyphs\">-1</text>\n<text x=\"43.40\" y=\"203.43\" text-anchor=\"end\" style=\"font-size: 18.00px;fill: #151515; font-family: &quot;Noto Sans&quot;;\" textLength=\"10.30px\" lengthAdjust=\"spacingAndGlyphs\">0</text>\n<text x=\"43.40\" y=\"104.20\" text-anchor=\"end\" style=\"font-size: 18.00px;fill: #151515; font-family: &quot;Noto Sans&quot;;\" textLength=\"10.30px\" lengthAdjust=\"spacingAndGlyphs\">1</text>\n<polyline points=\"45.59,296.23 49.84,296.23 \" style=\"stroke-width: 1.07; stroke: #151515; stroke-linecap: butt;\"/>\n<polyline points=\"45.59,197.00 49.84,197.00 \" style=\"stroke-width: 1.07; stroke: #151515; stroke-linecap: butt;\"/>\n<polyline points=\"45.59,97.77 49.84,97.77 \" style=\"stroke-width: 1.07; stroke: #151515; stroke-linecap: butt;\"/>\n<polyline points=\"49.84,381.08 426.52,381.08 \" style=\"stroke-width: 2.56; stroke-linecap: butt;\"/>\n<polyline points=\"118.80,385.33 118.80,381.08 \" style=\"stroke-width: 1.07; stroke: #151515; stroke-linecap: butt;\"/>\n<polyline points=\"218.13,385.33 218.13,381.08 \" style=\"stroke-width: 1.07; stroke: #151515; stroke-linecap: butt;\"/>\n<polyline points=\"317.47,385.33 317.47,381.08 \" style=\"stroke-width: 1.07; stroke: #151515; stroke-linecap: butt;\"/>\n<polyline points=\"416.80,385.33 416.80,381.08 \" style=\"stroke-width: 1.07; stroke: #151515; stroke-linecap: butt;\"/>\n<text x=\"118.80\" y=\"400.37\" text-anchor=\"middle\" style=\"font-size: 18.00px;fill: #151515; font-family: &quot;Noto Sans&quot;;\" textLength=\"16.09px\" lengthAdjust=\"spacingAndGlyphs\">-1</text>\n<text x=\"218.13\" y=\"400.37\" text-anchor=\"middle\" style=\"font-size: 18.00px;fill: #151515; font-family: &quot;Noto Sans&quot;;\" textLength=\"10.30px\" lengthAdjust=\"spacingAndGlyphs\">0</text>\n<text x=\"317.47\" y=\"400.37\" text-anchor=\"middle\" style=\"font-size: 18.00px;fill: #151515; font-family: &quot;Noto Sans&quot;;\" textLength=\"10.30px\" lengthAdjust=\"spacingAndGlyphs\">1</text>\n<text x=\"416.80\" y=\"400.37\" text-anchor=\"middle\" style=\"font-size: 18.00px;fill: #151515; font-family: &quot;Noto Sans&quot;;\" textLength=\"10.30px\" lengthAdjust=\"spacingAndGlyphs\">2</text>\n<text x=\"238.18\" y=\"421.72\" text-anchor=\"middle\" style=\"font-size: 20.00px;fill: #151515; font-family: &quot;Noto Sans&quot;;\" textLength=\"72.91px\" lengthAdjust=\"spacingAndGlyphs\">Valence</text>\n<text transform=\"translate(19.76,193.28) rotate(-90)\" text-anchor=\"middle\" style=\"font-size: 20.00px;fill: #151515; font-family: &quot;Noto Sans&quot;;\" textLength=\"71.47px\" lengthAdjust=\"spacingAndGlyphs\">Arousal</text>\n</g>\n</svg>",
      "text/plain": [
       "<IPython.core.display.SVG object>"
      ]
     },
     "metadata": {},
     "output_type": "display_data"
    }
   ],
   "source": [
    "!./module_nlp/core/plots.R \"plot_both\"\n",
    "\n",
    "# Display svg images\n",
    "from IPython.display import SVG\n",
    "display(SVG(\"../figures/7E.svg\"))"
   ]
  },
  {
   "attachments": {},
   "cell_type": "markdown",
   "metadata": {},
   "source": [
    "# Figure 7F"
   ]
  },
  {
   "cell_type": "code",
   "execution_count": 10,
   "metadata": {},
   "outputs": [
    {
     "name": "stdout",
     "output_type": "stream",
     "text": [
      "\u001b[?25h\u001b[?25h\u001b[?25h\u001b[?25h\u001b[?25h\u001b[?25h\u001b[?25h\u001b[?25h\u001b[?25h\u001b[?25h\u001b[?25h\u001b[?25h\u001b[?25h"
     ]
    },
    {
     "data": {
      "image/svg+xml": "<svg xmlns=\"http://www.w3.org/2000/svg\" xmlns:xlink=\"http://www.w3.org/1999/xlink\" class=\"svglite\" width=\"432.00pt\" height=\"432.00pt\" viewBox=\"0 0 432.00 432.00\">\n<defs>\n  <style type=\"text/css\"><![CDATA[\n    .svglite line, .svglite polyline, .svglite polygon, .svglite path, .svglite rect, .svglite circle {\n      fill: none;\n      stroke: #000000;\n      stroke-linecap: round;\n      stroke-linejoin: round;\n      stroke-miterlimit: 10.00;\n    }\n    .svglite text {\n      white-space: pre;\n    }\n  ]]></style>\n</defs>\n<rect width=\"100%\" height=\"100%\" style=\"stroke: none; fill: #FFFFFF;\"/>\n<defs>\n  <clipPath id=\"cpMC4wMHw0MzIuMDB8MC4wMHw0MzIuMDA=\">\n    <rect x=\"0.00\" y=\"0.00\" width=\"432.00\" height=\"432.00\"/>\n  </clipPath>\n</defs>\n<g clip-path=\"url(#cpMC4wMHw0MzIuMDB8MC4wMHw0MzIuMDA=)\">\n<rect x=\"0.00\" y=\"0.000000000000057\" width=\"432.00\" height=\"432.00\" style=\"stroke-width: 1.07; stroke: #FFFFFF; fill: #FFFFFF;\"/>\n</g>\n<defs>\n  <clipPath id=\"cpNjkuNDZ8Mjk0LjkwfDUuNDh8MzM5LjE5\">\n    <rect x=\"69.46\" y=\"5.48\" width=\"225.43\" height=\"333.71\"/>\n  </clipPath>\n</defs>\n<g clip-path=\"url(#cpNjkuNDZ8Mjk0LjkwfDUuNDh8MzM5LjE5)\">\n<rect x=\"69.46\" y=\"5.48\" width=\"225.43\" height=\"333.71\" style=\"stroke-width: 1.07; stroke: none; fill: #FFFFFF;\"/>\n<polyline points=\"69.46,331.60 294.90,331.60 \" style=\"stroke-width: 0.53; stroke: #FFFFFF; stroke-linecap: butt;\"/>\n<polyline points=\"69.46,255.76 294.90,255.76 \" style=\"stroke-width: 0.53; stroke: #FFFFFF; stroke-linecap: butt;\"/>\n<polyline points=\"69.46,179.92 294.90,179.92 \" style=\"stroke-width: 0.53; stroke: #FFFFFF; stroke-linecap: butt;\"/>\n<polyline points=\"69.46,104.07 294.90,104.07 \" style=\"stroke-width: 0.53; stroke: #FFFFFF; stroke-linecap: butt;\"/>\n<polyline points=\"69.46,28.23 294.90,28.23 \" style=\"stroke-width: 0.53; stroke: #FFFFFF; stroke-linecap: butt;\"/>\n<polyline points=\"69.46,293.68 294.90,293.68 \" style=\"stroke-width: 1.07; stroke: #FFFFFF; stroke-linecap: butt;\"/>\n<polyline points=\"69.46,217.84 294.90,217.84 \" style=\"stroke-width: 1.07; stroke: #FFFFFF; stroke-linecap: butt;\"/>\n<polyline points=\"69.46,142.00 294.90,142.00 \" style=\"stroke-width: 1.07; stroke: #FFFFFF; stroke-linecap: butt;\"/>\n<polyline points=\"69.46,66.15 294.90,66.15 \" style=\"stroke-width: 1.07; stroke: #FFFFFF; stroke-linecap: butt;\"/>\n<polyline points=\"101.67,339.19 101.67,5.48 \" style=\"stroke-width: 1.07; stroke: #FFFFFF; stroke-linecap: butt;\"/>\n<polyline points=\"155.34,339.19 155.34,5.48 \" style=\"stroke-width: 1.07; stroke: #FFFFFF; stroke-linecap: butt;\"/>\n<polyline points=\"209.02,339.19 209.02,5.48 \" style=\"stroke-width: 1.07; stroke: #FFFFFF; stroke-linecap: butt;\"/>\n<polyline points=\"262.69,339.19 262.69,5.48 \" style=\"stroke-width: 1.07; stroke: #FFFFFF; stroke-linecap: butt;\"/>\n<rect x=\"77.51\" y=\"213.42\" width=\"48.31\" height=\"80.26\" style=\"stroke-width: 1.07; stroke: none; stroke-linecap: butt; stroke-linejoin: miter; fill: #CBA6F7;\"/>\n<rect x=\"131.19\" y=\"293.68\" width=\"48.31\" height=\"12.91\" style=\"stroke-width: 1.07; stroke: none; stroke-linecap: butt; stroke-linejoin: miter; fill: #E6A0C4;\"/>\n<rect x=\"184.86\" y=\"293.68\" width=\"48.31\" height=\"14.46\" style=\"stroke-width: 1.07; stroke: none; stroke-linecap: butt; stroke-linejoin: miter; fill: #C6CDF7;\"/>\n<rect x=\"238.54\" y=\"293.68\" width=\"48.31\" height=\"8.57\" style=\"stroke-width: 1.07; stroke: none; stroke-linecap: butt; stroke-linejoin: miter; fill: #D8A499;\"/>\n<text x=\"101.67\" y=\"213.45\" text-anchor=\"middle\" style=\"font-size: 17.07px; font-family: &quot;Liberation Sans&quot;;\" textLength=\"18.81px\" lengthAdjust=\"spacingAndGlyphs\">**</text>\n<text x=\"128.50\" y=\"98.92\" text-anchor=\"middle\" style=\"font-size: 11.38px; font-family: &quot;Liberation Sans&quot;;\" textLength=\"48.51px\" lengthAdjust=\"spacingAndGlyphs\">p = 0.025</text>\n<line x1=\"155.34\" y1=\"106.32\" x2=\"155.34\" y2=\"106.32\" style=\"stroke-width: 1.07;\"/>\n<line x1=\"155.34\" y1=\"106.32\" x2=\"101.67\" y2=\"106.32\" style=\"stroke-width: 1.07;\"/>\n<line x1=\"101.67\" y1=\"106.32\" x2=\"101.67\" y2=\"106.32\" style=\"stroke-width: 1.07;\"/>\n<text x=\"155.34\" y=\"77.68\" text-anchor=\"middle\" style=\"font-size: 11.38px; font-family: &quot;Liberation Sans&quot;;\" textLength=\"48.51px\" lengthAdjust=\"spacingAndGlyphs\">p = 0.023</text>\n<line x1=\"209.02\" y1=\"85.08\" x2=\"209.02\" y2=\"85.08\" style=\"stroke-width: 1.07;\"/>\n<line x1=\"209.02\" y1=\"85.08\" x2=\"101.67\" y2=\"85.08\" style=\"stroke-width: 1.07;\"/>\n<line x1=\"101.67\" y1=\"85.08\" x2=\"101.67\" y2=\"85.08\" style=\"stroke-width: 1.07;\"/>\n<text x=\"182.18\" y=\"56.44\" text-anchor=\"middle\" style=\"font-size: 11.38px; font-family: &quot;Liberation Sans&quot;;\" textLength=\"48.51px\" lengthAdjust=\"spacingAndGlyphs\">p = 0.032</text>\n<line x1=\"262.69\" y1=\"63.84\" x2=\"262.69\" y2=\"63.84\" style=\"stroke-width: 1.07;\"/>\n<line x1=\"262.69\" y1=\"63.84\" x2=\"101.67\" y2=\"63.84\" style=\"stroke-width: 1.07;\"/>\n<line x1=\"101.67\" y1=\"63.84\" x2=\"101.67\" y2=\"63.84\" style=\"stroke-width: 1.07;\"/>\n</g>\n<g clip-path=\"url(#cpMC4wMHw0MzIuMDB8MC4wMHw0MzIuMDA=)\">\n<polyline points=\"69.46,339.19 69.46,5.48 \" style=\"stroke-width: 2.56; stroke-linecap: butt;\"/>\n<text x=\"63.02\" y=\"300.11\" text-anchor=\"end\" style=\"font-size: 18.00px;fill: #151515; font-family: &quot;Noto Sans&quot;;\" textLength=\"35.71px\" lengthAdjust=\"spacingAndGlyphs\">0.00</text>\n<text x=\"63.02\" y=\"224.26\" text-anchor=\"end\" style=\"font-size: 18.00px;fill: #151515; font-family: &quot;Noto Sans&quot;;\" textLength=\"35.71px\" lengthAdjust=\"spacingAndGlyphs\">0.25</text>\n<text x=\"63.02\" y=\"148.42\" text-anchor=\"end\" style=\"font-size: 18.00px;fill: #151515; font-family: &quot;Noto Sans&quot;;\" textLength=\"35.71px\" lengthAdjust=\"spacingAndGlyphs\">0.50</text>\n<text x=\"63.02\" y=\"72.58\" text-anchor=\"end\" style=\"font-size: 18.00px;fill: #151515; font-family: &quot;Noto Sans&quot;;\" textLength=\"35.71px\" lengthAdjust=\"spacingAndGlyphs\">0.75</text>\n<polyline points=\"65.21,293.68 69.46,293.68 \" style=\"stroke-width: 1.07; stroke: #151515; stroke-linecap: butt;\"/>\n<polyline points=\"65.21,217.84 69.46,217.84 \" style=\"stroke-width: 1.07; stroke: #151515; stroke-linecap: butt;\"/>\n<polyline points=\"65.21,142.00 69.46,142.00 \" style=\"stroke-width: 1.07; stroke: #151515; stroke-linecap: butt;\"/>\n<polyline points=\"65.21,66.15 69.46,66.15 \" style=\"stroke-width: 1.07; stroke: #151515; stroke-linecap: butt;\"/>\n<polyline points=\"69.46,339.19 294.90,339.19 \" style=\"stroke-width: 2.56; stroke-linecap: butt;\"/>\n<polyline points=\"101.67,343.44 101.67,339.19 \" style=\"stroke-width: 1.07; stroke: #151515; stroke-linecap: butt;\"/>\n<polyline points=\"155.34,343.44 155.34,339.19 \" style=\"stroke-width: 1.07; stroke: #151515; stroke-linecap: butt;\"/>\n<polyline points=\"209.02,343.44 209.02,339.19 \" style=\"stroke-width: 1.07; stroke: #151515; stroke-linecap: butt;\"/>\n<polyline points=\"262.69,343.44 262.69,339.19 \" style=\"stroke-width: 1.07; stroke: #151515; stroke-linecap: butt;\"/>\n<text transform=\"translate(107.02,354.91) rotate(-30)\" text-anchor=\"end\" style=\"font-size: 15.00px;fill: #151515; font-family: &quot;Noto Sans&quot;;\" textLength=\"93.33px\" lengthAdjust=\"spacingAndGlyphs\">osgoodspace</text>\n<text transform=\"translate(160.70,354.91) rotate(-30)\" text-anchor=\"end\" style=\"font-size: 15.00px;fill: #151515; font-family: &quot;Noto Sans&quot;;\" textLength=\"53.40px\" lengthAdjust=\"spacingAndGlyphs\">fasttext</text>\n<text transform=\"translate(214.37,354.91) rotate(-30)\" text-anchor=\"end\" style=\"font-size: 15.00px;fill: #151515; font-family: &quot;Noto Sans&quot;;\" textLength=\"71.21px\" lengthAdjust=\"spacingAndGlyphs\">fasttext2d</text>\n<text transform=\"translate(268.05,354.91) rotate(-30)\" text-anchor=\"end\" style=\"font-size: 15.00px;fill: #151515; font-family: &quot;Noto Sans&quot;;\" textLength=\"90.58px\" lengthAdjust=\"spacingAndGlyphs\">controlspace</text>\n<text x=\"182.18\" y=\"421.72\" text-anchor=\"middle\" style=\"font-size: 20.00px;fill: #151515; font-family: &quot;Noto Sans&quot;;\" textLength=\"91.42px\" lengthAdjust=\"spacingAndGlyphs\">Condition</text>\n<text transform=\"translate(19.76,172.33) rotate(-90)\" text-anchor=\"middle\" style=\"font-size: 20.00px;fill: #151515; font-family: &quot;Noto Sans&quot;;\" textLength=\"110.17px\" lengthAdjust=\"spacingAndGlyphs\">Coefficients</text>\n<text x=\"311.33\" y=\"139.39\" style=\"font-size: 15.00px;fill: #151515; font-family: &quot;Noto Sans&quot;;\" textLength=\"109.71px\" lengthAdjust=\"spacingAndGlyphs\">rho-coefficients</text>\n<rect x=\"312.04\" y=\"149.37\" width=\"15.86\" height=\"15.86\" style=\"stroke-width: 1.07; stroke: none; stroke-linecap: butt; stroke-linejoin: miter; fill: #CBA6F7;\"/>\n<rect x=\"312.04\" y=\"166.65\" width=\"15.86\" height=\"15.86\" style=\"stroke-width: 1.07; stroke: none; stroke-linecap: butt; stroke-linejoin: miter; fill: #E6A0C4;\"/>\n<rect x=\"312.04\" y=\"183.93\" width=\"15.86\" height=\"15.86\" style=\"stroke-width: 1.07; stroke: none; stroke-linecap: butt; stroke-linejoin: miter; fill: #C6CDF7;\"/>\n<rect x=\"312.04\" y=\"201.21\" width=\"15.86\" height=\"15.86\" style=\"stroke-width: 1.07; stroke: none; stroke-linecap: butt; stroke-linejoin: miter; fill: #D8A499;\"/>\n<text x=\"336.09\" y=\"162.66\" style=\"font-size: 15.00px;fill: #151515; font-family: &quot;Noto Sans&quot;;\" textLength=\"38.35px\" lengthAdjust=\"spacingAndGlyphs\">0.265</text>\n<text x=\"336.09\" y=\"179.94\" style=\"font-size: 15.00px;fill: #151515; font-family: &quot;Noto Sans&quot;;\" textLength=\"43.18px\" lengthAdjust=\"spacingAndGlyphs\">-0.043</text>\n<text x=\"336.09\" y=\"197.22\" style=\"font-size: 15.00px;fill: #151515; font-family: &quot;Noto Sans&quot;;\" textLength=\"43.18px\" lengthAdjust=\"spacingAndGlyphs\">-0.048</text>\n<text x=\"336.09\" y=\"214.50\" style=\"font-size: 15.00px;fill: #151515; font-family: &quot;Noto Sans&quot;;\" textLength=\"43.18px\" lengthAdjust=\"spacingAndGlyphs\">-0.028</text>\n</g>\n</svg>",
      "text/plain": [
       "<IPython.core.display.SVG object>"
      ]
     },
     "metadata": {},
     "output_type": "display_data"
    }
   ],
   "source": [
    "!./module_nlp/core/plots.R \"rdm_osgood_both\"\n",
    "\n",
    "# Display svg images\n",
    "from IPython.display import SVG\n",
    "display(SVG(\"../figures/7F.svg\"))"
   ]
  }
 ],
 "metadata": {
  "kernelspec": {
   "display_name": "Python 3",
   "language": "python",
   "name": "python3"
  },
  "language_info": {
   "codemirror_mode": {
    "name": "ipython",
    "version": 3
   },
   "file_extension": ".py",
   "mimetype": "text/x-python",
   "name": "python",
   "nbconvert_exporter": "python",
   "pygments_lexer": "ipython3",
   "version": "3.10.8"
  },
  "orig_nbformat": 4,
  "vscode": {
   "interpreter": {
    "hash": "916dbcbb3f70747c44a77c7bcd40155683ae19c65e1c03b4aa3499c5328201f1"
   }
  }
 },
 "nbformat": 4,
 "nbformat_minor": 2
}
