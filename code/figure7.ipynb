{
 "cells": [
  {
   "cell_type": "code",
   "execution_count": 21,
   "metadata": {},
   "outputs": [],
   "source": [
    "import yaml\n",
    "import importlib\n",
    "from module_nlp.core import fasttext_en"
   ]
  },
  {
   "attachments": {},
   "cell_type": "markdown",
   "metadata": {},
   "source": [
    "## Figure 7A-B"
   ]
  },
  {
   "cell_type": "code",
   "execution_count": 22,
   "metadata": {},
   "outputs": [
    {
     "data": {
      "text/html": [
       "<div>\n",
       "<style scoped>\n",
       "    .dataframe tbody tr th:only-of-type {\n",
       "        vertical-align: middle;\n",
       "    }\n",
       "\n",
       "    .dataframe tbody tr th {\n",
       "        vertical-align: top;\n",
       "    }\n",
       "\n",
       "    .dataframe thead th {\n",
       "        text-align: right;\n",
       "    }\n",
       "</style>\n",
       "<table border=\"1\" class=\"dataframe\">\n",
       "  <thead>\n",
       "    <tr style=\"text-align: right;\">\n",
       "      <th></th>\n",
       "      <th>index</th>\n",
       "      <th>Valence</th>\n",
       "      <th>Arousal</th>\n",
       "      <th>z_valence</th>\n",
       "      <th>z_arousal</th>\n",
       "      <th>Condition</th>\n",
       "      <th>fill_color</th>\n",
       "    </tr>\n",
       "  </thead>\n",
       "  <tbody>\n",
       "    <tr>\n",
       "      <th>0</th>\n",
       "      <td>green</td>\n",
       "      <td>0.130466</td>\n",
       "      <td>-0.198897</td>\n",
       "      <td>1.925514</td>\n",
       "      <td>-0.266796</td>\n",
       "      <td>Color</td>\n",
       "      <td>green</td>\n",
       "    </tr>\n",
       "    <tr>\n",
       "      <th>1</th>\n",
       "      <td>orange</td>\n",
       "      <td>-0.012250</td>\n",
       "      <td>-0.125187</td>\n",
       "      <td>0.019127</td>\n",
       "      <td>1.629841</td>\n",
       "      <td>Color</td>\n",
       "      <td>orange</td>\n",
       "    </tr>\n",
       "    <tr>\n",
       "      <th>2</th>\n",
       "      <td>yellow</td>\n",
       "      <td>-0.108748</td>\n",
       "      <td>-0.169561</td>\n",
       "      <td>-1.269896</td>\n",
       "      <td>0.488060</td>\n",
       "      <td>Color</td>\n",
       "      <td>yellow</td>\n",
       "    </tr>\n",
       "    <tr>\n",
       "      <th>3</th>\n",
       "      <td>blue</td>\n",
       "      <td>0.013443</td>\n",
       "      <td>-0.232467</td>\n",
       "      <td>0.362333</td>\n",
       "      <td>-1.130579</td>\n",
       "      <td>Color</td>\n",
       "      <td>blue</td>\n",
       "    </tr>\n",
       "    <tr>\n",
       "      <th>4</th>\n",
       "      <td>purple</td>\n",
       "      <td>-0.057884</td>\n",
       "      <td>-0.236147</td>\n",
       "      <td>-0.590461</td>\n",
       "      <td>-1.225262</td>\n",
       "      <td>Color</td>\n",
       "      <td>purple</td>\n",
       "    </tr>\n",
       "    <tr>\n",
       "      <th>5</th>\n",
       "      <td>red</td>\n",
       "      <td>-0.047116</td>\n",
       "      <td>-0.168913</td>\n",
       "      <td>-0.446615</td>\n",
       "      <td>0.504736</td>\n",
       "      <td>Color</td>\n",
       "      <td>red</td>\n",
       "    </tr>\n",
       "    <tr>\n",
       "      <th>6</th>\n",
       "      <td>surprised</td>\n",
       "      <td>0.079850</td>\n",
       "      <td>-0.057010</td>\n",
       "      <td>0.549109</td>\n",
       "      <td>0.509195</td>\n",
       "      <td>Emotion</td>\n",
       "      <td>#e64200</td>\n",
       "    </tr>\n",
       "    <tr>\n",
       "      <th>7</th>\n",
       "      <td>excited</td>\n",
       "      <td>0.260361</td>\n",
       "      <td>0.262331</td>\n",
       "      <td>1.175263</td>\n",
       "      <td>1.758007</td>\n",
       "      <td>Emotion</td>\n",
       "      <td>#ab4600</td>\n",
       "    </tr>\n",
       "    <tr>\n",
       "      <th>8</th>\n",
       "      <td>serene</td>\n",
       "      <td>0.365344</td>\n",
       "      <td>-0.362202</td>\n",
       "      <td>1.539430</td>\n",
       "      <td>-0.684284</td>\n",
       "      <td>Emotion</td>\n",
       "      <td>#007065</td>\n",
       "    </tr>\n",
       "    <tr>\n",
       "      <th>9</th>\n",
       "      <td>happy</td>\n",
       "      <td>0.235380</td>\n",
       "      <td>-0.273418</td>\n",
       "      <td>1.088610</td>\n",
       "      <td>-0.337086</td>\n",
       "      <td>Emotion</td>\n",
       "      <td>#004c76</td>\n",
       "    </tr>\n",
       "    <tr>\n",
       "      <th>10</th>\n",
       "      <td>satisfied</td>\n",
       "      <td>0.325288</td>\n",
       "      <td>0.103773</td>\n",
       "      <td>1.400481</td>\n",
       "      <td>1.137951</td>\n",
       "      <td>Emotion</td>\n",
       "      <td>#566200</td>\n",
       "    </tr>\n",
       "    <tr>\n",
       "      <th>11</th>\n",
       "      <td>calm</td>\n",
       "      <td>0.339305</td>\n",
       "      <td>0.027426</td>\n",
       "      <td>1.449105</td>\n",
       "      <td>0.839392</td>\n",
       "      <td>Emotion</td>\n",
       "      <td>#4e6700</td>\n",
       "    </tr>\n",
       "    <tr>\n",
       "      <th>12</th>\n",
       "      <td>tired</td>\n",
       "      <td>-0.395070</td>\n",
       "      <td>-0.607826</td>\n",
       "      <td>-1.098294</td>\n",
       "      <td>-1.644819</td>\n",
       "      <td>Emotion</td>\n",
       "      <td>#6100b3</td>\n",
       "    </tr>\n",
       "    <tr>\n",
       "      <th>13</th>\n",
       "      <td>bored</td>\n",
       "      <td>-0.305101</td>\n",
       "      <td>-0.617588</td>\n",
       "      <td>-0.786210</td>\n",
       "      <td>-1.682992</td>\n",
       "      <td>Emotion</td>\n",
       "      <td>#7f00e3</td>\n",
       "    </tr>\n",
       "    <tr>\n",
       "      <th>14</th>\n",
       "      <td>depressed</td>\n",
       "      <td>-0.362943</td>\n",
       "      <td>-0.266055</td>\n",
       "      <td>-0.986849</td>\n",
       "      <td>-0.308292</td>\n",
       "      <td>Emotion</td>\n",
       "      <td>#ff7f00</td>\n",
       "    </tr>\n",
       "    <tr>\n",
       "      <th>15</th>\n",
       "      <td>sad</td>\n",
       "      <td>-0.308589</td>\n",
       "      <td>-0.609106</td>\n",
       "      <td>-0.798308</td>\n",
       "      <td>-1.649824</td>\n",
       "      <td>Emotion</td>\n",
       "      <td>#7f00e3</td>\n",
       "    </tr>\n",
       "    <tr>\n",
       "      <th>16</th>\n",
       "      <td>frustrated</td>\n",
       "      <td>-0.290496</td>\n",
       "      <td>-0.194468</td>\n",
       "      <td>-0.735546</td>\n",
       "      <td>-0.028345</td>\n",
       "      <td>Emotion</td>\n",
       "      <td>#ff7f00</td>\n",
       "    </tr>\n",
       "    <tr>\n",
       "      <th>17</th>\n",
       "      <td>afraid</td>\n",
       "      <td>-0.187615</td>\n",
       "      <td>-0.110502</td>\n",
       "      <td>-0.378675</td>\n",
       "      <td>0.300009</td>\n",
       "      <td>Emotion</td>\n",
       "      <td>#ff7f00</td>\n",
       "    </tr>\n",
       "    <tr>\n",
       "      <th>18</th>\n",
       "      <td>angry</td>\n",
       "      <td>-0.387073</td>\n",
       "      <td>-0.092438</td>\n",
       "      <td>-1.070551</td>\n",
       "      <td>0.370650</td>\n",
       "      <td>Emotion</td>\n",
       "      <td>#ff7f00</td>\n",
       "    </tr>\n",
       "    <tr>\n",
       "      <th>19</th>\n",
       "      <td>stressed</td>\n",
       "      <td>0.121305</td>\n",
       "      <td>0.068570</td>\n",
       "      <td>0.692908</td>\n",
       "      <td>1.000288</td>\n",
       "      <td>Emotion</td>\n",
       "      <td>#e65900</td>\n",
       "    </tr>\n",
       "    <tr>\n",
       "      <th>20</th>\n",
       "      <td>astonished</td>\n",
       "      <td>0.043149</td>\n",
       "      <td>-0.047343</td>\n",
       "      <td>0.421799</td>\n",
       "      <td>0.547001</td>\n",
       "      <td>Emotion</td>\n",
       "      <td>#ed4700</td>\n",
       "    </tr>\n",
       "    <tr>\n",
       "      <th>21</th>\n",
       "      <td>sleepy</td>\n",
       "      <td>-0.241932</td>\n",
       "      <td>-0.409701</td>\n",
       "      <td>-0.567088</td>\n",
       "      <td>-0.870034</td>\n",
       "      <td>Emotion</td>\n",
       "      <td>#7f00ff</td>\n",
       "    </tr>\n",
       "    <tr>\n",
       "      <th>22</th>\n",
       "      <td>alarmed</td>\n",
       "      <td>-0.186076</td>\n",
       "      <td>0.101944</td>\n",
       "      <td>-0.373335</td>\n",
       "      <td>1.130801</td>\n",
       "      <td>Emotion</td>\n",
       "      <td>#ff7f00</td>\n",
       "    </tr>\n",
       "    <tr>\n",
       "      <th>23</th>\n",
       "      <td>disgusted</td>\n",
       "      <td>-0.517175</td>\n",
       "      <td>-0.286340</td>\n",
       "      <td>-1.521849</td>\n",
       "      <td>-0.387618</td>\n",
       "      <td>Emotion</td>\n",
       "      <td>#b27f33</td>\n",
       "    </tr>\n",
       "  </tbody>\n",
       "</table>\n",
       "</div>"
      ],
      "text/plain": [
       "         index   Valence   Arousal  z_valence  z_arousal Condition fill_color\n",
       "0        green  0.130466 -0.198897   1.925514  -0.266796     Color      green\n",
       "1       orange -0.012250 -0.125187   0.019127   1.629841     Color     orange\n",
       "2       yellow -0.108748 -0.169561  -1.269896   0.488060     Color     yellow\n",
       "3         blue  0.013443 -0.232467   0.362333  -1.130579     Color       blue\n",
       "4       purple -0.057884 -0.236147  -0.590461  -1.225262     Color     purple\n",
       "5          red -0.047116 -0.168913  -0.446615   0.504736     Color        red\n",
       "6    surprised  0.079850 -0.057010   0.549109   0.509195   Emotion    #e64200\n",
       "7      excited  0.260361  0.262331   1.175263   1.758007   Emotion    #ab4600\n",
       "8       serene  0.365344 -0.362202   1.539430  -0.684284   Emotion    #007065\n",
       "9        happy  0.235380 -0.273418   1.088610  -0.337086   Emotion    #004c76\n",
       "10   satisfied  0.325288  0.103773   1.400481   1.137951   Emotion    #566200\n",
       "11        calm  0.339305  0.027426   1.449105   0.839392   Emotion    #4e6700\n",
       "12       tired -0.395070 -0.607826  -1.098294  -1.644819   Emotion    #6100b3\n",
       "13       bored -0.305101 -0.617588  -0.786210  -1.682992   Emotion    #7f00e3\n",
       "14   depressed -0.362943 -0.266055  -0.986849  -0.308292   Emotion    #ff7f00\n",
       "15         sad -0.308589 -0.609106  -0.798308  -1.649824   Emotion    #7f00e3\n",
       "16  frustrated -0.290496 -0.194468  -0.735546  -0.028345   Emotion    #ff7f00\n",
       "17      afraid -0.187615 -0.110502  -0.378675   0.300009   Emotion    #ff7f00\n",
       "18       angry -0.387073 -0.092438  -1.070551   0.370650   Emotion    #ff7f00\n",
       "19    stressed  0.121305  0.068570   0.692908   1.000288   Emotion    #e65900\n",
       "20  astonished  0.043149 -0.047343   0.421799   0.547001   Emotion    #ed4700\n",
       "21      sleepy -0.241932 -0.409701  -0.567088  -0.870034   Emotion    #7f00ff\n",
       "22     alarmed -0.186076  0.101944  -0.373335   1.130801   Emotion    #ff7f00\n",
       "23   disgusted -0.517175 -0.286340  -1.521849  -0.387618   Emotion    #b27f33"
      ]
     },
     "execution_count": 22,
     "metadata": {},
     "output_type": "execute_result"
    }
   ],
   "source": [
    "_ = importlib.reload(fasttext_en)\n",
    "with open(\"./module_nlp/config/config_en.yml\") as f:\n",
    "    config = yaml.safe_load(f)\n",
    "\n",
    "fasttext_en.get_wheels(config['get_wheel'])"
   ]
  },
  {
   "cell_type": "code",
   "execution_count": 41,
   "metadata": {},
   "outputs": [
    {
     "name": "stdout",
     "output_type": "stream",
     "text": [
      "\u001b[?25h\u001b[?25h\u001b[?25h\u001b[?25h\u001b[?25h\u001b[?25h\u001b[?25h\u001b[?25h\u001b[?25h\u001b[?25h\u001b[?25h\u001b[?25h"
     ]
    },
    {
     "data": {
      "image/svg+xml": "<svg xmlns=\"http://www.w3.org/2000/svg\" xmlns:xlink=\"http://www.w3.org/1999/xlink\" class=\"svglite\" width=\"432.00pt\" height=\"432.00pt\" viewBox=\"0 0 432.00 432.00\">\n<defs>\n  <style type=\"text/css\"><![CDATA[\n    .svglite line, .svglite polyline, .svglite polygon, .svglite path, .svglite rect, .svglite circle {\n      fill: none;\n      stroke: #000000;\n      stroke-linecap: round;\n      stroke-linejoin: round;\n      stroke-miterlimit: 10.00;\n    }\n    .svglite text {\n      white-space: pre;\n    }\n  ]]></style>\n</defs>\n<rect width=\"100%\" height=\"100%\" style=\"stroke: none; fill: #FFFFFF;\"/>\n<defs>\n  <clipPath id=\"cpMC4wMHw0MzIuMDB8MC4wMHw0MzIuMDA=\">\n    <rect x=\"0.00\" y=\"0.00\" width=\"432.00\" height=\"432.00\"/>\n  </clipPath>\n</defs>\n<g clip-path=\"url(#cpMC4wMHw0MzIuMDB8MC4wMHw0MzIuMDA=)\">\n<rect x=\"0.000000000000032\" y=\"0.00\" width=\"432.00\" height=\"432.00\" style=\"stroke-width: 1.07; stroke: #FFFFFF; fill: #FFFFFF;\"/>\n</g>\n<defs>\n  <clipPath id=\"cpNDkuODR8NDI2LjUyfDUuNDh8MzgxLjA4\">\n    <rect x=\"49.84\" y=\"5.48\" width=\"376.68\" height=\"375.60\"/>\n  </clipPath>\n</defs>\n<g clip-path=\"url(#cpNDkuODR8NDI2LjUyfDUuNDh8MzgxLjA4)\">\n<rect x=\"49.84\" y=\"5.48\" width=\"376.68\" height=\"375.60\" style=\"stroke-width: 1.07; stroke: none; fill: #FFFFFF;\"/>\n<polyline points=\"49.84,277.27 426.52,277.27 \" style=\"stroke-width: 0.53; stroke: #FFFFFF; stroke-linecap: butt;\"/>\n<polyline points=\"49.84,157.67 426.52,157.67 \" style=\"stroke-width: 0.53; stroke: #FFFFFF; stroke-linecap: butt;\"/>\n<polyline points=\"49.84,38.08 426.52,38.08 \" style=\"stroke-width: 0.53; stroke: #FFFFFF; stroke-linecap: butt;\"/>\n<polyline points=\"149.47,381.08 149.47,5.48 \" style=\"stroke-width: 0.53; stroke: #FFFFFF; stroke-linecap: butt;\"/>\n<polyline points=\"256.63,381.08 256.63,5.48 \" style=\"stroke-width: 0.53; stroke: #FFFFFF; stroke-linecap: butt;\"/>\n<polyline points=\"363.80,381.08 363.80,5.48 \" style=\"stroke-width: 0.53; stroke: #FFFFFF; stroke-linecap: butt;\"/>\n<polyline points=\"49.84,337.07 426.52,337.07 \" style=\"stroke-width: 1.07; stroke: #FFFFFF; stroke-linecap: butt;\"/>\n<polyline points=\"49.84,217.47 426.52,217.47 \" style=\"stroke-width: 1.07; stroke: #FFFFFF; stroke-linecap: butt;\"/>\n<polyline points=\"49.84,97.88 426.52,97.88 \" style=\"stroke-width: 1.07; stroke: #FFFFFF; stroke-linecap: butt;\"/>\n<polyline points=\"95.89,381.08 95.89,5.48 \" style=\"stroke-width: 1.07; stroke: #FFFFFF; stroke-linecap: butt;\"/>\n<polyline points=\"203.05,381.08 203.05,5.48 \" style=\"stroke-width: 1.07; stroke: #FFFFFF; stroke-linecap: butt;\"/>\n<polyline points=\"310.22,381.08 310.22,5.48 \" style=\"stroke-width: 1.07; stroke: #FFFFFF; stroke-linecap: butt;\"/>\n<polyline points=\"417.38,381.08 417.38,5.48 \" style=\"stroke-width: 1.07; stroke: #FFFFFF; stroke-linecap: butt;\"/>\n<circle cx=\"409.40\" cy=\"249.38\" r=\"5.19\" style=\"stroke-width: 0.71; stroke: #CBA6F7; fill: #CBA6F7;\"/>\n<circle cx=\"205.10\" cy=\"22.55\" r=\"5.19\" style=\"stroke-width: 0.71; stroke: #CBA6F7; fill: #CBA6F7;\"/>\n<circle cx=\"66.96\" cy=\"159.10\" r=\"5.19\" style=\"stroke-width: 0.71; stroke: #CBA6F7; fill: #CBA6F7;\"/>\n<circle cx=\"241.88\" cy=\"352.68\" r=\"5.19\" style=\"stroke-width: 0.71; stroke: #CBA6F7; fill: #CBA6F7;\"/>\n<circle cx=\"139.78\" cy=\"364.01\" r=\"5.19\" style=\"stroke-width: 0.71; stroke: #CBA6F7; fill: #CBA6F7;\"/>\n<circle cx=\"155.19\" cy=\"157.11\" r=\"5.19\" style=\"stroke-width: 0.71; stroke: #CBA6F7; fill: #CBA6F7;\"/>\n<text x=\"381.93\" y=\"254.39\" text-anchor=\"middle\" style=\"font-size: 14.23px; font-family: &quot;Liberation Sans&quot;;\" textLength=\"45.81px\" lengthAdjust=\"spacingAndGlyphs\">GREEN</text>\n<text x=\"195.32\" y=\"37.45\" text-anchor=\"middle\" style=\"font-size: 14.23px; font-family: &quot;Liberation Sans&quot;;\" textLength=\"58.10px\" lengthAdjust=\"spacingAndGlyphs\">ORANGE</text>\n<text x=\"99.09\" y=\"164.11\" text-anchor=\"middle\" style=\"font-size: 14.23px; font-family: &quot;Liberation Sans&quot;;\" textLength=\"55.19px\" lengthAdjust=\"spacingAndGlyphs\">YELLOW</text>\n<text x=\"251.71\" y=\"347.96\" text-anchor=\"middle\" style=\"font-size: 14.23px; font-family: &quot;Liberation Sans&quot;;\" textLength=\"35.00px\" lengthAdjust=\"spacingAndGlyphs\">BLUE</text>\n<text x=\"149.56\" y=\"359.34\" text-anchor=\"middle\" style=\"font-size: 14.23px; font-family: &quot;Liberation Sans&quot;;\" textLength=\"51.80px\" lengthAdjust=\"spacingAndGlyphs\">PURPLE</text>\n<text x=\"164.99\" y=\"152.41\" text-anchor=\"middle\" style=\"font-size: 14.23px; font-family: &quot;Liberation Sans&quot;;\" textLength=\"27.13px\" lengthAdjust=\"spacingAndGlyphs\">RED</text>\n</g>\n<g clip-path=\"url(#cpMC4wMHw0MzIuMDB8MC4wMHw0MzIuMDA=)\">\n<polyline points=\"49.84,381.08 49.84,5.48 \" style=\"stroke-width: 2.13; stroke-linecap: butt;\"/>\n<text x=\"43.40\" y=\"343.49\" text-anchor=\"end\" style=\"font-size: 18.00px;fill: #151515; font-family: &quot;Noto Sans&quot;;\" textLength=\"16.09px\" lengthAdjust=\"spacingAndGlyphs\">-1</text>\n<text x=\"43.40\" y=\"223.90\" text-anchor=\"end\" style=\"font-size: 18.00px;fill: #151515; font-family: &quot;Noto Sans&quot;;\" textLength=\"10.30px\" lengthAdjust=\"spacingAndGlyphs\">0</text>\n<text x=\"43.40\" y=\"104.30\" text-anchor=\"end\" style=\"font-size: 18.00px;fill: #151515; font-family: &quot;Noto Sans&quot;;\" textLength=\"10.30px\" lengthAdjust=\"spacingAndGlyphs\">1</text>\n<polyline points=\"45.59,337.07 49.84,337.07 \" style=\"stroke-width: 1.07; stroke: #151515; stroke-linecap: butt;\"/>\n<polyline points=\"45.59,217.47 49.84,217.47 \" style=\"stroke-width: 1.07; stroke: #151515; stroke-linecap: butt;\"/>\n<polyline points=\"45.59,97.88 49.84,97.88 \" style=\"stroke-width: 1.07; stroke: #151515; stroke-linecap: butt;\"/>\n<polyline points=\"49.84,381.08 426.52,381.08 \" style=\"stroke-width: 2.13; stroke-linecap: butt;\"/>\n<polyline points=\"95.89,385.33 95.89,381.08 \" style=\"stroke-width: 1.07; stroke: #151515; stroke-linecap: butt;\"/>\n<polyline points=\"203.05,385.33 203.05,381.08 \" style=\"stroke-width: 1.07; stroke: #151515; stroke-linecap: butt;\"/>\n<polyline points=\"310.22,385.33 310.22,381.08 \" style=\"stroke-width: 1.07; stroke: #151515; stroke-linecap: butt;\"/>\n<polyline points=\"417.38,385.33 417.38,381.08 \" style=\"stroke-width: 1.07; stroke: #151515; stroke-linecap: butt;\"/>\n<text x=\"95.89\" y=\"400.37\" text-anchor=\"middle\" style=\"font-size: 18.00px;fill: #151515; font-family: &quot;Noto Sans&quot;;\" textLength=\"16.09px\" lengthAdjust=\"spacingAndGlyphs\">-1</text>\n<text x=\"203.05\" y=\"400.37\" text-anchor=\"middle\" style=\"font-size: 18.00px;fill: #151515; font-family: &quot;Noto Sans&quot;;\" textLength=\"10.30px\" lengthAdjust=\"spacingAndGlyphs\">0</text>\n<text x=\"310.22\" y=\"400.37\" text-anchor=\"middle\" style=\"font-size: 18.00px;fill: #151515; font-family: &quot;Noto Sans&quot;;\" textLength=\"10.30px\" lengthAdjust=\"spacingAndGlyphs\">1</text>\n<text x=\"417.38\" y=\"400.37\" text-anchor=\"middle\" style=\"font-size: 18.00px;fill: #151515; font-family: &quot;Noto Sans&quot;;\" textLength=\"10.30px\" lengthAdjust=\"spacingAndGlyphs\">2</text>\n<text x=\"238.18\" y=\"421.72\" text-anchor=\"middle\" style=\"font-size: 20.00px;fill: #151515; font-family: &quot;Noto Sans&quot;;\" textLength=\"72.91px\" lengthAdjust=\"spacingAndGlyphs\">Valence</text>\n<text transform=\"translate(19.76,193.28) rotate(-90)\" text-anchor=\"middle\" style=\"font-size: 20.00px;fill: #151515; font-family: &quot;Noto Sans&quot;;\" textLength=\"71.47px\" lengthAdjust=\"spacingAndGlyphs\">Arousal</text>\n</g>\n</svg>",
      "text/plain": [
       "<IPython.core.display.SVG object>"
      ]
     },
     "metadata": {},
     "output_type": "display_data"
    },
    {
     "data": {
      "image/svg+xml": "<svg xmlns=\"http://www.w3.org/2000/svg\" xmlns:xlink=\"http://www.w3.org/1999/xlink\" class=\"svglite\" width=\"432.00pt\" height=\"432.00pt\" viewBox=\"0 0 432.00 432.00\">\n<defs>\n  <style type=\"text/css\"><![CDATA[\n    .svglite line, .svglite polyline, .svglite polygon, .svglite path, .svglite rect, .svglite circle {\n      fill: none;\n      stroke: #000000;\n      stroke-linecap: round;\n      stroke-linejoin: round;\n      stroke-miterlimit: 10.00;\n    }\n    .svglite text {\n      white-space: pre;\n    }\n  ]]></style>\n</defs>\n<rect width=\"100%\" height=\"100%\" style=\"stroke: none; fill: #FFFFFF;\"/>\n<defs>\n  <clipPath id=\"cpMC4wMHw0MzIuMDB8MC4wMHw0MzIuMDA=\">\n    <rect x=\"0.00\" y=\"0.00\" width=\"432.00\" height=\"432.00\"/>\n  </clipPath>\n</defs>\n<g clip-path=\"url(#cpMC4wMHw0MzIuMDB8MC4wMHw0MzIuMDA=)\">\n<rect x=\"0.000000000000032\" y=\"0.00\" width=\"432.00\" height=\"432.00\" style=\"stroke-width: 1.07; stroke: #FFFFFF; fill: #FFFFFF;\"/>\n</g>\n<defs>\n  <clipPath id=\"cpNDkuODR8NDI2LjUyfDUuNDh8MzgxLjA4\">\n    <rect x=\"49.84\" y=\"5.48\" width=\"376.68\" height=\"375.60\"/>\n  </clipPath>\n</defs>\n<g clip-path=\"url(#cpNDkuODR8NDI2LjUyfDUuNDh8MzgxLjA4)\">\n<rect x=\"49.84\" y=\"5.48\" width=\"376.68\" height=\"375.60\" style=\"stroke-width: 1.07; stroke: none; fill: #FFFFFF;\"/>\n<polyline points=\"49.84,345.85 426.52,345.85 \" style=\"stroke-width: 0.53; stroke: #FFFFFF; stroke-linecap: butt;\"/>\n<polyline points=\"49.84,246.62 426.52,246.62 \" style=\"stroke-width: 0.53; stroke: #FFFFFF; stroke-linecap: butt;\"/>\n<polyline points=\"49.84,147.39 426.52,147.39 \" style=\"stroke-width: 0.53; stroke: #FFFFFF; stroke-linecap: butt;\"/>\n<polyline points=\"49.84,48.15 426.52,48.15 \" style=\"stroke-width: 0.53; stroke: #FFFFFF; stroke-linecap: butt;\"/>\n<polyline points=\"69.41,381.08 69.41,5.48 \" style=\"stroke-width: 0.53; stroke: #FFFFFF; stroke-linecap: butt;\"/>\n<polyline points=\"181.27,381.08 181.27,5.48 \" style=\"stroke-width: 0.53; stroke: #FFFFFF; stroke-linecap: butt;\"/>\n<polyline points=\"293.13,381.08 293.13,5.48 \" style=\"stroke-width: 0.53; stroke: #FFFFFF; stroke-linecap: butt;\"/>\n<polyline points=\"404.99,381.08 404.99,5.48 \" style=\"stroke-width: 0.53; stroke: #FFFFFF; stroke-linecap: butt;\"/>\n<polyline points=\"49.84,296.23 426.52,296.23 \" style=\"stroke-width: 1.07; stroke: #FFFFFF; stroke-linecap: butt;\"/>\n<polyline points=\"49.84,197.00 426.52,197.00 \" style=\"stroke-width: 1.07; stroke: #FFFFFF; stroke-linecap: butt;\"/>\n<polyline points=\"49.84,97.77 426.52,97.77 \" style=\"stroke-width: 1.07; stroke: #FFFFFF; stroke-linecap: butt;\"/>\n<polyline points=\"125.34,381.08 125.34,5.48 \" style=\"stroke-width: 1.07; stroke: #FFFFFF; stroke-linecap: butt;\"/>\n<polyline points=\"237.20,381.08 237.20,5.48 \" style=\"stroke-width: 1.07; stroke: #FFFFFF; stroke-linecap: butt;\"/>\n<polyline points=\"349.06,381.08 349.06,5.48 \" style=\"stroke-width: 1.07; stroke: #FFFFFF; stroke-linecap: butt;\"/>\n<circle cx=\"298.62\" cy=\"146.47\" r=\"5.19\" style=\"stroke-width: 0.71; stroke: #CBA6F7; fill: #CBA6F7;\"/>\n<circle cx=\"368.66\" cy=\"22.55\" r=\"5.19\" style=\"stroke-width: 0.71; stroke: #CBA6F7; fill: #CBA6F7;\"/>\n<circle cx=\"409.40\" cy=\"264.90\" r=\"5.19\" style=\"stroke-width: 0.71; stroke: #CBA6F7; fill: #CBA6F7;\"/>\n<circle cx=\"358.97\" cy=\"230.45\" r=\"5.19\" style=\"stroke-width: 0.71; stroke: #CBA6F7; fill: #CBA6F7;\"/>\n<circle cx=\"393.86\" cy=\"84.08\" r=\"5.19\" style=\"stroke-width: 0.71; stroke: #CBA6F7; fill: #CBA6F7;\"/>\n<circle cx=\"399.30\" cy=\"113.71\" r=\"5.19\" style=\"stroke-width: 0.71; stroke: #CBA6F7; fill: #CBA6F7;\"/>\n<circle cx=\"114.34\" cy=\"360.22\" r=\"5.19\" style=\"stroke-width: 0.71; stroke: #CBA6F7; fill: #CBA6F7;\"/>\n<circle cx=\"149.25\" cy=\"364.01\" r=\"5.19\" style=\"stroke-width: 0.71; stroke: #CBA6F7; fill: #CBA6F7;\"/>\n<circle cx=\"126.81\" cy=\"227.59\" r=\"5.19\" style=\"stroke-width: 0.71; stroke: #CBA6F7; fill: #CBA6F7;\"/>\n<circle cx=\"147.90\" cy=\"360.71\" r=\"5.19\" style=\"stroke-width: 0.71; stroke: #CBA6F7; fill: #CBA6F7;\"/>\n<circle cx=\"154.92\" cy=\"199.81\" r=\"5.19\" style=\"stroke-width: 0.71; stroke: #CBA6F7; fill: #CBA6F7;\"/>\n<circle cx=\"194.84\" cy=\"167.23\" r=\"5.19\" style=\"stroke-width: 0.71; stroke: #CBA6F7; fill: #CBA6F7;\"/>\n<circle cx=\"117.45\" cy=\"160.22\" r=\"5.19\" style=\"stroke-width: 0.71; stroke: #CBA6F7; fill: #CBA6F7;\"/>\n<circle cx=\"314.71\" cy=\"97.74\" r=\"5.19\" style=\"stroke-width: 0.71; stroke: #CBA6F7; fill: #CBA6F7;\"/>\n<circle cx=\"284.38\" cy=\"142.72\" r=\"5.19\" style=\"stroke-width: 0.71; stroke: #CBA6F7; fill: #CBA6F7;\"/>\n<circle cx=\"173.76\" cy=\"283.33\" r=\"5.19\" style=\"stroke-width: 0.71; stroke: #CBA6F7; fill: #CBA6F7;\"/>\n<circle cx=\"195.44\" cy=\"84.79\" r=\"5.19\" style=\"stroke-width: 0.71; stroke: #CBA6F7; fill: #CBA6F7;\"/>\n<circle cx=\"66.96\" cy=\"235.46\" r=\"5.19\" style=\"stroke-width: 0.71; stroke: #CBA6F7; fill: #CBA6F7;\"/>\n<text x=\"308.45\" y=\"161.38\" text-anchor=\"middle\" style=\"font-size: 14.23px; font-family: &quot;Liberation Sans&quot;;\" textLength=\"75.40px\" lengthAdjust=\"spacingAndGlyphs\">SURPRISED</text>\n<text x=\"394.80\" y=\"19.24\" text-anchor=\"middle\" style=\"font-size: 14.23px; font-family: &quot;Liberation Sans&quot;;\" textLength=\"56.23px\" lengthAdjust=\"spacingAndGlyphs\">EXCITED</text>\n<text x=\"379.20\" y=\"269.27\" text-anchor=\"middle\" style=\"font-size: 14.23px; font-family: &quot;Liberation Sans&quot;;\" textLength=\"51.17px\" lengthAdjust=\"spacingAndGlyphs\">SERENE</text>\n<text x=\"349.13\" y=\"245.31\" text-anchor=\"middle\" style=\"font-size: 14.23px; font-family: &quot;Liberation Sans&quot;;\" textLength=\"44.88px\" lengthAdjust=\"spacingAndGlyphs\">HAPPY</text>\n<text x=\"384.00\" y=\"79.34\" text-anchor=\"middle\" style=\"font-size: 14.23px; font-family: &quot;Liberation Sans&quot;;\" textLength=\"67.90px\" lengthAdjust=\"spacingAndGlyphs\">SATISFIED</text>\n<text x=\"389.40\" y=\"128.60\" text-anchor=\"middle\" style=\"font-size: 14.23px; font-family: &quot;Liberation Sans&quot;;\" textLength=\"38.42px\" lengthAdjust=\"spacingAndGlyphs\">CALM</text>\n<text x=\"104.47\" y=\"375.13\" text-anchor=\"middle\" style=\"font-size: 14.23px; font-family: &quot;Liberation Sans&quot;;\" textLength=\"39.85px\" lengthAdjust=\"spacingAndGlyphs\">TIRED</text>\n<text x=\"177.68\" y=\"377.48\" text-anchor=\"middle\" style=\"font-size: 14.23px; font-family: &quot;Liberation Sans&quot;;\" textLength=\"47.48px\" lengthAdjust=\"spacingAndGlyphs\">BORED</text>\n<text x=\"136.59\" y=\"222.89\" text-anchor=\"middle\" style=\"font-size: 14.23px; font-family: &quot;Liberation Sans&quot;;\" textLength=\"77.54px\" lengthAdjust=\"spacingAndGlyphs\">DEPRESSED</text>\n<text x=\"138.10\" y=\"355.99\" text-anchor=\"middle\" style=\"font-size: 14.23px; font-family: &quot;Liberation Sans&quot;;\" textLength=\"27.27px\" lengthAdjust=\"spacingAndGlyphs\">SAD</text>\n<text x=\"164.68\" y=\"195.14\" text-anchor=\"middle\" style=\"font-size: 14.23px; font-family: &quot;Liberation Sans&quot;;\" textLength=\"86.45px\" lengthAdjust=\"spacingAndGlyphs\">FRUSTRATED</text>\n<text x=\"185.06\" y=\"182.04\" text-anchor=\"middle\" style=\"font-size: 14.23px; font-family: &quot;Liberation Sans&quot;;\" textLength=\"49.59px\" lengthAdjust=\"spacingAndGlyphs\">AFRAID</text>\n<text x=\"127.25\" y=\"155.49\" text-anchor=\"middle\" style=\"font-size: 14.23px; font-family: &quot;Liberation Sans&quot;;\" textLength=\"47.14px\" lengthAdjust=\"spacingAndGlyphs\">ANGRY</text>\n<text x=\"304.91\" y=\"112.64\" text-anchor=\"middle\" style=\"font-size: 14.23px; font-family: &quot;Liberation Sans&quot;;\" textLength=\"66.36px\" lengthAdjust=\"spacingAndGlyphs\">STRESSED</text>\n<text x=\"274.46\" y=\"137.96\" text-anchor=\"middle\" style=\"font-size: 14.23px; font-family: &quot;Liberation Sans&quot;;\" textLength=\"88.15px\" lengthAdjust=\"spacingAndGlyphs\">ASTONISHED</text>\n<text x=\"163.87\" y=\"298.28\" text-anchor=\"middle\" style=\"font-size: 14.23px; font-family: &quot;Liberation Sans&quot;;\" textLength=\"47.72px\" lengthAdjust=\"spacingAndGlyphs\">SLEEPY</text>\n<text x=\"205.30\" y=\"79.99\" text-anchor=\"middle\" style=\"font-size: 14.23px; font-family: &quot;Liberation Sans&quot;;\" textLength=\"65.65px\" lengthAdjust=\"spacingAndGlyphs\">ALARMED</text>\n<text x=\"92.33\" y=\"250.33\" text-anchor=\"middle\" style=\"font-size: 14.23px; font-family: &quot;Liberation Sans&quot;;\" textLength=\"77.75px\" lengthAdjust=\"spacingAndGlyphs\">DISGUSTED</text>\n</g>\n<g clip-path=\"url(#cpMC4wMHw0MzIuMDB8MC4wMHw0MzIuMDA=)\">\n<polyline points=\"49.84,381.08 49.84,5.48 \" style=\"stroke-width: 2.13; stroke-linecap: butt;\"/>\n<text x=\"43.40\" y=\"302.66\" text-anchor=\"end\" style=\"font-size: 18.00px;fill: #151515; font-family: &quot;Noto Sans&quot;;\" textLength=\"16.09px\" lengthAdjust=\"spacingAndGlyphs\">-1</text>\n<text x=\"43.40\" y=\"203.43\" text-anchor=\"end\" style=\"font-size: 18.00px;fill: #151515; font-family: &quot;Noto Sans&quot;;\" textLength=\"10.30px\" lengthAdjust=\"spacingAndGlyphs\">0</text>\n<text x=\"43.40\" y=\"104.20\" text-anchor=\"end\" style=\"font-size: 18.00px;fill: #151515; font-family: &quot;Noto Sans&quot;;\" textLength=\"10.30px\" lengthAdjust=\"spacingAndGlyphs\">1</text>\n<polyline points=\"45.59,296.23 49.84,296.23 \" style=\"stroke-width: 1.07; stroke: #151515; stroke-linecap: butt;\"/>\n<polyline points=\"45.59,197.00 49.84,197.00 \" style=\"stroke-width: 1.07; stroke: #151515; stroke-linecap: butt;\"/>\n<polyline points=\"45.59,97.77 49.84,97.77 \" style=\"stroke-width: 1.07; stroke: #151515; stroke-linecap: butt;\"/>\n<polyline points=\"49.84,381.08 426.52,381.08 \" style=\"stroke-width: 2.13; stroke-linecap: butt;\"/>\n<polyline points=\"125.34,385.33 125.34,381.08 \" style=\"stroke-width: 1.07; stroke: #151515; stroke-linecap: butt;\"/>\n<polyline points=\"237.20,385.33 237.20,381.08 \" style=\"stroke-width: 1.07; stroke: #151515; stroke-linecap: butt;\"/>\n<polyline points=\"349.06,385.33 349.06,381.08 \" style=\"stroke-width: 1.07; stroke: #151515; stroke-linecap: butt;\"/>\n<text x=\"125.34\" y=\"400.37\" text-anchor=\"middle\" style=\"font-size: 18.00px;fill: #151515; font-family: &quot;Noto Sans&quot;;\" textLength=\"16.09px\" lengthAdjust=\"spacingAndGlyphs\">-1</text>\n<text x=\"237.20\" y=\"400.37\" text-anchor=\"middle\" style=\"font-size: 18.00px;fill: #151515; font-family: &quot;Noto Sans&quot;;\" textLength=\"10.30px\" lengthAdjust=\"spacingAndGlyphs\">0</text>\n<text x=\"349.06\" y=\"400.37\" text-anchor=\"middle\" style=\"font-size: 18.00px;fill: #151515; font-family: &quot;Noto Sans&quot;;\" textLength=\"10.30px\" lengthAdjust=\"spacingAndGlyphs\">1</text>\n<text x=\"238.18\" y=\"421.72\" text-anchor=\"middle\" style=\"font-size: 20.00px;fill: #151515; font-family: &quot;Noto Sans&quot;;\" textLength=\"72.91px\" lengthAdjust=\"spacingAndGlyphs\">Valence</text>\n<text transform=\"translate(19.76,193.28) rotate(-90)\" text-anchor=\"middle\" style=\"font-size: 20.00px;fill: #151515; font-family: &quot;Noto Sans&quot;;\" textLength=\"71.47px\" lengthAdjust=\"spacingAndGlyphs\">Arousal</text>\n</g>\n</svg>",
      "text/plain": [
       "<IPython.core.display.SVG object>"
      ]
     },
     "metadata": {},
     "output_type": "display_data"
    }
   ],
   "source": [
    "!./module_nlp/core/plots.R \"plot_osgood\"\n",
    "\n",
    "# Display svg images\n",
    "from IPython.display import SVG\n",
    "display(SVG(\"../figures/7A.svg\"))\n",
    "display(SVG(\"../figures/7B.svg\"))"
   ]
  },
  {
   "attachments": {},
   "cell_type": "markdown",
   "metadata": {},
   "source": [
    "## Figure 7C-D\n",
    "### Compute coordinates in control geographic space"
   ]
  },
  {
   "cell_type": "code",
   "execution_count": 2,
   "metadata": {},
   "outputs": [],
   "source": [
    "_ = importlib.reload(fasttext_en)\n",
    "with open(\"./module_nlp/config/config_en.yml\") as f:\n",
    "    config = yaml.safe_load(f)\n",
    "\n",
    "df = fasttext_en.get_wheels(config['get_control_wheel'])"
   ]
  },
  {
   "attachments": {},
   "cell_type": "markdown",
   "metadata": {},
   "source": [
    "### Generate RDMs for the control conditions"
   ]
  },
  {
   "cell_type": "code",
   "execution_count": 3,
   "metadata": {},
   "outputs": [],
   "source": [
    "_ = importlib.reload(fasttext_en)\n",
    "with open(\"./module_nlp/config/config_en.yml\") as f:\n",
    "    config = yaml.safe_load(f)\n",
    "\n",
    "fasttext_en.control_rdm(config['control_rdm'])"
   ]
  },
  {
   "attachments": {},
   "cell_type": "markdown",
   "metadata": {},
   "source": [
    "### Run correlation analysis"
   ]
  },
  {
   "cell_type": "code",
   "execution_count": null,
   "metadata": {},
   "outputs": [],
   "source": [
    "_ = importlib.reload(fasttext_en)\n",
    "with open(\"./module_nlp/config/config_en.yml\") as f:\n",
    "    config = yaml.safe_load(f)\n",
    "\n",
    "fasttext_en.osgood_rdm(config['rdm_difference'])"
   ]
  },
  {
   "cell_type": "code",
   "execution_count": 83,
   "metadata": {},
   "outputs": [
    {
     "name": "stdout",
     "output_type": "stream",
     "text": [
      "\u001b[?25h\u001b[?25h\u001b[?25h\u001b[?25h\u001b[?25h\u001b[?25h\u001b[?25h\u001b[?25h\u001b[?25h\u001b[?25h\u001b[?25h\u001b[?25h\u001b[?25h\u001b[?25h\u001b[?25h\u001b[?25h\u001b[?25h\u001b[?25h\u001b[?25h\u001b[?25h\u001b[?25h\u001b[?25h\u001b[?25h\u001b[?25h\u001b[?25h\u001b[?25h"
     ]
    },
    {
     "data": {
      "image/svg+xml": "<svg xmlns=\"http://www.w3.org/2000/svg\" xmlns:xlink=\"http://www.w3.org/1999/xlink\" class=\"svglite\" width=\"432.00pt\" height=\"432.00pt\" viewBox=\"0 0 432.00 432.00\">\n<defs>\n  <style type=\"text/css\"><![CDATA[\n    .svglite line, .svglite polyline, .svglite polygon, .svglite path, .svglite rect, .svglite circle {\n      fill: none;\n      stroke: #000000;\n      stroke-linecap: round;\n      stroke-linejoin: round;\n      stroke-miterlimit: 10.00;\n    }\n    .svglite text {\n      white-space: pre;\n    }\n  ]]></style>\n</defs>\n<rect width=\"100%\" height=\"100%\" style=\"stroke: none; fill: #FFFFFF;\"/>\n<defs>\n  <clipPath id=\"cpMC4wMHw0MzIuMDB8MC4wMHw0MzIuMDA=\">\n    <rect x=\"0.00\" y=\"0.00\" width=\"432.00\" height=\"432.00\"/>\n  </clipPath>\n</defs>\n<g clip-path=\"url(#cpMC4wMHw0MzIuMDB8MC4wMHw0MzIuMDA=)\">\n<rect x=\"0.000000000000032\" y=\"0.000000000000057\" width=\"432.00\" height=\"432.00\" style=\"stroke-width: 1.07; stroke: #FFFFFF; fill: #FFFFFF;\"/>\n</g>\n<defs>\n  <clipPath id=\"cpNzUuMjZ8Mjg3LjYyfDUuNDh8MzI3LjM2\">\n    <rect x=\"75.26\" y=\"5.48\" width=\"212.36\" height=\"321.88\"/>\n  </clipPath>\n</defs>\n<g clip-path=\"url(#cpNzUuMjZ8Mjg3LjYyfDUuNDh8MzI3LjM2)\">\n<rect x=\"75.26\" y=\"5.48\" width=\"212.36\" height=\"321.88\" style=\"stroke-width: 1.07; stroke: none; fill: #FFFFFF;\"/>\n<polyline points=\"75.26,292.77 287.62,292.77 \" style=\"stroke-width: 0.53; stroke: #FFFFFF; stroke-linecap: butt;\"/>\n<polyline points=\"75.26,226.27 287.62,226.27 \" style=\"stroke-width: 0.53; stroke: #FFFFFF; stroke-linecap: butt;\"/>\n<polyline points=\"75.26,159.77 287.62,159.77 \" style=\"stroke-width: 0.53; stroke: #FFFFFF; stroke-linecap: butt;\"/>\n<polyline points=\"75.26,93.26 287.62,93.26 \" style=\"stroke-width: 0.53; stroke: #FFFFFF; stroke-linecap: butt;\"/>\n<polyline points=\"75.26,26.76 287.62,26.76 \" style=\"stroke-width: 0.53; stroke: #FFFFFF; stroke-linecap: butt;\"/>\n<polyline points=\"75.26,326.03 287.62,326.03 \" style=\"stroke-width: 1.07; stroke: #FFFFFF; stroke-linecap: butt;\"/>\n<polyline points=\"75.26,259.52 287.62,259.52 \" style=\"stroke-width: 1.07; stroke: #FFFFFF; stroke-linecap: butt;\"/>\n<polyline points=\"75.26,193.02 287.62,193.02 \" style=\"stroke-width: 1.07; stroke: #FFFFFF; stroke-linecap: butt;\"/>\n<polyline points=\"75.26,126.52 287.62,126.52 \" style=\"stroke-width: 1.07; stroke: #FFFFFF; stroke-linecap: butt;\"/>\n<polyline points=\"75.26,60.01 287.62,60.01 \" style=\"stroke-width: 1.07; stroke: #FFFFFF; stroke-linecap: butt;\"/>\n<polyline points=\"105.60,327.36 105.60,5.48 \" style=\"stroke-width: 1.07; stroke: #FFFFFF; stroke-linecap: butt;\"/>\n<polyline points=\"156.16,327.36 156.16,5.48 \" style=\"stroke-width: 1.07; stroke: #FFFFFF; stroke-linecap: butt;\"/>\n<polyline points=\"206.72,327.36 206.72,5.48 \" style=\"stroke-width: 1.07; stroke: #FFFFFF; stroke-linecap: butt;\"/>\n<polyline points=\"257.28,327.36 257.28,5.48 \" style=\"stroke-width: 1.07; stroke: #FFFFFF; stroke-linecap: butt;\"/>\n<rect x=\"82.84\" y=\"180.67\" width=\"45.51\" height=\"78.85\" style=\"stroke-width: 1.07; stroke: none; stroke-linecap: butt; stroke-linejoin: miter; fill: #89DCEB;\"/>\n<rect x=\"133.40\" y=\"251.92\" width=\"45.51\" height=\"7.60\" style=\"stroke-width: 1.07; stroke: none; stroke-linecap: butt; stroke-linejoin: miter; fill: #74C7EC;\"/>\n<rect x=\"183.97\" y=\"259.52\" width=\"45.51\" height=\"42.75\" style=\"stroke-width: 1.07; stroke: none; stroke-linecap: butt; stroke-linejoin: miter; fill: #89B4FA;\"/>\n<rect x=\"234.53\" y=\"168.32\" width=\"45.51\" height=\"91.20\" style=\"stroke-width: 1.07; stroke: none; stroke-linecap: butt; stroke-linejoin: miter; fill: #B4BEFE;\"/>\n<text x=\"130.88\" y=\"85.40\" text-anchor=\"middle\" style=\"font-size: 11.38px; font-family: &quot;Liberation Sans&quot;;\" textLength=\"48.51px\" lengthAdjust=\"spacingAndGlyphs\">p = 0.484</text>\n<line x1=\"156.16\" y1=\"92.68\" x2=\"156.16\" y2=\"92.68\" style=\"stroke-width: 1.07;\"/>\n<line x1=\"156.16\" y1=\"92.68\" x2=\"105.60\" y2=\"92.68\" style=\"stroke-width: 1.07;\"/>\n<line x1=\"105.60\" y1=\"92.68\" x2=\"105.60\" y2=\"92.68\" style=\"stroke-width: 1.07;\"/>\n<text x=\"156.16\" y=\"66.78\" text-anchor=\"middle\" style=\"font-size: 11.38px; font-family: &quot;Liberation Sans&quot;;\" textLength=\"48.51px\" lengthAdjust=\"spacingAndGlyphs\">p = 0.225</text>\n<line x1=\"206.72\" y1=\"74.06\" x2=\"206.72\" y2=\"74.06\" style=\"stroke-width: 1.07;\"/>\n<line x1=\"206.72\" y1=\"74.06\" x2=\"105.60\" y2=\"74.06\" style=\"stroke-width: 1.07;\"/>\n<line x1=\"105.60\" y1=\"74.06\" x2=\"105.60\" y2=\"74.06\" style=\"stroke-width: 1.07;\"/>\n<text x=\"181.44\" y=\"48.16\" text-anchor=\"middle\" style=\"font-size: 11.38px; font-family: &quot;Liberation Sans&quot;;\" textLength=\"48.51px\" lengthAdjust=\"spacingAndGlyphs\">p = 0.896</text>\n<line x1=\"257.28\" y1=\"55.44\" x2=\"257.28\" y2=\"55.44\" style=\"stroke-width: 1.07;\"/>\n<line x1=\"257.28\" y1=\"55.44\" x2=\"105.60\" y2=\"55.44\" style=\"stroke-width: 1.07;\"/>\n<line x1=\"105.60\" y1=\"55.44\" x2=\"105.60\" y2=\"55.44\" style=\"stroke-width: 1.07;\"/>\n</g>\n<g clip-path=\"url(#cpMC4wMHw0MzIuMDB8MC4wMHw0MzIuMDA=)\">\n<polyline points=\"75.26,327.36 75.26,5.48 \" style=\"stroke-width: 2.13; stroke-linecap: butt;\"/>\n<text x=\"68.81\" y=\"332.45\" text-anchor=\"end\" style=\"font-size: 18.00px;fill: #151515; font-family: &quot;Noto Sans&quot;;\" textLength=\"41.51px\" lengthAdjust=\"spacingAndGlyphs\">-0.25</text>\n<text x=\"68.81\" y=\"265.95\" text-anchor=\"end\" style=\"font-size: 18.00px;fill: #151515; font-family: &quot;Noto Sans&quot;;\" textLength=\"35.71px\" lengthAdjust=\"spacingAndGlyphs\">0.00</text>\n<text x=\"68.81\" y=\"199.44\" text-anchor=\"end\" style=\"font-size: 18.00px;fill: #151515; font-family: &quot;Noto Sans&quot;;\" textLength=\"35.71px\" lengthAdjust=\"spacingAndGlyphs\">0.25</text>\n<text x=\"68.81\" y=\"132.94\" text-anchor=\"end\" style=\"font-size: 18.00px;fill: #151515; font-family: &quot;Noto Sans&quot;;\" textLength=\"35.71px\" lengthAdjust=\"spacingAndGlyphs\">0.50</text>\n<text x=\"68.81\" y=\"66.44\" text-anchor=\"end\" style=\"font-size: 18.00px;fill: #151515; font-family: &quot;Noto Sans&quot;;\" textLength=\"35.71px\" lengthAdjust=\"spacingAndGlyphs\">0.75</text>\n<polyline points=\"71.01,326.03 75.26,326.03 \" style=\"stroke-width: 1.07; stroke: #151515; stroke-linecap: butt;\"/>\n<polyline points=\"71.01,259.52 75.26,259.52 \" style=\"stroke-width: 1.07; stroke: #151515; stroke-linecap: butt;\"/>\n<polyline points=\"71.01,193.02 75.26,193.02 \" style=\"stroke-width: 1.07; stroke: #151515; stroke-linecap: butt;\"/>\n<polyline points=\"71.01,126.52 75.26,126.52 \" style=\"stroke-width: 1.07; stroke: #151515; stroke-linecap: butt;\"/>\n<polyline points=\"71.01,60.01 75.26,60.01 \" style=\"stroke-width: 1.07; stroke: #151515; stroke-linecap: butt;\"/>\n<polyline points=\"75.26,327.36 287.62,327.36 \" style=\"stroke-width: 2.13; stroke-linecap: butt;\"/>\n<polyline points=\"105.60,331.61 105.60,327.36 \" style=\"stroke-width: 1.07; stroke: #151515; stroke-linecap: butt;\"/>\n<polyline points=\"156.16,331.61 156.16,327.36 \" style=\"stroke-width: 1.07; stroke: #151515; stroke-linecap: butt;\"/>\n<polyline points=\"206.72,331.61 206.72,327.36 \" style=\"stroke-width: 1.07; stroke: #151515; stroke-linecap: butt;\"/>\n<polyline points=\"257.28,331.61 257.28,327.36 \" style=\"stroke-width: 1.07; stroke: #151515; stroke-linecap: butt;\"/>\n<text transform=\"translate(112.02,344.93) rotate(-30)\" text-anchor=\"end\" style=\"font-size: 18.00px;fill: #151515; font-family: &quot;Noto Sans&quot;;\" textLength=\"112.05px\" lengthAdjust=\"spacingAndGlyphs\">osgoodspace</text>\n<text transform=\"translate(162.58,344.93) rotate(-30)\" text-anchor=\"end\" style=\"font-size: 18.00px;fill: #151515; font-family: &quot;Noto Sans&quot;;\" textLength=\"64.10px\" lengthAdjust=\"spacingAndGlyphs\">fasttext</text>\n<text transform=\"translate(213.14,344.93) rotate(-30)\" text-anchor=\"end\" style=\"font-size: 18.00px;fill: #151515; font-family: &quot;Noto Sans&quot;;\" textLength=\"85.47px\" lengthAdjust=\"spacingAndGlyphs\">fasttext2d</text>\n<text transform=\"translate(263.71,344.93) rotate(-30)\" text-anchor=\"end\" style=\"font-size: 18.00px;fill: #151515; font-family: &quot;Noto Sans&quot;;\" textLength=\"108.73px\" lengthAdjust=\"spacingAndGlyphs\">controlspace</text>\n<text x=\"181.44\" y=\"421.72\" text-anchor=\"middle\" style=\"font-size: 20.00px;fill: #151515; font-family: &quot;Noto Sans&quot;;\" textLength=\"91.42px\" lengthAdjust=\"spacingAndGlyphs\">Condition</text>\n<text transform=\"translate(19.76,166.42) rotate(-90)\" text-anchor=\"middle\" style=\"font-size: 20.00px;fill: #151515; font-family: &quot;Noto Sans&quot;;\" textLength=\"110.17px\" lengthAdjust=\"spacingAndGlyphs\">Coefficients</text>\n<text x=\"304.06\" y=\"133.59\" style=\"font-size: 16.00px;fill: #151515; font-family: &quot;Noto Sans&quot;;\" textLength=\"116.99px\" lengthAdjust=\"spacingAndGlyphs\">rho-coefficients</text>\n<rect x=\"304.76\" y=\"144.19\" width=\"15.86\" height=\"15.86\" style=\"stroke-width: 1.07; stroke: none; stroke-linecap: butt; stroke-linejoin: miter; fill: #89DCEB;\"/>\n<rect x=\"304.76\" y=\"161.47\" width=\"15.86\" height=\"15.86\" style=\"stroke-width: 1.07; stroke: none; stroke-linecap: butt; stroke-linejoin: miter; fill: #74C7EC;\"/>\n<rect x=\"304.76\" y=\"178.75\" width=\"15.86\" height=\"15.86\" style=\"stroke-width: 1.07; stroke: none; stroke-linecap: butt; stroke-linejoin: miter; fill: #89B4FA;\"/>\n<rect x=\"304.76\" y=\"196.03\" width=\"15.86\" height=\"15.86\" style=\"stroke-width: 1.07; stroke: none; stroke-linecap: butt; stroke-linejoin: miter; fill: #B4BEFE;\"/>\n<text x=\"329.31\" y=\"157.83\" style=\"font-size: 16.00px;fill: #151515; font-family: &quot;Noto Sans&quot;;\" textLength=\"40.90px\" lengthAdjust=\"spacingAndGlyphs\">0.296</text>\n<text x=\"329.31\" y=\"175.11\" style=\"font-size: 16.00px;fill: #151515; font-family: &quot;Noto Sans&quot;;\" textLength=\"40.90px\" lengthAdjust=\"spacingAndGlyphs\">0.029</text>\n<text x=\"329.31\" y=\"192.39\" style=\"font-size: 16.00px;fill: #151515; font-family: &quot;Noto Sans&quot;;\" textLength=\"46.05px\" lengthAdjust=\"spacingAndGlyphs\">-0.161</text>\n<text x=\"329.31\" y=\"209.67\" style=\"font-size: 16.00px;fill: #151515; font-family: &quot;Noto Sans&quot;;\" textLength=\"40.90px\" lengthAdjust=\"spacingAndGlyphs\">0.343</text>\n</g>\n</svg>",
      "text/plain": [
       "<IPython.core.display.SVG object>"
      ]
     },
     "metadata": {},
     "output_type": "display_data"
    },
    {
     "data": {
      "image/svg+xml": "<svg xmlns=\"http://www.w3.org/2000/svg\" xmlns:xlink=\"http://www.w3.org/1999/xlink\" class=\"svglite\" width=\"432.00pt\" height=\"432.00pt\" viewBox=\"0 0 432.00 432.00\">\n<defs>\n  <style type=\"text/css\"><![CDATA[\n    .svglite line, .svglite polyline, .svglite polygon, .svglite path, .svglite rect, .svglite circle {\n      fill: none;\n      stroke: #000000;\n      stroke-linecap: round;\n      stroke-linejoin: round;\n      stroke-miterlimit: 10.00;\n    }\n    .svglite text {\n      white-space: pre;\n    }\n  ]]></style>\n</defs>\n<rect width=\"100%\" height=\"100%\" style=\"stroke: none; fill: #FFFFFF;\"/>\n<defs>\n  <clipPath id=\"cpMC4wMHw0MzIuMDB8MC4wMHw0MzIuMDA=\">\n    <rect x=\"0.00\" y=\"0.00\" width=\"432.00\" height=\"432.00\"/>\n  </clipPath>\n</defs>\n<g clip-path=\"url(#cpMC4wMHw0MzIuMDB8MC4wMHw0MzIuMDA=)\">\n<rect x=\"-0.000000000000032\" y=\"0.000000000000057\" width=\"432.00\" height=\"432.00\" style=\"stroke-width: 1.07; stroke: #FFFFFF; fill: #FFFFFF;\"/>\n</g>\n<defs>\n  <clipPath id=\"cpNjkuNDZ8Mjg3LjYyfDUuNDh8MzI3LjM2\">\n    <rect x=\"69.46\" y=\"5.48\" width=\"218.16\" height=\"321.88\"/>\n  </clipPath>\n</defs>\n<g clip-path=\"url(#cpNjkuNDZ8Mjg3LjYyfDUuNDh8MzI3LjM2)\">\n<rect x=\"69.46\" y=\"5.48\" width=\"218.16\" height=\"321.88\" style=\"stroke-width: 1.07; stroke: none; fill: #FFFFFF;\"/>\n<polyline points=\"69.46,320.04 287.62,320.04 \" style=\"stroke-width: 0.53; stroke: #FFFFFF; stroke-linecap: butt;\"/>\n<polyline points=\"69.46,246.89 287.62,246.89 \" style=\"stroke-width: 0.53; stroke: #FFFFFF; stroke-linecap: butt;\"/>\n<polyline points=\"69.46,173.73 287.62,173.73 \" style=\"stroke-width: 0.53; stroke: #FFFFFF; stroke-linecap: butt;\"/>\n<polyline points=\"69.46,100.58 287.62,100.58 \" style=\"stroke-width: 0.53; stroke: #FFFFFF; stroke-linecap: butt;\"/>\n<polyline points=\"69.46,27.43 287.62,27.43 \" style=\"stroke-width: 0.53; stroke: #FFFFFF; stroke-linecap: butt;\"/>\n<polyline points=\"69.46,283.46 287.62,283.46 \" style=\"stroke-width: 1.07; stroke: #FFFFFF; stroke-linecap: butt;\"/>\n<polyline points=\"69.46,210.31 287.62,210.31 \" style=\"stroke-width: 1.07; stroke: #FFFFFF; stroke-linecap: butt;\"/>\n<polyline points=\"69.46,137.16 287.62,137.16 \" style=\"stroke-width: 1.07; stroke: #FFFFFF; stroke-linecap: butt;\"/>\n<polyline points=\"69.46,64.00 287.62,64.00 \" style=\"stroke-width: 1.07; stroke: #FFFFFF; stroke-linecap: butt;\"/>\n<polyline points=\"100.63,327.36 100.63,5.48 \" style=\"stroke-width: 1.07; stroke: #FFFFFF; stroke-linecap: butt;\"/>\n<polyline points=\"152.57,327.36 152.57,5.48 \" style=\"stroke-width: 1.07; stroke: #FFFFFF; stroke-linecap: butt;\"/>\n<polyline points=\"204.51,327.36 204.51,5.48 \" style=\"stroke-width: 1.07; stroke: #FFFFFF; stroke-linecap: butt;\"/>\n<polyline points=\"256.45,327.36 256.45,5.48 \" style=\"stroke-width: 1.07; stroke: #FFFFFF; stroke-linecap: butt;\"/>\n<rect x=\"77.25\" y=\"141.82\" width=\"46.75\" height=\"141.64\" style=\"stroke-width: 1.07; stroke: none; stroke-linecap: butt; stroke-linejoin: miter; fill: #89DCEB;\"/>\n<rect x=\"129.20\" y=\"142.28\" width=\"46.75\" height=\"141.18\" style=\"stroke-width: 1.07; stroke: none; stroke-linecap: butt; stroke-linejoin: miter; fill: #74C7EC;\"/>\n<rect x=\"181.14\" y=\"283.46\" width=\"46.75\" height=\"19.80\" style=\"stroke-width: 1.07; stroke: none; stroke-linecap: butt; stroke-linejoin: miter; fill: #89B4FA;\"/>\n<rect x=\"233.08\" y=\"273.60\" width=\"46.75\" height=\"9.87\" style=\"stroke-width: 1.07; stroke: none; stroke-linecap: butt; stroke-linejoin: miter; fill: #B4BEFE;\"/>\n<text x=\"100.63\" y=\"142.06\" text-anchor=\"middle\" style=\"font-size: 17.07px; font-family: &quot;Liberation Sans&quot;;\" textLength=\"37.61px\" lengthAdjust=\"spacingAndGlyphs\">****</text>\n<text x=\"152.57\" y=\"142.52\" text-anchor=\"middle\" style=\"font-size: 17.07px; font-family: &quot;Liberation Sans&quot;;\" textLength=\"37.61px\" lengthAdjust=\"spacingAndGlyphs\">****</text>\n<text x=\"126.60\" y=\"91.95\" text-anchor=\"middle\" style=\"font-size: 11.38px; font-family: &quot;Liberation Sans&quot;;\" textLength=\"48.51px\" lengthAdjust=\"spacingAndGlyphs\">p = 0.994</text>\n<line x1=\"152.57\" y1=\"99.24\" x2=\"152.57\" y2=\"99.24\" style=\"stroke-width: 1.07;\"/>\n<line x1=\"152.57\" y1=\"99.24\" x2=\"100.63\" y2=\"99.24\" style=\"stroke-width: 1.07;\"/>\n<line x1=\"100.63\" y1=\"99.24\" x2=\"100.63\" y2=\"99.24\" style=\"stroke-width: 1.07;\"/>\n<text x=\"152.57\" y=\"71.47\" text-anchor=\"middle\" style=\"font-size: 11.38px; font-family: &quot;Liberation Sans&quot;;\" textLength=\"48.51px\" lengthAdjust=\"spacingAndGlyphs\">p &lt; 0.001</text>\n<line x1=\"204.51\" y1=\"78.75\" x2=\"204.51\" y2=\"78.75\" style=\"stroke-width: 1.07;\"/>\n<line x1=\"204.51\" y1=\"78.75\" x2=\"100.63\" y2=\"78.75\" style=\"stroke-width: 1.07;\"/>\n<line x1=\"100.63\" y1=\"78.75\" x2=\"100.63\" y2=\"78.75\" style=\"stroke-width: 1.07;\"/>\n<text x=\"178.54\" y=\"50.99\" text-anchor=\"middle\" style=\"font-size: 11.38px; font-family: &quot;Liberation Sans&quot;;\" textLength=\"48.51px\" lengthAdjust=\"spacingAndGlyphs\">p &lt; 0.001</text>\n<line x1=\"256.45\" y1=\"58.27\" x2=\"256.45\" y2=\"58.27\" style=\"stroke-width: 1.07;\"/>\n<line x1=\"256.45\" y1=\"58.27\" x2=\"100.63\" y2=\"58.27\" style=\"stroke-width: 1.07;\"/>\n<line x1=\"100.63\" y1=\"58.27\" x2=\"100.63\" y2=\"58.27\" style=\"stroke-width: 1.07;\"/>\n</g>\n<g clip-path=\"url(#cpMC4wMHw0MzIuMDB8MC4wMHw0MzIuMDA=)\">\n<polyline points=\"69.46,327.36 69.46,5.48 \" style=\"stroke-width: 2.13; stroke-linecap: butt;\"/>\n<text x=\"63.02\" y=\"289.89\" text-anchor=\"end\" style=\"font-size: 18.00px;fill: #151515; font-family: &quot;Noto Sans&quot;;\" textLength=\"35.71px\" lengthAdjust=\"spacingAndGlyphs\">0.00</text>\n<text x=\"63.02\" y=\"216.74\" text-anchor=\"end\" style=\"font-size: 18.00px;fill: #151515; font-family: &quot;Noto Sans&quot;;\" textLength=\"35.71px\" lengthAdjust=\"spacingAndGlyphs\">0.25</text>\n<text x=\"63.02\" y=\"143.58\" text-anchor=\"end\" style=\"font-size: 18.00px;fill: #151515; font-family: &quot;Noto Sans&quot;;\" textLength=\"35.71px\" lengthAdjust=\"spacingAndGlyphs\">0.50</text>\n<text x=\"63.02\" y=\"70.43\" text-anchor=\"end\" style=\"font-size: 18.00px;fill: #151515; font-family: &quot;Noto Sans&quot;;\" textLength=\"35.71px\" lengthAdjust=\"spacingAndGlyphs\">0.75</text>\n<polyline points=\"65.21,283.46 69.46,283.46 \" style=\"stroke-width: 1.07; stroke: #151515; stroke-linecap: butt;\"/>\n<polyline points=\"65.21,210.31 69.46,210.31 \" style=\"stroke-width: 1.07; stroke: #151515; stroke-linecap: butt;\"/>\n<polyline points=\"65.21,137.16 69.46,137.16 \" style=\"stroke-width: 1.07; stroke: #151515; stroke-linecap: butt;\"/>\n<polyline points=\"65.21,64.00 69.46,64.00 \" style=\"stroke-width: 1.07; stroke: #151515; stroke-linecap: butt;\"/>\n<polyline points=\"69.46,327.36 287.62,327.36 \" style=\"stroke-width: 2.13; stroke-linecap: butt;\"/>\n<polyline points=\"100.63,331.61 100.63,327.36 \" style=\"stroke-width: 1.07; stroke: #151515; stroke-linecap: butt;\"/>\n<polyline points=\"152.57,331.61 152.57,327.36 \" style=\"stroke-width: 1.07; stroke: #151515; stroke-linecap: butt;\"/>\n<polyline points=\"204.51,331.61 204.51,327.36 \" style=\"stroke-width: 1.07; stroke: #151515; stroke-linecap: butt;\"/>\n<polyline points=\"256.45,331.61 256.45,327.36 \" style=\"stroke-width: 1.07; stroke: #151515; stroke-linecap: butt;\"/>\n<text transform=\"translate(107.05,344.93) rotate(-30)\" text-anchor=\"end\" style=\"font-size: 18.00px;fill: #151515; font-family: &quot;Noto Sans&quot;;\" textLength=\"112.05px\" lengthAdjust=\"spacingAndGlyphs\">osgoodspace</text>\n<text transform=\"translate(158.99,344.93) rotate(-30)\" text-anchor=\"end\" style=\"font-size: 18.00px;fill: #151515; font-family: &quot;Noto Sans&quot;;\" textLength=\"64.10px\" lengthAdjust=\"spacingAndGlyphs\">fasttext</text>\n<text transform=\"translate(210.94,344.93) rotate(-30)\" text-anchor=\"end\" style=\"font-size: 18.00px;fill: #151515; font-family: &quot;Noto Sans&quot;;\" textLength=\"85.47px\" lengthAdjust=\"spacingAndGlyphs\">fasttext2d</text>\n<text transform=\"translate(262.88,344.93) rotate(-30)\" text-anchor=\"end\" style=\"font-size: 18.00px;fill: #151515; font-family: &quot;Noto Sans&quot;;\" textLength=\"108.73px\" lengthAdjust=\"spacingAndGlyphs\">controlspace</text>\n<text x=\"178.54\" y=\"421.72\" text-anchor=\"middle\" style=\"font-size: 20.00px;fill: #151515; font-family: &quot;Noto Sans&quot;;\" textLength=\"91.42px\" lengthAdjust=\"spacingAndGlyphs\">Condition</text>\n<text transform=\"translate(19.76,166.42) rotate(-90)\" text-anchor=\"middle\" style=\"font-size: 20.00px;fill: #151515; font-family: &quot;Noto Sans&quot;;\" textLength=\"110.17px\" lengthAdjust=\"spacingAndGlyphs\">Coefficients</text>\n<text x=\"304.06\" y=\"133.59\" style=\"font-size: 16.00px;fill: #151515; font-family: &quot;Noto Sans&quot;;\" textLength=\"116.99px\" lengthAdjust=\"spacingAndGlyphs\">rho-coefficients</text>\n<rect x=\"304.76\" y=\"144.19\" width=\"15.86\" height=\"15.86\" style=\"stroke-width: 1.07; stroke: none; stroke-linecap: butt; stroke-linejoin: miter; fill: #89DCEB;\"/>\n<rect x=\"304.76\" y=\"161.47\" width=\"15.86\" height=\"15.86\" style=\"stroke-width: 1.07; stroke: none; stroke-linecap: butt; stroke-linejoin: miter; fill: #74C7EC;\"/>\n<rect x=\"304.76\" y=\"178.75\" width=\"15.86\" height=\"15.86\" style=\"stroke-width: 1.07; stroke: none; stroke-linecap: butt; stroke-linejoin: miter; fill: #89B4FA;\"/>\n<rect x=\"304.76\" y=\"196.03\" width=\"15.86\" height=\"15.86\" style=\"stroke-width: 1.07; stroke: none; stroke-linecap: butt; stroke-linejoin: miter; fill: #B4BEFE;\"/>\n<text x=\"329.31\" y=\"157.83\" style=\"font-size: 16.00px;fill: #151515; font-family: &quot;Noto Sans&quot;;\" textLength=\"40.90px\" lengthAdjust=\"spacingAndGlyphs\">0.484</text>\n<text x=\"329.31\" y=\"175.11\" style=\"font-size: 16.00px;fill: #151515; font-family: &quot;Noto Sans&quot;;\" textLength=\"40.90px\" lengthAdjust=\"spacingAndGlyphs\">0.482</text>\n<text x=\"329.31\" y=\"192.39\" style=\"font-size: 16.00px;fill: #151515; font-family: &quot;Noto Sans&quot;;\" textLength=\"46.05px\" lengthAdjust=\"spacingAndGlyphs\">-0.068</text>\n<text x=\"329.31\" y=\"209.67\" style=\"font-size: 16.00px;fill: #151515; font-family: &quot;Noto Sans&quot;;\" textLength=\"40.90px\" lengthAdjust=\"spacingAndGlyphs\">0.034</text>\n</g>\n</svg>",
      "text/plain": [
       "<IPython.core.display.SVG object>"
      ]
     },
     "metadata": {},
     "output_type": "display_data"
    }
   ],
   "source": [
    "!./module_nlp/core/plots.R \"rdm_osgood_col\"\n",
    "!./module_nlp/core/plots.R \"rdm_osgood_em\"\n",
    "\n",
    "# Display svg images\n",
    "from IPython.display import SVG\n",
    "display(SVG(\"../figures/7C.svg\"))\n",
    "display(SVG(\"../figures/7D.svg\"))"
   ]
  },
  {
   "attachments": {},
   "cell_type": "markdown",
   "metadata": {},
   "source": [
    "## Figure 7E"
   ]
  },
  {
   "cell_type": "code",
   "execution_count": 43,
   "metadata": {},
   "outputs": [
    {
     "name": "stdout",
     "output_type": "stream",
     "text": [
      "\u001b[?25h\u001b[?25h\u001b[?25h\u001b[?25h\u001b[?25h\u001b[?25h\u001b[?25h\u001b[?25h\u001b[?25h\u001b[?25h\u001b[?25h\u001b[?25h"
     ]
    },
    {
     "data": {
      "image/svg+xml": "<svg xmlns=\"http://www.w3.org/2000/svg\" xmlns:xlink=\"http://www.w3.org/1999/xlink\" class=\"svglite\" width=\"432.00pt\" height=\"432.00pt\" viewBox=\"0 0 432.00 432.00\">\n<defs>\n  <style type=\"text/css\"><![CDATA[\n    .svglite line, .svglite polyline, .svglite polygon, .svglite path, .svglite rect, .svglite circle {\n      fill: none;\n      stroke: #000000;\n      stroke-linecap: round;\n      stroke-linejoin: round;\n      stroke-miterlimit: 10.00;\n    }\n    .svglite text {\n      white-space: pre;\n    }\n  ]]></style>\n</defs>\n<rect width=\"100%\" height=\"100%\" style=\"stroke: none; fill: #FFFFFF;\"/>\n<defs>\n  <clipPath id=\"cpMC4wMHw0MzIuMDB8MC4wMHw0MzIuMDA=\">\n    <rect x=\"0.00\" y=\"0.00\" width=\"432.00\" height=\"432.00\"/>\n  </clipPath>\n</defs>\n<g clip-path=\"url(#cpMC4wMHw0MzIuMDB8MC4wMHw0MzIuMDA=)\">\n<rect x=\"0.000000000000032\" y=\"0.00\" width=\"432.00\" height=\"432.00\" style=\"stroke-width: 1.07; stroke: #FFFFFF; fill: #FFFFFF;\"/>\n</g>\n<defs>\n  <clipPath id=\"cpNDkuODR8NDI2LjUyfDUuNDh8MzgxLjA4\">\n    <rect x=\"49.84\" y=\"5.48\" width=\"376.68\" height=\"375.60\"/>\n  </clipPath>\n</defs>\n<g clip-path=\"url(#cpNDkuODR8NDI2LjUyfDUuNDh8MzgxLjA4)\">\n<rect x=\"49.84\" y=\"5.48\" width=\"376.68\" height=\"375.60\" style=\"stroke-width: 1.07; stroke: none; fill: #FFFFFF;\"/>\n<polyline points=\"49.84,345.85 426.52,345.85 \" style=\"stroke-width: 0.53; stroke: #FFFFFF; stroke-linecap: butt;\"/>\n<polyline points=\"49.84,246.62 426.52,246.62 \" style=\"stroke-width: 0.53; stroke: #FFFFFF; stroke-linecap: butt;\"/>\n<polyline points=\"49.84,147.39 426.52,147.39 \" style=\"stroke-width: 0.53; stroke: #FFFFFF; stroke-linecap: butt;\"/>\n<polyline points=\"49.84,48.15 426.52,48.15 \" style=\"stroke-width: 0.53; stroke: #FFFFFF; stroke-linecap: butt;\"/>\n<polyline points=\"69.13,381.08 69.13,5.48 \" style=\"stroke-width: 0.53; stroke: #FFFFFF; stroke-linecap: butt;\"/>\n<polyline points=\"168.47,381.08 168.47,5.48 \" style=\"stroke-width: 0.53; stroke: #FFFFFF; stroke-linecap: butt;\"/>\n<polyline points=\"267.80,381.08 267.80,5.48 \" style=\"stroke-width: 0.53; stroke: #FFFFFF; stroke-linecap: butt;\"/>\n<polyline points=\"367.13,381.08 367.13,5.48 \" style=\"stroke-width: 0.53; stroke: #FFFFFF; stroke-linecap: butt;\"/>\n<polyline points=\"49.84,296.23 426.52,296.23 \" style=\"stroke-width: 1.07; stroke: #FFFFFF; stroke-linecap: butt;\"/>\n<polyline points=\"49.84,197.00 426.52,197.00 \" style=\"stroke-width: 1.07; stroke: #FFFFFF; stroke-linecap: butt;\"/>\n<polyline points=\"49.84,97.77 426.52,97.77 \" style=\"stroke-width: 1.07; stroke: #FFFFFF; stroke-linecap: butt;\"/>\n<polyline points=\"118.80,381.08 118.80,5.48 \" style=\"stroke-width: 1.07; stroke: #FFFFFF; stroke-linecap: butt;\"/>\n<polyline points=\"218.13,381.08 218.13,5.48 \" style=\"stroke-width: 1.07; stroke: #FFFFFF; stroke-linecap: butt;\"/>\n<polyline points=\"317.47,381.08 317.47,5.48 \" style=\"stroke-width: 1.07; stroke: #FFFFFF; stroke-linecap: butt;\"/>\n<polyline points=\"416.80,381.08 416.80,5.48 \" style=\"stroke-width: 1.07; stroke: #FFFFFF; stroke-linecap: butt;\"/>\n<circle cx=\"409.40\" cy=\"223.47\" r=\"5.19\" style=\"stroke-width: 0.71; stroke: #00FF00; fill: #00FF00;\"/>\n<circle cx=\"220.03\" cy=\"35.27\" r=\"5.19\" style=\"stroke-width: 0.71; stroke: #FFA500; fill: #FFA500;\"/>\n<circle cx=\"91.99\" cy=\"148.57\" r=\"5.19\" style=\"stroke-width: 0.71; stroke: #FFFF00; fill: #FFFF00;\"/>\n<circle cx=\"254.12\" cy=\"309.19\" r=\"5.19\" style=\"stroke-width: 0.71; stroke: #0000FF; fill: #0000FF;\"/>\n<circle cx=\"159.48\" cy=\"318.58\" r=\"5.19\" style=\"stroke-width: 0.71; stroke: #A020F0; fill: #A020F0;\"/>\n<circle cx=\"173.77\" cy=\"146.92\" r=\"5.19\" style=\"stroke-width: 0.71; stroke: #FF0000; fill: #FF0000;\"/>\n<circle cx=\"272.68\" cy=\"146.47\" r=\"5.19\" style=\"stroke-width: 0.71; stroke: #E64200; fill: #E64200;\"/>\n<circle cx=\"334.87\" cy=\"22.55\" r=\"5.19\" style=\"stroke-width: 0.71; stroke: #AB4600; fill: #AB4600;\"/>\n<circle cx=\"371.05\" cy=\"264.90\" r=\"5.19\" style=\"stroke-width: 0.71; stroke: #007065; fill: #007065;\"/>\n<circle cx=\"326.27\" cy=\"230.45\" r=\"5.19\" style=\"stroke-width: 0.71; stroke: #004C76; fill: #004C76;\"/>\n<circle cx=\"357.25\" cy=\"84.08\" r=\"5.19\" style=\"stroke-width: 0.71; stroke: #566200; fill: #566200;\"/>\n<circle cx=\"362.08\" cy=\"113.71\" r=\"5.19\" style=\"stroke-width: 0.71; stroke: #4E6700; fill: #4E6700;\"/>\n<circle cx=\"109.04\" cy=\"360.22\" r=\"5.19\" style=\"stroke-width: 0.71; stroke: #6100B3; fill: #6100B3;\"/>\n<circle cx=\"140.04\" cy=\"364.01\" r=\"5.19\" style=\"stroke-width: 0.71; stroke: #7F00E3; fill: #7F00E3;\"/>\n<circle cx=\"120.11\" cy=\"227.59\" r=\"5.19\" style=\"stroke-width: 0.71; stroke: #FF7F00; fill: #FF7F00;\"/>\n<circle cx=\"138.83\" cy=\"360.71\" r=\"5.19\" style=\"stroke-width: 0.71; stroke: #7F00E3; fill: #7F00E3;\"/>\n<circle cx=\"145.07\" cy=\"199.81\" r=\"5.19\" style=\"stroke-width: 0.71; stroke: #FF7F00; fill: #FF7F00;\"/>\n<circle cx=\"180.52\" cy=\"167.23\" r=\"5.19\" style=\"stroke-width: 0.71; stroke: #FF7F00; fill: #FF7F00;\"/>\n<circle cx=\"111.79\" cy=\"160.22\" r=\"5.19\" style=\"stroke-width: 0.71; stroke: #FF7F00; fill: #FF7F00;\"/>\n<circle cx=\"286.96\" cy=\"97.74\" r=\"5.19\" style=\"stroke-width: 0.71; stroke: #E65900; fill: #E65900;\"/>\n<circle cx=\"260.03\" cy=\"142.72\" r=\"5.19\" style=\"stroke-width: 0.71; stroke: #ED4700; fill: #ED4700;\"/>\n<circle cx=\"161.80\" cy=\"283.33\" r=\"5.19\" style=\"stroke-width: 0.71; stroke: #7F00FF; fill: #7F00FF;\"/>\n<circle cx=\"181.05\" cy=\"84.79\" r=\"5.19\" style=\"stroke-width: 0.71; stroke: #FF7F00; fill: #FF7F00;\"/>\n<circle cx=\"66.96\" cy=\"235.46\" r=\"5.19\" style=\"stroke-width: 0.71; stroke: #B27F33; fill: #B27F33;\"/>\n<text x=\"409.40\" y=\"223.83\" text-anchor=\"middle\" style=\"font-size: 0.00px; font-family: &quot;Liberation Sans&quot;;\" textLength=\"3.22px\" lengthAdjust=\"spacingAndGlyphs\">GREEN</text>\n<text x=\"220.03\" y=\"35.63\" text-anchor=\"middle\" style=\"font-size: 0.00px; font-family: &quot;Liberation Sans&quot;;\" textLength=\"4.08px\" lengthAdjust=\"spacingAndGlyphs\">ORANGE</text>\n<text x=\"91.99\" y=\"148.93\" text-anchor=\"middle\" style=\"font-size: 0.00px; font-family: &quot;Liberation Sans&quot;;\" textLength=\"3.88px\" lengthAdjust=\"spacingAndGlyphs\">YELLOW</text>\n<text x=\"254.12\" y=\"309.55\" text-anchor=\"middle\" style=\"font-size: 0.00px; font-family: &quot;Liberation Sans&quot;;\" textLength=\"2.46px\" lengthAdjust=\"spacingAndGlyphs\">BLUE</text>\n<text x=\"159.48\" y=\"318.94\" text-anchor=\"middle\" style=\"font-size: 0.00px; font-family: &quot;Liberation Sans&quot;;\" textLength=\"3.64px\" lengthAdjust=\"spacingAndGlyphs\">PURPLE</text>\n<text x=\"173.77\" y=\"147.27\" text-anchor=\"middle\" style=\"font-size: 0.00px; font-family: &quot;Liberation Sans&quot;;\" textLength=\"1.90px\" lengthAdjust=\"spacingAndGlyphs\">RED</text>\n<text x=\"272.68\" y=\"146.83\" text-anchor=\"middle\" style=\"font-size: 0.00px; font-family: &quot;Liberation Sans&quot;;\" textLength=\"5.29px\" lengthAdjust=\"spacingAndGlyphs\">SURPRISED</text>\n<text x=\"334.87\" y=\"22.91\" text-anchor=\"middle\" style=\"font-size: 0.00px; font-family: &quot;Liberation Sans&quot;;\" textLength=\"3.95px\" lengthAdjust=\"spacingAndGlyphs\">EXCITED</text>\n<text x=\"371.05\" y=\"265.26\" text-anchor=\"middle\" style=\"font-size: 0.00px; font-family: &quot;Liberation Sans&quot;;\" textLength=\"3.59px\" lengthAdjust=\"spacingAndGlyphs\">SERENE</text>\n<text x=\"326.27\" y=\"230.81\" text-anchor=\"middle\" style=\"font-size: 0.00px; font-family: &quot;Liberation Sans&quot;;\" textLength=\"3.16px\" lengthAdjust=\"spacingAndGlyphs\">HAPPY</text>\n<text x=\"357.25\" y=\"84.44\" text-anchor=\"middle\" style=\"font-size: 0.00px; font-family: &quot;Liberation Sans&quot;;\" textLength=\"4.77px\" lengthAdjust=\"spacingAndGlyphs\">SATISFIED</text>\n<text x=\"362.08\" y=\"114.06\" text-anchor=\"middle\" style=\"font-size: 0.00px; font-family: &quot;Liberation Sans&quot;;\" textLength=\"2.71px\" lengthAdjust=\"spacingAndGlyphs\">CALM</text>\n<text x=\"109.04\" y=\"360.57\" text-anchor=\"middle\" style=\"font-size: 0.00px; font-family: &quot;Liberation Sans&quot;;\" textLength=\"2.79px\" lengthAdjust=\"spacingAndGlyphs\">TIRED</text>\n<text x=\"140.04\" y=\"364.36\" text-anchor=\"middle\" style=\"font-size: 0.00px; font-family: &quot;Liberation Sans&quot;;\" textLength=\"3.33px\" lengthAdjust=\"spacingAndGlyphs\">BORED</text>\n<text x=\"120.11\" y=\"227.95\" text-anchor=\"middle\" style=\"font-size: 0.00px; font-family: &quot;Liberation Sans&quot;;\" textLength=\"5.44px\" lengthAdjust=\"spacingAndGlyphs\">DEPRESSED</text>\n<text x=\"138.83\" y=\"361.07\" text-anchor=\"middle\" style=\"font-size: 0.00px; font-family: &quot;Liberation Sans&quot;;\" textLength=\"1.92px\" lengthAdjust=\"spacingAndGlyphs\">SAD</text>\n<text x=\"145.07\" y=\"200.17\" text-anchor=\"middle\" style=\"font-size: 0.00px; font-family: &quot;Liberation Sans&quot;;\" textLength=\"6.07px\" lengthAdjust=\"spacingAndGlyphs\">FRUSTRATED</text>\n<text x=\"180.52\" y=\"167.59\" text-anchor=\"middle\" style=\"font-size: 0.00px; font-family: &quot;Liberation Sans&quot;;\" textLength=\"3.48px\" lengthAdjust=\"spacingAndGlyphs\">AFRAID</text>\n<text x=\"111.79\" y=\"160.58\" text-anchor=\"middle\" style=\"font-size: 0.00px; font-family: &quot;Liberation Sans&quot;;\" textLength=\"3.32px\" lengthAdjust=\"spacingAndGlyphs\">ANGRY</text>\n<text x=\"286.96\" y=\"98.10\" text-anchor=\"middle\" style=\"font-size: 0.00px; font-family: &quot;Liberation Sans&quot;;\" textLength=\"4.65px\" lengthAdjust=\"spacingAndGlyphs\">STRESSED</text>\n<text x=\"260.03\" y=\"143.08\" text-anchor=\"middle\" style=\"font-size: 0.00px; font-family: &quot;Liberation Sans&quot;;\" textLength=\"6.19px\" lengthAdjust=\"spacingAndGlyphs\">ASTONISHED</text>\n<text x=\"161.80\" y=\"283.69\" text-anchor=\"middle\" style=\"font-size: 0.00px; font-family: &quot;Liberation Sans&quot;;\" textLength=\"3.36px\" lengthAdjust=\"spacingAndGlyphs\">SLEEPY</text>\n<text x=\"181.05\" y=\"85.15\" text-anchor=\"middle\" style=\"font-size: 0.00px; font-family: &quot;Liberation Sans&quot;;\" textLength=\"4.62px\" lengthAdjust=\"spacingAndGlyphs\">ALARMED</text>\n<text x=\"66.96\" y=\"235.82\" text-anchor=\"middle\" style=\"font-size: 0.00px; font-family: &quot;Liberation Sans&quot;;\" textLength=\"5.46px\" lengthAdjust=\"spacingAndGlyphs\">DISGUSTED</text>\n<text x=\"381.80\" y=\"224.74\" text-anchor=\"middle\" style=\"font-size: 14.23px; font-family: &quot;Liberation Sans&quot;;\" textLength=\"45.81px\" lengthAdjust=\"spacingAndGlyphs\">GREEN</text>\n<text x=\"210.31\" y=\"50.11\" text-anchor=\"middle\" style=\"font-size: 14.23px; font-family: &quot;Liberation Sans&quot;;\" textLength=\"58.10px\" lengthAdjust=\"spacingAndGlyphs\">ORANGE</text>\n<text x=\"82.12\" y=\"143.84\" text-anchor=\"middle\" style=\"font-size: 14.23px; font-family: &quot;Liberation Sans&quot;;\" textLength=\"55.19px\" lengthAdjust=\"spacingAndGlyphs\">YELLOW</text>\n<text x=\"264.00\" y=\"304.39\" text-anchor=\"middle\" style=\"font-size: 14.23px; font-family: &quot;Liberation Sans&quot;;\" textLength=\"35.00px\" lengthAdjust=\"spacingAndGlyphs\">BLUE</text>\n<text x=\"169.32\" y=\"313.87\" text-anchor=\"middle\" style=\"font-size: 14.23px; font-family: &quot;Liberation Sans&quot;;\" textLength=\"51.80px\" lengthAdjust=\"spacingAndGlyphs\">PURPLE</text>\n<text x=\"163.95\" y=\"161.81\" text-anchor=\"middle\" style=\"font-size: 14.23px; font-family: &quot;Liberation Sans&quot;;\" textLength=\"27.13px\" lengthAdjust=\"spacingAndGlyphs\">RED</text>\n<text x=\"282.51\" y=\"161.36\" text-anchor=\"middle\" style=\"font-size: 14.23px; font-family: &quot;Liberation Sans&quot;;\" textLength=\"75.40px\" lengthAdjust=\"spacingAndGlyphs\">SURPRISED</text>\n<text x=\"325.09\" y=\"37.41\" text-anchor=\"middle\" style=\"font-size: 14.23px; font-family: &quot;Liberation Sans&quot;;\" textLength=\"56.23px\" lengthAdjust=\"spacingAndGlyphs\">EXCITED</text>\n<text x=\"380.84\" y=\"260.17\" text-anchor=\"middle\" style=\"font-size: 14.23px; font-family: &quot;Liberation Sans&quot;;\" textLength=\"51.17px\" lengthAdjust=\"spacingAndGlyphs\">SERENE</text>\n<text x=\"316.45\" y=\"245.32\" text-anchor=\"middle\" style=\"font-size: 14.23px; font-family: &quot;Liberation Sans&quot;;\" textLength=\"44.88px\" lengthAdjust=\"spacingAndGlyphs\">HAPPY</text>\n<text x=\"366.96\" y=\"79.41\" text-anchor=\"middle\" style=\"font-size: 14.23px; font-family: &quot;Liberation Sans&quot;;\" textLength=\"67.90px\" lengthAdjust=\"spacingAndGlyphs\">SATISFIED</text>\n<text x=\"371.87\" y=\"109.02\" text-anchor=\"middle\" style=\"font-size: 14.23px; font-family: &quot;Liberation Sans&quot;;\" textLength=\"38.42px\" lengthAdjust=\"spacingAndGlyphs\">CALM</text>\n<text x=\"99.15\" y=\"375.12\" text-anchor=\"middle\" style=\"font-size: 14.23px; font-family: &quot;Liberation Sans&quot;;\" textLength=\"39.85px\" lengthAdjust=\"spacingAndGlyphs\">TIRED</text>\n<text x=\"168.44\" y=\"377.48\" text-anchor=\"middle\" style=\"font-size: 14.23px; font-family: &quot;Liberation Sans&quot;;\" textLength=\"47.48px\" lengthAdjust=\"spacingAndGlyphs\">BORED</text>\n<text x=\"129.90\" y=\"222.91\" text-anchor=\"middle\" style=\"font-size: 14.23px; font-family: &quot;Liberation Sans&quot;;\" textLength=\"77.54px\" lengthAdjust=\"spacingAndGlyphs\">DEPRESSED</text>\n<text x=\"128.98\" y=\"356.01\" text-anchor=\"middle\" style=\"font-size: 14.23px; font-family: &quot;Liberation Sans&quot;;\" textLength=\"27.27px\" lengthAdjust=\"spacingAndGlyphs\">SAD</text>\n<text x=\"192.77\" y=\"205.43\" text-anchor=\"middle\" style=\"font-size: 14.23px; font-family: &quot;Liberation Sans&quot;;\" textLength=\"86.45px\" lengthAdjust=\"spacingAndGlyphs\">FRUSTRATED</text>\n<text x=\"175.16\" y=\"182.08\" text-anchor=\"middle\" style=\"font-size: 14.23px; font-family: &quot;Liberation Sans&quot;;\" textLength=\"49.59px\" lengthAdjust=\"spacingAndGlyphs\">AFRAID</text>\n<text x=\"119.50\" y=\"175.05\" text-anchor=\"middle\" style=\"font-size: 14.23px; font-family: &quot;Liberation Sans&quot;;\" textLength=\"47.14px\" lengthAdjust=\"spacingAndGlyphs\">ANGRY</text>\n<text x=\"277.09\" y=\"112.70\" text-anchor=\"middle\" style=\"font-size: 14.23px; font-family: &quot;Liberation Sans&quot;;\" textLength=\"66.36px\" lengthAdjust=\"spacingAndGlyphs\">STRESSED</text>\n<text x=\"250.23\" y=\"137.97\" text-anchor=\"middle\" style=\"font-size: 14.23px; font-family: &quot;Liberation Sans&quot;;\" textLength=\"88.15px\" lengthAdjust=\"spacingAndGlyphs\">ASTONISHED</text>\n<text x=\"133.30\" y=\"296.42\" text-anchor=\"middle\" style=\"font-size: 14.23px; font-family: &quot;Liberation Sans&quot;;\" textLength=\"47.72px\" lengthAdjust=\"spacingAndGlyphs\">SLEEPY</text>\n<text x=\"171.16\" y=\"99.66\" text-anchor=\"middle\" style=\"font-size: 14.23px; font-family: &quot;Liberation Sans&quot;;\" textLength=\"65.65px\" lengthAdjust=\"spacingAndGlyphs\">ALARMED</text>\n<text x=\"92.32\" y=\"250.31\" text-anchor=\"middle\" style=\"font-size: 14.23px; font-family: &quot;Liberation Sans&quot;;\" textLength=\"77.75px\" lengthAdjust=\"spacingAndGlyphs\">DISGUSTED</text>\n</g>\n<g clip-path=\"url(#cpMC4wMHw0MzIuMDB8MC4wMHw0MzIuMDA=)\">\n<polyline points=\"49.84,381.08 49.84,5.48 \" style=\"stroke-width: 2.13; stroke-linecap: butt;\"/>\n<text x=\"43.40\" y=\"302.66\" text-anchor=\"end\" style=\"font-size: 18.00px;fill: #151515; font-family: &quot;Noto Sans&quot;;\" textLength=\"16.09px\" lengthAdjust=\"spacingAndGlyphs\">-1</text>\n<text x=\"43.40\" y=\"203.43\" text-anchor=\"end\" style=\"font-size: 18.00px;fill: #151515; font-family: &quot;Noto Sans&quot;;\" textLength=\"10.30px\" lengthAdjust=\"spacingAndGlyphs\">0</text>\n<text x=\"43.40\" y=\"104.20\" text-anchor=\"end\" style=\"font-size: 18.00px;fill: #151515; font-family: &quot;Noto Sans&quot;;\" textLength=\"10.30px\" lengthAdjust=\"spacingAndGlyphs\">1</text>\n<polyline points=\"45.59,296.23 49.84,296.23 \" style=\"stroke-width: 1.07; stroke: #151515; stroke-linecap: butt;\"/>\n<polyline points=\"45.59,197.00 49.84,197.00 \" style=\"stroke-width: 1.07; stroke: #151515; stroke-linecap: butt;\"/>\n<polyline points=\"45.59,97.77 49.84,97.77 \" style=\"stroke-width: 1.07; stroke: #151515; stroke-linecap: butt;\"/>\n<polyline points=\"49.84,381.08 426.52,381.08 \" style=\"stroke-width: 2.13; stroke-linecap: butt;\"/>\n<polyline points=\"118.80,385.33 118.80,381.08 \" style=\"stroke-width: 1.07; stroke: #151515; stroke-linecap: butt;\"/>\n<polyline points=\"218.13,385.33 218.13,381.08 \" style=\"stroke-width: 1.07; stroke: #151515; stroke-linecap: butt;\"/>\n<polyline points=\"317.47,385.33 317.47,381.08 \" style=\"stroke-width: 1.07; stroke: #151515; stroke-linecap: butt;\"/>\n<polyline points=\"416.80,385.33 416.80,381.08 \" style=\"stroke-width: 1.07; stroke: #151515; stroke-linecap: butt;\"/>\n<text x=\"118.80\" y=\"400.37\" text-anchor=\"middle\" style=\"font-size: 18.00px;fill: #151515; font-family: &quot;Noto Sans&quot;;\" textLength=\"16.09px\" lengthAdjust=\"spacingAndGlyphs\">-1</text>\n<text x=\"218.13\" y=\"400.37\" text-anchor=\"middle\" style=\"font-size: 18.00px;fill: #151515; font-family: &quot;Noto Sans&quot;;\" textLength=\"10.30px\" lengthAdjust=\"spacingAndGlyphs\">0</text>\n<text x=\"317.47\" y=\"400.37\" text-anchor=\"middle\" style=\"font-size: 18.00px;fill: #151515; font-family: &quot;Noto Sans&quot;;\" textLength=\"10.30px\" lengthAdjust=\"spacingAndGlyphs\">1</text>\n<text x=\"416.80\" y=\"400.37\" text-anchor=\"middle\" style=\"font-size: 18.00px;fill: #151515; font-family: &quot;Noto Sans&quot;;\" textLength=\"10.30px\" lengthAdjust=\"spacingAndGlyphs\">2</text>\n<text x=\"238.18\" y=\"421.72\" text-anchor=\"middle\" style=\"font-size: 20.00px;fill: #151515; font-family: &quot;Noto Sans&quot;;\" textLength=\"72.91px\" lengthAdjust=\"spacingAndGlyphs\">Valence</text>\n<text transform=\"translate(19.76,193.28) rotate(-90)\" text-anchor=\"middle\" style=\"font-size: 20.00px;fill: #151515; font-family: &quot;Noto Sans&quot;;\" textLength=\"71.47px\" lengthAdjust=\"spacingAndGlyphs\">Arousal</text>\n</g>\n</svg>",
      "text/plain": [
       "<IPython.core.display.SVG object>"
      ]
     },
     "metadata": {},
     "output_type": "display_data"
    }
   ],
   "source": [
    "!./module_nlp/core/plots.R \"plot_both\"\n",
    "\n",
    "# Display svg images\n",
    "from IPython.display import SVG\n",
    "display(SVG(\"../figures/7E.svg\"))"
   ]
  },
  {
   "attachments": {},
   "cell_type": "markdown",
   "metadata": {},
   "source": [
    "## Figure 7F"
   ]
  },
  {
   "cell_type": "code",
   "execution_count": 84,
   "metadata": {},
   "outputs": [
    {
     "name": "stdout",
     "output_type": "stream",
     "text": [
      "\u001b[?25h\u001b[?25h\u001b[?25h\u001b[?25h\u001b[?25h\u001b[?25h\u001b[?25h\u001b[?25h\u001b[?25h\u001b[?25h\u001b[?25h\u001b[?25h\u001b[?25h"
     ]
    },
    {
     "data": {
      "image/svg+xml": "<svg xmlns=\"http://www.w3.org/2000/svg\" xmlns:xlink=\"http://www.w3.org/1999/xlink\" class=\"svglite\" width=\"432.00pt\" height=\"432.00pt\" viewBox=\"0 0 432.00 432.00\">\n<defs>\n  <style type=\"text/css\"><![CDATA[\n    .svglite line, .svglite polyline, .svglite polygon, .svglite path, .svglite rect, .svglite circle {\n      fill: none;\n      stroke: #000000;\n      stroke-linecap: round;\n      stroke-linejoin: round;\n      stroke-miterlimit: 10.00;\n    }\n    .svglite text {\n      white-space: pre;\n    }\n  ]]></style>\n</defs>\n<rect width=\"100%\" height=\"100%\" style=\"stroke: none; fill: #FFFFFF;\"/>\n<defs>\n  <clipPath id=\"cpMC4wMHw0MzIuMDB8MC4wMHw0MzIuMDA=\">\n    <rect x=\"0.00\" y=\"0.00\" width=\"432.00\" height=\"432.00\"/>\n  </clipPath>\n</defs>\n<g clip-path=\"url(#cpMC4wMHw0MzIuMDB8MC4wMHw0MzIuMDA=)\">\n<rect x=\"-0.000000000000032\" y=\"0.000000000000057\" width=\"432.00\" height=\"432.00\" style=\"stroke-width: 1.07; stroke: #FFFFFF; fill: #FFFFFF;\"/>\n</g>\n<defs>\n  <clipPath id=\"cpNjkuNDZ8Mjg3LjYyfDUuNDh8MzI3LjM2\">\n    <rect x=\"69.46\" y=\"5.48\" width=\"218.16\" height=\"321.88\"/>\n  </clipPath>\n</defs>\n<g clip-path=\"url(#cpNjkuNDZ8Mjg3LjYyfDUuNDh8MzI3LjM2)\">\n<rect x=\"69.46\" y=\"5.48\" width=\"218.16\" height=\"321.88\" style=\"stroke-width: 1.07; stroke: none; fill: #FFFFFF;\"/>\n<polyline points=\"69.46,320.04 287.62,320.04 \" style=\"stroke-width: 0.53; stroke: #FFFFFF; stroke-linecap: butt;\"/>\n<polyline points=\"69.46,246.89 287.62,246.89 \" style=\"stroke-width: 0.53; stroke: #FFFFFF; stroke-linecap: butt;\"/>\n<polyline points=\"69.46,173.73 287.62,173.73 \" style=\"stroke-width: 0.53; stroke: #FFFFFF; stroke-linecap: butt;\"/>\n<polyline points=\"69.46,100.58 287.62,100.58 \" style=\"stroke-width: 0.53; stroke: #FFFFFF; stroke-linecap: butt;\"/>\n<polyline points=\"69.46,27.43 287.62,27.43 \" style=\"stroke-width: 0.53; stroke: #FFFFFF; stroke-linecap: butt;\"/>\n<polyline points=\"69.46,283.46 287.62,283.46 \" style=\"stroke-width: 1.07; stroke: #FFFFFF; stroke-linecap: butt;\"/>\n<polyline points=\"69.46,210.31 287.62,210.31 \" style=\"stroke-width: 1.07; stroke: #FFFFFF; stroke-linecap: butt;\"/>\n<polyline points=\"69.46,137.16 287.62,137.16 \" style=\"stroke-width: 1.07; stroke: #FFFFFF; stroke-linecap: butt;\"/>\n<polyline points=\"69.46,64.00 287.62,64.00 \" style=\"stroke-width: 1.07; stroke: #FFFFFF; stroke-linecap: butt;\"/>\n<polyline points=\"100.63,327.36 100.63,5.48 \" style=\"stroke-width: 1.07; stroke: #FFFFFF; stroke-linecap: butt;\"/>\n<polyline points=\"152.57,327.36 152.57,5.48 \" style=\"stroke-width: 1.07; stroke: #FFFFFF; stroke-linecap: butt;\"/>\n<polyline points=\"204.51,327.36 204.51,5.48 \" style=\"stroke-width: 1.07; stroke: #FFFFFF; stroke-linecap: butt;\"/>\n<polyline points=\"256.45,327.36 256.45,5.48 \" style=\"stroke-width: 1.07; stroke: #FFFFFF; stroke-linecap: butt;\"/>\n<rect x=\"77.25\" y=\"206.05\" width=\"46.75\" height=\"77.41\" style=\"stroke-width: 1.07; stroke: none; stroke-linecap: butt; stroke-linejoin: miter; fill: #89DCEB;\"/>\n<rect x=\"129.20\" y=\"283.46\" width=\"46.75\" height=\"12.46\" style=\"stroke-width: 1.07; stroke: none; stroke-linecap: butt; stroke-linejoin: miter; fill: #74C7EC;\"/>\n<rect x=\"181.14\" y=\"283.46\" width=\"46.75\" height=\"13.95\" style=\"stroke-width: 1.07; stroke: none; stroke-linecap: butt; stroke-linejoin: miter; fill: #89B4FA;\"/>\n<rect x=\"233.08\" y=\"283.46\" width=\"46.75\" height=\"8.27\" style=\"stroke-width: 1.07; stroke: none; stroke-linecap: butt; stroke-linejoin: miter; fill: #B4BEFE;\"/>\n<text x=\"100.63\" y=\"206.29\" text-anchor=\"middle\" style=\"font-size: 17.07px; font-family: &quot;Liberation Sans&quot;;\" textLength=\"18.81px\" lengthAdjust=\"spacingAndGlyphs\">**</text>\n<text x=\"126.60\" y=\"95.46\" text-anchor=\"middle\" style=\"font-size: 11.38px; font-family: &quot;Liberation Sans&quot;;\" textLength=\"48.51px\" lengthAdjust=\"spacingAndGlyphs\">p = 0.025</text>\n<line x1=\"152.57\" y1=\"102.74\" x2=\"152.57\" y2=\"102.74\" style=\"stroke-width: 1.07;\"/>\n<line x1=\"152.57\" y1=\"102.74\" x2=\"100.63\" y2=\"102.74\" style=\"stroke-width: 1.07;\"/>\n<line x1=\"100.63\" y1=\"102.74\" x2=\"100.63\" y2=\"102.74\" style=\"stroke-width: 1.07;\"/>\n<text x=\"152.57\" y=\"74.98\" text-anchor=\"middle\" style=\"font-size: 11.38px; font-family: &quot;Liberation Sans&quot;;\" textLength=\"48.51px\" lengthAdjust=\"spacingAndGlyphs\">p = 0.023</text>\n<line x1=\"204.51\" y1=\"82.26\" x2=\"204.51\" y2=\"82.26\" style=\"stroke-width: 1.07;\"/>\n<line x1=\"204.51\" y1=\"82.26\" x2=\"100.63\" y2=\"82.26\" style=\"stroke-width: 1.07;\"/>\n<line x1=\"100.63\" y1=\"82.26\" x2=\"100.63\" y2=\"82.26\" style=\"stroke-width: 1.07;\"/>\n<text x=\"178.54\" y=\"54.49\" text-anchor=\"middle\" style=\"font-size: 11.38px; font-family: &quot;Liberation Sans&quot;;\" textLength=\"48.51px\" lengthAdjust=\"spacingAndGlyphs\">p = 0.032</text>\n<line x1=\"256.45\" y1=\"61.78\" x2=\"256.45\" y2=\"61.78\" style=\"stroke-width: 1.07;\"/>\n<line x1=\"256.45\" y1=\"61.78\" x2=\"100.63\" y2=\"61.78\" style=\"stroke-width: 1.07;\"/>\n<line x1=\"100.63\" y1=\"61.78\" x2=\"100.63\" y2=\"61.78\" style=\"stroke-width: 1.07;\"/>\n</g>\n<g clip-path=\"url(#cpMC4wMHw0MzIuMDB8MC4wMHw0MzIuMDA=)\">\n<polyline points=\"69.46,327.36 69.46,5.48 \" style=\"stroke-width: 2.13; stroke-linecap: butt;\"/>\n<text x=\"63.02\" y=\"289.89\" text-anchor=\"end\" style=\"font-size: 18.00px;fill: #151515; font-family: &quot;Noto Sans&quot;;\" textLength=\"35.71px\" lengthAdjust=\"spacingAndGlyphs\">0.00</text>\n<text x=\"63.02\" y=\"216.74\" text-anchor=\"end\" style=\"font-size: 18.00px;fill: #151515; font-family: &quot;Noto Sans&quot;;\" textLength=\"35.71px\" lengthAdjust=\"spacingAndGlyphs\">0.25</text>\n<text x=\"63.02\" y=\"143.58\" text-anchor=\"end\" style=\"font-size: 18.00px;fill: #151515; font-family: &quot;Noto Sans&quot;;\" textLength=\"35.71px\" lengthAdjust=\"spacingAndGlyphs\">0.50</text>\n<text x=\"63.02\" y=\"70.43\" text-anchor=\"end\" style=\"font-size: 18.00px;fill: #151515; font-family: &quot;Noto Sans&quot;;\" textLength=\"35.71px\" lengthAdjust=\"spacingAndGlyphs\">0.75</text>\n<polyline points=\"65.21,283.46 69.46,283.46 \" style=\"stroke-width: 1.07; stroke: #151515; stroke-linecap: butt;\"/>\n<polyline points=\"65.21,210.31 69.46,210.31 \" style=\"stroke-width: 1.07; stroke: #151515; stroke-linecap: butt;\"/>\n<polyline points=\"65.21,137.16 69.46,137.16 \" style=\"stroke-width: 1.07; stroke: #151515; stroke-linecap: butt;\"/>\n<polyline points=\"65.21,64.00 69.46,64.00 \" style=\"stroke-width: 1.07; stroke: #151515; stroke-linecap: butt;\"/>\n<polyline points=\"69.46,327.36 287.62,327.36 \" style=\"stroke-width: 2.13; stroke-linecap: butt;\"/>\n<polyline points=\"100.63,331.61 100.63,327.36 \" style=\"stroke-width: 1.07; stroke: #151515; stroke-linecap: butt;\"/>\n<polyline points=\"152.57,331.61 152.57,327.36 \" style=\"stroke-width: 1.07; stroke: #151515; stroke-linecap: butt;\"/>\n<polyline points=\"204.51,331.61 204.51,327.36 \" style=\"stroke-width: 1.07; stroke: #151515; stroke-linecap: butt;\"/>\n<polyline points=\"256.45,331.61 256.45,327.36 \" style=\"stroke-width: 1.07; stroke: #151515; stroke-linecap: butt;\"/>\n<text transform=\"translate(107.05,344.93) rotate(-30)\" text-anchor=\"end\" style=\"font-size: 18.00px;fill: #151515; font-family: &quot;Noto Sans&quot;;\" textLength=\"112.05px\" lengthAdjust=\"spacingAndGlyphs\">osgoodspace</text>\n<text transform=\"translate(158.99,344.93) rotate(-30)\" text-anchor=\"end\" style=\"font-size: 18.00px;fill: #151515; font-family: &quot;Noto Sans&quot;;\" textLength=\"64.10px\" lengthAdjust=\"spacingAndGlyphs\">fasttext</text>\n<text transform=\"translate(210.94,344.93) rotate(-30)\" text-anchor=\"end\" style=\"font-size: 18.00px;fill: #151515; font-family: &quot;Noto Sans&quot;;\" textLength=\"85.47px\" lengthAdjust=\"spacingAndGlyphs\">fasttext2d</text>\n<text transform=\"translate(262.88,344.93) rotate(-30)\" text-anchor=\"end\" style=\"font-size: 18.00px;fill: #151515; font-family: &quot;Noto Sans&quot;;\" textLength=\"108.73px\" lengthAdjust=\"spacingAndGlyphs\">controlspace</text>\n<text x=\"178.54\" y=\"421.72\" text-anchor=\"middle\" style=\"font-size: 20.00px;fill: #151515; font-family: &quot;Noto Sans&quot;;\" textLength=\"91.42px\" lengthAdjust=\"spacingAndGlyphs\">Condition</text>\n<text transform=\"translate(19.76,166.42) rotate(-90)\" text-anchor=\"middle\" style=\"font-size: 20.00px;fill: #151515; font-family: &quot;Noto Sans&quot;;\" textLength=\"110.17px\" lengthAdjust=\"spacingAndGlyphs\">Coefficients</text>\n<text x=\"304.06\" y=\"133.59\" style=\"font-size: 16.00px;fill: #151515; font-family: &quot;Noto Sans&quot;;\" textLength=\"116.99px\" lengthAdjust=\"spacingAndGlyphs\">rho-coefficients</text>\n<rect x=\"304.76\" y=\"144.19\" width=\"15.86\" height=\"15.86\" style=\"stroke-width: 1.07; stroke: none; stroke-linecap: butt; stroke-linejoin: miter; fill: #89DCEB;\"/>\n<rect x=\"304.76\" y=\"161.47\" width=\"15.86\" height=\"15.86\" style=\"stroke-width: 1.07; stroke: none; stroke-linecap: butt; stroke-linejoin: miter; fill: #74C7EC;\"/>\n<rect x=\"304.76\" y=\"178.75\" width=\"15.86\" height=\"15.86\" style=\"stroke-width: 1.07; stroke: none; stroke-linecap: butt; stroke-linejoin: miter; fill: #89B4FA;\"/>\n<rect x=\"304.76\" y=\"196.03\" width=\"15.86\" height=\"15.86\" style=\"stroke-width: 1.07; stroke: none; stroke-linecap: butt; stroke-linejoin: miter; fill: #B4BEFE;\"/>\n<text x=\"329.31\" y=\"157.83\" style=\"font-size: 16.00px;fill: #151515; font-family: &quot;Noto Sans&quot;;\" textLength=\"40.90px\" lengthAdjust=\"spacingAndGlyphs\">0.265</text>\n<text x=\"329.31\" y=\"175.11\" style=\"font-size: 16.00px;fill: #151515; font-family: &quot;Noto Sans&quot;;\" textLength=\"46.05px\" lengthAdjust=\"spacingAndGlyphs\">-0.043</text>\n<text x=\"329.31\" y=\"192.39\" style=\"font-size: 16.00px;fill: #151515; font-family: &quot;Noto Sans&quot;;\" textLength=\"46.05px\" lengthAdjust=\"spacingAndGlyphs\">-0.048</text>\n<text x=\"329.31\" y=\"209.67\" style=\"font-size: 16.00px;fill: #151515; font-family: &quot;Noto Sans&quot;;\" textLength=\"46.05px\" lengthAdjust=\"spacingAndGlyphs\">-0.028</text>\n</g>\n</svg>",
      "text/plain": [
       "<IPython.core.display.SVG object>"
      ]
     },
     "metadata": {},
     "output_type": "display_data"
    }
   ],
   "source": [
    "!./module_nlp/core/plots.R \"rdm_osgood_both\"\n",
    "\n",
    "# Display svg images\n",
    "from IPython.display import SVG\n",
    "display(SVG(\"../figures/7F.svg\"))"
   ]
  }
 ],
 "metadata": {
  "kernelspec": {
   "display_name": "Python 3",
   "language": "python",
   "name": "python3"
  },
  "language_info": {
   "codemirror_mode": {
    "name": "ipython",
    "version": 3
   },
   "file_extension": ".py",
   "mimetype": "text/x-python",
   "name": "python",
   "nbconvert_exporter": "python",
   "pygments_lexer": "ipython3",
   "version": "3.10.8"
  },
  "orig_nbformat": 4,
  "vscode": {
   "interpreter": {
    "hash": "916dbcbb3f70747c44a77c7bcd40155683ae19c65e1c03b4aa3499c5328201f1"
   }
  }
 },
 "nbformat": 4,
 "nbformat_minor": 2
}
